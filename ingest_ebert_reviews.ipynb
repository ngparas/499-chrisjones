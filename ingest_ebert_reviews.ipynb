{
 "cells": [
  {
   "cell_type": "code",
   "execution_count": 13,
   "metadata": {
    "collapsed": false
   },
   "outputs": [],
   "source": [
    "import os\n",
    "import pickle\n",
    "import requests\n",
    "import json"
   ]
  },
  {
   "cell_type": "code",
   "execution_count": 2,
   "metadata": {
    "collapsed": false
   },
   "outputs": [
    {
     "name": "stdout",
     "output_type": "stream",
     "text": [
      ".DS_Store\n",
      ".ipynb_checkpoints\n",
      "ebert\n",
      "ebert_review_links.txt\n",
      "ebert_reviews.html\n",
      "ebert_scraper.py\n",
      "eecs338-chris-jones\n",
      "eecs338-chris-jones.wiki\n",
      "entity-request.json\n",
      "notes_call.md\n",
      "Reviews _ Roger Ebert.htm\n",
      "scrape_ebert.ipynb\n",
      "service-account-key.json\n",
      "status_report_2.md\n",
      "status_report_2.pdf\n",
      "Untitled.ipynb\n"
     ]
    }
   ],
   "source": [
    "for i in os.listdir():\n",
    "    print(i)"
   ]
  },
  {
   "cell_type": "code",
   "execution_count": 6,
   "metadata": {
    "collapsed": false
   },
   "outputs": [],
   "source": [
    "a = pickle.load(open('ebert/1.pickle', 'rb'))"
   ]
  },
  {
   "cell_type": "code",
   "execution_count": 7,
   "metadata": {
    "collapsed": false
   },
   "outputs": [
    {
     "data": {
      "text/plain": [
       "('Computer Chess',\n",
       " '[Editor\\'s note: Roger Ebert filed this review in March, 2013. It was not the last review he ever wrote—that would be his piece on \"To the Wonder\"—but it\\'s one of them.]\\xa0\\nHere\\'s a movie by nerds, for nerds, and about nerds. Set in the early 1980s, it claims to be a doc about a convention held to pit rival computer chess programs against each other. If you see it, as I did, without any advance knowledge that it\\'s a spoof, the (limited) fun comes in how soon it takes you to realize you\\'re being put on. \\xa0It\\'s a variation of the old classroom exercise about Swift\\'s essay on the solution to the problem of hunger in Ireland. He proposed that the Irish eat their babies.\\nAlthough there\\' a $7500 grand prize, the competitors are in it for bragging rights. The writer-director, Andrew Bujalski, has gone to much trouble, and no doubt rummaged garage sales, to assemble early computers, low-tech analog video cams, and contestants who fit a checklist of nerd stereotypes: the oversized horn-rims, the pocket protectors, the shirts hanging out at the belt in back.\\nThe convention is held in a low-rent motel that\\'s hosting two other conventions: Some sort of know-thyself group, and a club of swinging singles. The Know Thyselfs get down on the rug and wrestle with their demons, while the partner of one swinger casually toys with a button on the blouse of the woman he brought with him. His nerd prey looks as if he may not have ever had sex, or if he has, didn\\'t want any more.\\nThese nerds aren\\'t to be distracted by sex or self-knowledge. In a late-night pot-smoking session before the convention begins, they\\'re more absorbed by the larger problems of artificial intelligence—whether the computers are in any sense thinking, or only calculating faster than a human can. We\\'re still on pause at\\r\\nthat point.\\nIn its technical specs, \"Computer Chess\" is flawless. All of the clunky old equipment makes us wonder how the computer pioneers ever got anything accomplished. They must have been very patient. But\\r\\nwe know right off the bat this is a put-on. The giveaway: There\\'s footage of the cameraman and his camera. The simple fact of this film is unlikely enough. The probability of a film about it, one that also films the swinging and self-helping , even more so. As an achievement, \"Computer Chess\" is laudable. As a film, it\\'s missable.')"
      ]
     },
     "execution_count": 7,
     "metadata": {},
     "output_type": "execute_result"
    }
   ],
   "source": [
    "a\n"
   ]
  },
  {
   "cell_type": "code",
   "execution_count": 14,
   "metadata": {
    "collapsed": true
   },
   "outputs": [],
   "source": [
    "b = json.dumps({'title': a[0], 'text': a[1]})"
   ]
  },
  {
   "cell_type": "code",
   "execution_count": 15,
   "metadata": {
    "collapsed": false
   },
   "outputs": [
    {
     "data": {
      "text/plain": [
       "'{\"text\": \"[Editor\\'s note: Roger Ebert filed this review in March, 2013. It was not the last review he ever wrote\\\\u2014that would be his piece on \\\\\"To the Wonder\\\\\"\\\\u2014but it\\'s one of them.]\\\\u00a0\\\\nHere\\'s a movie by nerds, for nerds, and about nerds. Set in the early 1980s, it claims to be a doc about a convention held to pit rival computer chess programs against each other. If you see it, as I did, without any advance knowledge that it\\'s a spoof, the (limited) fun comes in how soon it takes you to realize you\\'re being put on. \\\\u00a0It\\'s a variation of the old classroom exercise about Swift\\'s essay on the solution to the problem of hunger in Ireland. He proposed that the Irish eat their babies.\\\\nAlthough there\\' a $7500 grand prize, the competitors are in it for bragging rights. The writer-director, Andrew Bujalski, has gone to much trouble, and no doubt rummaged garage sales, to assemble early computers, low-tech analog video cams, and contestants who fit a checklist of nerd stereotypes: the oversized horn-rims, the pocket protectors, the shirts hanging out at the belt in back.\\\\nThe convention is held in a low-rent motel that\\'s hosting two other conventions: Some sort of know-thyself group, and a club of swinging singles. The Know Thyselfs get down on the rug and wrestle with their demons, while the partner of one swinger casually toys with a button on the blouse of the woman he brought with him. His nerd prey looks as if he may not have ever had sex, or if he has, didn\\'t want any more.\\\\nThese nerds aren\\'t to be distracted by sex or self-knowledge. In a late-night pot-smoking session before the convention begins, they\\'re more absorbed by the larger problems of artificial intelligence\\\\u2014whether the computers are in any sense thinking, or only calculating faster than a human can. We\\'re still on pause at\\\\r\\\\nthat point.\\\\nIn its technical specs, \\\\\"Computer Chess\\\\\" is flawless. All of the clunky old equipment makes us wonder how the computer pioneers ever got anything accomplished. They must have been very patient. But\\\\r\\\\nwe know right off the bat this is a put-on. The giveaway: There\\'s footage of the cameraman and his camera. The simple fact of this film is unlikely enough. The probability of a film about it, one that also films the swinging and self-helping , even more so. As an achievement, \\\\\"Computer Chess\\\\\" is laudable. As a film, it\\'s missable.\", \"title\": \"Computer Chess\"}'"
      ]
     },
     "execution_count": 15,
     "metadata": {},
     "output_type": "execute_result"
    }
   ],
   "source": [
    "b\n"
   ]
  },
  {
   "cell_type": "code",
   "execution_count": 22,
   "metadata": {
    "collapsed": false
   },
   "outputs": [
    {
     "data": {
      "text/plain": [
       "<Response [201]>"
      ]
     },
     "execution_count": 22,
     "metadata": {},
     "output_type": "execute_result"
    }
   ],
   "source": [
    "requests.post('http://127.0.0.1:9200/ebert-reviews/review/1', json.dumps({'title': a[0], 'text': a[1]}))"
   ]
  },
  {
   "cell_type": "code",
   "execution_count": 23,
   "metadata": {
    "collapsed": false
   },
   "outputs": [
    {
     "data": {
      "text/plain": [
       "'324'"
      ]
     },
     "execution_count": 23,
     "metadata": {},
     "output_type": "execute_result"
    }
   ],
   "source": [
    "'324.pickle'.split('.')[0]"
   ]
  },
  {
   "cell_type": "code",
   "execution_count": 25,
   "metadata": {
    "collapsed": false
   },
   "outputs": [],
   "source": [
    "for i in os.listdir('ebert'):\n",
    "    a = pickle.load(open(os.path.join('ebert', i), 'rb'))\n",
    "    requests.post('http://127.0.0.1:9200/ebert-reviews/review/{}'.format(i.split('.')[0]), json.dumps({'title': a[0], 'text': a[1]}))"
   ]
  },
  {
   "cell_type": "code",
   "execution_count": null,
   "metadata": {
    "collapsed": true
   },
   "outputs": [],
   "source": []
  }
 ],
 "metadata": {
  "anaconda-cloud": {},
  "kernelspec": {
   "display_name": "Python 3",
   "language": "python",
   "name": "python3"
  },
  "language_info": {
   "codemirror_mode": {
    "name": "ipython",
    "version": 3
   },
   "file_extension": ".py",
   "mimetype": "text/x-python",
   "name": "python",
   "nbconvert_exporter": "python",
   "pygments_lexer": "ipython3",
   "version": "3.5.2"
  }
 },
 "nbformat": 4,
 "nbformat_minor": 1
}
