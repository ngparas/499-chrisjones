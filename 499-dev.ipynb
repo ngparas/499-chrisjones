{
 "cells": [
  {
   "cell_type": "code",
   "execution_count": 1,
   "metadata": {
    "collapsed": false
   },
   "outputs": [],
   "source": [
    "import json\n",
    "import spacy\n",
    "import re\n",
    "import urllib.parse as ulp\n",
    "import requests\n",
    "from textblob import TextBlob\n",
    "from nltk.corpus import stopwords\n",
    "import pandas as pd\n",
    "\n",
    "NLP = spacy.load('en')\n",
    "stopwords = stopwords.words('english')"
   ]
  },
  {
   "cell_type": "code",
   "execution_count": 2,
   "metadata": {
    "collapsed": true
   },
   "outputs": [],
   "source": [
    "def clean_article_title(title):\n",
    "    \"\"\"Take an article-source URL and return a cleanly formatted title\n",
    "\n",
    "    Args:\n",
    "        title (string): a source URL\n",
    "    Return:\n",
    "        article_title (string): A cleanly formatted title to include in response\n",
    "    \"\"\"\n",
    "    article_title = ulp.unquote(title)\n",
    "    article_title = re.split('title=', article_title)[1].replace('+', ' ')\n",
    "    title_len = len(article_title)\n",
    "    if (article_title[title_len - 5:] in ['&amp', '&amp;']):\n",
    "        article_title = article_title[:title_len - 5]\n",
    "    return article_title"
   ]
  },
  {
   "cell_type": "code",
   "execution_count": 3,
   "metadata": {
    "collapsed": true
   },
   "outputs": [],
   "source": [
    "class Corpus(object):\n",
    "    \"\"\"A lightweight class that provides a consistent interface to copora\n",
    "\n",
    "    Attributes:\n",
    "        es_host (string): The URL and Port of the ES cluster\n",
    "        author (string): The desired corpus, currently supports either 'jones' or 'ebert'\n",
    "\n",
    "    \"\"\"\n",
    "    def __init__(self, author, es_host='http://localhost:9200/'):\n",
    "        self.es_host = es_host\n",
    "\n",
    "        if author in ['jones', 'ebert']:\n",
    "            self.author = author\n",
    "        else:\n",
    "            raise ValueError('author must be one of \"jones\" or \"ebert\", you gave {}'.format(author))\n",
    "\n",
    "    def retrieve_articles(self, keyword_string):\n",
    "        \"\"\"Retrieve articles with text relevant to the keyword string\n",
    "\n",
    "        Args:\n",
    "            keyword_string (string): A string with keywords, e.g. 'Tracy Letts' or 'Apocalypse Now'\n",
    "\n",
    "        Return:\n",
    "            A list of tuples: (title, article text)\n",
    "        \"\"\"\n",
    "\n",
    "        if self.author == 'jones':\n",
    "            q = {\n",
    "                \"_source\": [\"Full text:\", \"ProQ:\"],\n",
    "                \"from\": 0, \"size\": 10000,\n",
    "                \"query\": {\n",
    "                    \"bool\" : {\n",
    "                        \"must\": [{\"match\":{\"Full text:\": i}} for i in keyword_string.split(' ')]\n",
    "                    }\n",
    "                }\n",
    "            }\n",
    "            r = json.loads(requests.post(self.es_host+\"flattened-articles/_search\", json.dumps(q)).content.decode('utf-8', 'ignore'))\n",
    "            return [Article(clean_article_title(i['_source']['ProQ:']), i['_source']['Full text:']) for i in r['hits']['hits']]\n",
    "        elif self.author == 'ebert':\n",
    "            q = {\n",
    "                \"_source\": [\"text\", \"title\"],\n",
    "                \"from\": 0, \"size\": 10000,\n",
    "                \"query\": {\n",
    "                    \"bool\" : {\n",
    "                        \"must\": [{\"match\":{\"text\": i}} for i in keyword_string.split(' ')]\n",
    "                    }\n",
    "                }\n",
    "            }\n",
    "            r = json.loads(requests.post(self.es_host+\"ebert-reviews/_search\", json.dumps(q)).content.decode('utf-8', 'ignore'))\n",
    "            return [Article(i['_source']['title'], i['_source']['text']) for i in r['hits']['hits']]\n",
    "        else:\n",
    "            raise ValueError('author must be one of \"jones\" or \"ebert\", you gave {}'.format(author))\n",
    "\n",
    "    def filter_articles_by_person(self, name):\n",
    "        \"\"\"Retrieve articles with a persons name\n",
    "\n",
    "        Args:\n",
    "            name (string): A string with a name e.g. 'Tracy Letts'\n",
    "\n",
    "        Return:\n",
    "            A list of tuples: (title, article text)\n",
    "        \"\"\"\n",
    "\n",
    "        if self.author == 'jones':\n",
    "            q = {\n",
    "                \"_source\": [\"Full text:\", \"ProQ:\"],\n",
    "                \"from\": 0, \"size\": 10000,\n",
    "                \"query\": {\n",
    "                    \"bool\" : {\n",
    "                        \"must\": [{\"match\":{\"Full text:\": i}} for i in name.split(' ')]\n",
    "                    }\n",
    "                }\n",
    "            }\n",
    "            r = json.loads(requests.post(self.es_host+\"flattened-articles/_search\", json.dumps(q)).content.decode('utf-8', 'ignore'))\n",
    "            return [Article(clean_article_title(i['_source']['ProQ:']), i['_source']['Full text:']) for i in r['hits']['hits']]\n",
    "        elif self.author == 'ebert':\n",
    "            q = {\n",
    "                \"_source\": [\"text\", \"title\"],\n",
    "                \"from\": 0, \"size\": 10000,\n",
    "                \"query\": {\n",
    "                    \"bool\" : {\n",
    "                        \"must\": [{\"match\":{\"text\": i}} for i in name.split(' ')]\n",
    "                    }\n",
    "                }\n",
    "            }\n",
    "            r = json.loads(requests.post(self.es_host+\"ebert-reviews/_search\", json.dumps(q)).content.decode('utf-8', 'ignore'))\n",
    "            return [Article(i['_source']['title'], i['_source']['text']) for i in r['hits']['hits']]\n",
    "        else:\n",
    "            raise ValueError('author must be one of \"jones\" or \"ebert\", you gave {}'.format(author))\n",
    "\n",
    "    def retrieve_article(self, article_string):\n",
    "        \"\"\"Retreive a single article with a title relevant to article_string\n",
    "\n",
    "        Args:\n",
    "            article_string (string): A string with relevant keywords to an article title\n",
    "\n",
    "        Returns:\n",
    "            An Article corresponding to the article_string\n",
    "        \"\"\"\n",
    "        if self.author == 'jones':\n",
    "            q = {\n",
    "                \"_source\": [\"Full text:\", \"ProQ:\"],\n",
    "                \"from\": 0, \"size\": 1,\n",
    "                \"query\": {\n",
    "                    \"bool\" : {\n",
    "                        \"must\": [{\"match\":{\"Full text:\": i}} for i in article_string.split(' ')]\n",
    "                    }\n",
    "                }\n",
    "            }\n",
    "            r = json.loads(requests.post(self.es_host+\"flattened-articles/_search\", json.dumps(q)).content.decode('utf-8', 'ignore'))\n",
    "            return [Article(clean_article_title(i['_source']['ProQ:']), i['_source']['Full text:']) for i in r['hits']['hits']][0]\n",
    "        elif self.author == 'ebert':\n",
    "            q = {\n",
    "                \"_source\": [\"text\", \"title\"],\n",
    "                \"from\": 0, \"size\": 1,\n",
    "                \"query\": {\n",
    "                    \"bool\" : {\n",
    "                        \"must\": [{\"match\":{\"title\": i}} for i in article_string.split(' ')]\n",
    "                    }\n",
    "                }\n",
    "            }\n",
    "            r = json.loads(requests.post(self.es_host+\"ebert-reviews/_search\", json.dumps(q)).content.decode('utf-8', 'ignore'))\n",
    "            return [Article(i['_source']['title'], i['_source']['text']) for i in r['hits']['hits']][0]\n",
    "        else:\n",
    "            raise ValueError('author must be one of \"jones\" or \"ebert\", you gave {}'.format(author))\n",
    "        \n",
    "        \n",
    "    def slurp_articles(self):\n",
    "        q = {\n",
    "            \"size\":10000,\n",
    "            \"query\" : {\n",
    "                \"match_all\" : {}\n",
    "        }\n",
    "}\n",
    "        r = json.loads(requests.post(self.es_host+\"ebert-reviews/_search\", json.dumps(q)).content.decode('utf-8', 'ignore'))\n",
    "        return [i[\"_source\"][\"text\"] for i in r['hits']['hits']]\n",
    "\n"
   ]
  },
  {
   "cell_type": "code",
   "execution_count": 22,
   "metadata": {
    "collapsed": false
   },
   "outputs": [],
   "source": [
    "#c = Corpus('ebert')\n",
    "#a = c.slurp_articles()\n",
    "\n",
    "#all_sents = []\n",
    "#for i in a:\n",
    "#    si = NLP(i)\n",
    "#    for x in si.sents:\n",
    "#        all_sents.append(x.text)\n",
    "        \n",
    "#with open('all_ebert_sents.txt', 'w') as f:\n",
    "#    for i in all_sents:\n",
    "#        f.write(i+'\\n')\n"
   ]
  },
  {
   "cell_type": "code",
   "execution_count": 21,
   "metadata": {
    "collapsed": false
   },
   "outputs": [
    {
     "data": {
      "text/plain": [
       "\"Will Smith plays Spooner, a Chicago Police Department detective who doesn't think it's suicide.\""
      ]
     },
     "execution_count": 21,
     "metadata": {},
     "output_type": "execute_result"
    }
   ],
   "source": [
    "#allsentslist = list(all_sents)\n",
    "#allsentslist[8]"
   ]
  },
  {
   "cell_type": "code",
   "execution_count": 4,
   "metadata": {
    "collapsed": true
   },
   "outputs": [],
   "source": [
    "\n",
    "class Article(object):\n",
    "    \"\"\"A class to containt an article\n",
    "\n",
    "    Attributes:\n",
    "        text (string): The full text of the article\n",
    "        sentences (list of Content): The sentences of the article\n",
    "\n",
    "    \"\"\"\n",
    "    def __init__(self, title, text):\n",
    "        self.text = str(text.encode('utf-8', 'ignore').decode('ascii', 'ignore'))\n",
    "        self.title = str(title.encode('utf-8', 'ignore').decode('ascii', 'ignore'))\n",
    "        for i in [\"[Tt]h(e|(is)) [Ff]ilm\", \"[Tt]h(e|(is)) [Mm]ovie\"]:\n",
    "            self.text = re.sub(i, self.title, self.text)\n",
    "        self.paragraphs = self.text.splitlines()\n",
    "\n",
    "        self.sentences = []\n",
    "        for p in self.paragraphs:\n",
    "            self.sentences += [Content(i, title) for i in NLP(p).sents]\n",
    "\n",
    "    def get_paragraph(self, c):\n",
    "        \"\"\"Return the full paragraph that a Content, c, came from\n",
    "\n",
    "        Args:\n",
    "            c (Content): a content object\n",
    "\n",
    "        Returns:\n",
    "            A full text paragraph containing the content arg\n",
    "        \"\"\"\n",
    "\n",
    "        for p in self.paragraphs:\n",
    "            if re.search(c.text.text.split('(')[0], p) is not None:\n",
    "                return p\n",
    "        raise ValueError('Content must be in the Article, no match found for {}'.format(c.text.text))\n"
   ]
  },
  {
   "cell_type": "code",
   "execution_count": 5,
   "metadata": {
    "collapsed": true
   },
   "outputs": [],
   "source": [
    "\n",
    "class Content(object):\n",
    "    \"\"\"A lightweight class to hold content and metadata\n",
    "\n",
    "    Attributes:\n",
    "        text (string): The text\n",
    "        title (string): The title of the article the text came from\n",
    "        theater (string): The name of the theater the article is talking about\n",
    "        director (string): The name of the director\n",
    "\n",
    "    \"\"\"\n",
    "\n",
    "    def __init__(self, text, title=None, theater=None, director=None, names=[]):\n",
    "        self.text = text\n",
    "        textblob_sentiment = TextBlob(text.text).sentiment\n",
    "        self.sentiment = textblob_sentiment[0]\n",
    "        self.subjectivity = textblob_sentiment[1]\n",
    "        self.title = title\n",
    "        self.theater = theater\n",
    "        self.director = director\n",
    "        self.names = names\n",
    "        self.filter_depth = 0\n"
   ]
  },
  {
   "cell_type": "code",
   "execution_count": 6,
   "metadata": {
    "collapsed": true
   },
   "outputs": [],
   "source": [
    "\n",
    "def parse_articles(article_list):\n",
    "    \"\"\"Parse the sentence content out of the full text of an article\n",
    "\n",
    "    Args:\n",
    "        article_list (list of tuples): a list of tuples returned from Corpus.retrieve_articles\n",
    "\n",
    "    Returns:\n",
    "        a list of content ojects, with text and title fields populated\n",
    "    \"\"\"\n",
    "    results = []\n",
    "    for i in article_list:\n",
    "        for j in NLP(i[1]).sents:\n",
    "            results.append(Content(j, title=i[0]))\n",
    "    return results\n",
    "\n",
    "def compose_filters(content_list, filter_list, **kwargs):\n",
    "\n",
    "    l = content_list\n",
    "    for filt in filter_list:\n",
    "        tmp_l = [filt(i, **kwargs) for i in l]\n",
    "        tmp_l = [i for i in tmp_l if i is not None]\n",
    "        for i in tmp_l:\n",
    "            i.filter_depth += 1\n",
    "        if len(tmp_l) > 0:\n",
    "            l = tmp_l\n",
    "    return l\n",
    "\n",
    "def filter_opinion(content, **kwargs):\n",
    "    return content if content.subjectivity > 0 else None\n",
    "\n",
    "def filter_name(content, **kwargs):\n",
    "    return content if re.search(kwargs['name'], content.text.text) is not None else None\n",
    "\n",
    "def filter_name_parentheses(content, **kwargs):\n",
    "    return content if re.search(\"\\([a-zA-Z]* *\"+kwargs['name']+\"\\)\", content.text.text) is None else None\n",
    "\n",
    "def filter_fragments(content, **kwargs):\n",
    "    return content if re.search(\"[a-z]\", content.text.text[0]) is None \\\n",
    "        and re.search(\"[\\.\\?!]\", content.text.text[-1]) is not None else None\n",
    "\n",
    "def filter_stop_chars(content, **kwargs):\n",
    "    return content if not any(i in content.text.text for i in [\"$\", \"@\", \"- -\"]) else None\n",
    "\n",
    "def filter_person_subject_object(content, **kwargs):\n",
    "    return content if len([1 for j in content.text if j.dep_ in ['nsubj', 'pobj'] and j.ent_type_ == 'PERSON']) > 0 else None\n",
    "\n",
    "def filter_person_subject(content, **kwargs):\n",
    "    return content if len([1 for j in content.text if j.dep_ in ['nsubj'] and j.ent_type_ == 'PERSON']) > 0 else None\n",
    "\n",
    "def filter_name_subject_object(content, **kwargs):\n",
    "    # return content if len([1 for j in content.text if j.dep_ in ['nsubj', 'pobj'] and j.ent_type_ == 'PERSON']) > 0 else None\n",
    "    subject_object_tokens = [j.text for j in content.text if j.dep_ in ['nsubj', 'pobj']]\n",
    "    name_tokens = kwargs['name'].split(' ')\n",
    "    for i in name_tokens:\n",
    "        if i in subject_object_tokens:\n",
    "            return content\n",
    "    return None\n",
    "\n",
    "\n",
    "def filter_name_subject(content, **kwargs):\n",
    "    subject_tokens = [j.text for j in content.text if j.dep_ in ['nsubj']]\n",
    "    name_tokens = kwargs['name'].split(' ')\n",
    "    for i in name_tokens:\n",
    "        if i in subject_tokens:\n",
    "            return content\n",
    "    return None"
   ]
  },
  {
   "cell_type": "code",
   "execution_count": 7,
   "metadata": {
    "collapsed": true
   },
   "outputs": [],
   "source": [
    "\n",
    "def always_like_name(corpus, name):\n",
    "    c = Corpus(corpus)\n",
    "    a = c.retrieve_articles(name)\n",
    "    results = []\n",
    "    for article in a:\n",
    "        tmp_c_l = sorted([i for i in compose_filters(article.sentences,\n",
    "                                                    [filter_opinion,\n",
    "                                                     filter_stop_chars,\n",
    "                                                     filter_name,\n",
    "                                                     filter_name_subject_object,\n",
    "                                                     filter_name_subject],\n",
    "                                                     name=name) if i.filter_depth >=3],\n",
    "                        key=lambda x: x.sentiment,\n",
    "                         reverse=False)\n",
    "        if len(tmp_c_l) > 0:\n",
    "            results.append((article, tmp_c_l[0]))\n",
    "\n",
    "    sorted_results = sorted(results, key=lambda x: x[1].sentiment, reverse=False)\n",
    "\n",
    "    for i in sorted_results:\n",
    "        try:\n",
    "            return i[0].get_paragraph(i[1])\n",
    "        except ValueError:\n",
    "            pass\n",
    "    return \"I'm sorry, I don't have anything to say about {}\".format(name)\n",
    "\n",
    "\n",
    "def always_dislike_name(corpus, name):\n",
    "    c = Corpus(corpus)\n",
    "    a = c.retrieve_articles(name)\n",
    "    results = []\n",
    "    for article in a:\n",
    "        tmp_c_l = sorted([i for i in compose_filters(article.sentences,\n",
    "                                                    [filter_opinion,\n",
    "                                                     filter_stop_chars,\n",
    "                                                     filter_name,\n",
    "                                                     filter_name_subject_object,\n",
    "                                                     filter_name_subject],\n",
    "                                                     name=name) if i.filter_depth >=3],\n",
    "                        key=lambda x: x.sentiment,\n",
    "                         reverse=True)\n",
    "        if len(tmp_c_l) > 0:\n",
    "            results.append((article, tmp_c_l[0]))\n",
    "\n",
    "    sorted_results = sorted(results, key=lambda x: x[1].sentiment, reverse=True)\n",
    "\n",
    "    for i in sorted_results:\n",
    "        try:\n",
    "            return i[0].get_paragraph(i[1])\n",
    "        except ValueError:\n",
    "            pass\n",
    "    return \"I'm sorry, I don't have anything to say about {}\".format(name)\n",
    "\n",
    "def favorite_person_in_article(corpus, article):\n",
    "    c = Corpus(corpus)\n",
    "    a = c.retrieve_article(article)\n",
    "\n",
    "    sorted_results = sorted([i for i in compose_filters(a.sentences,\n",
    "                                                [filter_opinion,\n",
    "                                                 filter_stop_chars,\n",
    "                                                 filter_person_subject_object,\n",
    "                                                 filter_person_subject]) if i.filter_depth >=3],\n",
    "                    key=lambda x: x.sentiment,\n",
    "                     reverse=True)\n",
    "\n",
    "    for i in sorted_results:\n",
    "        try:\n",
    "            return a.get_paragraph(i)\n",
    "        except ValueError:\n",
    "            pass\n",
    "    return \"I'm sorry, I don't have anything to say about {}\".format(article)\n",
    "\n",
    "\n",
    "def least_favorite_in_article(corpus, article):\n",
    "    c = Corpus(corpus)\n",
    "    a = c.retrieve_article(article)\n",
    "\n",
    "    results = []\n",
    "    sorted_results = sorted([i for i in compose_filters(a.sentences,\n",
    "                                                [filter_opinion,\n",
    "                                                 filter_stop_chars,\n",
    "                                                 ]) if i.filter_depth >=2],\n",
    "                    key=lambda x: x.sentiment,\n",
    "                            reverse=False)\n",
    "\n",
    "    for i in sorted_results:\n",
    "        try:\n",
    "            return a.get_paragraph(i)\n",
    "        except ValueError:\n",
    "            pass\n",
    "    return \"I'm sorry, I don't have anything to say about {}\".format(article)\n",
    "\n",
    "\n",
    "def compare_person_works(corpus, name, title):\n",
    "    c = Corpus(corpus)\n",
    "\n",
    "    final_results = []\n",
    "    a = c.retrieve_article(title)\n",
    "    sorted_results = sorted([i for i in compose_filters(a.sentences,\n",
    "                                                [filter_opinion,\n",
    "                                                 filter_stop_chars,\n",
    "                                                 filter_name,\n",
    "                                                 filter_name_subject_object,\n",
    "                                                 filter_name_subject],\n",
    "                                                        name=name) if i.filter_depth >=3],\n",
    "                    key=lambda x: x.subjectivity,\n",
    "                     reverse=True)\n",
    "\n",
    "    for i in sorted_results:\n",
    "        try:\n",
    "           final_results.append((a, i))\n",
    "           break\n",
    "        except ValueError:\n",
    "            pass\n",
    "\n",
    "\n",
    "\n",
    "    a2 = c.retrieve_articles(name)\n",
    "    a2 = [i for i in a2 if i is not a]\n",
    "    results = []\n",
    "    for article in a2:\n",
    "        tmp_c_l = sorted([i for i in compose_filters(article.sentences,\n",
    "                                                    [filter_opinion,\n",
    "                                                     filter_stop_chars,\n",
    "                                                     filter_name,\n",
    "                                                     filter_name_subject_object,\n",
    "                                                     filter_name_subject],\n",
    "                                                     name=name) if i.filter_depth >=5],\n",
    "                        key=lambda x: x.subjectivity,\n",
    "                         reverse=True)\n",
    "        if len(tmp_c_l) > 0:\n",
    "            results += [(article, i) for i in tmp_c_l]\n",
    "\n",
    "    sorted_results = sorted(results, key=lambda x: x[1].sentiment, reverse=True)\n",
    "\n",
    "    for i in sorted_results:\n",
    "        try:\n",
    "            final_results.append((i[0], i[1]))\n",
    "            break\n",
    "        except ValueError:\n",
    "            pass\n",
    "    for i in sorted_results[::-1]:\n",
    "        try:\n",
    "            final_results.append((i[0], i[1]))\n",
    "            break\n",
    "        except ValueError:\n",
    "            pass\n",
    "\n",
    "    for i in final_results:\n",
    "        print(i[0].get_paragraph(i[1]))\n",
    "\n",
    "# How do you feel about ___person___ in ___show___\n",
    "def opinion_person_in_article(corpus, name, article):\n",
    "    c = Corpus(corpus)\n",
    "    a = c.retrieve_article(article)\n",
    "\n",
    "    sorted_results = sorted([i for i in compose_filters(a.sentences,\n",
    "                                                        [filter_opinion,\n",
    "                                                         filter_stop_chars,\n",
    "                                                         filter_name,\n",
    "                                                         filter_name_subject_object,\n",
    "                                                         filter_name_subject],\n",
    "                                                        name=name) if i.filter_depth >=3],\n",
    "                            key=lambda x: x.subjectivity,\n",
    "                            reverse=True)\n",
    "\n",
    "    for i in sorted_results:\n",
    "        try:\n",
    "            return a.get_paragraph(i)\n",
    "        except ValueError:\n",
    "            pass\n",
    "    return \"I'm sorry, I don't have anything to say about {}\".format(article)\n"
   ]
  },
  {
   "cell_type": "code",
   "execution_count": 14,
   "metadata": {
    "collapsed": true
   },
   "outputs": [],
   "source": [
    "    #    print('\\n')\n",
    "    #    print('Roger Ebert, do you always like Francis Ford Coppola?')\n",
    "    #    print(always_like_name('ebert', 'Francis Ford Coppola'))\n",
    "    #    print('\\n')\n",
    "    #    print('Roger Ebert, do you always like Viggo Mortensen?')\n",
    "    #    print(always_like_name('ebert', 'Viggo Mortensen'))\n",
    "    #    print('\\n')\n",
    "    #    print('Chris Jones, do you always like Aaron Sorkin?')\n",
    "    #    print(always_like_name('jones', 'Aaron Sorkin'))\n",
    "    #    print('\\n')\n",
    "    #    print('Chris Jones, do you always like Aaron Todd Douglas?')\n",
    "    #    print(always_like_name('jones', 'Aaron Todd Douglas'))\n",
    "    #    print('\\n')\n",
    "    #    print('Chris Jones, do you always dislike Aaron Todd Douglas?')\n",
    "    #    print(always_dislike_name('jones', 'Aaron Todd Douglas'))\n",
    "    #    print('\\n')\n",
    "    #    print('Chris Jones, do you always like Tracy Letts?')\n",
    "    #    print(always_like_name('jones', 'Tracy Letts'))\n",
    "    #    print('\\n')\n",
    "    #    print('Chris Jones, do you always dislike Steppenwolf?')\n",
    "    #    print(always_dislike_name('jones', 'Steppenwolf'))\n",
    "\n",
    "    #    print('\\n')\n",
    "    #    print('Roger Ebert, who was your favorite person in Apocalypse Now?')\n",
    "    #    print(favorite_person_in_article('ebert', 'Apocalypse Now'))\n",
    "    #    print('\\n')\n",
    "    #    print('Chris Jones, who was your favorite person in Killer Joe?')\n",
    "    #    print(favorite_person_in_article('jones', 'Killer Joe'))\n",
    "    #    print('\\n')\n",
    "    #    print('Roger Ebert, what was the worst thing in Apocalypse Now Redux?')\n",
    "    #    print(least_favorite_in_article('ebert', 'Apocalypse Now Redux'))\n",
    "\n",
    "    #    print('\\n')\n",
    "    #    # One of the original questions that started this endeavor was\n",
    "    #    # \"Chris, well doy just always dislike mexican directors?\". The approach\n",
    "    #    # that I favor is to actually use an external databse, knowledge graph, etc.\n",
    "    #    # to get a list of related directors according to whatever the characteristic\n",
    "    #    # in question may be (in this case, country of origin), and then execute the\n",
    "    #    # same dislike_name function we've been calling before for each of them.\n",
    "\n",
    "    #    # Shockingly, if we call it for Alfonso Cuaron (who would very likely be\n",
    "    #    # near the top of any list of prominent Mexican filmmakers, especially\n",
    "    #    # after Children of Men and Gravity), we get the following:\n",
    "\n",
    "    #    # print('Roger Ebert, do you always dislike Alejandro Gonzalez Inarritu?')\n",
    "    #    # print(always_dislike_name('ebert', 'Alejandro Gonzalez Inarritu'))\n",
    "    #    print('Roger Ebert, do you always dislike Mexican Filmmakers?')\n",
    "    #    print(always_dislike_name('ebert', 'Alfonso Cuaron'))\n",
    "\n",
    "    #    print('\\n')\n",
    "    #    compare_person_works('jones', 'Tracy Letts', 'August Osage County')\n",
    "\n",
    "    #    print('\\n')\n",
    "    #    compare_person_works('jones', 'Steppenwolf Theatre', 'Buried Child')"
   ]
  },
  {
   "cell_type": "code",
   "execution_count": 17,
   "metadata": {
    "collapsed": false
   },
   "outputs": [
    {
     "name": "stdout",
     "output_type": "stream",
     "text": [
      "\n",
      "\n",
      "Ebert, what did you think of Jennifer Lawrence in Winters Bone?\n",
      "Ree is played by Jennifer Lawrence, a 19-year-old newcomer who has already starred in Jodie Foster's next film. Lawrence embodies a fierce, still center that is the source of her heroism. She makes no boasts, issues no threats, depends on a dogged faith that people will do the right thing  even when no one we meet seems to deserve that faith. \"Don't ask for what ought to be offered,\" she tells her little brother, although the lives of her parents seem to be an exercise in asking and not offering. Did she raise herself?\n",
      "\n",
      "\n",
      "Jones, what did you think of Tom Bateman in AmeriKafka?\n",
      "And there are three excellent -- really excellent -- lead performances. Bateman's droopy-eyed dead (or dying) Franz Kafka has just the right note of pained craziness. As his younger alter ego (the theatrical version of the man, under the rules of this play), K.K. Dodds oozes vulnerability. She's (yes, it's a she) nothing short of superb. And as Lowy, a showman of the Yiddish theater, Jason Powers skips all the easy, stereotypical choices and makes credible ones instead.\n",
      "Fascinating 'AmeriKafka' is deliciously messy\n",
      "'American Psycho' spatters blood, scatters style\n"
     ]
    }
   ],
   "source": [
    "print('\\n')\n",
    "print('Ebert, what did you think of Jennifer Lawrence in Winters Bone?')\n",
    "print(opinion_person_in_article('ebert', 'Jennifer Lawrence', \"Winter's Bone\"))\n",
    "\n",
    "print('\\n')\n",
    "print('Jones, what did you think of Tom Bateman in AmeriKafka?')\n",
    "print(opinion_person_in_article('jones', 'Bateman', \"AmeriKafka\"))\n",
    "\n",
    "\n",
    "c = Corpus('jones')\n",
    "arts = c.filter_articles_by_person(\"Bateman's\")\n",
    "for a in arts:\n",
    "    print(a.title)"
   ]
  },
  {
   "cell_type": "code",
   "execution_count": 20,
   "metadata": {
    "collapsed": false
   },
   "outputs": [
    {
     "name": "stdout",
     "output_type": "stream",
     "text": [
      "Apocalypse Now has one of the most haunting endings in cinema, a poetic evocation of what Kurtz has discovered, and what we hope not to discover for ourselves. The river journey creates enormous anticipation about Kurtz, and Brando fulfills it. When Apocalypse Now was released in 1979, his casting was criticized and his enormous paycheck of $1 million was much discussed, but it's clear he was the correct choice, not only because of his stature as an icon, but because of his voice, which enters Apocalypse Now from darkness or half-light, repeating the words of T.S. Eliot's despairing \"The Hollow Men.\" That voice sets the final tone of Apocalypse Now.\n",
      "There have been a lot of movies where stars have repeated the triumphs of their parts - but has any star ever done it more triumphantly than Marlon Brando does in \"The Freshman\"? He is doing a reprise here of his most popular character, Don Vito Corleone of \"The Godfather,\" and he does it with such wit, discipline and seriousness that it's not a ripoff and it's not a cheap shot, it's a brilliant comic masterstroke.\n",
      "In a new book about how he makes movies, director Sidney Lumet speculates that Marlon Brando has a way of testing his directors.\n"
     ]
    }
   ],
   "source": [
    "compare_person_works('ebert', 'Marlon Brando', 'Apocalypse Now')"
   ]
  },
  {
   "cell_type": "code",
   "execution_count": 8,
   "metadata": {
    "collapsed": true
   },
   "outputs": [],
   "source": [
    "def like_person(corpus, name):\n",
    "    c = Corpus(corpus)\n",
    "\n",
    "    final_results = []\n",
    "    \n",
    "    # Get all articles that have the person's name\n",
    "    article_list = c.retrieve_articles(name)\n",
    "    last_name = name.split()[-1]\n",
    "    \n",
    "    filtered_sentences = []\n",
    "    \n",
    "    for article in article_list:\n",
    "        filtered_sentences += [(article, i) for i in compose_filters(article.sentences,\n",
    "                                       [filter_opinion,\n",
    "                                        filter_person_subject,\n",
    "                                        filter_name_parentheses,\n",
    "                                        filter_name],\n",
    "                                       name=last_name) if i.filter_depth > 3]\n",
    "        \n",
    "    print([i[1].sentiment for i in filtered_sentences])\n",
    "    print(sum([i[1].sentiment for i in filtered_sentences])/ len(filtered_sentences))\n",
    "    \n",
    "    for i in sorted(filtered_sentences, key=lambda x: x[1].sentiment, reverse=True):\n",
    "        if i[1].filter_depth > 3:\n",
    "            print(i[1].sentiment)\n",
    "            print(i[1].text.text)\n",
    "            try:\n",
    "                print(i[0].get_paragraph(i[1]))\n",
    "            except ValueError:\n",
    "                print('PARAGRAPH NOT FOUND')\n",
    "            print('\\n')\n",
    "            \n",
    "    \n",
    "        \n",
    "    "
   ]
  },
  {
   "cell_type": "code",
   "execution_count": 9,
   "metadata": {
    "collapsed": false
   },
   "outputs": [
    {
     "name": "stdout",
     "output_type": "stream",
     "text": [
      "[0.040624999999999994, 0.07500000000000001, 0.0, -0.30000000000000004, -0.15555555555555559, 0.7, 0.5, 0.05, 0.27, 0.0925, 0.17222222222222222, 0.3625, 0.35000000000000003, 0.05, 0.038888888888888876, 0.17777777777777778, 0.1, 0.125, 0.16666666666666666, -0.05681818181818182, 0.5, 0.1787878787878788, 0.12333333333333332, 0.3, 0.3, 0.175, 0.5, -0.3, -0.041666666666666664, 0.125, 0.175, 0.3, 0.25, 0.2520833333333333, 0.5, -0.09583333333333333, -0.05833333333333332, 0.0, 0.2228571428571428, 0.2333333333333333, 0.0, 0.5, 0.2813492063492064, 0.3, 0.039999999999999994, 0.2, 0.22428571428571428, 0.24404761904761907, -0.12380952380952379, -0.2, 1.0, 0.45, 0.05, 0.06666666666666667, 0.2, 0.34375, 0.6, 0.4, 0.4, 0.5, -0.39375, 0.5, 0.3444444444444444, -0.4, 0.14375, 0.19166666666666665, 0.00416666666666667, 0.3, 0.02, 0.095, 0.15, 0.3375, 0.39444444444444443, -0.0625, -0.17916666666666664, 0.08333333333333333, 0.15833333333333335, 0.1, 0.4230769230769231, 0.0, 0.4, 0.5285714285714286, 0.425, 0.39999999999999997, 0.16666666666666669, 0.22142857142857145, 0.058258928571428566, 0.0, 0.2736394557823129, 0.0, 0.35, 0.24030303030303032, -0.04404761904761905, 0.38, 0.3333333333333333, -0.2222222222222222]\n",
      "0.18329050945540903\n",
      "1.0\n",
      "Spielberg is the master of an awesome canvas.\n",
      "War Horse is made with superb artistry. Spielberg is the master of an awesome canvas. Most people will enjoy it, as I did. But not included in the picture is the level of sheer hopeless tragedy that is everywhere just out frame. It is the same with life, and if you consider the big picture, all of us, men and beasts, have extraordinary good luck.\n",
      "\n",
      "\n",
      "0.7\n",
      "Spielberg is a good storyteller with a good tale to tell.\n",
      "Empire of the Sun is always interesting from a narrative point of view. Spielberg is a good storyteller with a good tale to tell. But it never really adds up to anything. What statement does Spielberg want to make about Jim, if any? That dreams are important? That survival is a virtue? Empire of the Sun falls into the trap of so many war stories, and turns horror into nostalgia. The process is a familiar one. War experiences are brutal, painful and tragic, but sometimes they call up the best in human beings. And after the war is over, the survivors eventually began to yearn for that time when they surpassed themselves, when during better and worse they lived at their peak.\n",
      "\n",
      "\n",
      "0.6\n",
      "Because Spielberg allows this sequence to continue until it finds its own rhythm, it has a nice zany feel to it.\n",
      "Because Spielberg allows this sequence to continue until it finds its own rhythm, it has a nice zany feel to it. But most of the other stuff in \"1941\" feels forced together chaotically, as if the editors wanted to keep the material moving at any cost. 1941 finally reduces itself to an assault on our eyes and ears, a nonstop series of climaxes, screams, explosions, double-takes, sight gags, and ethnic jokes that's finally just not very funny.\n",
      "\n",
      "\n",
      "0.5285714285714286\n",
      "The story of Cinque certainly deserves more attention in textbooks, but it is not an ideal story to make into a film; Nat Turner would have been a better choice for Spielberg.\n",
      "Ever since Spielberg began Amistad, the story has been hyped and hailed as a great untold chapter in American history, an event to put beside Nat Turner's uprising. The story of Cinque certainly deserves more attention in textbooks, but it is not an ideal story to make into a film; Nat Turner would have been a better choice for Spielberg. That John Quincy Adams wins his big case is a great achievement for him and a great relief for Cinque and his fellow captives, but in the sad annals of American slavery, it is a rather hollow triumph.\n",
      "\n",
      "\n",
      "0.5\n",
      "But Spielberg allows the airplanes, the sun and the magical yearning to get in his way.\n",
      "Empire of the Sun is wonderfully staged and shot, and the prison camp looks and feels like a real place. But Spielberg allows the airplanes, the sun and the magical yearning to get in his way. Jim has a relationship, at a distance, with a young Asian boy who lives outside the prison fence, and this friendship ends in a scene that is painfully calculated and manipulative. There is another moment, at about the same time in Empire of the Sun, where Jim creeps outside the camp by hiding in a drainage canal and escapes capture and instant death not because of his wits but because Spielberg forces a camera angle - placing his camera so that a person cannot be seen who would be visible in real life. And there is the inevitable moment when the boy is associated with a huge telephoto image of the sun, and we respond not to the shot but to the memory that Spielberg loves huge celestial orbs so passionately that Jim isn't having a spontaneous moment, he's paying homage to the sun of \"The Color Purple\" and the moon of \"E.T. The Extra-Terrestrial.\"\n",
      "\n",
      "\n",
      "0.5\n",
      "Spielberg devises several elaborate set-pieces, of which I especially liked the rat-infested catacombs and sewers beneath Venice.\n",
      "Spielberg devises several elaborate set-pieces, of which I especially liked the rat-infested catacombs and sewers beneath Venice.\n",
      "\n",
      "\n",
      "0.5\n",
      "Spielberg knows how to make audiences weep better than any director since Chaplin in \"City Lights.\"\n",
      "\"Saving Private Ryan\" is a powerful experience. I'm sure a lot of people will weep during it. Spielberg knows how to make audiences weep better than any director since Chaplin in \"City Lights.\" But weeping is an incomplete response, letting the audience off the hook. Saving Private Ryan embodies ideas. After the immediate experience begins to fade, the implications remain and grow.\n",
      "\n",
      "\n",
      "0.5\n",
      "Elsewhere in In Praise of Love he accuses Spielberg of having made millions from \"Schindler's List\" while Mrs. Schindler lives in Argentina in poverty.\n",
      "His attacks on Steven Spielberg are painful and unfair. Some of the fragments of his film involve a Spielberg company trying to buy the memories of Holocaust survivors for a Hollywood film (it will star, we learn, Juliette Binoche, who appeared in \"Hail Mary\" but has now apparently gone over to the dark side). Elsewhere in In Praise of Love he accuses Spielberg of having made millions from \"Schindler's List\" while Mrs. Schindler lives in Argentina in poverty. One muses: (1) Has Godard, having also used her, sent her any money? (2) Has Godard or any other director living or dead done more than Spielberg, with his Holocaust Project, to honor and preserve the memories of the survivors? (3) Has Godard so lost the ability to go to In Praise of Loves that, having once loved the works of Samuel Fuller and Nicholas Ray, he cannot view a Spielberg film except through a prism of anger? Critics are often asked if they ever change their minds about a movie. I hope we can grow and learn. I do not \"review\" films seen at festivals, but \"report\" on them--because in the hothouse atmosphere of seeing three to five films a day, most of them important, one cannot always step back and catch a breath. At Cannes I saw the surface of \"In Praise of Love,\" remembered Godard's early work, and was cheered by In Praise of Love. After a second viewing, looking beneath the surface, I see so little there: It is all remembered rote work, used to conceal old tricks, facile name-calling, the loss of hope, and emptiness.\n",
      "\n",
      "\n",
      "0.5\n",
      "Steven Spielberg, a gifted filmmaker, should have reimagined the material, should have seen it through the eyes of someone looking at dinosaurs, rather than through the eyes of someone looking at a box-office sequel.\n",
      "Where is the awe? Where is the sense that if dinosaurs really walked the earth, a film about them would be more than a monster movie? Where are the ooohs and ahhhs? \"The Lost World: Jurassic Park\" demonstrates even more clearly than \"Jurassic Park'' (1993) that the underlying material is so promising, it deserves a story not written on autopilot. Steven Spielberg, a gifted filmmaker, should have reimagined the material, should have seen it through the eyes of someone looking at dinosaurs, rather than through the eyes of someone looking at a box-office sequel.\n",
      "\n",
      "\n",
      "0.5\n",
      "Spielberg leaves the shark under the table for most of Jaws.\n",
      "In keeping the Great White offscreen, Spielberg was employing a strategy used by Alfred Hitchcock throughout his career. \"A bomb is under the table, and it explodes: That is surprise,\" said Hitchcock. \"The bomb is under the table but it does not explode: That is suspense.\" Spielberg leaves the shark under the table for most of Jaws. And many of its manifestations in the later part of Jaws are at second hand: We don't see the shark but the results of his actions. The payoff is one of the most effective thrillers ever made.\n",
      "\n",
      "\n",
      "0.5\n",
      "It's here that Spielberg uses one of his most inventive visuals for suggesting the shark.\n",
      "It's here that Spielberg uses one of his most inventive visuals for suggesting the shark. Three or four men gather on a wooden pier, hoping to catch the shark. One has stolen his wife's beef roast to use as bait. They put a fearsome hook through the roast, fasten the chain to the pier, and toss in the bait. The shark simply pulls the end of the pier loose from its moorings and drags it out to sea. Effective, but even more chilling is the next shot, in which we see the floating pier  turn around and move back toward shore.\n",
      "\n",
      "\n",
      "0.45\n",
      "as something Spielberg tossed off between more important films.\n",
      "as something Spielberg tossed off between more important films. It comes\n",
      "\n",
      "\n",
      "0.425\n",
      "What happened to the sense of wonder Spielberg celebrated in \"Close Encounters of the Third Kind,\" and the dazzling imagination of \"Minority Report\"?\n",
      "\"War of the Worlds\" is a big, clunky movie containing some sensational sights but lacking the zest and joyous energy we expect from Steven Spielberg. It proceeds with the lead-footed deliberation of its 1950s predecessors to give us an alien invasion that is malevolent, destructive and, from the alien point of view, pointless. They've \"been planning this for a million years\" and have gone to a lot of trouble to invade Earth for no apparent reason and with a seriously flawed strategy. What happened to the sense of wonder Spielberg celebrated in \"Close Encounters of the Third Kind,\" and the dazzling imagination of \"Minority Report\"?\n",
      "\n",
      "\n",
      "0.4230769230769231\n",
      "Stabile made Gravesend when he was 19, found backers to put up post-production cash, and impressed so many people with his raw talent that Gravesend is An Oliver Stone Presentation and the director, now 22, has two projects under contract with Steven Spielberg\n",
      "And yet there are good things to be said about Gravesend, and the most astonishing is that it was made for a reported $5,000, which is $3,000 less than Robert Rodriguez spent on El Mariachi, the previous yardstick for inexpensive independent films. Stabile made Gravesend when he was 19, found backers to put up post-production cash, and impressed so many people with his raw talent that Gravesend is An Oliver Stone Presentation and the director, now 22, has two projects under contract with Steven Spielberg\n",
      "\n",
      "\n",
      "0.4\n",
      "There is a story that when producers Richard Zanuck and David Brown first approached Spielberg with an offer to direct Jaws of Peter Benchley's best seller, he said he would do it on one condition: that the shark not be seen for the first hour.\n",
      "So the police chief famously informs the shark hunter, right after the first brief appearance of the man-eater in \"Jaws.\" It's not simply a splendid line of dialogue, it's an example of Steven Spielberg's strategy all through Jaws, where the shark is more talked about than seen, and seen more in terms of its actions than in the flesh. There is a story that when producers Richard Zanuck and David Brown first approached Spielberg with an offer to direct Jaws of Peter Benchley's best seller, he said he would do it on one condition: that the shark not be seen for the first hour. Viewing Jaws's 25th anniversary DVD, I was surprised to realize how little the shark is seen at all.\n",
      "\n",
      "\n",
      "0.4\n",
      "In keeping the Great White offscreen, Spielberg was employing a strategy used by Alfred Hitchcock throughout his career. \"\n",
      "In keeping the Great White offscreen, Spielberg was employing a strategy used by Alfred Hitchcock throughout his career. \"A bomb is under the table, and it explodes: That is surprise,\" said Hitchcock. \"The bomb is under the table but it does not explode: That is suspense.\" Spielberg leaves the shark under the table for most of Jaws. And many of its manifestations in the later part of Jaws are at second hand: We don't see the shark but the results of his actions. The payoff is one of the most effective thrillers ever made.\n",
      "\n",
      "\n",
      "0.4\n",
      "Ever since Spielberg began Amistad, the story has been hyped and hailed as a great untold chapter in American history, an event to put beside Nat Turner's uprising.\n",
      "Ever since Spielberg began Amistad, the story has been hyped and hailed as a great untold chapter in American history, an event to put beside Nat Turner's uprising. The story of Cinque certainly deserves more attention in textbooks, but it is not an ideal story to make into a film; Nat Turner would have been a better choice for Spielberg. That John Quincy Adams wins his big case is a great achievement for him and a great relief for Cinque and his fellow captives, but in the sad annals of American slavery, it is a rather hollow triumph.\n",
      "\n",
      "\n",
      "0.39999999999999997\n",
      "Many good screenplays have died with their authors, but occasionally a director will step forward to rescue a colleague's work, as Steven Spielberg did with Stanley Kubrick's \"A.I.\" and now as Tom Tykwer has done with \"Heaven.\" This is, and isn't, the sort of project Tykwer is identified with.\n",
      "After the 10 films of \"The Decalogue\" and the great trilogy \"Blue,\" \"White\" and \"Red,\" the Polish director Krzysztof Kieslowski and his writing partner, Krzysztof Piesiewicz, began writing a new trilogy: \"Heaven,\" \"Purgatory\" and \"Hell.\" Kieslowski died in 1996 before the project could be filmed. Many good screenplays have died with their authors, but occasionally a director will step forward to rescue a colleague's work, as Steven Spielberg did with Stanley Kubrick's \"A.I.\" and now as Tom Tykwer has done with \"Heaven.\" This is, and isn't, the sort of project Tykwer is identified with. It is more thoughtful, proceeds more deliberately, than the mercurial haste of \"Run Lola Run\" and \"The Princess and the Warrior.\" At the same time, it has a belief in fateful meetings that occur as a side effect of violence or chance, as both of those films do. And it contains the same sort of defiant romanticism, in which a courageous woman tries to alter her fate by sheer will power.\n",
      "\n",
      "\n",
      "0.39444444444444443\n",
      "Spielberg gives Hanks the time and space to develop elaborate situations like those Tati was always getting himself into, situations where the lives of those around him became baffling because of Tati's own profound simplicity.\n",
      "There is a humanity in its humor that reminds you of sequences in Chaplin or Keaton where comedy and sadness find a fragile balance. It has another inspiration, the work of the French actor-filmmaker Jacques Tati. Spielberg gives Hanks the time and space to develop elaborate situations like those Tati was always getting himself into, situations where the lives of those around him became baffling because of Tati's own profound simplicity.\n",
      "\n",
      "\n",
      "0.38\n",
      "I say \"allegedly,\" because Bernard Rose has charged that the powerful Creative Artists Agency tried to prevent ivans xtc., seeing it as a transparent version of the life of Jay Moloney, an agent who at one time (I learn from a news story) represented Leonardo DiCaprio, Steven Spielberg, Bill Murray, Uma Thurman, Tim Burton -- and Rose himself.\n",
      "ivans xtc. is allegedly inspired by The Death of Ivan Illyich by Leo Tolstoy. I say \"allegedly,\" because Bernard Rose has charged that the powerful Creative Artists Agency tried to prevent ivans xtc., seeing it as a transparent version of the life of Jay Moloney, an agent who at one time (I learn from a news story) represented Leonardo DiCaprio, Steven Spielberg, Bill Murray, Uma Thurman, Tim Burton -- and Rose himself. Fired from CAA in 1996 because of cocaine, the story says, he moved to the Caribbean and killed himself in 1999.\n",
      "\n",
      "\n",
      "0.3625\n",
      "Spielberg not only uses 3-D but bases his story on one of Europe's most beloved comic characters.\n",
      "I was surprised by how much I enjoyed myself. Spielberg not only uses 3-D but bases his story on one of Europe's most beloved comic characters. The 3-D he pulls off, just as Scorsese did in \"Hugo,\" because he employs it as an enhancement to 2-D instead of an attention-grabbing gimmick. \n",
      "\n",
      "\n",
      "0.35000000000000003\n",
      "A more traditional 2-D approach was done for a TV series, which you can check out on YouTube; I like it, but Spielberg is more ambitious and his characters seem more believable, to the extent that anyone created by Herg is real.\n",
      "Spielberg and a team of artists and animators have copied not the literal look of the Tintin strips, but the feel. A more traditional 2-D approach was done for a TV series, which you can check out on YouTube; I like it, but Spielberg is more ambitious and his characters seem more believable, to the extent that anyone created by Herg is real. The Adventures of Tintin involves the same headlong hurtle through perilous adventures, involving dire endangerment by explosives and so on. The chase is on to find a lost treasure with ancient connections to Capt. Haddock's family. \n",
      "\n",
      "\n",
      "0.35\n",
      "Steven Spielberg was one of the producers of Real Steel, and knowing of the research he put into making E. T. lovable, I wonder if screen-testing was used to help design Atom.\n",
      "Curiously, however, it's easy to love Atom. With his blue eyes glowing behind a face of steel mesh and his skinny, muscular body facing off against giants, he's a likable underdog. Steven Spielberg was one of the producers of Real Steel, and knowing of the research he put into making E. T. lovable, I wonder if screen-testing was used to help design Atom. You wouldn't say he looked cute, but there is something about him that's much more appealing that his shiny high-tech rivals.\n",
      "\n",
      "\n",
      "0.3444444444444444\n",
      "For Spielberg, Jaws was the launching pad for the most extraordinary directorial career in modern movie history.\n",
      "\"Jaws\" was released in 1975, quickly becoming the highest-grossing picture made up to that time, and forever wresting the summer releasing season away from B movies and exploitation pictures. The major Hollywood studios, which had avoided summer, now identified it as the prime releasing season, and \"Jaws\" inspired hundreds of summer thrillers and f/x pictures. For Spielberg, Jaws was the launching pad for the most extraordinary directorial career in modern movie history. Before \"Jaws,\" he was known as the gifted young director of films such as \"Duel\" (1971) and \"The Sugarland Express\" (1974), After \"Jaws,\" \"Close Encounters of the Third Kind\" (1977) and \"Raiders of the Lost Ark\" (1981), he was the king.\n",
      "\n",
      "\n",
      "0.34375\n",
      "Spielberg apparently originally conceived some of this material as a series of set pieces, and there's a sequence in the dance hall that works wonderfully: While lookalikes for the Andrews Sisters go berserk at the microphone, servicemen and their girls get into a dance contest that degenerates into a cross between a brawl and the big dance number in \"Seven Brides for Seven Brothers.\"\n",
      "Spielberg apparently originally conceived some of this material as a series of set pieces, and there's a sequence in the dance hall that works wonderfully: While lookalikes for the Andrews Sisters go berserk at the microphone, servicemen and their girls get into a dance contest that degenerates into a cross between a brawl and the big dance number in \"Seven Brides for Seven Brothers.\"\n",
      "\n",
      "\n",
      "0.3375\n",
      "Spielberg, his actors and writers (Sacha Gervasi and Jeff Nathanson) weave it into a human comedy that is gentle and true, that creates sympathy for all of its characters, that finds a tone that will carry them through, that made me unreasonably happy.\n",
      "This premise could have yielded a film of contrivance and labored invention. Spielberg, his actors and writers (Sacha Gervasi and Jeff Nathanson) weave it into a human comedy that is gentle and true, that creates sympathy for all of its characters, that finds a tone that will carry them through, that made me unreasonably happy.\n",
      "\n",
      "\n",
      "0.3333333333333333\n",
      "Steven Spielberg opened \"Jurassic Park\" by giving us a good, long look at the dinosaurs in full sunlight, and our imaginations leapt up.\n",
      "It rains all through the \"Godzilla,\" and it's usually night. Well, of course it is: That makes the special effects easier to obscure. If you never get a clear look at the monster, you can't see how shoddy it is. Steven Spielberg opened \"Jurassic Park\" by giving us a good, long look at the dinosaurs in full sunlight, and our imaginations leapt up. \"Godzilla\" hops out of sight like a camera-shy kangaroo.\n",
      "\n",
      "\n",
      "0.3\n",
      "It is possible to express even the most thoughtful ideas in the simplest words and actions, and that's what Spielberg does.\n",
      "Everything points to the third act, when Private Ryan is found, and the soldiers decide what to do next. Spielberg and his screenwriter, Robert Rodat, have done a subtle and rather beautiful thing: They have made a philosophical film about war almost entirely in terms of action. \"Saving Private Ryan\" says things about war that are as complex and difficult as any essayist could possibly express, and does it with broad, strong images, with violence, with profanity, with action, with camaraderie. It is possible to express even the most thoughtful ideas in the simplest words and actions, and that's what Spielberg does. Saving Private Ryan is doubly effective, because he communicates his ideas in feelings, not words. I was reminded of \"All Quiet on the Western Front.\" Steven Spielberg is as technically proficient as any filmmaker alive, and because of his great success, he has access to every resource he requires. Both of those facts are important to the impact of \"Saving Private Ryan.\" He knows how to convey his feelings about men in combat, and he has the tools, the money and the collaborators to make it possible.\n",
      "\n",
      "\n",
      "0.3\n",
      "Steven Spielberg is as technically proficient as any filmmaker alive, and because of his great success, he has access to every resource he requires.\n",
      "Everything points to the third act, when Private Ryan is found, and the soldiers decide what to do next. Spielberg and his screenwriter, Robert Rodat, have done a subtle and rather beautiful thing: They have made a philosophical film about war almost entirely in terms of action. \"Saving Private Ryan\" says things about war that are as complex and difficult as any essayist could possibly express, and does it with broad, strong images, with violence, with profanity, with action, with camaraderie. It is possible to express even the most thoughtful ideas in the simplest words and actions, and that's what Spielberg does. Saving Private Ryan is doubly effective, because he communicates his ideas in feelings, not words. I was reminded of \"All Quiet on the Western Front.\" Steven Spielberg is as technically proficient as any filmmaker alive, and because of his great success, he has access to every resource he requires. Both of those facts are important to the impact of \"Saving Private Ryan.\" He knows how to convey his feelings about men in combat, and he has the tools, the money and the collaborators to make it possible.\n",
      "\n",
      "\n",
      "0.3\n",
      "It's clear, seeing this long-awaited project, that Spielberg devoted most of his effort to creating the dinosaurs.\n",
      "It's clear, seeing this long-awaited project, that Spielberg devoted most of his effort to creating the dinosaurs. The human characters are a ragtag bunch of half-realized, sketched-in personalities, who exist primarily to scream, utter dire warnings, and outwit the monsters.\n",
      "\n",
      "\n",
      "0.3\n",
      "Now Spielberg has found an in-between niche, for young teenagers who have fairly sophisticated tastes in horror.\n",
      "\"The Goonies\" is a smooth mixture of the usual ingredients from Steven Spielberg action movies, made special because of the high-energy performances of the kids who have the adventures. It's a fantastical story of buried pirate treasure, told with a slice-of-life approach that lets these kids use words Bogart didn't know in \"Casablanca\". There used to be children's movies and adult movies. Now Spielberg has found an in-between niche, for young teenagers who have fairly sophisticated tastes in horror. He supervises the formula and oversees the production, assigning the direction to stylish action veterans (this time, it's Richard Donner, of \"Superman\" and \"Ladyhawke\").\n",
      "\n",
      "\n",
      "0.3\n",
      "Spielberg clearly asks if Israel has risked more than it has gained.\n",
      "The same debate is going on right now in America. If it is true that civilizations must sometimes compromise their values, the questions remain: What is the cost, and what is the benefit? Spielberg clearly asks if Israel has risked more than it has gained. The stalemate in the Middle East will continue indefinitely, his film argues, unless brave men on both sides decide to break with the pattern of the past. Certainly in Israel itself it is significant that old enemies Ariel Sharon, from the right, and Shimon Peres, from the left, are now astonishingly both in the same new party and seeking a new path to peace. For the Palestinians, it may be crucial that the PLO's corrupt Arafat no longer has a personal stake in the status quo, and a new generation of leaders has moved into place.\n",
      "\n",
      "\n",
      "0.2813492063492064\n",
      "The night scenes also allow Spielberg to use his most familiar visual trademark, the visible beams from powerful flashlights, but apart from that touch, Spielberg doesn't really seem present in the picture: This feels like the kind of sequel a master hands over to an apprentice, and you sense that although much effort was lavished on the special effects, Spielberg's interest in the story was perfunctory.\n",
      "Much of The Lost World: Jurassic Park, especially the action scenes, is shot at night in the rain. I assume that's to provide better cover for the special effects; we see relatively few dinosaurs in bright light, and the conceit is taken so far that even the press conference announcing a new dinosaur park in San Diego is held in the middle of the night. The night scenes also allow Spielberg to use his most familiar visual trademark, the visible beams from powerful flashlights, but apart from that touch, Spielberg doesn't really seem present in the picture: This feels like the kind of sequel a master hands over to an apprentice, and you sense that although much effort was lavished on the special effects, Spielberg's interest in the story was perfunctory.\n",
      "\n",
      "\n",
      "0.2736394557823129\n",
      "Ever since Steven Spielberg released the Special Edition of his Close Encounters of the Third Kind, directors have been re-editing their movies and releasing versions that are longer, or sexier, or more profound, or in any event different from the versions that were originally released to theaters.\n",
      "One of the benefits of home video is that it sometimes allows the director to have the last word - if not sooner, then later. Ever since Steven Spielberg released the Special Edition of his Close Encounters of the Third Kind, directors have been re-editing their movies and releasing versions that are longer, or sexier, or more profound, or in any event different from the versions that were originally released to theaters.\n",
      "\n",
      "\n",
      "0.27\n",
      "And there is the inevitable moment when the boy is associated with a huge telephoto image of the sun, and we respond not to the shot but to the memory that Spielberg loves huge celestial orbs so passionately that Jim isn't having a spontaneous moment, he's paying homage to the sun of \"The Color Purple\" and the moon of \"E.T. The Extra-Terrestrial.\"\n",
      "Empire of the Sun is wonderfully staged and shot, and the prison camp looks and feels like a real place. But Spielberg allows the airplanes, the sun and the magical yearning to get in his way. Jim has a relationship, at a distance, with a young Asian boy who lives outside the prison fence, and this friendship ends in a scene that is painfully calculated and manipulative. There is another moment, at about the same time in Empire of the Sun, where Jim creeps outside the camp by hiding in a drainage canal and escapes capture and instant death not because of his wits but because Spielberg forces a camera angle - placing his camera so that a person cannot be seen who would be visible in real life. And there is the inevitable moment when the boy is associated with a huge telephoto image of the sun, and we respond not to the shot but to the memory that Spielberg loves huge celestial orbs so passionately that Jim isn't having a spontaneous moment, he's paying homage to the sun of \"The Color Purple\" and the moon of \"E.T. The Extra-Terrestrial.\"\n",
      "\n",
      "\n",
      "0.2520833333333333\n",
      "Spielberg enlivens the action with lots of nice little touches; I especially liked a sequence where a smaller creature leaps suicidally on a larger one, and they battle to the death.\n",
      "Spielberg enlivens the action with lots of nice little touches; I especially liked a sequence where a smaller creature leaps suicidally on a larger one, and they battle to the death. On the monster movie level, Jurassic Park works and is entertaining. But with its profligate resources, it could have been so much more.\n",
      "\n",
      "\n",
      "0.25\n",
      "I have the uneasy feeling that if Spielberg had made \"Close Encounters\" today, we would have seen the aliens in the first 10 minutes, and by the halfway mark they'd be attacking Manhattan with death rays.\n",
      "In the 16 years since it was made, however, big-budget Hollywood seems to have lost its confidence that audiences can share big dreams. \"Jurassic Park\" throws a lot of dinosaurs at us, and because they look terrific (and indeed they do), we're supposed to be grateful. I have the uneasy feeling that if Spielberg had made \"Close Encounters\" today, we would have seen the aliens in the first 10 minutes, and by the halfway mark they'd be attacking Manhattan with death rays.\n",
      "\n",
      "\n",
      "0.24404761904761907\n",
      "But \"Poltergeist\" is an effective thriller, not so much because of the special effects, as because Hooper and Spielberg have tried to see Poltergeist's strange events through the eyes of the family members, instead of just standing back and letting the special effects overwhelm the cast along with the audience.\n",
      "But \"Poltergeist\" is an effective thriller, not so much because of the special effects, as because Hooper and Spielberg have tried to see Poltergeist's strange events through the eyes of the family members, instead of just standing back and letting the special effects overwhelm the cast along with the audience. Poltergeist takes place in Spielberg's favorite terrain, the American suburb (also the locale of parts of \"Close Encounters of the Third Kind,\" \"Jaws\" and \"E.T. The Extra-Terrestrial\"). The haunted house doesn't have seven gables, but it does have a two-car garage. It is occupied by a fairly normal family (two parents, three kids) and Poltergeist begins on a somewhat hopeful note with the playing of \"The Star Spangled Banner\" as a TV station signs off.\n",
      "\n",
      "\n",
      "0.24030303030303032\n",
      "\"Sky Captain\" will probably not inspire the universal affection of a film like \"Indiana Jones,\" in part because Steven Spielberg is a better director than Kerry Conran, in part because many of \"Sky Captain's\" best qualities are more cinematic than dramatic; I responded to the texture and surfaces and very feel of the images, and felt some of the same quickening I remember from the cover of a new Tom Corbett book.\n",
      "\"Sky Captain\" will probably not inspire the universal affection of a film like \"Indiana Jones,\" in part because Steven Spielberg is a better director than Kerry Conran, in part because many of \"Sky Captain's\" best qualities are more cinematic than dramatic; I responded to the texture and surfaces and very feel of the images, and felt some of the same quickening I remember from the cover of a new Tom Corbett book. If the Space Cadet ever graduated, he probably grew up to be Sky Captain.\n",
      "\n",
      "\n",
      "0.2333333333333333\n",
      "It's told with such clarity that we're always sure what Spielberg wants us to think, suspect and know.\n",
      "The plot I will avoid discussing in detail. It is as ingenious as any film noir screenplay, and plays fair better than some. It's told with such clarity that we're always sure what Spielberg wants us to think, suspect and know. And although there is a surprise at the end, there is no cheating: The crime story holds water.\n",
      "\n",
      "\n",
      "0.22428571428571428\n",
      "Steven Spielberg was the executive producer, and this is the second of the summer's three Spielberg productions (it follows \"The Goonies\" and precedes \"Explorers\"), and maybe it's time to wonder if Spielberg is emulating the great studio chiefs of the past, who specialized in matching the right director with the right project.\n",
      "\"Back to the Future\" was directed by Robert (\"Romancing the Stone\") Zemeckis, who shows not only a fine comic touch but also some of the lighthearted humanism of a Frank Capra. Back to the Future, in fact, resembles Capra's \"It's a Wonderful Life\" more than other, conventional time-travel movies. It's about a character who begins with one view of his life and reality, and is allowed, through magical intervention, to discover another. Steven Spielberg was the executive producer, and this is the second of the summer's three Spielberg productions (it follows \"The Goonies\" and precedes \"Explorers\"), and maybe it's time to wonder if Spielberg is emulating the great studio chiefs of the past, who specialized in matching the right director with the right project. This time, the match works with charm, brains and a lot of laughter.\n",
      "\n",
      "\n",
      "0.2228571428571428\n",
      "Spielberg establishes these characters in a dazzling future world, created by art director Alex McDowell, that is so filled with details large and small that we stop trying to figure out everything and surrender with a sigh.\n",
      "Because this is Washington, any government operation that is high-profile and successful inspires jealousy. Anderton's superior, bureau director Burgess (Max von Sydow) takes pride in him, and shields him from bureaucrats like Danny Witwer (Colin Farrell), from the Justice Department. As the pre-crime strategy prepares to go national, Witwer seems to have doubts about its wisdom--or he is only jealous of its success? Spielberg establishes these characters in a dazzling future world, created by art director Alex McDowell, that is so filled with details large and small that we stop trying to figure out everything and surrender with a sigh. Some of the details: a computer interface that floats in mid-air, manipulated by Cruise with the gestures of a symphony conductor; advertisements that crawl up the sides of walls and address you personally; cars that whisk around town on magnetic cushions; robotic \"spiders\" that can search a building in minutes by performing a retinal scan on everyone in it. \"Blade Runner,\" also inspired by a Dick story, shows a future world in decay; \"Minority Report\" offers a more optimistic preview.\n",
      "\n",
      "\n",
      "0.22142857142857145\n",
      "Legend has it he made that decision after being impressed by Spielberg's special effects in \"Jurassic Park,\" but perhaps \"E. T.\" was also an influence: If Spielberg could create an alien who evoked human emotions, could he do the same with an android?\n",
      "Stanley Kubrick always referred to the story as \"Pinocchio.\" It mirrored the tale of a puppet who dreams of becoming a real boy. And what, after all, is an android but a puppet with a computer program pulling its strings? The project that eventually became Steven Spielberg's \"A. I. Artificial Intelligence\" (2001) was abandoned by Kubrick because he wasn't satisfied with his approaches to its central character, David, an android who appears to be a real little boy. Believing special effects wouldn't be adequate and a human actor would seem too human, he turned the project over to his friend Spielberg. Legend has it he made that decision after being impressed by Spielberg's special effects in \"Jurassic Park,\" but perhaps \"E. T.\" was also an influence: If Spielberg could create an alien who evoked human emotions, could he do the same with an android?\n",
      "\n",
      "\n",
      "0.2\n",
      "\"The Goonies\", like \"Gremlins\", shows that Spielberg and his directors are absolute masters of how to excite and involve an audience.\n",
      "During \"Goonies\", I was often exhilarated by what was happening. Afterward, I was less enthusiastic. The Goonies is totally manipulative, which would be okay, except it doesn't have the lift of a film like E.T. It has the high energy without the sweetness. It uses what it knows about kids to churn them up, while E.T. gave them things to think about, the values to enjoy. \"The Goonies\", like \"Gremlins\", shows that Spielberg and his directors are absolute masters of how to excite and involve an audience. \"E.T.\" was more like \"Close Encounters of the Third Kind\"; it didn't simply want us to feel, but also to wonder, and to dream.\n",
      "\n",
      "\n",
      "0.2\n",
      "Spielberg, who produced the whole project, perhaps sensed that he and Landis had the weakest results, since he assembles the stories in an ascending order of excitement. \"\n",
      "The superstars are John Landis (\"The Blues Brothers\") and Steven Spielberg(\"E.T. The Extra-Terrestrial\"). The relative newcomers are Joe Dante, whose \"The Howling\" was not my favorite werewolf movie, and George Miller, whose \"Mad Max 2: The Road Warrior\" is some kind of a manic classic. Spielberg, who produced the whole project, perhaps sensed that he and Landis had the weakest results, since he assembles the stories in an ascending order of excitement. \"Twilight Zone\" starts slow, almost grinds to a halt, and then has a fast comeback.\n",
      "\n",
      "\n",
      "0.19166666666666665\n",
      "Lacking that, Spielberg should simply have remade the original story, straight, for this generation.\n",
      "Theres also a large group of orphans in Neverland who are massed as if for group photographs and shunted here and there as if waiting for auditions for \"Oliver!\" The crucial failure in \"Hook\" is its inability to re-imagine the material, to find something new, fresh or urgent to do with the Peter Pan myth. Lacking that, Spielberg should simply have remade the original story, straight, for this generation. The lack of creativity in the screenplay is dramatized in the sword fighting sequences between Hook and Peter, which are endless and not particularly well-choreographed. They do not convince me that either Williams or Hoffman is much of a fencer. Has any Hollywood director ever given thought to bringing in a Hong Kong expert like King Hu to do second-unit work on the swordfights? The cheapest Asian martial arts movie has infinitely more excitement in its sword sequences than the repetitive lunge-and-shuffle that goes on here. Then comes the ending of Hook. Or the endings. One after another. Farewells.\n",
      "\n",
      "\n",
      "0.1787878787878788\n",
      "Raiders of the Lost Ark, now more than ever, seems a turning point in the cinema of escapist entertainment, and there was really no way Spielberg could make it new all over again.\n",
      "If there is just a shade of disappointment after seeing Indiana Jones and the Last Crusade, it has to be because we will never again have the shock of this material seeming new. Raiders of the Lost Ark, now more than ever, seems a turning point in the cinema of escapist entertainment, and there was really no way Spielberg could make it new all over again.\n",
      "\n",
      "\n",
      "0.17777777777777778\n",
      "Spielberg lights the scene in the strong, basic colors of old pulp magazines.\n",
      "Spielberg lights the scene in the strong, basic colors of old pulp magazines. When the swarthy men bend over their discovery, it seems to glow with a light of its own, which bathes their faces in a golden glow. This is the kind of moment that can actually justify a line like It's mine! All mine! - although Spielberg does not go so far.\n",
      "\n",
      "\n",
      "0.175\n",
      "All of the actors playing the men under him are effective, partly because Spielberg resists the temptation to make them zany \"characters\" in the tradition of World War II movies, and makes them deliberately ordinary.\n",
      "Then there is the human element. Hanks is a good choice as Capt. Miller, an English teacher who has survived experiences so unspeakable that he wonders if his wife will even recognize him. His hands tremble, he is on the brink of breakdown, but he does his best because that is his duty. All of the actors playing the men under him are effective, partly because Spielberg resists the temptation to make them zany \"characters\" in the tradition of World War II movies, and makes them deliberately ordinary. Matt Damon, as Pvt. Ryan, exudes a different energy, because he has not been through the landing at Omaha Beach; as a paratrooper, he landed inland, and although he has seen action he has not gazed into the inferno.\n",
      "\n",
      "\n",
      "0.175\n",
      "When young Steven Spielberg was first offered the screenplay for \"Jaws,\" he said he would direct Jurassic Park on one condition: That he didn't have to show the shark for the first hour.\n",
      "When young Steven Spielberg was first offered the screenplay for \"Jaws,\" he said he would direct Jurassic Park on one condition: That he didn't have to show the shark for the first hour. By slowly building the audience's apprehension, he felt, the shark would be much more impressive when it finally arrived.\n",
      "\n",
      "\n",
      "0.17222222222222222\n",
      "In gearing up to make \"The Adventures of Tintin,\" I suspect Steven Spielberg reached down into that place inside that fueled his \"Raiders of the Lost Ark.\" Here again is an intrepid hero involved in a nonstop series of exploits involving exotic locations, grandiose villains, planes, trains, automobiles, motorcycles, helicopters and ships at sea.\n",
      "In gearing up to make \"The Adventures of Tintin,\" I suspect Steven Spielberg reached down into that place inside that fueled his \"Raiders of the Lost Ark.\" Here again is an intrepid hero involved in a nonstop series of exploits involving exotic locations, grandiose villains, planes, trains, automobiles, motorcycles, helicopters and ships at sea. It evokes Saturday afternoon serials in an age when most of the audience will never have seen one.\n",
      "\n",
      "\n",
      "0.16666666666666669\n",
      "Maybe Tobe Hooper - who went on to make \"Poltergeist\"' for Steven Spielberg - has grown mainstream, less concerned to shock, more eager to show us it's all a joke.\n",
      "Maybe Tobe Hooper - who went on to make \"Poltergeist\"' for Steven Spielberg - has grown mainstream, less concerned to shock, more eager to show us it's all a joke.\n",
      "\n",
      "\n",
      "0.16666666666666666\n",
      "But there was no way for Spielberg to top himself, and perhaps it is just as well that Last Crusade will indeed be Indy's last film.\n",
      "When Raiders of the Lost Ark appeared, it defined a new energy level for adventure movies; it was a delirious breakthrough. But there was no way for Spielberg to top himself, and perhaps it is just as well that Last Crusade will indeed be Indy's last film. It would be too sad to see the series grow old and thin, like the James Bond movies.\n",
      "\n",
      "\n",
      "0.15833333333333335\n",
      "Schindler's List as Spielberg made it is haunting and powerful; perhaps it was necessary to have a one-dimensional villain in a film whose hero has so many hidden dimensions.\n",
      "I don't know. Schindler's List as Spielberg made it is haunting and powerful; perhaps it was necessary to have a one-dimensional villain in a film whose hero has so many hidden dimensions. The ordinary man who was just \"following orders\" might have disturbed the focus of Schindler's List--although he would have been in contrast with Schindler, an ordinary man who did not follow orders.\n",
      "\n",
      "\n",
      "0.15\n",
      "Steven Spielberg and Tom Hanks have made, in \"The Terminal,\" a sweet and delicate comedy, a film to make you hold your breath, it is so precisely devised.\n",
      "Steven Spielberg and Tom Hanks have made, in \"The Terminal,\" a sweet and delicate comedy, a film to make you hold your breath, it is so precisely devised. It has big laughs, but it never seems to make an effort for them; it knows exactly, minutely and in every detail who its hero is and remains absolutely consistent to what he believes and how he behaves.\n",
      "\n",
      "\n",
      "0.14375\n",
      "Then Robin Williams takes his wife and children back to London to visit Granny Wendy, who adopted him as an orphan, and as the kids sleep in the very same bedroom where the original story began, we get the Spielberg visual trademark of the blinding light on the other side of the rattling window: The promise of magic, just outside.\n",
      "The opening of Hook promises more. Spielberg sets the scene in modern-day America, where the executive lifestyle leaves no time for fathers to spend with children. Then Robin Williams takes his wife and children back to London to visit Granny Wendy, who adopted him as an orphan, and as the kids sleep in the very same bedroom where the original story began, we get the Spielberg visual trademark of the blinding light on the other side of the rattling window: The promise of magic, just outside.\n",
      "\n",
      "\n",
      "0.125\n",
      "The opening sequence of this third Indiana Jones movie is the only one that seems truly original - or perhaps I should say, it recycles images from 1940s pulps and serials that Spielberg has not borrowed before.\n",
      "The opening sequence of this third Indiana Jones movie is the only one that seems truly original - or perhaps I should say, it recycles images from 1940s pulps and serials that Spielberg has not borrowed before. The rest of Indiana Jones and the Last Crusade will not come as a surprise to students of Indiana Jones, but then how could it? The Jones movies by now have defined a familiar world of death-defying stunts, virtuoso chases, dry humor and the quest for impossible goals in unthinkable places.\n",
      "\n",
      "\n",
      "0.125\n",
      "The feeling of Always is more 1940s than 1980s, which is no doubt what Spielberg was hoping for, but I'm not sure it works.\n",
      "Always's most curious quality, given the fact that it was directed by Spielberg, is a lack of urgency. Even though pilots are flying into the jaws of hell, they have an insouciance, a devil-may-care attitude, that undermines the drama. The feeling of Always is more 1940s than 1980s, which is no doubt what Spielberg was hoping for, but I'm not sure it works. Some of the dialogue seems dated, too, and a lot of it sounds \"written\" instead of \"spoken\" - as if these guys learned to talk by studying old pulp magazines. The result is a curiosity: a remake that wasn't remade enough.\n",
      "\n",
      "\n",
      "0.12333333333333332\n",
      "Spielberg and his screenwriter, Robert Rodat, have done a subtle and rather beautiful thing: They have made a philosophical film about war almost entirely in terms of action. \"\n",
      "Everything points to the third act, when Private Ryan is found, and the soldiers decide what to do next. Spielberg and his screenwriter, Robert Rodat, have done a subtle and rather beautiful thing: They have made a philosophical film about war almost entirely in terms of action. \"Saving Private Ryan\" says things about war that are as complex and difficult as any essayist could possibly express, and does it with broad, strong images, with violence, with profanity, with action, with camaraderie. It is possible to express even the most thoughtful ideas in the simplest words and actions, and that's what Spielberg does. Saving Private Ryan is doubly effective, because he communicates his ideas in feelings, not words. I was reminded of \"All Quiet on the Western Front.\" Steven Spielberg is as technically proficient as any filmmaker alive, and because of his great success, he has access to every resource he requires. Both of those facts are important to the impact of \"Saving Private Ryan.\" He knows how to convey his feelings about men in combat, and he has the tools, the money and the collaborators to make it possible.\n",
      "\n",
      "\n",
      "0.1\n",
      "All mine! - although Spielberg does not go so far.\n",
      "Spielberg lights the scene in the strong, basic colors of old pulp magazines. When the swarthy men bend over their discovery, it seems to glow with a light of its own, which bathes their faces in a golden glow. This is the kind of moment that can actually justify a line like It's mine! All mine! - although Spielberg does not go so far.\n",
      "\n",
      "\n",
      "0.1\n",
      "Spielberg and his writer, Jeff Nathanson, working from the memoir by the real Frank Abagnale Jr. and Stan Redding, don't force matters or plumb for deep significance.\n",
      "This is not a major Spielberg film, although it is an effortlessly watchable one. Spielberg and his writer, Jeff Nathanson, working from the memoir by the real Frank Abagnale Jr. and Stan Redding, don't force matters or plumb for deep significance. The story is a good story, directly told, and such meaning as it has comes from the irony that the only person who completely appreciates Abagnale's accomplishments is the man trying to arrest him. At one point, when the young man calls the FBI agent, Hanratty cuts straight to the point by observing, \"You didn't have anyone else to call.\"\n",
      "\n",
      "\n",
      "0.095\n",
      "Spielberg is using the effective form of a thriller to argue that loops of mutual reprisal have led to endless violence in the Middle East, Ireland, India and Pakistan, the former Yugoslavia, the former Soviet Union, Africa, and on and on.\n",
      "Spielberg is using the effective form of a thriller to argue that loops of mutual reprisal have led to endless violence in the Middle East, Ireland, India and Pakistan, the former Yugoslavia, the former Soviet Union, Africa, and on and on. Miraculous, that the pariah nation of South Africa was the one place where irreconcilable enemies found a way to peacefully share the same land together.\n",
      "\n",
      "\n",
      "0.0925\n",
      "Empire of the Sun's general lack of direction leads to what seems like a series of possible endings; having little clear idea of where he was going, Spielberg isn't sure if he has arrived there.\n",
      "Empire of the Sun's general lack of direction leads to what seems like a series of possible endings; having little clear idea of where he was going, Spielberg isn't sure if he has arrived there. Empire of the Sun's weakness is a lack of a strong narrative pull from beginning to end. The whole central section is basically just episodic daily prison life and the dreams of the boy. \"Empire of the Sun\" adds up to a promising idea, a carefully observed production and some interesting performances. But despite the emotional potential in the story, it didn't much move me. Maybe, like the kid, I decided that no world where you can play with airplanes can be all that bad.\n",
      "\n",
      "\n",
      "0.08333333333333333\n",
      "Would it have been better for Spielberg to focus instead on a Nazi functionary--an \"ordinary\" man who is simply following orders?\n",
      "Goeth is clearly mad. War masks his underlying nature as a serial killer. His cruelty twists back on his victims: He spares a life only long enough to give his victim hope, and then shoots him. Seeing \"Schindler's List\" again recently, I wondered if it was a weakness to make Goeth insane. Would it have been better for Spielberg to focus instead on a Nazi functionary--an \"ordinary\" man who is simply following orders? The terror of the Holocaust comes not because a monster like Goeth could murder people, but because thousands of people snatched from their everyday lives became, in the chilling phrase, Hitler's willing executioners.\n",
      "\n",
      "\n",
      "0.07500000000000001\n",
      "Of course, maybe Steven Spielberg didn't see it the same way, and thought E.T. only seemed like a kid and was really 500 years old.\n",
      "Of course, maybe Steven Spielberg didn't see it the same way, and thought E.T. only seemed like a kid and was really 500 years old. That doesn't matter, because Spielberg left it open for all of us. That's the sign of a great filmmaker: He only explains what he has to explain, and with a great movie the longer it runs, the less has to be explained. Some other filmmaker who wasn't so good might have had subtitles saying, \"E.T.? Are you out there? It's Mommy!'' But that would have been dumb.\n",
      "\n",
      "\n",
      "0.06666666666666667\n",
      "If The Sugarland Express finally doesnt succeed, thats because Spielberg has paid too much attention to all those police cars (and all the crashes they get into), and not enough to the personalities of his characters.\n",
      "If The Sugarland Express finally doesnt succeed, thats because Spielberg has paid too much attention to all those police cars (and all the crashes they get into), and not enough to the personalities of his characters. We get to know these three people just enough to want to know them better. Were burdened instead with countless telephoto shots of squad cars. But The Sugarland Express has its moments, and when the fugitives parade down Main Street and are presented with gifts by their newly made fans, we admit: Yes, thats the way celebrity works in America -- no matter what youre known for.\n",
      "\n",
      "\n",
      "0.058258928571428566\n",
      "Spielberg and Osment work together to create David with unblinking eyes and deep navet; he seems a real little boy but lacking a certain je ne sais quoi.  \n",
      "He could. As David, he cast Haley Joel Osment, who had scored a great success in \"The Sixth Sense\" (1999). Osment's presence is a crucial element in A.I. Artificial Intelligence; other androids, including Gigolo Joe (Jude Law) are made to look artificial with makeup and unmoving hair, but not David. He is the most advanced \"mecha\" of the Cybertronics Corporation -- so human that he can perhaps take the place of a couple's sick child. Spielberg and Osment work together to create David with unblinking eyes and deep navet; he seems a real little boy but lacking a certain je ne sais quoi.  This reality works both for and against A.I. Artificial Intelligence, at first by making David seem human and later by making him seem a very slow study.\n",
      "\n",
      "\n",
      "0.05\n",
      "There is another moment, at about the same time in Empire of the Sun, where Jim creeps outside the camp by hiding in a drainage canal and escapes capture and instant death not because of his wits but because Spielberg forces a camera angle - placing his camera so that a person cannot be seen who would be visible in real life.\n",
      "Empire of the Sun is wonderfully staged and shot, and the prison camp looks and feels like a real place. But Spielberg allows the airplanes, the sun and the magical yearning to get in his way. Jim has a relationship, at a distance, with a young Asian boy who lives outside the prison fence, and this friendship ends in a scene that is painfully calculated and manipulative. There is another moment, at about the same time in Empire of the Sun, where Jim creeps outside the camp by hiding in a drainage canal and escapes capture and instant death not because of his wits but because Spielberg forces a camera angle - placing his camera so that a person cannot be seen who would be visible in real life. And there is the inevitable moment when the boy is associated with a huge telephoto image of the sun, and we respond not to the shot but to the memory that Spielberg loves huge celestial orbs so passionately that Jim isn't having a spontaneous moment, he's paying homage to the sun of \"The Color Purple\" and the moon of \"E.T. The Extra-Terrestrial.\"\n",
      "\n",
      "\n",
      "0.05\n",
      "Spielberg too closely imitates a traditional action movie.\n",
      "There's one change I didn't appreciate. Spielberg too closely imitates a traditional action movie. There's gunfire in the Herg comics, but the amount that goes on here is distracting. Herg devoted more time to local color, character eccentricities and explosive dialogue, and I learned to mystify my friends with such Haddockisms as \"Tonnerre de Brest!\" and \"Mille sabords!\" (\"Thunder of Brest!\" and \"A thousand portholes!\"). \n",
      "\n",
      "\n",
      "0.05\n",
      "Spielberg was old enough (34) to have the clout to make Raiders of the Lost Ark,\n",
      "heedless joy. Spielberg was old enough (34) to have the clout to make Raiders of the Lost Ark,\n",
      "\n",
      "\n",
      "0.040624999999999994\n",
      "I was thinking that the chase scene before the bikes fly was a little too long, as if Steven Spielberg (who made E.T. The Extra-Terrestrial) was trying to build up too much unnecessary suspense.\n",
      "We loved the scene where the bicycles fly. We suspected it was coming, because E.T. had taken Elliott on a private bike flight earlier, so we knew he could do it. I was thinking that the chase scene before the bikes fly was a little too long, as if Steven Spielberg (who made E.T. The Extra-Terrestrial) was trying to build up too much unnecessary suspense. But when those bikes took off, what a terrific moment! I remember when I saw E.T. The Extra-Terrestrial at Cannes; even the audience there, people who had seen thousands of movies, let out a whoop at that moment.\n",
      "\n",
      "\n",
      "0.039999999999999994\n",
      "\"Goonies\", like \"Gremlins\", walks a thin line between the cheerful and the gruesome, and the very scenes the adults might object to are the ones the kids will like the best: Spielberg is congratulating them on their ability to take the heavy-duty stuff.\n",
      "\"Goonies\", like \"Gremlins\", walks a thin line between the cheerful and the gruesome, and the very scenes the adults might object to are the ones the kids will like the best: Spielberg is congratulating them on their ability to take the heavy-duty stuff. The Goonies begins with an assortment of engaging boys, including a smart kid, a kid with braces, a fat kid, an older brother, and an Asian kid whose clothing conceals numerous inventions. Along the way they pick up a couple of girls, whose function is to swap spit and get bats in their hair. The kids find an old treasure map and blunder into the hideout of a desperate gang of criminalstwo brothers, led by a Ma Barker type. There is a third brother, a Quasimodish freak, who is kept chained down in the cellar, where he watches TV. The tunnels to the treasure begin under the hideout. The kids find the tunnels while fleeing from the bad guys, and then go looking for the treasure with the crooks on their tails. There are lots of special effects and among the set pieces are the same kinds of booby traps that Indiana Jones survived in \"Raiders of the Lost Ark\"(falling boulders, sharp spikes), and a toboggan ride on a water chute that will remind you of the runaway train in \"Indiana Jones and the Temple of Doom.\" \n",
      "\n",
      "\n",
      "0.038888888888888876\n",
      "Indiana Jones and the Last Crusade begins with just such a scene; director Steven Spielberg must have been paging through his old issues of Boys' Life and Thrilling Wonder Tales, down in the basement.\n",
      "Indiana Jones and the Last Crusade begins with just such a scene; director Steven Spielberg must have been paging through his old issues of Boys' Life and Thrilling Wonder Tales, down in the basement.\n",
      "\n",
      "\n",
      "0.02\n",
      "Spielbergs film is well-timed in view of these unexpected political developments, which he could not have foreseen (Sharon left his Likud Party on Nov. 21, 2005, and Peres left his Labour Party a week later).\n",
      "Spielbergs film is well-timed in view of these unexpected political developments, which he could not have foreseen (Sharon left his Likud Party on Nov. 21, 2005, and Peres left his Labour Party a week later). Far from being no friend of Israel, he may be an invaluable friend, and for that very reason a friend of the Palestinians as well.\n",
      "\n",
      "\n",
      "0.00416666666666667\n",
      "A Dinosaur's Story makes much of its producer's credit: The executive producer was Steven Spielberg, who, of course, made another movie with dinosaurs released a little earlier this year.\n",
      "We're Back! A Dinosaur's Story makes much of its producer's credit: The executive producer was Steven Spielberg, who, of course, made another movie with dinosaurs released a little earlier this year. Less widely remembered, perhaps, is that he also produced an earlier animated dinoflick, Don Bluth's \"The Land Before Time\" (1988), which was smarter than We're Back! A Dinosaur's Story and better looking.\n",
      "\n",
      "\n",
      "0.0\n",
      "That doesn't matter, because Spielberg left it open for all of us.\n",
      "Of course, maybe Steven Spielberg didn't see it the same way, and thought E.T. only seemed like a kid and was really 500 years old. That doesn't matter, because Spielberg left it open for all of us. That's the sign of a great filmmaker: He only explains what he has to explain, and with a great movie the longer it runs, the less has to be explained. Some other filmmaker who wasn't so good might have had subtitles saying, \"E.T.? Are you out there? It's Mommy!'' But that would have been dumb.\n",
      "\n",
      "\n",
      "0.0\n",
      "Minority Report turns out to be eerily prescient, using the term \"pre-crime\" to describe stopping crimes before they happen; how could Spielberg have known the government would be using the same term this summer?\n",
      "Minority Report turns out to be eerily prescient, using the term \"pre-crime\" to describe stopping crimes before they happen; how could Spielberg have known the government would be using the same term this summer? In his film, inspired by but much expanded from a short story by Philip K. Dick, Tom Cruise is John Anderton, chief of the Department of Pre-Crime in the District of Columbia, where there has not been a murder in six years. Soon, it appears, there will be a murder--committed by Anderton himself.\n",
      "\n",
      "\n",
      "0.0\n",
      "Spielberg, who is a master of technology, trusts only story and character, and then uses everything else as a workman uses his tools.\n",
      "American movies are in the midst of a transition period. Some directors place their trust in technology. Spielberg, who is a master of technology, trusts only story and character, and then uses everything else as a workman uses his tools. He makes \"Minority Report\" with the new technology; other directors seem to be trying to make their movies from it. Minority Report is such a virtuoso high-wire act, daring so much, achieving it with such grace and skill. \"Minority Report\" reminds us why we go to Minority Reports in the first place.\n",
      "\n",
      "\n",
      "0.0\n",
      "As a result, Amistad doesn't have the emotional charge of Spielberg's earlier film--or of The Color Purple, which moved me to tears.\n",
      "Entirely apart from the moral issues involved, Schindler's List works better as narrative because it is about a risky deception, while Amistad is about the search for a truth that, if found, will be small consolation to the millions of existing slaves. As a result, Amistad doesn't have the emotional charge of Spielberg's earlier film--or of The Color Purple, which moved me to tears.\n",
      "\n",
      "\n",
      "0.0\n",
      "Who Framed Roger Rabbit is a collaboration between Disney Studios and Steven Spielberg, the direction is by Robert (Back to the Future) Zemeckis, and the animation is by Richard Williams.\n",
      "Who Framed Roger Rabbit is a collaboration between Disney Studios and Steven Spielberg, the direction is by Robert (Back to the Future) Zemeckis, and the animation is by Richard Williams. They made this a labor of love.\n",
      "\n",
      "\n",
      "0.0\n",
      "Steven Spielberg tried to enlist him to direct \"Schindler's List,\" but he refused, perhaps because Schindler's story involved a man who deliberately set out to frustrate the Holocaust, while from personal experience Polanski knew that fate and chance played an inexplicable role in most survivals.\n",
      "Polanski himself is a Holocaust survivor, saved at one point when his father pushed him through the barbed wire of a camp. He wandered Krakow and Warsaw, a frightened child, cared for by the kindness of strangers. His own survival (and that of his father) are in a sense as random as Szpilman's, which is perhaps why he was attracted to this story. Steven Spielberg tried to enlist him to direct \"Schindler's List,\" but he refused, perhaps because Schindler's story involved a man who deliberately set out to frustrate the Holocaust, while from personal experience Polanski knew that fate and chance played an inexplicable role in most survivals.\n",
      "\n",
      "\n",
      "-0.041666666666666664\n",
      "When Spielberg and Dreyfuss were making \"Jaws\" in 1974, they quoted individual shots from Always to each other - and finally, in 1989, they got to make it themselves.\n",
      "Spielberg watched it again and again on the late show when he was a kid, and it was one of Alwayss that inspired him to become a movie director. When Spielberg and Dreyfuss were making \"Jaws\" in 1974, they quoted individual shots from Always to each other - and finally, in 1989, they got to make it themselves. The remake is called \"Always,\" and it takes place now instead of then and the pilots are fighting forest fires instead of enemy planes, but the basic ideas are all still in place. They do not, unfortunately, add up to much; this is Spielberg's weakest film since \"1941.\" Dreyfuss stars as a guy named Pete, who fights fires in the Pacific Northwest and spends his off-duty hours romancing a cute forest service air traffic controller (Holly Hunter). Pete is a guy who likes to take chances, and there are cliff-hanging scenes early in Always where he runs out of gas and glides to a landing and when he nearly crashes into a blazing forest fire. His best pal is a pilot named Al (John Goodman), who also likes to take chances and crashes into some burning trees one day, setting his plane on fire. Pete the daredevil goes into a dive and puts out the fire on Goodman's plane by dumping chemicals all over it, but then Pete's plane crashes and he wakes up in a heavenly forest grove presided over by an angel (Audrey Hepburn).\n",
      "\n",
      "\n",
      "-0.04404761904761905\n",
      "Spielberg has obviously studied Buster Keaton's \"The General\" (1927), that silent classic that solved the obvious logistic problem of a chase on railway tracks (i.e., what to do about the fact that one train seemingly always has to be behind the other one).\n",
      "The set design, art direction, special effects, and sound effects inside this underground Hades are among the most impressive achievements in the whole history of Raiders and Bond-style thrillers. As dozens of little kids work on chain gangs, the evil maharajah keeps them in slavery by using the sinister powers of the missing jewel and its two mates. Indiana and his friends look on in astonishment, and then Indiana attempts to steal back the jewel. Some of Indiana Jones and the Temple of Doom's great set pieces now take place: Human victims are lowered into a subterranean volcano in a steel cage, weird rituals are celebrated, and there is a chase scene involving the mine's miniature railway. This chase has to be seen to be believed. Spielberg has obviously studied Buster Keaton's \"The General\" (1927), that silent classic that solved the obvious logistic problem of a chase on railway tracks (i.e., what to do about the fact that one train seemingly always has to be behind the other one). As Indiana and friends hurtle in the little out-of-control mine car, the pursuers are behind, ahead, above, below, and beside them, and the scene will wring you out and leave you breathless. \"Indiana Jones and the Temple of Doom\" makes no apologies for being exactly what it is: Exhilarating, manic, wildly imaginative escapism.\n",
      "\n",
      "\n",
      "-0.05681818181818182\n",
      "The new element this time is how Spielberg fills in some of the past of the Jones character.\n",
      "The new element this time is how Spielberg fills in some of the past of the Jones character. We learn his real name (which I would not dream of revealing here), and we meet his father, Professor Henry Jones, who is played by Sean Connery on exactly the right note.\n",
      "\n",
      "\n",
      "-0.05833333333333332\n",
      "Steven Spielberg produced Super 8, and its director, J.J. Abrams, worked in lowly roles on early Spielberg movies before going on to make \"Mission Impossible III\" (2006) and \"Star Trek\" (2009)  and produce \"Lost\" on TV.\n",
      "The associations are deliberate. Steven Spielberg produced Super 8, and its director, J.J. Abrams, worked in lowly roles on early Spielberg movies before going on to make \"Mission Impossible III\" (2006) and \"Star Trek\" (2009)  and produce \"Lost\" on TV. What they're trying to do is evoke the innocence of an E.T. while introducing a more recent level of special effects. There are really two movies here, one about the world of the kids and one about the expectations of the audience, and \"Super 8\" leads a charmed life until the second story takes command.\n",
      "\n",
      "\n",
      "-0.0625\n",
      "Spielberg and Hanks like to work together (\"Saving Private Ryan,\" \"Catch Me If You Can\"), and here they trust each other with tricky material.\n",
      "Spielberg and Hanks like to work together (\"Saving Private Ryan,\" \"Catch Me If You Can\"), and here they trust each other with tricky material. It is crucial, perhaps, they they're so successful as to be unassailable, which allows them to relax and take their time on a production that was burning dollars every second. Others might have heard the clock ticking, and rushed or pushed, or turned up the heat by making the Dixon character into more of a villain and less of a character study. Their film has all the time in the world. Just like Viktor Navorski. He isn't going anywhere.\n",
      "\n",
      "\n",
      "-0.09583333333333333\n",
      "One muses: (1) Has Godard, having also used her, sent her any money? (2) Has Godard or any other director living or dead done more than Spielberg, with his Holocaust Project, to honor and preserve the memories of the survivors? (3) Has Godard so lost the ability to go to In Praise of Loves that, having once loved the works of Samuel Fuller and Nicholas Ray, he cannot view a Spielberg film except through a prism of anger?\n",
      "His attacks on Steven Spielberg are painful and unfair. Some of the fragments of his film involve a Spielberg company trying to buy the memories of Holocaust survivors for a Hollywood film (it will star, we learn, Juliette Binoche, who appeared in \"Hail Mary\" but has now apparently gone over to the dark side). Elsewhere in In Praise of Love he accuses Spielberg of having made millions from \"Schindler's List\" while Mrs. Schindler lives in Argentina in poverty. One muses: (1) Has Godard, having also used her, sent her any money? (2) Has Godard or any other director living or dead done more than Spielberg, with his Holocaust Project, to honor and preserve the memories of the survivors? (3) Has Godard so lost the ability to go to In Praise of Loves that, having once loved the works of Samuel Fuller and Nicholas Ray, he cannot view a Spielberg film except through a prism of anger? Critics are often asked if they ever change their minds about a movie. I hope we can grow and learn. I do not \"review\" films seen at festivals, but \"report\" on them--because in the hothouse atmosphere of seeing three to five films a day, most of them important, one cannot always step back and catch a breath. At Cannes I saw the surface of \"In Praise of Love,\" remembered Godard's early work, and was cheered by In Praise of Love. After a second viewing, looking beneath the surface, I see so little there: It is all remembered rote work, used to conceal old tricks, facile name-calling, the loss of hope, and emptiness.\n",
      "\n",
      "\n",
      "-0.12380952380952379\n",
      "This is all ridiculous, but Hooper and Spielberg hold our interest by observing the everyday rituals of this family so closely that, since the family seems real, the weird events take on a certain credibility by association.\n",
      "This is all ridiculous, but Hooper and Spielberg hold our interest by observing the everyday rituals of this family so closely that, since the family seems real, the weird events take on a certain credibility by association. That's during the first hour of Poltergeist. Then all hell breaks loose, and Poltergeist begins to operate on the same plane as \"Alien\" or \"Altered States,\" as a shocking special-effects sound-and-light show. A closet seems to exist in another dimension. The swimming pool is filled with grasping, despairing forms of the undead. The search for the missing little girl involves a professional psionics expert, and a lady dwarf who specializes in \"cleaning\" haunted homes. Nobody ever does decide whether a poltergeist really is involved in the events in the house, or who the poltergeist may be, but if that doesn't prevent them from naming Poltergeist \"Poltergeist\" I guess it shouldn't keep us from enjoying it.\n",
      "\n",
      "\n",
      "-0.15555555555555559\n",
      "Spielberg portrays the prison camp as another of those typically Hollywood enclosures where the jailers embody cruel authority while somehow permitting the heroes to raise hell and have a relatively good time.\n",
      "Jim is a quick learner. Short, fast and somewhat invisible because of his youth, he has the run of the camp. He knows all the shortcuts and all the scams and steals to survive. He also dreams of airplanes, and as the months go by, he dreams less frequently of his parents and finally cannot quite even remember their faces. Spielberg portrays the prison camp as another of those typically Hollywood enclosures where the jailers embody cruel authority while somehow permitting the heroes to raise hell and have a relatively good time. Like the adolescent in John Boorman's recent \"Hope and Glory,\" Jim finds that young boys can even enjoy war, up to a point.\n",
      "\n",
      "\n",
      "-0.17916666666666664\n",
      "In telling their stories, Steven Spielberg found a way to approach the Holocaust, which is a subject too vast and tragic to be encompassed in any reasonable way by fiction.\n",
      "In telling their stories, Steven Spielberg found a way to approach the Holocaust, which is a subject too vast and tragic to be encompassed in any reasonable way by fiction. In the ruins of the saddest story of the century, he found, not a happy ending, but at least one affirming that resistance to evil is possible and can succeed. In the face of the Nazi charnel houses, it is a statement that has to be made, or we sink into despair.\n",
      "\n",
      "\n",
      "-0.2\n",
      "Six million Jews were exterminated in the World War II, but in focusing on a few hundred who miraculously survived, Spielberg made his story bearable.\n",
      "Spielberg ennobles Joey and provides an ending for War Horse that is joyous, uplifting, and depends on a surely unbelievable set of coincidences. I suppose it must be that way for us to even bear watching such a story. I am reminded of \"Schindler's List.\" Six million Jews were exterminated in the World War II, but in focusing on a few hundred who miraculously survived, Spielberg made his story bearable. Among the horses of World War I, it can only be said that Joey's good luck was extraordinary.\n",
      "\n",
      "\n",
      "-0.2222222222222222\n",
      "This could have been a deeply emotional reunion, but Spielberg misses it by making the mayor's wife a lousy driver, creating a slapstick scene in which the car bucks and stalls and the wife thinks she is being attacked by the black men trying to help her.\n",
      "This could have been a deeply emotional reunion, but Spielberg misses it by making the mayor's wife a lousy driver, creating a slapstick scene in which the car bucks and stalls and the wife thinks she is being attacked by the black men trying to help her. She insists that Sofia drive her back home, after only 15 minutes with the children who barely remember her. It should have been Sofia's scene, quiet and sad and joyous, not easy laughs followed by facile cruelty. That Sofia eventually recovers her pride and spirit is a triumph, and leads to a passionate angry speech, but The Color Purple sidesteps her great scene.\n",
      "\n",
      "\n",
      "-0.3\n",
      "Spielberg watched it again and again on the late show when he was a kid, and it was one of Alwayss that inspired him to become a movie director.\n",
      "Spielberg watched it again and again on the late show when he was a kid, and it was one of Alwayss that inspired him to become a movie director. When Spielberg and Dreyfuss were making \"Jaws\" in 1974, they quoted individual shots from Always to each other - and finally, in 1989, they got to make it themselves. The remake is called \"Always,\" and it takes place now instead of then and the pilots are fighting forest fires instead of enemy planes, but the basic ideas are all still in place. They do not, unfortunately, add up to much; this is Spielberg's weakest film since \"1941.\" Dreyfuss stars as a guy named Pete, who fights fires in the Pacific Northwest and spends his off-duty hours romancing a cute forest service air traffic controller (Holly Hunter). Pete is a guy who likes to take chances, and there are cliff-hanging scenes early in Always where he runs out of gas and glides to a landing and when he nearly crashes into a blazing forest fire. His best pal is a pilot named Al (John Goodman), who also likes to take chances and crashes into some burning trees one day, setting his plane on fire. Pete the daredevil goes into a dive and puts out the fire on Goodman's plane by dumping chemicals all over it, but then Pete's plane crashes and he wakes up in a heavenly forest grove presided over by an angel (Audrey Hepburn).\n",
      "\n",
      "\n",
      "-0.30000000000000004\n",
      "But if Ballard had not written his novel Spielberg might have been forced to, because the story is so close to his heart.\n",
      "The boy is lost, left behind and finally placed in a Japanese prisoner of war camp. His story is based on the autobiographical novel by J. G. Ballard, who lived through a similar experience as an adolescent. But if Ballard had not written his novel Spielberg might have been forced to, because the story is so close to his heart. Not only do we have the familiar Spielberg theme of a child searching for his parents, but we also have the motif of the magic above reality - the escape mechanism into a more perfect world, a world that may be represented by visitors from another planet, or time travel, or hidden treasure. This time, it is the world of the air - and airplanes.\n",
      "\n",
      "\n",
      "-0.39375\n",
      "Soon after, Brody sits at home paging through books on sharks, a device that allows Spielberg to establish the killer in our minds as we look at page after page of fearsome teeth, cold little eyes and victims with chunks taken out of their bodies.\n",
      "A town meeting is interrupted by the second of Jaws's central characters, the rough-edged, narrow-eyed Quint (Robert Shaw). He gets attention by scraping his fingernails down a blackboard that displays a drawing of a shark and offers his services as a bounty hunter: \"You all know me. Know how I make a living.\" Soon after, Brody sits at home paging through books on sharks, a device that allows Spielberg to establish the killer in our minds as we look at page after page of fearsome teeth, cold little eyes and victims with chunks taken out of their bodies. (One of the photos shows a shark with a diver's air tank in its mouth, possibly suggesting where Brody gets his bright idea for killing the creature.)\n",
      "\n",
      "\n",
      "-0.4\n",
      "The ads for Steven Spielbergs \"Hook\" ask the question, \"What if Peter Pan grew up?\" but the answer, alas, is that then he would probably star in a lugubrious retread of a once-magical idea.\n",
      "PARAGRAPH NOT FOUND\n",
      "\n",
      "\n"
     ]
    }
   ],
   "source": [
    "like_person('ebert', 'Steven Spielberg')"
   ]
  },
  {
   "cell_type": "code",
   "execution_count": 94,
   "metadata": {
    "collapsed": false
   },
   "outputs": [
    {
     "name": "stdout",
     "output_type": "stream",
     "text": [
      "[-0.4166666666666666, -0.125, 0.2, 0.4, 0.13636363636363635, 0.5, 0.25, -0.1125, 0.3, 0.0, 0.26666666666666666, -0.5, 0.0, -0.6]\n",
      "0.021347402597402605\n",
      "0.5\n",
      "There have been a lot of movies where stars have repeated the triumphs of their parts - but has any star ever done it more triumphantly than Marlon Brando does in \"The Freshman\"?\n",
      "There have been a lot of movies where stars have repeated the triumphs of their parts - but has any star ever done it more triumphantly than Marlon Brando does in \"The Freshman\"? He is doing a reprise here of his most popular character, Don Vito Corleone of \"The Godfather,\" and he does it with such wit, discipline and seriousness that it's not a ripoff and it's not a cheap shot, it's a brilliant comic masterstroke.\n",
      "\n",
      "\n",
      "0.4\n",
      "Marlon Brando didn't win the Academy Award in 1951 for his acting in \"A Streetcar Named Desire.\"\n",
      "Marlon Brando didn't win the Academy Award in 1951 for his acting in \"A Streetcar Named Desire.\" The Oscar went to Humphrey Bogart, for \"The African Queen.\" But you could make a good case that no performance had more influence on modern film acting styles than Brando's work as Stanley Kowalski, Tennessee Williams' rough, smelly, sexually charged hero.\n",
      "\n",
      "\n",
      "0.3\n",
      "It's gin rummy, which Brian Keith taught her to play in \"Reflections in a Golden Eye\" while Marlon Brando was mumbling into his tie knot.\n",
      "Sometimes Liz gets tired of talking and plays cards with Guinness. It's gin rummy, which Brian Keith taught her to play in \"Reflections in a Golden Eye\" while Marlon Brando was mumbling into his tie knot. You have to pass the time somehow.\n",
      "\n",
      "\n",
      "0.26666666666666666\n",
      "Marlon Brando as a surly motorcycle gang leader in \"The Wild One\" (1953), James Dean in 1955, and the emergence of Elvis Presley in 1956: These three role models decisively altered the way young men could be seen in popular culture.\n",
      "Rebel Without a Cause has not aged well, and Dean's performance seems more like marked-down Brando than the birth of an important talent. But \"Rebel Without a Cause\" was enormously influential at the time, a milestone in the creation of new idea about young people. Marlon Brando as a surly motorcycle gang leader in \"The Wild One\" (1953), James Dean in 1955, and the emergence of Elvis Presley in 1956: These three role models decisively altered the way young men could be seen in popular culture. They could be more feminine, sexier, more confused, more ambiguous.\n",
      "\n",
      "\n",
      "0.25\n",
      "The story goes through many more permutations, which I will not spoil for you, except to note that when Caan and Parker arrive in Hawaii, and the distraught Cage follows them, there is an inspired scene involving Peter Boyle as a Hawaiian chief who somehow amazingly resembles Marlon Brando.\n",
      "The story goes through many more permutations, which I will not spoil for you, except to note that when Caan and Parker arrive in Hawaii, and the distraught Cage follows them, there is an inspired scene involving Peter Boyle as a Hawaiian chief who somehow amazingly resembles Marlon Brando. Since Brando starred in \"The Freshman\" (in a very funny performance) and then inexplicably trashed Honeymoon in Vegas in an interview, this is Bergman's sweet revenge.\n",
      "\n",
      "\n",
      "0.2\n",
      "Reviewing \"Last Tango in Paris\" in 1972, I wrote that it was one of the great emotional experiences of our time, adding: \"It's a movie that exists so resolutely on the level of emotion, indeed, that possibly only Marlon Brando, of all living actors, could have played its lead.\n",
      "Reviewing \"Last Tango in Paris\" in 1972, I wrote that it was one of the great emotional experiences of our time, adding: \"It's a movie that exists so resolutely on the level of emotion, indeed, that possibly only Marlon Brando, of all living actors, could have played its lead. Who else can act so brutally and imply such vulnerability and need?\"\n",
      "\n",
      "\n",
      "0.13636363636363635\n",
      "In a new book about how he makes movies, director Sidney Lumet speculates that Marlon Brando has a way of testing his directors.\n",
      "In a new book about how he makes movies, director Sidney Lumet speculates that Marlon Brando has a way of testing his directors.\n",
      "\n",
      "\n",
      "0.0\n",
      "Now, Milius created a similar character for Marlon Brando.\n",
      "This image of the white man deep in the jungle ruling a tribe must be a compelling one for John Milius, who wrote and directed Farewell to the King. In his screenplay for Francis Coppolas Apocalypse Now, Milius created a similar character for Marlon Brando. Learoyd, the character played by Nick Nolte in Farewell to the King, is like Kurtz, the Brando character: He has gone AWOL and native, and lives in a jungle fastness, catered to by a tribe that regards as a sort of god.\n",
      "\n",
      "\n",
      "0.0\n",
      "That's what Bernardo Bertolucci delivered when he put Marlon Brando and Maria Schneider through the ordeal of \"Last Tango in Paris.\n",
      "That's what Bernardo Bertolucci delivered when he put Marlon Brando and Maria Schneider through the ordeal of \"Last Tango in Paris.\" In \"Blue Velvet,\" Rossellini goes the whole distance, but Lynch distances himself from her ordeal with his clever asides and witty little in-jokes. In a way, his behavior is more sadistic than the Hopper character.\n",
      "\n",
      "\n",
      "-0.1125\n",
      "And although Michael Pitt usually looks a little like Leonardo DiCaprio, in this shot, at that angle, with that lighting, he embodies for a moment the young Marlon Brando.\n",
      "This is a quote from a famous shot by Conrad L. Hall in Richard Brooks' \"In Cold Blood\" (1967). And although Michael Pitt usually looks a little like Leonardo DiCaprio, in this shot, at that angle, with that lighting, he embodies for a moment the young Marlon Brando. Another quotation: As the three young people run down an outdoor staircase, they are pursued by their own giant shadows, in a nod to \"The Third Man.\"\n",
      "\n",
      "\n",
      "-0.125\n",
      "Marlon Brando, at $1 million a week, turns up without preparation and engages in endless debates with Coppola about his character.\n",
      "PARAGRAPH NOT FOUND\n",
      "\n",
      "\n",
      "-0.4166666666666666\n",
      "In one class, Vince creates a spot-on imitation, not of Marlon Brando, but of bad Brando imitators.\n",
      "Vince is a man with a dream. Marlon Brando is his god. He would like to become an actor. This is not likely. He's well into his 40s, a prison guard living with his family on City Island, a bucolic outcrop of the Bronx known mostly to its residents. Telling his wife he's going to a poker game, Vince attends acting classes in Manhattan. In one class, Vince creates a spot-on imitation, not of Marlon Brando, but of bad Brando imitators.\n",
      "\n",
      "\n",
      "-0.5\n",
      "And Evil acquires a midget double named Mini-Me, played by Verne Troyer and inspired, Myers has said, by the miniature Marlon Brando in \"The Island of Dr. Moreau.\n",
      "The plot again involves Austin and his arch-enemy, Dr. Evil (both played by Myers). Thirsting for revenge after being exiled into earth orbit, Evil wants to travel through time to when Powers was cryogenically frozen, and steal his mojo. (In case you were wondering, a beaker of mojo looks like Kool-Aid with licorice ropes floating in it.) I didn't use a stopwatch, but my guess is that Evil has more screen time than Austin this time. There are several revelations. Early in Austin Powers: The Spy Who Shagged Me, in a funny sequence set on \"The Jerry Springer Show,\" Dr. Evil's son Scott (Seth Green) appears, complaining that he hates his dad. Later a secret of parentage is revealed, \"Star Wars\"-style. And Evil acquires a midget double named Mini-Me, played by Verne Troyer and inspired, Myers has said, by the miniature Marlon Brando in \"The Island of Dr. Moreau.\" In a film with a lot of babes, Heather Graham plays the lead babe, Felicity Shagwell, a spy dedicated to her craft. In one scene that had the audience cringing when they should have been laughing, she goes to bed with a villain from Scotland named Fat Bastard, who wears a kilt, \"weighs a metric ton,\" and is covered with greasy chicken bits. (Study the end credits for a surprise about the actor playing the F.B.) There were some laughs (but more groans) during a scene where Austin mistakes a fecal brew for coffee; Austin Powers: The Spy Who Shagged Me is going for the kind of gross-out humor that distinguished \"There's Something About Mary,\" but what this sequence proves is that the grosser a scene is, the funnier it has to be to get away with it. I saw Austin Powers: The Spy Who Shagged Me with an audience recruited from the radio audience of Mancow Muller, Chicago's most cheerful vulgarian, and if they had a mixed reaction, middle America is likely to flee from the theaters.\n",
      "\n",
      "\n",
      "-0.6\n",
      "When the flamboyant producer Alexander Salkind announced his film and signed Marlon Brando and Gene Hackman for millions, the industry thought he was crazy.\n",
      " \"Superman\" pointed the way for a B picture genre of earlier decades to transform itself into the ruling genre of today. When the flamboyant producer Alexander Salkind announced his film and signed Marlon Brando and Gene Hackman for millions, the industry thought he was crazy. Comic books weren't being called graphic novels back then, and the emergence of the Marvel superhero stable was still ahead.\n",
      "\n",
      "\n"
     ]
    }
   ],
   "source": [
    "like_person('ebert', 'Marlon Brando')"
   ]
  },
  {
   "cell_type": "markdown",
   "metadata": {},
   "source": [
    "Notes:\n",
    "\n",
    "- Sentiment and opinion gets messed up when he's describing qualities of characters. For example:\n",
    "\n",
    "> -0.4166666666666666\n",
    "In one class, Vince creates a spot-on imitation, not of Marlon Brando, but of bad Brando imitators.\n",
    "Vince is a man with a dream. Marlon Brando is his god. He would like to become an actor. This is not likely. He's well into his 40s, a prison guard living with his family on City Island, a bucolic outcrop of the Bronx known mostly to its residents. Telling his wife he's going to a poker game, Vince attends acting classes in Manhattan. In one class, Vince creates a spot-on imitation, not of Marlon Brando, but of bad Brando imitators."
   ]
  },
  {
   "cell_type": "code",
   "execution_count": 9,
   "metadata": {
    "collapsed": false
   },
   "outputs": [],
   "source": [
    "\n",
    "\n",
    "def like_person_2(corpus, name):\n",
    "    c = Corpus(corpus)\n",
    "\n",
    "    final_results = []\n",
    "    \n",
    "    # Get all articles that have the person's name\n",
    "    article_list = c.retrieve_articles(name)\n",
    "    \n",
    "    last_name = name.split()[-1]\n",
    "    \n",
    "    filtered_sentences = []\n",
    "    \n",
    "    for article in article_list:\n",
    "        filtered_sentences += [(article, i) for i in compose_filters(article.sentences,\n",
    "                                       [filter_opinion,\n",
    "                                        filter_person_subject,\n",
    "                                        filter_name_parentheses,\n",
    "                                        filter_name],\n",
    "                                       name=last_name) if i.filter_depth > 3]\n",
    "        \n",
    "    print([i[1].sentiment for i in filtered_sentences])\n",
    "    print(sum([i[1].sentiment for i in filtered_sentences])/ len(filtered_sentences))\n",
    "    \n",
    "    ctr = 0\n",
    "    sorted_results = sorted(filtered_sentences, key=lambda x: x[1].sentiment, reverse=True)\n",
    "    for i in sorted_results:\n",
    "        if ctr < 2:\n",
    "            if i[1].filter_depth > 3:\n",
    "                #print(i[1].sentiment)\n",
    "                #print(i[1].text.text)\n",
    "                try:\n",
    "                    print(i[0].get_paragraph(i[1]))\n",
    "                    ctr += 1\n",
    "                except ValueError:\n",
    "                    pass#print('PARAGRAPH NOT FOUND')\n",
    "                #print('\\n')\n",
    "    try:\n",
    "        print(\"However, \" + sorted_results[-1][0].get_paragraph(sorted_results[-1][1]))\n",
    "    except ValueError:\n",
    "        pass"
   ]
  },
  {
   "cell_type": "code",
   "execution_count": 102,
   "metadata": {
    "collapsed": false
   },
   "outputs": [
    {
     "name": "stdout",
     "output_type": "stream",
     "text": [
      "[-0.4166666666666666, -0.125, 0.2, 0.4, 0.13636363636363635, 0.5, 0.25, -0.1125, 0.3, 0.0, 0.26666666666666666, -0.5, 0.0, -0.6]\n",
      "0.021347402597402605\n",
      "There have been a lot of movies where stars have repeated the triumphs of their parts - but has any star ever done it more triumphantly than Marlon Brando does in \"The Freshman\"? He is doing a reprise here of his most popular character, Don Vito Corleone of \"The Godfather,\" and he does it with such wit, discipline and seriousness that it's not a ripoff and it's not a cheap shot, it's a brilliant comic masterstroke.\n",
      "Marlon Brando didn't win the Academy Award in 1951 for his acting in \"A Streetcar Named Desire.\" The Oscar went to Humphrey Bogart, for \"The African Queen.\" But you could make a good case that no performance had more influence on modern film acting styles than Brando's work as Stanley Kowalski, Tennessee Williams' rough, smelly, sexually charged hero.\n",
      "However,  \"Superman\" pointed the way for a B picture genre of earlier decades to transform itself into the ruling genre of today. When the flamboyant producer Alexander Salkind announced his film and signed Marlon Brando and Gene Hackman for millions, the industry thought he was crazy. Comic books weren't being called graphic novels back then, and the emergence of the Marvel superhero stable was still ahead.\n"
     ]
    }
   ],
   "source": [
    "like_person_2('ebert', 'Marlon Brando')"
   ]
  },
  {
   "cell_type": "code",
   "execution_count": 103,
   "metadata": {
    "collapsed": false
   },
   "outputs": [
    {
     "name": "stdout",
     "output_type": "stream",
     "text": [
      "[0.3020833333333333, 0.26666666666666666, -0.5, 0.6]\n",
      "0.1671875\n",
      "So persuasive are these Indiana scenes that, despite A History of Violences opening moments, we wonder if Cronenberg has abandoned his own history of violence and decided to make a small-town slice of life: A Capra picture, perhaps, with Viggo Mortensen as Jimmy Stewart. Then all hell breaks loose. Two tough guys enter the diner to try a stickup. They have guns, mean business, threaten the customers and a waitress. Moving so quickly he seems to have been practicing the scene as choreography, Tom Stall takes out the two guys and ends up on the local front pages as a hero.\n",
      "So the underlying strength of the story is there. Unfortunately, the casting and some of the romantic scenes sabotage it. Liev Schreiber is a good actor, and I have admired him in many movies, but put him beside Viggo Mortensen and the Blouse Man wins; you can hardly blame Pearl for surrendering. (I am reminded of a TV news interview about that movie where Demi Moore was offered $1 million to sleep with Robert Redford. \"Would you sleep with Robert Redford for a million dollars?'' a woman in a mall was asked. She replied: \"I'd sleep with him for 50 cents.'') A Walk on the Moon's problem is that it loads the casting in a way that tilts A Walk on the Moon in the direction of a Harlequin romance. Mortensen looks like one of those long-haired, bare-chested, muscular buccaneers on the covers of the paperbacks; all he needs is a gothic tower behind him, with one light in a window. A Walk on the Moon exhibits almost unseemly haste in speeding Pearl and the Blouse Man toward lovemaking, and then lingers over their sex scenes as if they were an end in themselves, and not a transgression in a larger story. As Pearl and the Blouse Man cavort naked under a waterfall, A Walk on the Moon forgets its ethical questions and becomes soft-core lust.\n",
      "However, Anne Heche, as Marion Crane, lacks the carnal quality and the calculating detachment that Janet Leigh brought to the original film. She is less substantial. Van Sant's decision to shoot in color instead of black and white completes the process of de-eroticizing her; she wears an orange dress that looks like the upholstery from my grandmother's wing chair. Viggo Mortensen is also wrong for Sam Loomis, the lover. Instead of suggesting a straight arrow like John Gavin in the original film, he brings an undertow of elusive weirdness. The only new cast members who more or less get the job done are William H. Macy as the private eye Arbogast, and Philip Baker Hall as Sheriff Chambers. By having a psychiatrist (Robert Forster) reproduce a five-minute speech of clinical diagnosis at the end of Psycho, Van Sant demonstrates that a completely unnecessary scene in the original, if reproduced, will be completely unnecessary in the remake as well.\n"
     ]
    }
   ],
   "source": [
    "like_person_2('ebert', 'Viggo Mortensen')"
   ]
  },
  {
   "cell_type": "code",
   "execution_count": 105,
   "metadata": {
    "collapsed": false
   },
   "outputs": [
    {
     "name": "stdout",
     "output_type": "stream",
     "text": [
      "[0.2857142857142857, 0.11666666666666665, 0.2857142857142857, 0.0062500000000000056, 0.8, 0.0, 0.1, -0.05, 0.1, 0.39]\n",
      "0.20343452380952382\n",
      "\"Paths of Glory\" was Paths of Glory by which Stanley Kubrick entered the ranks of great directors, never to leave them. When I interviewed Kirk Douglas in 1969, he recalled it as the summit of his acting career: \"There's a picture that will always be good, years from now. I don't have to wait 50 years to know that; I know it now.\" It has an economy of expression that is almost brutal; it is one of the few narrative films in which you sense the anger in the telling. Samuel Fuller, who fought all the way through World War II, remembered it in \"The Big Red One\" with nostalgia for the camaraderie of his outfit. There is no nostalgia in \"Paths of Glory.\" Only nightmare.\n",
      "The 10 films are not philosophical abstractions but personal stories that involve us immediately; I hardly stirred during some of them. After seeing the series, Stanley Kubrick observed that Kieslowski and Piesiewicz have the very rare ability to dramatize their ideas rather than just talking about them. Quite so. There is not a moment when the characters talk about specific commandments or moral issues. Instead, they are absorbed in trying to deal with real-life ethical challenges.\n",
      "However, \tIt is essential that the heroine (for horror victims are conventionally women) be a good screamer, and man, can that Alison Lohman scream. Stanley Kubrick would have needed only a day with her on \"The Shining,\" instead of the weeks he spent with Shelley Duvall. Christine has reason to scream. An old gypsy woman with a blind eye and leprous fingernails asks her for a third extension on her home loan, and if there's one thing I've learned in this life, it's that you never say no to an old gypsy woman with a blind eye and leprous fingernails.\n"
     ]
    }
   ],
   "source": [
    "like_person_2('ebert', 'Stanley Kubrick')"
   ]
  },
  {
   "cell_type": "code",
   "execution_count": 106,
   "metadata": {
    "collapsed": false
   },
   "outputs": [
    {
     "name": "stdout",
     "output_type": "stream",
     "text": [
      "[0.2857142857142857, 0.11666666666666665, 0.2857142857142857, 0.0062500000000000056, 0.8, 0.0, 0.1, -0.05, 0.1, 0.39]\n",
      "0.20343452380952382\n",
      "0.8\n",
      "\"Paths of Glory\" was Paths of Glory by which Stanley Kubrick entered the ranks of great directors, never to leave them.\n",
      "\"Paths of Glory\" was Paths of Glory by which Stanley Kubrick entered the ranks of great directors, never to leave them. When I interviewed Kirk Douglas in 1969, he recalled it as the summit of his acting career: \"There's a picture that will always be good, years from now. I don't have to wait 50 years to know that; I know it now.\" It has an economy of expression that is almost brutal; it is one of the few narrative films in which you sense the anger in the telling. Samuel Fuller, who fought all the way through World War II, remembered it in \"The Big Red One\" with nostalgia for the camaraderie of his outfit. There is no nostalgia in \"Paths of Glory.\" Only nightmare.\n",
      "\n",
      "\n",
      "0.39\n",
      "After seeing the series, Stanley Kubrick observed that Kieslowski and Piesiewicz have the very rare ability to dramatize their ideas rather than just talking about them.\n",
      "The 10 films are not philosophical abstractions but personal stories that involve us immediately; I hardly stirred during some of them. After seeing the series, Stanley Kubrick observed that Kieslowski and Piesiewicz have the very rare ability to dramatize their ideas rather than just talking about them. Quite so. There is not a moment when the characters talk about specific commandments or moral issues. Instead, they are absorbed in trying to deal with real-life ethical challenges.\n",
      "\n",
      "\n",
      "0.2857142857142857\n",
      "Stanley Kubrick himself was a perfectionist who went to obsessive lengths in order to get everything in his films to work just right.\n",
      "Stanley Kubrick himself was a perfectionist who went to obsessive lengths in order to get everything in his films to work just right. He owned his own cameras and sound and editing equipment. He often made dozens of takes of the same shot. He was known to telephone projectionists to complain about out-of-focus screenings. Are his two best films a nudge in his own ribs?\n",
      "\n",
      "\n",
      "0.2857142857142857\n",
      "Stanley Kubrick himself was a perfectionist who went to obsessive lengths in order to get everything in his films to work just right.\n",
      "Stanley Kubrick himself was a perfectionist who went to obsessive lengths in order to get everything in his films to work just right. He owned his own cameras and sound and editing equipment. He often made dozens of takes of the same shot. He was known to telephone projectionists to complain about out-of-focus screenings. Are his two best films a nudge in his own ribs?\n",
      "\n",
      "\n",
      "0.11666666666666665\n",
      "Stanley Kubrick considered \"The Killing\" (1956) to be his first mature feature, after a couple of short warm-ups.\n",
      "Stanley Kubrick considered \"The Killing\" (1956) to be his first mature feature, after a couple of short warm-ups. He was 28 when it was released, having already been an obsessed chess player, a photographer for Look magazine and a director of \"March of Time\" newsreels. It's tempting to search here for themes and a style he would return to in his later masterpieces, but few directors seemed so determined to make every one of his films an individual, free-standing work. Seeing it without his credit, would you guess it was by Kubrick? Would you connect \"Dr. Strangelove\" with \"Barry Lyndon?\"\n",
      "\n",
      "\n",
      "0.1\n",
      "Paul Bettany, who plays Young Gangster, is often photographed with his eyes glaring up from beneath lowered brows, which was the signature look Stanley Kubrick gave Alex.\n",
      "If Alex DeLarge of \"A Clockwork Orange\" had become a London gangster, he might have turned out like the hero of \"Gangster No. 1.\" Gangster No. 1 encourages that connection by casting Malcolm McDowell, the original Alex, as the character grown old. Paul Bettany, who plays Young Gangster, is often photographed with his eyes glaring up from beneath lowered brows, which was the signature look Stanley Kubrick gave Alex. Another connection: Gangster No. 1 contains a beating of startling brutality, scored by a pop song played at top volume. Gangster No. 1 is inspired, as all modern London gangster movies are inspired, by the notorious Kray brothers. It isn't based on their lives or deeds, but on the aura of evil they so successfully projected; they often got their way without violence, because they seemed so capable of it. In \"Gangster No. 1,\" the crime family is led by Freddie Mays (David Thewlis), who in 1968 is a young, sleek, expensively groomed hood who runs a nightclub and surrounds himself with hard men; he's known as the Butcher of Mayfair. One day he summons Young Gangster, tosses him a roll of bills, hires him and seals his own fate.\n",
      "\n",
      "\n",
      "0.1\n",
      "\" This question descends directly from those old rumors that Stanley Kubrick was going to make a porn film.\n",
      "\"Pineapple Express\" is the answer to the question, \"What would happen if a movie like this was made by a great director?\" This question descends directly from those old rumors that Stanley Kubrick was going to make a porn film. Give it a moment's thought. And I suspect Green of foiling Apatow's vow to include at least one penis in every one of his comedies. This time, it's not a penis, but a finger, and a good thing, too.\n",
      "\n",
      "\n",
      "0.0062500000000000056\n",
      "The genius is not in how much Stanley Kubrick does in \"2001: A Space Odyssey,\" but in how little.\n",
      "The genius is not in how much Stanley Kubrick does in \"2001: A Space Odyssey,\" but in how little. This is the work of an artist so sublimely confident that he doesn't include a single shot simply to keep our attention. He reduces each scene to its essence, and leaves it on screen long enough for us to contemplate it, to inhabit it in our imaginations. Alone among science-fiction movies, 2001\" is not concerned with thrilling us, but with inspiring our awe.\n",
      "\n",
      "\n",
      "0.0\n",
      "Theres a rumor that Stanley Kubrick once considered making a big budget pornographic film just to show people how it should be done.\n",
      "Theres a rumor that Stanley Kubrick once considered making a big budget pornographic film just to show people how it should be done. Im not sure it would have worked. Hard-core pornography has a way of moving beyond eroticism and into images of clinical detail. Ive always found soft-core movies more erotic.\n",
      "\n",
      "\n",
      "-0.05\n",
      "Stanley Kubrick would have needed only a day with her on \"The Shining,\" instead of the weeks he spent with Shelley Duvall.\n",
      "\tIt is essential that the heroine (for horror victims are conventionally women) be a good screamer, and man, can that Alison Lohman scream. Stanley Kubrick would have needed only a day with her on \"The Shining,\" instead of the weeks he spent with Shelley Duvall. Christine has reason to scream. An old gypsy woman with a blind eye and leprous fingernails asks her for a third extension on her home loan, and if there's one thing I've learned in this life, it's that you never say no to an old gypsy woman with a blind eye and leprous fingernails.\n",
      "\n",
      "\n"
     ]
    }
   ],
   "source": [
    "like_person('ebert', \"Stanley Kubrick\")"
   ]
  },
  {
   "cell_type": "code",
   "execution_count": 107,
   "metadata": {
    "collapsed": false
   },
   "outputs": [
    {
     "name": "stdout",
     "output_type": "stream",
     "text": [
      "[0.25, 0.13636363636363635, 0.25, 0.13636363636363635, 0.0, 0.35, 0.35, -0.15, 0.7, 0.7, 0.5681818181818181, 0.8, 0.5681818181818181, 0.8, 0.3444444444444444, 0.3444444444444444, 0.1, 0.7, 0.04545454545454545, 0.1632727272727273, 0.04545454545454545, 0.1875, 0.25833333333333336, 0.31666666666666665, 0.21733766233766233, 1.0, 0.0, 1.0, -0.1666666666666667, 0.0, 0.06666666666666667, 0.44000000000000006, 0.44000000000000006, 0.09166666666666666, 0.09166666666666666, 0.0, 0.0, 0.0, -0.1666666666666667, 0.04, 1.0, 0.0, 0.1125, 0.0, 0.3497727272727273, 0.15, 0.45, 0.0, 0.25833333333333336, 0.25833333333333336, 0.3, -0.30625, 0.0, 0.0, 0.16666666666666666, 0.2, 0.3, -0.11666666666666665, 0.08409090909090909, 0.0, 0.10416666666666667, 0.0, 0.10000000000000002, -0.1666666666666667, 0.42083333333333334, -0.2, 0.125, 0.39999999999999997, 0.08333333333333333, -0.1666666666666667, 0.2833333333333333, 0.0, 0.03409090909090909, -0.1666666666666667, 0.39999999999999997, 0.39999999999999997, -0.05357142857142859, 0.125, 0.0, 0.75, -0.04999999999999999, 0.75, 0.0, 0.75, 0.125, -0.04999999999999999, -0.04999999999999999, 0.75, 0.75, -0.04999999999999999, 0.75, -0.1666666666666667]\n",
      "0.21963006226864915\n",
      "Tracy Letts won the Tony for best play. Anna D. Shapiro won for best director of a play. Deanna Dunagan won for best leading actress in a play. Rondi Reed won for best featured actress in a play. And Todd Rosenthal snagged best scenic design. The production won in every category in which it was nominated, with the exception of lighting design. And one of its leading producers was Steve Traxler of the Chicago-based Jam Theatricals.\n",
      "Tracy Letts won the Tony for best play. Anna D. Shapiro won for best director of a play. Deanna Dunagan won for best leading actress in a play. Rondi Reed won for best featured actress in a play. And Todd Rosenthal snagged best scenic design. The production won in every category in which it was nominated, with the exception of lighting design. And one of its leading producers was Steve Traxler of the Chicago-based Jam Theatricals.\n",
      "However, Given their prodigious intellects and complex personalities, Amy Morton and Tracy Letts -- the Hepburn and Tracy of Chicago theater - - should be in sync with Harold Pinter's lean and mean dissection of a relationship in destruction. Rick Snyder's new production for the Steppenwolf Theatre should deliver some cynical sizzle.\n"
     ]
    }
   ],
   "source": [
    "like_person_2('jones', 'Tracy Letts')"
   ]
  },
  {
   "cell_type": "code",
   "execution_count": 108,
   "metadata": {
    "collapsed": false
   },
   "outputs": [
    {
     "name": "stdout",
     "output_type": "stream",
     "text": [
      "[0.25, 0.13636363636363635, 0.25, 0.13636363636363635, 0.0, 0.35, 0.35, -0.15, 0.7, 0.7, 0.5681818181818181, 0.8, 0.5681818181818181, 0.8, 0.3444444444444444, 0.3444444444444444, 0.1, 0.7, 0.04545454545454545, 0.1632727272727273, 0.04545454545454545, 0.1875, 0.25833333333333336, 0.31666666666666665, 0.21733766233766233, 1.0, 0.0, 1.0, -0.1666666666666667, 0.0, 0.06666666666666667, 0.44000000000000006, 0.44000000000000006, 0.09166666666666666, 0.09166666666666666, 0.0, 0.0, 0.0, -0.1666666666666667, 0.04, 1.0, 0.0, 0.1125, 0.0, 0.3497727272727273, 0.15, 0.45, 0.0, 0.25833333333333336, 0.25833333333333336, 0.3, -0.30625, 0.0, 0.0, 0.16666666666666666, 0.2, 0.3, -0.11666666666666665, 0.08409090909090909, 0.0, 0.10416666666666667, 0.0, 0.10000000000000002, -0.1666666666666667, 0.42083333333333334, -0.2, 0.125, 0.39999999999999997, 0.08333333333333333, -0.1666666666666667, 0.2833333333333333, 0.0, 0.03409090909090909, -0.1666666666666667, 0.39999999999999997, 0.39999999999999997, -0.05357142857142859, 0.125, 0.0, 0.75, -0.04999999999999999, 0.75, 0.0, 0.75, 0.125, -0.04999999999999999, -0.04999999999999999, 0.75, 0.75, -0.04999999999999999, 0.75, -0.1666666666666667]\n",
      "0.21963006226864915\n",
      "1.0\n",
      "Tracy Letts won the Tony for best play.\n",
      "Tracy Letts won the Tony for best play. Anna D. Shapiro won for best director of a play. Deanna Dunagan won for best leading actress in a play. Rondi Reed won for best featured actress in a play. And Todd Rosenthal snagged best scenic design. The production won in every category in which it was nominated, with the exception of lighting design. And one of its leading producers was Steve Traxler of the Chicago-based Jam Theatricals.\n",
      "\n",
      "\n",
      "1.0\n",
      "Tracy Letts won the Tony for best play.\n",
      "Tracy Letts won the Tony for best play. Anna D. Shapiro won for best director of a play. Deanna Dunagan won for best leading actress in a play. Rondi Reed won for best featured actress in a play. And Todd Rosenthal snagged best scenic design. The production won in every category in which it was nominated, with the exception of lighting design. And one of its leading producers was Steve Traxler of the Chicago-based Jam Theatricals.\n",
      "\n",
      "\n",
      "1.0\n",
      "Tracy Letts was especially supportive of adding McCraney to the ensemble mix.\n",
      "\"We are getting both a great playwright and a great actor,\" said artistic director Martha Lavey, noting that ensemble member (and fellow playwright) Tracy Letts was especially supportive of adding McCraney to the ensemble mix.\n",
      "\n",
      "\n",
      "0.8\n",
      "Tracy Letts is a proud Chicago writer.\n",
      "Tracy Letts is a proud Chicago writer. And based on the reaction Saturday afternoon, his audience has come to recognize him as such. His plays will wax and wane (this one is in the middle of a yet-small but quite distinguished pack, and aside from some ineffective fight choreography, has been given a very likable first production), but it will be a mutually satisfying relationship. There is an understanding in the air.\n",
      "\n",
      "\n",
      "0.8\n",
      "Tracy Letts is a proud Chicago writer.\n",
      "Tracy Letts is a proud Chicago writer. And based on the reaction Saturday afternoon, his audience has come to recognize him as such. His plays will wax and wane (this one is in the middle of a yet-small but quite distinguished pack, and aside from some ineffective fight choreography, has been given a very likable first production), but it will be a mutually satisfying relationship. There is an understanding in the air.\n",
      "\n",
      "\n",
      "0.75\n",
      "Superior Donuts: Tracy Letts is a proud Chicago writer.\n",
      "Superior Donuts: Tracy Letts is a proud Chicago writer. And although the scope and human weight of his latest play doesn't match \"August: Osage County,\" it's a witty, seductive and greatly entertaining Chicago show. Set in the waning days of the last independent doughnut shop in Uptown, an aging draft dodger (played in aptly quixotic fits and starts by Michael McKean) and his young assistant (the fine Jon Michael Hill) try to define their place in their changing community. The premiere production directed by Tina Landau is a darkly comic meditation on Chicago's old soul from a writer clearly entranced with the place but disinclined, by temperament, to be sentimental. Through Aug. 24 at Steppenwolf Theatre, 1650 N. Halsted St.; $20-$68 at 312-335-1650.\n",
      "\n",
      "\n",
      "0.75\n",
      "Superior Donuts: Tracy Letts is a proud Chicago writer.\n",
      "Superior Donuts: Tracy Letts is a proud Chicago writer. And although the scope and human weight of his latest play doesn't match \"August: Osage County,\" it's a witty, seductive and greatly entertaining Chicago show. Set in the waning days of the last independent doughnut shop in Uptown, an aging draft dodger (played in aptly quixotic fits and starts by Michael McKean) and his young assistant (the fine Jon Michael Hill) try to define their place in their changing community. The premiere production directed by Tina Landau is a darkly comic meditation on Chicago's old soul from a writer clearly entranced with the place but disinclined, by temperament, to be sentimental. Through Aug. 24 at Steppenwolf Theatre, 1650 N. Halsted St.; $20-$68 at 312-335-1650.\n",
      "\n",
      "\n",
      "0.75\n",
      "Superior Donuts: Tracy Letts is a proud Chicago writer.\n",
      "Superior Donuts: Tracy Letts is a proud Chicago writer. And although the scope and human weight of his latest play doesn't match \"August: Osage County,\" it's a witty, seductive and greatly entertaining Chicago show. Set in the waning days of the last independent doughnut shop in Uptown, an aging draft dodger (played in aptly quixotic fits and starts by Michael McKean) and his young assistant (the fine Jon Michael Hill) try to define their place in their changing community. The premiere production directed by Tina Landau is a darkly comic meditation on Chicago's old soul from a writer clearly entranced with the place but disinclined, by temperament, to be sentimental.\n",
      "\n",
      "\n",
      "0.75\n",
      "Superior Donuts: Tracy Letts is a proud Chicago writer.\n",
      "Superior Donuts: Tracy Letts is a proud Chicago writer. And although the scope and human weight of his latest play doesn't match \"August: Osage County,\" it's a witty, seductive and greatly entertaining Chicago show. Set in the waning days of the last independent doughnut shop in Uptown, an aging draft dodger (played in aptly quixotic fits and starts by Michael McKean) and his young assistant (the fine Jon Michael Hill) try to define their place in their changing community. The premiere production directed by Tina Landau is a darkly comic meditation on Chicago's old soul from a writer clearly entranced with the place but disinclined, by temperament, to be sentimental. Through Aug. 24 at Steppenwolf Theatre, 1650 N. Halsted St.; $20-$68 at 312-335-1650.\n",
      "\n",
      "\n",
      "0.75\n",
      "Superior Donuts: Tracy Letts is a proud Chicago writer.\n",
      "Superior Donuts: Tracy Letts is a proud Chicago writer. And although the scope and human weight of his latest play doesn't match \"August: Osage County,\" it's a witty, seductive and greatly entertaining Chicago show. Set in the waning days of the last independent doughnut shop in Uptown, an aging draft dodger (played in aptly quixotic fits and starts by Michael McKean) and his young assistant (the fine Jon Michael Hill) try to define their place in their changing community. The premiere production directed by Tina Landau is a darkly comic meditation on Chicago's old soul from a writer clearly entranced with the place but disinclined, by temperament, to be sentimental.\n",
      "\n",
      "\n",
      "0.75\n",
      "Superior Donuts: Tracy Letts is a proud Chicago writer.\n",
      "Superior Donuts: Tracy Letts is a proud Chicago writer. And although the scope and human weight of his latest play doesn't match \"August: Osage County,\" it's a witty, seductive and greatly entertaining Chicago show. Set in the waning days of the last independent doughnut shop in Uptown, an aging draft dodger (played in aptly quixotic fits and starts by Michael McKean) and his young assistant (the fine Jon Michael Hill) try to define their place in their changing community. The premiere production directed by Tina Landau is a darkly comic meditation on Chicago's old soul from a writer clearly entranced with the place but disinclined, by temperament, to be sentimental. Through Aug. 24 at Steppenwolf Theatre, 1650 N. Halsted St.; $20-$68 at 312-335-1650.\n",
      "\n",
      "\n",
      "0.7\n",
      "Playwright Tracy Letts will speak June 9 at the Printers Row Book Fair.\n",
      " Evanston's Next Theatre Company is branching out into downtown Chicago. Just announced, Next will produce Heather Raffo's one- woman New York hit \"Nine Parts of Desire\" at the Museum of Contemporary Art in May 2008. The piece is directed by Joanna Settle, who once lived and worked in Chicago. ... Lou Diamond Phillips is replacing Michael York as King Arthur in the national tour of \"Camelot,\" once the show hits Los Angeles in September. ... The Joseph Jefferson Committee has announced it will give special citations to Lifeline Theatre and Stage Left Theatre, recognizing both companies' longtime contribution to the local non- Equity scene. Also, the Jeff Committee says its annual, Equity- theater ceremony will return to Skokie's North Shore Center for the Arts. ... Playwright Tracy Letts will speak June 9 at the Printers Row Book Fair. Letts' latest play, \"August: Osage County\" features more Steppenwolf ensemble members than we've seen together in a while. Performances begin June 28.\n",
      "\n",
      "\n",
      "0.7\n",
      "Playwright Tracy Letts will speak June 9 at the Printers Row Book Fair.\n",
      " Evanston's Next Theatre Company is branching out into downtown Chicago. Just announced, Next will produce Heather Raffo's one- woman New York hit \"Nine Parts of Desire\" at the Museum of Contemporary Art in May 2008. The piece is directed by Joanna Settle, who once lived and worked in Chicago. ... Lou Diamond Phillips is replacing Michael York as King Arthur in the national tour of \"Camelot,\" once the show hits Los Angeles in September. ... The Joseph Jefferson Committee has announced it will give special citations to Lifeline Theatre and Stage Left Theatre, recognizing both companies' longtime contribution to the local non- Equity scene. Also, the Jeff Committee says its annual, Equity- theater ceremony will return to Skokie's North Shore Center for the Arts. ... Playwright Tracy Letts will speak June 9 at the Printers Row Book Fair. Letts' latest play, \"August: Osage County\" features more Steppenwolf ensemble members than we've seen together in a while. Performances begin June 28.\n",
      "\n",
      "\n",
      "0.7\n",
      "The University of Illinois graduate has a Tony nomination for his work in \"Superior Donuts,\" the Tracy Letts play that went to Broadway in October 2009.\n",
      "The University of Illinois graduate has a Tony nomination for his work in \"Superior Donuts,\" the Tracy Letts play that went to Broadway in October 2009. And he has a major role on \"Detroit 1-8-7,\" a new television police drama that was picked by ABC for its fall schedule.\n",
      "\n",
      "\n",
      "0.5681818181818181\n",
      "Tracy Letts' \"August: Osage County\" won the Pulitzer Prize for drama and the Tony Award for best new play.\n",
      "Tracy Letts' \"August: Osage County\" won the Pulitzer Prize for drama and the Tony Award for best new play. Numerous Chicagoans have been lashing themselves daily with clumps of prairie grass for missing it last summer. Ergo, questions present themselves with regard to Letts' latest play, \"Superior Donuts,\" which opened Sunday at the Steppenwolf Theatre under the simpatico direction of Tina Landau. No cultural minded Chicagoan wants to look like a fool. Twice.\n",
      "\n",
      "\n",
      "0.5681818181818181\n",
      "Tracy Letts' \"August: Osage County\" won the Pulitzer Prize for drama and the Tony Award for best new play.\n",
      "Tracy Letts' \"August: Osage County\" won the Pulitzer Prize for drama and the Tony Award for best new play. Numerous Chicagoans have been lashing themselves daily with clumps of prairie grass for missing it last summer. Ergo, questions present themselves with regard to Letts' latest play, \"Superior Donuts,\" which opened Sunday at the Steppenwolf Theatre under the simpatico direction of Tina Landau. No cultural minded Chicagoan wants to look like a fool. Twice.\n",
      "\n",
      "\n",
      "0.45\n",
      "The star of \"Virginia Woolf,\" Tracy Letts, did not lose out to Tom Hanks in the category of best performance by an actor in a leading role in a play as was widely expected.\n",
      "The star of \"Virginia Woolf,\" Tracy Letts, did not lose out to Tom Hanks in the category of best performance by an actor in a leading role in a play as was widely expected. Letts, describing his fellow actors as peers rather than competitors, took home the award to Chicago.\n",
      "\n",
      "\n",
      "0.44000000000000006\n",
      "Better yet, Tracy Letts' searingly ambitious yet thrillingly juicy drama featured a storied, perfectly cast ensemble of actors at the very peak of their angst-ridden powers.\n",
      "A Chicagoan penned the best new American play of 2007. Better yet, Tracy Letts' searingly ambitious yet thrillingly juicy drama featured a storied, perfectly cast ensemble of actors at the very peak of their angst-ridden powers. Internationally speaking, Steppenwolf is back.\n",
      "\n",
      "\n",
      "0.44000000000000006\n",
      "Better yet, Tracy Letts' searingly ambitious yet thrillingly juicy drama featured a storied, perfectly cast ensemble of actors at the very peak of their angst-ridden powers.\n",
      "A Chicagoan penned the best new American play of 2007. Better yet, Tracy Letts' searingly ambitious yet thrillingly juicy drama featured a storied, perfectly cast ensemble of actors at the very peak of their angst-ridden powers. Internationally speaking, Steppenwolf is back.\n",
      "\n",
      "\n",
      "0.42083333333333334\n",
      "One could easily imagine Shannon, Tracy Letts (in \"Virginia Woolf\"), Dennehy and Lane all vying for the best-actor Tony at next season's awards, with Carrie Coon (also in \"Virginia Woolf\") having a chance for best supporting actress.\n",
      "Assuming this comes together, it will once again be a big Chicago fall on Broadway, with the top-drawer Steppenwolf Theatre production of \"Who's Afraid of Virginia Woolf?\" landing at the Booth Theatre in October and Debbie Bisno's new production of Craig Wright's heavily revised drama \"Grace\" also on tap at a theater yet to be announced, replete with Chicago director Dexter Bullard and longtime Chicago actor Michael Shannon in a lead role. One could easily imagine Shannon, Tracy Letts (in \"Virginia Woolf\"), Dennehy and Lane all vying for the best-actor Tony at next season's awards, with Carrie Coon (also in \"Virginia Woolf\") having a chance for best supporting actress. I'm making my reservations to see that come down.\n",
      "\n",
      "\n",
      "0.39999999999999997\n",
      "Richard Greenberg, one of America's most luxuriously talented playwrights, riffs on the real-life tale of the Collyer brothers (played by Tracy Letts and David Pasquesi), Manhattan socialites whose hermetic lives -- in a Harlem mansion jammed with more than 100 tons of junk --became legend.; through June 16 at Steppenwolf Theatre Company Studio Theatre, 1650 N. Halsted St; $18-$27; 312- 335-1650.\n",
      "Richard Greenberg, one of America's most luxuriously talented playwrights, riffs on the real-life tale of the Collyer brothers (played by Tracy Letts and David Pasquesi), Manhattan socialites whose hermetic lives -- in a Harlem mansion jammed with more than 100 tons of junk --became legend.; through June 16 at Steppenwolf Theatre Company Studio Theatre, 1650 N. Halsted St; $18-$27; 312- 335-1650.\n",
      "\n",
      "\n",
      "0.39999999999999997\n",
      "Richard Greenberg, one of America's most luxuriously talented playwrights, riffs on the real-life tale of the Collyer brothers (played by Tracy Letts and David Pasquesi), Manhattan socialites whose hermetic lives in a Harlem mansion jammed with more than 100 ton of junk became legend.\n",
      "Richard Greenberg, one of America's most luxuriously talented playwrights, riffs on the real-life tale of the Collyer brothers (played by Tracy Letts and David Pasquesi), Manhattan socialites whose hermetic lives in a Harlem mansion jammed with more than 100 ton of junk became legend. It's a well-appointed Midwest premiere of a peculiar but increasingly absorbing play; through June 16 at Steppenwolf Theatre Company Studio Theatre, 1650 N. Halsted St; $18- $27; 312-335-1650.\n",
      "\n",
      "\n",
      "0.39999999999999997\n",
      "Richard Greenberg, one of America's most luxuriously talented playwrights, riffs on the real-life tale of the Collyer brothers (played by Tracy Letts and David Pasquesi), Manhattan socialites whose hermetic lives -- they lived in a Harlem mansion jammed with more than 100 tons of junk -- became legend.\n",
      "Richard Greenberg, one of America's most luxuriously talented playwrights, riffs on the real-life tale of the Collyer brothers (played by Tracy Letts and David Pasquesi), Manhattan socialites whose hermetic lives -- they lived in a Harlem mansion jammed with more than 100 tons of junk -- became legend. It's a well-appointed Midwest premiere of a peculiar but increasingly absorbing play; through June 9 at Steppenwolf Theatre Company Studio Theatre, 1650 N. Halsted St.; $18-$27; 312-335-1650.\n",
      "\n",
      "\n",
      "0.35\n",
      " Chicago playwright Tracy Letts won the Pulitzer Prize for drama on Monday for \"August: Osage County,\" cementing his position among the top tier of living American playwrights and making an inarguable case that \"August,\" which premiered at the Steppenwolf Theatre Company, is among the most important works of literature ever to emerge from Letts' adopted hometown.\n",
      " Chicago playwright Tracy Letts won the Pulitzer Prize for drama on Monday for \"August: Osage County,\" cementing his position among the top tier of living American playwrights and making an inarguable case that \"August,\" which premiered at the Steppenwolf Theatre Company, is among the most important works of literature ever to emerge from Letts' adopted hometown.\n",
      "\n",
      "\n",
      "0.35\n",
      " Chicago playwright Tracy Letts won the Pulitzer Prize for drama on Monday for \"August: Osage County,\" cementing his position among the top tier of living American playwrights and making an inarguable case that \"August,\" which premiered at the Steppenwolf Theatre Company, is among the most important works of literature ever to emerge from Letts' adopted hometown.\n",
      " Chicago playwright Tracy Letts won the Pulitzer Prize for drama on Monday for \"August: Osage County,\" cementing his position among the top tier of living American playwrights and making an inarguable case that \"August,\" which premiered at the Steppenwolf Theatre Company, is among the most important works of literature ever to emerge from Letts' adopted hometown.\n",
      "\n",
      "\n",
      "0.3497727272727273\n",
      "Speaking of celebrities, Tracy Letts will premiere his first major new play since \"Superior Donuts,\" which did quite nicely.\n",
      "Speaking of celebrities, Tracy Letts will premiere his first major new play since \"Superior Donuts,\" which did quite nicely. It's called \"Mary Page Marlowe,\" explores a woman at different stages of her life, stars Carrie Coon, and opens in April at Letts' home court, the Steppenwolf Theatre Company. That will make some news in theaterland.\n",
      "\n",
      "\n",
      "0.3444444444444444\n",
      "Fall 2003 Steppenwolf ensemble member Tracy Letts talks with Steppenwolf artistic director Martha Lavey and literary manager Ed Sobel about writing a large-scale drama set in Oklahoma and based, in part, on his own family history.\n",
      "Fall 2003 Steppenwolf ensemble member Tracy Letts talks with Steppenwolf artistic director Martha Lavey and literary manager Ed Sobel about writing a large-scale drama set in Oklahoma and based, in part, on his own family history.\n",
      "\n",
      "\n",
      "0.3444444444444444\n",
      "Fall 2003 Steppenwolf ensemble member Tracy Letts talks with Steppenwolf artistic director Martha Lavey and literary manager Ed Sobel about writing a large-scale drama set in Oklahoma and based, in part, on his own family history.\n",
      "Fall 2003 Steppenwolf ensemble member Tracy Letts talks with Steppenwolf artistic director Martha Lavey and literary manager Ed Sobel about writing a large-scale drama set in Oklahoma and based, in part, on his own family history.\n",
      "\n",
      "\n",
      "0.31666666666666665\n",
      "When Tracy Letts first showed his softer side with \"Superior Donuts\" at Chicago's Steppenwolf Theatre, America had yet to plunge into recession and a racist subtext had yet to emerge in political discourse.\n",
      "When Tracy Letts first showed his softer side with \"Superior Donuts\" at Chicago's Steppenwolf Theatre, America had yet to plunge into recession and a racist subtext had yet to emerge in political discourse. Both of those troubling real-world developments have, paradoxically, helped Letts' always-likable ode to the fading denizens of Uptown become a warm, affirmative and cheerfully easygoing theatrical experience offering valuable balm for the bitter arguments outside the door.\n",
      "\n",
      "\n",
      "0.3\n",
      "And although Tracy Letts' \"August: Osage County\" has been selling well at Steppenwolf, says managing director David Hawkanson, there still were until recently tickets available for most performances.\n",
      "And although Tracy Letts' \"August: Osage County\" has been selling well at Steppenwolf, says managing director David Hawkanson, there still were until recently tickets available for most performances. And that's for a stunning show that's been widely heralded as the birth of a major new American play -- you'd think there would be standing room only and lines around the block on Halsted Street.\n",
      "\n",
      "\n",
      "0.3\n",
      "And although Tracy Letts' \"August: Osage County\" has been selling well at Steppenwolf, says managing director David Hawkanson, there still were until recently tickets available for most performances.\n",
      "And although Tracy Letts' \"August: Osage County\" has been selling well at Steppenwolf, says managing director David Hawkanson, there still were until recently tickets available for most performances. And that's for a stunning show that's been widely heralded as the birth of a major new American play -- you'd think there would be standing room only and lines around the block on Halsted Street.\n",
      "\n",
      "\n",
      "0.2833333333333333\n",
      "Director Pam MacKinnon's riveting revival, opening Oct. 13 on Broadway, offers a counterintuitive take on the classic 1962 drama, wherein Amy Morton's comparatively normal Martha spends most of her time trying to defuse the time bomb that is Tracy Letts' George.\n",
      "For those who'd rather starve to death in Hooverville than watch another pre-adolescent belt out \"Tomorrow,\" the child-unfriendly Steppenwolf Theatre Company revival of Edward Albee's classic \"Who's Afraid of Virginia Woolf?\" is on hand at the Booth Theatre. Director Pam MacKinnon's riveting revival, opening Oct. 13 on Broadway, offers a counterintuitive take on the classic 1962 drama, wherein Amy Morton's comparatively normal Martha spends most of her time trying to defuse the time bomb that is Tracy Letts' George.\n",
      "\n",
      "\n",
      "0.25833333333333336\n",
      "For anyone who saw \"August: Osage County,\" the last great collaboration between the remarkable Chicago trio of writer Tracy Letts, scenic designer Todd Rosenthal and director Anna D. Shapiro, the looming sight of such a domestic container for human angst gives one's heart a jolt.\n",
      "A model facade of a lovely house -- lights burning brightly in the little windows but located, alas, in a dull provincial town -- now hangs high over the Steppenwolf Theatre stage. For anyone who saw \"August: Osage County,\" the last great collaboration between the remarkable Chicago trio of writer Tracy Letts, scenic designer Todd Rosenthal and director Anna D. Shapiro, the looming sight of such a domestic container for human angst gives one's heart a jolt.\n",
      "\n",
      "\n",
      "0.25833333333333336\n",
      "But none of those institutions won on a day when a Broadway transfer of a born-in-Chicago show, Tracy Letts' \"August: Osage County,\" also cleaned up on many of the other available Tony nominations.\n",
      "Steppenwolf Theatre won in 1985, the Goodman Theatre in 1992 and Victory Gardens in 2001. But none of those institutions won on a day when a Broadway transfer of a born-in-Chicago show, Tracy Letts' \"August: Osage County,\" also cleaned up on many of the other available Tony nominations.\n",
      "\n",
      "\n",
      "0.25833333333333336\n",
      "But none of those institutions won on a day when a Broadway transfer of a born-in-Chicago show, Tracy Letts' \"August: Osage County,\" also cleaned up on many of the other available Tony nominations.\n",
      "Steppenwolf Theatre won in 1985, the Goodman Theatre in 1992 and Victory Gardens in 2001. But none of those institutions won on a day when a Broadway transfer of a born-in-Chicago show, Tracy Letts' \"August: Osage County,\" also cleaned up on many of the other available Tony nominations.\n",
      "\n",
      "\n",
      "0.25\n",
      " Dennis Letts, 73, the father of Chicago playwright Tracy Letts and a college professor who enjoyed Broadway acclaim in the final months of his life, died of cancer Friday, Feb. 22, in Tulsa, his son said.\n",
      " Dennis Letts, 73, the father of Chicago playwright Tracy Letts and a college professor who enjoyed Broadway acclaim in the final months of his life, died of cancer Friday, Feb. 22, in Tulsa, his son said.\n",
      "\n",
      "\n",
      "0.25\n",
      " Dennis Letts, 73, the father of Chicago playwright Tracy Letts and a college professor who enjoyed Broadway acclaim in the final months of his life, died of cancer Friday, Feb. 22, in Tulsa, his son said.\n",
      " Dennis Letts, 73, the father of Chicago playwright Tracy Letts and a college professor who enjoyed Broadway acclaim in the final months of his life, died of cancer Friday, Feb. 22, in Tulsa, his son said.\n",
      "\n",
      "\n",
      "0.21733766233766233\n",
      "  Chicago's Steppenwolf Theatre Company had a very good New York morning Tuesday with three of its ensemble members scoring 2013 Tony nominations: Tracy Letts and Amy Morton for their work in Edward Albee's \"Who's Afraid of Virginia Woolf?\" -- a nominee for best revival of a play -- and Laurie Metcalf, honored for her intense leading performance in Sharr White's \"The Other Place.\"\n",
      "PARAGRAPH NOT FOUND\n",
      "\n",
      "\n",
      "0.2\n",
      "The stolid Tracy Letts plays the uptight Albom character, and his persona as a work-crazed journalist whose idea of internal peace is banging out three pieces a day is indisputably credible.\n",
      "To its credit, B. J. Jones' fluid production fights hard against the excesses of the work. At this point in his extraordinary career, the emotionally ebullient Mike Nussbaum couldn't be inauthentic if he tried. The stolid Tracy Letts plays the uptight Albom character, and his persona as a work-crazed journalist whose idea of internal peace is banging out three pieces a day is indisputably credible. On opening night, these crafty but distinct actors eyed each other too warily at times, but their relationship will likely deepen. The play won't deepen, of course. It sees its job as telling damp-eyed listeners that having friends over always beats a day at the mall, buying stuff. And in the final analysis, it's probably right.\n",
      "\n",
      "\n",
      "0.1875\n",
      "  Curiously, the major reviews for \"August: Osage County,\" the John Wells movie, have been turning into a referendum -- a spectacularly ill-informed referendum, to boot -- on \"August: Osage County,\" the Pulitzer Prize-winning Tracy Letts play that premiered at Chicago's Steppenwolf Theatre Company.\n",
      "  Curiously, the major reviews for \"August: Osage County,\" the John Wells movie, have been turning into a referendum -- a spectacularly ill-informed referendum, to boot -- on \"August: Osage County,\" the Pulitzer Prize-winning Tracy Letts play that premiered at Chicago's Steppenwolf Theatre Company.\n",
      "\n",
      "\n",
      "0.16666666666666666\n",
      "But as with Tracy Letts' \"Bug\" and \"Killer Joe,\" Jones is a good enough writer to turn that flaw into a meditation on everyday menace and the roadblocks invariably stuck in the way of those going from welfare to work.\n",
      "\"Noise,\" for sure, is utterly predictable. But as with Tracy Letts' \"Bug\" and \"Killer Joe,\" Jones is a good enough writer to turn that flaw into a meditation on everyday menace and the roadblocks invariably stuck in the way of those going from welfare to work.\n",
      "\n",
      "\n",
      "0.1632727272727273\n",
      " Tracy Letts and Amy Morton -- Chicago's very own George and Martha -- are to star in a new production of Edward Albee's \"Who's Afraid of Virginia Woolf?\" at the Steppenwolf Theatre next season under the direction of Pam MacKinnon, one of Albee's favorite directors.\n",
      "PARAGRAPH NOT FOUND\n",
      "\n",
      "\n",
      "0.15\n",
      "Tracy Letts, a big supporter of the storefront world, apparently stopped by and dug what he saw, but tickets are still available.\n",
      "If this play, which you can see at A Red Orchid Theatre, were in that other theater town to our east, all kinds of influential people would have stopped in to catch some of Holter's poetic licks and think about ways they might enjoy some more of them. Here? Not so much. Tracy Letts, a big supporter of the storefront world, apparently stopped by and dug what he saw, but tickets are still available.\n",
      "\n",
      "\n",
      "0.13636363636363635\n",
      "In a statement, Tracy Letts said that his father had been diagnosed with lung cancer in September, after the Chicago run of the play but before its move to New York.\n",
      "In a statement, Tracy Letts said that his father had been diagnosed with lung cancer in September, after the Chicago run of the play but before its move to New York.\n",
      "\n",
      "\n",
      "0.13636363636363635\n",
      "In a statement, Tracy Letts said that his father had been diagnosed with lung cancer in September, after the Chicago run of the play but before its move to New York.\n",
      "In a statement, Tracy Letts said that his father had been diagnosed with lung cancer in September, after the Chicago run of the play but before its move to New York.\n",
      "\n",
      "\n",
      "0.125\n",
      "\"Tracy Letts actually said to me that he wished he'd written my creams-and-lotions story instead of 'August: Osage County,' \" he said, musing on why he was booked into the Steppenwolf, \"where they never even do a comic play.\"\n",
      "\"Tracy Letts actually said to me that he wished he'd written my creams-and-lotions story instead of 'August: Osage County,' \" he said, musing on why he was booked into the Steppenwolf, \"where they never even do a comic play.\"\n",
      "\n",
      "\n",
      "0.125\n",
      "And in a truly formidable central performance, Tracy Letts takes Albee's self-loathing George, a man neutered by the burden of being married to the daughter of the president of the college at which he teaches, and turns him into a time bomb.\n",
      "In most productions of Edward Albee's infamous 1962 drama of marital strife in a college town, Martha comes off as an inveterate game player. She's usually a natural-born boxer who, this booze-soaked night, heads once again into the ring and fails only to anticipate the scale of the impending mutual destruction. But in Pam MacKinnon's fascinating new production for the Steppenwolf Theatre Company, that's not the way it plays out. Amy Morton's Martha is far more naturalistic and vulnerable than usual. And in a truly formidable central performance, Tracy Letts takes Albee's self-loathing George, a man neutered by the burden of being married to the daughter of the president of the college at which he teaches, and turns him into a time bomb. Through Feb. 13 by Steppenwolf Theatre Company, 1650 N. Halsted St.; $20-$73 at 312-335-1650 and steppenwolf.org\n",
      "\n",
      "\n",
      "0.125\n",
      "And in a truly formidable central performance, Tracy Letts takes Albee's self-loathing George, a man neutered by the burden of being married to the daughter of the president of the college at which he teaches, and turns him into a time bomb.\n",
      "In most productions of Edward Albee's infamous 1962 drama of marital strife in a college town, Martha comes off as an inveterate game-player. She's usually a natural-born boxer who, this booze-soaked night, heads once again into the ring and fails only to anticipate the scale of the impending mutual destruction. But in Pam MacKinnon's fascinating new production for the Steppenwolf Theatre Company, that's not the way it plays out. Amy Morton's Martha is far more naturalistic and vulnerable than usual. And in a truly formidable central performance, Tracy Letts takes Albee's self-loathing George, a man neutered by the burden of being married to the daughter of the president of the college at which he teaches, and turns him into a time bomb. Through Feb. 13 by Steppenwolf Theatre Company, 1650 N. Halsted St.; $20-$73 at 312-335-1650 and steppenwolf.org\n",
      "\n",
      "\n",
      "0.1125\n",
      "Arguably the most dangerous and compelling George since Edward Albee first crafted this melancholic, mendacious middle-aged malcontent, Tracy Letts has Steppenwolf Theatre Company audiences rapt.\n",
      "Arguably the most dangerous and compelling George since Edward Albee first crafted this melancholic, mendacious middle-aged malcontent, Tracy Letts has Steppenwolf Theatre Company audiences rapt. The key to this remarkable performance is that it captures the unpredictability of the character, and boldly asserted that such a dangerous spouse had sent Amy Morton's Martha completely off the rails. Letts added a sense of the autistic savant -- a brilliant but socially uncomfortable man who takes his own malaise and regret and spins a series of deadly games that can ensnare anyone foolish enough to enter the orbit of their verbosity. Fast, acerbic and constantly in motion, Letts was also strangely moving in this part -- a cautionary tale for what can happen to the terminally ill at ease.\n",
      "\n",
      "\n",
      "0.10416666666666667\n",
      "Like David Mamet and Tracy Letts, both of whom can also write this kind of play, McDonagh knows exactly how to concoct a seemingly cataclysmic dramatic crisis and then use every ounce of his technical skill to wriggle his play out of that crisis.\n",
      "Like David Mamet and Tracy Letts, both of whom can also write this kind of play, McDonagh knows exactly how to concoct a seemingly cataclysmic dramatic crisis and then use every ounce of his technical skill to wriggle his play out of that crisis.\n",
      "\n",
      "\n",
      "0.10000000000000002\n",
      "Playwright Tracy Letts clearly has some pent-up aggression.\n",
      "Playwright Tracy Letts clearly has some pent-up aggression. Clad in polyester, he unleashes some of that energy as Teach, the most colorful of the three messed-up characters in David Mamet's \"American Buffalo.\" Three men hatch a hapless plot to steal a coin collection from a former customer's house. Through Feb. 14 at Steppenwolf Theatre, 1650 N. Halsted St.; $20-$77 at 312-335-1650\n",
      "\n",
      "\n",
      "0.1\n",
      "Tracy Letts will direct.\n",
      "Lookingglass also said it will stage the Midwest premiere of Glen Berger's comedy \"Great Men of Science, Nos. 21 & 22\" in January. Tracy Letts will direct.\n",
      "\n",
      "\n",
      "0.09166666666666666\n",
      "; J. Nicole Brooks, \"Black Diamond: The Years the Locusts Have Eaten,\" Lookingglass Theatre Company; Tracy Letts, \"August: Osage County,\" Steppenwolf Theatre Company; Jeffrey Sweet, \"Court-Martial at Fort Devens,\" Victory Gardens Theater; Craig Wright, \"Lady,\" Northlight Theatre.\n",
      "New work -- play: Alice Austen, \"Water,\" Chicago Dramatists; J. Nicole Brooks, \"Black Diamond: The Years the Locusts Have Eaten,\" Lookingglass Theatre Company; Tracy Letts, \"August: Osage County,\" Steppenwolf Theatre Company; Jeffrey Sweet, \"Court-Martial at Fort Devens,\" Victory Gardens Theater; Craig Wright, \"Lady,\" Northlight Theatre.\n",
      "\n",
      "\n",
      "0.09166666666666666\n",
      "; J. Nicole Brooks, \"Black Diamond: The Years the Locusts Have Eaten,\" Lookingglass Theatre Company; Tracy Letts, \"August: Osage County,\" Steppenwolf Theatre Company; Jeffrey Sweet, \"Court-Martial at Fort Devens,\" Victory Gardens Theater; Craig Wright, \"Lady,\" Northlight Theatre.\n",
      "New work -- play: Alice Austen, \"Water,\" Chicago Dramatists; J. Nicole Brooks, \"Black Diamond: The Years the Locusts Have Eaten,\" Lookingglass Theatre Company; Tracy Letts, \"August: Osage County,\" Steppenwolf Theatre Company; Jeffrey Sweet, \"Court-Martial at Fort Devens,\" Victory Gardens Theater; Craig Wright, \"Lady,\" Northlight Theatre.\n",
      "\n",
      "\n",
      "0.08409090909090909\n",
      "With \"August: Osage County\" (which arrives back in Chicago this week), Tracy Letts reinvigorated the Eugene O'Neill-esque family-crisis play for a new generation by adding an ironic, post-modern sensibility without diluting the essential truth.\n",
      "Although I realize it's reductive, here's one way of contextualizing the importance of this weekend's theatrical moment at the Steppenwolf Theatre. With \"August: Osage County\" (which arrives back in Chicago this week), Tracy Letts reinvigorated the Eugene O'Neill-esque family-crisis play for a new generation by adding an ironic, post-modern sensibility without diluting the essential truth. Like August Wilson (who was a mentor), McCraney, 29, is a poet, an epic, innately theatrical poet, who hears the cries of the vulnerable, the dispossessed, the pulled-in-many-directions. But like Letts, McCraney adds an ironic, post-modern sensibility to that root -- a cultural mash-up that makes room for both the Yoruban myths of Africa and the cultural centrality of Oprah Winfrey.\n",
      "\n",
      "\n",
      "0.08333333333333333\n",
      "Tracy Letts, who borrows some from his recent work as Norman in \"The Dresser,\" now takes the role of Tynan, the play's main narrator.\n",
      "There have been a couple of cast changes from the Steppenwolf original (in January 2000), but Chicagoans merely were replaced with other Chicagoans. Tracy Letts, who borrows some from his recent work as Norman in \"The Dresser,\" now takes the role of Tynan, the play's main narrator. That change adds to the magisterial force of the part, even as it removes some of its prior gentleness and vulnerability afforded by David Warren. The role of Joan is now played by Susan Bennett, a veteran of the old Annoyance Theatre. Bennett also is a spunkier choice, even as she loses the authentically suave British style of her predecessor in the role, Sarah Wellington.\n",
      "\n",
      "\n",
      "0.06666666666666667\n",
      "That reference actually is Neveu's in-joke, given that Shannon is currently offering Chicago an intimate tour de force of his peak talents in the very theater where his younger self, sometimes naked, would roam in plays by the likes of, well, Tracy Letts.\n",
      "That reference actually is Neveu's in-joke, given that Shannon is currently offering Chicago an intimate tour de force of his peak talents in the very theater where his younger self, sometimes naked, would roam in plays by the likes of, well, Tracy Letts. Sometimes, he sported a pair of dirty underwear. Now he carries Oscar-buzzy movies on his back. But his dedication to this theater company seems richer than ever. Unlike that city to our east, we are not subject to the limitations of the Broadway star system and movie stars who can't be heard past Row E. Here, you get a star turn from an inveterate creature of the Chicago theater, coming back to the womb for a little personal refreshment.\n",
      "\n",
      "\n",
      "0.04545454545454545\n",
      "And Tracy Letts will be back onstage in a new production of David Mamet's \"American Buffalo,\" directed by Amy Morton.\n",
      " The \"CSI\" star William Petersen will be doing Samuel Beckett at the Steppenwolf Theatre next season -- he'll be playing a Hamm. And Tracy Letts will be back onstage in a new production of David Mamet's \"American Buffalo,\" directed by Amy Morton.\n",
      "\n",
      "\n",
      "0.04545454545454545\n",
      "And Tracy Letts will be back onstage in a new production of David Mamet's \"American Buffalo,\" directed by Amy Morton.\n",
      " The \"CSI\" star William Petersen will be doing Samuel Beckett at the Steppenwolf Theatre next season -- he'll be playing a Hamm. And Tracy Letts will be back onstage in a new production of David Mamet's \"American Buffalo,\" directed by Amy Morton.\n",
      "\n",
      "\n",
      "0.04\n",
      "In Pam MacKinnon's very arresting and intense Steppenwolf Theatre Company production, which takes its audience on an exhausting voyage through some of the horrors of marital codependency, Tracy Letts' George finally puts his hand gently on the shoulder of Amy Morton's Martha.\n",
      " Just before the end of Edward Albee's \"Who's Afraid of Virginia Woolf?\" a cold and brutal dawn rises over New Carthage. The dangerously destructive nocturnal games of George and Martha are subsumed by their mutual loneliness. In Pam MacKinnon's very arresting and intense Steppenwolf Theatre Company production, which takes its audience on an exhausting voyage through some of the horrors of marital codependency, Tracy Letts' George finally puts his hand gently on the shoulder of Amy Morton's Martha. She puts her head back. He is about to sing, softly. Their nonsense song -- \"Who's Afraid of Virginia Woolf, Virginia Woolf, Virginia Woolf\" -- has become a kind of lifesaving lullaby. On Saturday afternoon, the audience was rapt.\n",
      "\n",
      "\n",
      "0.03409090909090909\n",
      "The Goodman production of Roberto Bolano's \"2666,\" as adapted by Robert Falls and Seth Bockley, and the planned Steppenwolf Theatre production of Tracy Letts' new play, \"Mary Page Marlowe,\" will both receive enough cash to make those big shows possible.\n",
      "The first, and most significant, were the gifts announced by Roy Cockrum, a former Northwestern University theater student who was fortunate enough to win a $259 million Powerball jackpot last June in Tennessee. He says he intends to give most of his fortune away to the American theater, supporting ambitious productions at major regional institutions, and Chicago is getting the first cracks at the money. The Goodman production of Roberto Bolano's \"2666,\" as adapted by Robert Falls and Seth Bockley, and the planned Steppenwolf Theatre production of Tracy Letts' new play, \"Mary Page Marlowe,\" will both receive enough cash to make those big shows possible. For next season at Chicago's two flagship theaters, the Cockrum grants are a game changer.\n",
      "\n",
      "\n",
      "0.0\n",
      " Tracy Letts, a longtime Chicago actor and the author of such plays as \"Killer Joe\" and \"Bug,\" is the newest member of the Steppenwolf Theatre Company's famed ensemble.\n",
      " Tracy Letts, a longtime Chicago actor and the author of such plays as \"Killer Joe\" and \"Bug,\" is the newest member of the Steppenwolf Theatre Company's famed ensemble. Letts is the first addition to the group, which will now have 34 members, since Martha Plimpton was asked to join in 1998.\n",
      "\n",
      "\n",
      "0.0\n",
      "\"The noise was a real problem for our play,\" said playwright Tracy Letts, standing unnoticed amid those crowds during a matinee performance last weekend.\n",
      "\"The noise was a real problem for our play,\" said playwright Tracy Letts, standing unnoticed amid those crowds during a matinee performance last weekend. On matinees, the buses can't be parked, and the street between the Music Box and the Schoenfeld (where Jackman and Craig appear in Keith Huff's Chicago cop drama \"A Steady Rain\") fills with hundreds of people around the time Jackman and Craig emerge from the theater.\n",
      "\n",
      "\n",
      "0.0\n",
      "The Steppenwolf Theatre Company production of Tracy Letts' \"August: Osage County\" will play its final performance on Broadway on June 28, producer Jeffrey Richards announced on Wednesday afternoon.\n",
      "The Steppenwolf Theatre Company production of Tracy Letts' \"August: Osage County\" will play its final performance on Broadway on June 28, producer Jeffrey Richards announced on Wednesday afternoon. The show will have played 648 performance on Broadway, a very impressive run for a non-musical. It begins a national tour in Denver on July 24. The touring cast includes some Chicago actors but no Steppenwolf ensemble members\n",
      "\n",
      "\n",
      "0.0\n",
      "Last year, Tracy Letts' \"August: Osage County,\" produced by the Steppenwolf Theatre, won the 2008 Pulitzer Prize for drama.\n",
      "Last year, Tracy Letts' \"August: Osage County,\" produced by the Steppenwolf Theatre, won the 2008 Pulitzer Prize for drama.\n",
      "\n",
      "\n",
      "0.0\n",
      "When Zimmerman appears at the Printers Row Lit Fest at noon Sunday -- she will join Pulitzer Prize-winning playwright Tracy Letts in conversation with former Tribune chief critic Richard Christiansen -- various copies of her scripts will be on sale.\n",
      "When Zimmerman appears at the Printers Row Lit Fest at noon Sunday -- she will join Pulitzer Prize-winning playwright Tracy Letts in conversation with former Tribune chief critic Richard Christiansen -- various copies of her scripts will be on sale. Just a few years ago, Zimmerman would probably have said that she didn't really write scripts so much as sculpt productions with a particular group of actors.\n",
      "\n",
      "\n",
      "0.0\n",
      "\"Our union now even allows a personal day,\" says Parsons, the star of the national touring version of the Steppenwolf Theatre Company production of Tracy Letts' \"August: Osage County,\" which comes home to Chicago this week.\n",
      "\"Our union now even allows a personal day,\" says Parsons, the star of the national touring version of the Steppenwolf Theatre Company production of Tracy Letts' \"August: Osage County,\" which comes home to Chicago this week. She spits out the reasonable workplace accommodation like an epithet.\n",
      "\n",
      "\n",
      "0.0\n",
      "Last year, Tracy Letts' \"August: Osage County,\" produced by the Steppenwolf Theatre, won the 2008 Pulitzer Prize for drama.\n",
      "Last year, Tracy Letts' \"August: Osage County,\" produced by the Steppenwolf Theatre, won the 2008 Pulitzer Prize for drama.\n",
      "\n",
      "\n",
      "0.0\n",
      "\"But you know, I felt at home, because Tracy Letts writes with similar rhythms and the same attention to detail as August Wilson.\"\n",
      "\"I was not the obvious choice,\" Rashad allowed, smiling, in an interview last week at the Goodman Theatre, where she is directing \"Immediate Family,\" a new play by Paul Oakley Stovall. \"But you know, I felt at home, because Tracy Letts writes with similar rhythms and the same attention to detail as August Wilson.\"\n",
      "\n",
      "\n",
      "0.0\n",
      "Ever since her widely acclaimed and Tony Award-winning work on Tracy Letts' \"August: Osage County\" propelled her to Broadway recognition, Shapiro has been a busy Broadway director.\n",
      "Ever since her widely acclaimed and Tony Award-winning work on Tracy Letts' \"August: Osage County\" propelled her to Broadway recognition, Shapiro has been a busy Broadway director. Shapiro's production of \"This Is Our Youth\" produced by Scott Rudin, is playing at the Cort Theatre in New York, and later this year she will direct a new Broadway project written by and starring acclaimed comedian Larry David.\n",
      "\n",
      "\n",
      "0.0\n",
      "In just the last 12 months, Lavey watched as one of her Pulitzer Prize-winning play selections, Tracy Letts' \"August: Osage County\" showcased Steppenwolf, and Chicago theater, to audiences across America and to the people of Sydney, Australia.\n",
      "In just the last 12 months, Lavey watched as one of her Pulitzer Prize-winning play selections, Tracy Letts' \"August: Osage County\" showcased Steppenwolf, and Chicago theater, to audiences across America and to the people of Sydney, Australia. She took a chance on Lisa D'Amour's new dark comedy \"Detroit\" and ended up producing one of the first American plays to probe the effects on the nation of the 2008 economic collapse. She brought a distinguished production of Tarell Alvin McCraney's \"Brother/Sister Plays\" home to the city where this great young playwright got his start. She continued to give space to challenging work by young Chicago theater companies and to develop new scripts in the First Look Festival. And she curated compelling, sold-out productions of two of the masterworks of 20th century American literature: \"To Kill a Mockingbird\" and \"Who's Afraid of Virginia Woolf?\"\n",
      "\n",
      "\n",
      "0.0\n",
      "Tracy Letts went one further.\n",
      "\"Wedding Play\" is not exactly a roman a clef. Rosen doesn't pen thinly veiled portraits of Chicago's artistic characters -- he's too shrewd a player for that. But if you've followed the theater here for a while, you'll smell hints of the travails of the ambitious ensemble members of Lookingglass Theatre, the earliest partners in About Face Theatre, Rosen's own company and the producer. And although I've no idea whether it was intentional, the recent monster critical success of \"August: Osage County\" also is in the air. In Rosen's meta-theatrical bit of noir (performed, aptly enough, in the Steppenwolf Garage), a playwright, Sean Cooper, invites his own dad, Craig Spidle, to witness a play based in part on the travails of the writer's childhood. Tracy Letts went one further. He had his dad act in the play -- and was rewarded with declarations that he'd written a great American drama. Rosen's characters would kill for that.\n",
      "\n",
      "\n",
      "0.0\n",
      "Tracy Letts went one further.\n",
      "\"Wedding Play\" is not exactly a roman a clef. Rosen doesn't pen thinly veiled portraits of Chicago's artistic characters -- he's too shrewd a player for that. But if you've followed the theater here for a while, you'll smell hints of the travails of the ambitious ensemble members of Lookingglass Theatre, the earliest partners in About Face Theatre, Rosen's own company and the producer. And although I've no idea whether it was intentional, the recent monster critical success of \"August: Osage County\" also is in the air. In Rosen's meta-theatrical bit of noir (performed, aptly enough, in the Steppenwolf Garage), a playwright, Sean Cooper, invites his own dad, Craig Spidle, to witness a play based in part on the travails of the writer's childhood. Tracy Letts went one further. He had his dad act in the play -- and was rewarded with declarations that he'd written a great American drama. Rosen's characters would kill for that.\n",
      "\n",
      "\n",
      "0.0\n",
      "For years, Mary-Arrchie (randomly named after the parents of an actress in an early workshop), produced edgy, alternative works of theater, including hit productions of Tennessee Williams' \"The Glass Menagerie\" and Tracy Letts' \"Superior Donuts.\"\n",
      "For years, Mary-Arrchie (randomly named after the parents of an actress in an early workshop), produced edgy, alternative works of theater, including hit productions of Tennessee Williams' \"The Glass Menagerie\" and Tracy Letts' \"Superior Donuts.\"\n",
      "\n",
      "\n",
      "0.0\n",
      "Dunagan, who will play the role currently played on Broadway by Stockard Channing, won the Tony Award for her work in Tracy Letts' \"August: Osage County\" on Broadway.\n",
      "Dunagan, who will play the role currently played on Broadway by Stockard Channing, won the Tony Award for her work in Tracy Letts' \"August: Osage County\" on Broadway. She has worked rarely in Chicago since that role.\n",
      "\n",
      "\n",
      "0.0\n",
      "And in a truly formidable central performance, Tracy Letts takes Albee's self-loathing George and turns him into a time bomb.\n",
      "In most productions of Edward Albee's infamous 1962 drama of marital strife in a college town, Martha comes off as an inveterate game player. She's usually a natural-born boxer who, this booze-soaked night, heads once again into the ring and fails only to anticipate the scale of the impending mutual destruction. But in Pam MacKinnon's fascinating new production, that's not the way it plays out. Amy Morton's Martha is far more naturalistic and vulnerable than usual. And in a truly formidable central performance, Tracy Letts takes Albee's self-loathing George and turns him into a time bomb. Through Feb. 13 by Steppenwolf Theatre Company, 1650 N. Halsted St.; $20-$73 at steppenwolf.org\n",
      "\n",
      "\n",
      "0.0\n",
      "And in a truly formidable central performance, Tracy Letts takes Albee's self-loathing George and turns him into a time bomb.\n",
      "In most productions of Edward Albee's infamous 1962 drama of marital strife in a college town, Martha comes off as an inveterate game player. She's usually a natural-born boxer who, this booze-soaked night, heads once again into the ring and fails only to anticipate the scale of the impending mutual destruction. But in Pam MacKinnon's fascinating new production, that's not the way it plays out. Amy Morton's Martha is far more vulnerable than usual. And in a truly formidable central performance, Tracy Letts takes Albee's self-loathing George and turns him into a time bomb. Through Feb. 13 by Steppenwolf Theatre Company, 1650 N. Halsted St.; $20-$73 at 312-335-1650 and steppenwolf.org\n",
      "\n",
      "\n",
      "-0.04999999999999999\n",
      "This is a juicy production of Tracy Letts' \"Bug,\" a play about a pair of lonely hearts -- Agnes (Jacqueline Grandt) and Peter (Andrew Jessop) -- whose motel-room affair goes awry when Peter, a veteran of the war in the Persian Gulf, becomes convinced that bugs are burrowing their way under his skin.\n",
      "This is a juicy production of Tracy Letts' \"Bug,\" a play about a pair of lonely hearts -- Agnes (Jacqueline Grandt) and Peter (Andrew Jessop) -- whose motel-room affair goes awry when Peter, a veteran of the war in the Persian Gulf, becomes convinced that bugs are burrowing their way under his skin. Through June 26 at Redtwist Theatre, 1044 W. Bryn Mawr Ave.; $25-$30 at 773-728-7529 or redtwist.org\n",
      "\n",
      "\n",
      "-0.04999999999999999\n",
      "This juicy production of Tracy Letts' \"Bug\" is about a pair of lonely hearts -- Agnes (Jacqueline Grandt) and Peter (Andrew Jessop) -- whose motel-room affair goes awry when Peter, a veteran of the war in the Persian Gulf, becomes convinced that bugs are burrowing their way under his skin.\n",
      "This juicy production of Tracy Letts' \"Bug\" is about a pair of lonely hearts -- Agnes (Jacqueline Grandt) and Peter (Andrew Jessop) -- whose motel-room affair goes awry when Peter, a veteran of the war in the Persian Gulf, becomes convinced that bugs are burrowing their way under his skin. Through Aug. 7 at Redtwist Theatre, 1044 W. Bryn Mawr Ave.; $25-$30 at redtwist.org\n",
      "\n",
      "\n",
      "-0.04999999999999999\n",
      "This juicy production of Tracy Letts' \"Bug\" is about a pair of lonely hearts -- Agnes (Jacqueline Grandt) and Peter (Andrew Jessop) -- whose motel-room affair goes awry when Peter, a veteran of the war in the Persian Gulf, becomes convinced that bugs are burrowing their way under his skin.\n",
      "This juicy production of Tracy Letts' \"Bug\" is about a pair of lonely hearts -- Agnes (Jacqueline Grandt) and Peter (Andrew Jessop) -- whose motel-room affair goes awry when Peter, a veteran of the war in the Persian Gulf, becomes convinced that bugs are burrowing their way under his skin. You'll feel all the jolts of tension between normalcy and the terrifyingly weird. Through Aug. 7 at Redtwist Theatre, 1044 W. Bryn Mawr Ave.; $25-$30 at 773-728-7529 or redtwist.org\n",
      "\n",
      "\n",
      "-0.04999999999999999\n",
      "This juicy production of Tracy Letts' \"Bug\" is about a pair of lonely hearts -- Agnes (Jacqueline Grandt) and Peter (Andrew Jessop) -- whose affair goes awry when Peter, a veteran of war in the Persian Gulf, becomes convinced that bugs are burrowing under his skin.\n",
      "This juicy production of Tracy Letts' \"Bug\" is about a pair of lonely hearts -- Agnes (Jacqueline Grandt) and Peter (Andrew Jessop) -- whose affair goes awry when Peter, a veteran of war in the Persian Gulf, becomes convinced that bugs are burrowing under his skin. Through July 31 at Redtwist Theatre, 1044 W. Bryn Mawr Ave.; $25-$30 at 773-728-7529 or redtwist.org\n",
      "\n",
      "\n",
      "-0.05357142857142859\n",
      "Trapped behind a computer penning plays, Tracy Letts, right, clearly has some pent-up aggression.\n",
      "Trapped behind a computer penning plays, Tracy Letts, right, clearly has some pent-up aggression. Clad in polyester and revealing a few cheesy chest hairs, the actor-writer unleashes some of that energy as Teach, the most colorful of the three messed up characters in David Mamet's \"American Buffalo.\" Director Amy Morton has said her straightforward and entertaining revival flows from a long-held interest in this 1975 script, a short two-act play set in a Lincoln Avenue junk shop. Three men hatch a hapless plot to steal a coin collection from a former customer's house. Morton has created a very credible world -- you feel this place, and the people who hang out in it, could really exist. It may not pack the punch it once did, but \"American Buffalo\" remains one of the consummate Chicago plays. Through Feb. 14 at Steppenwolf Theatre, 1650 N. Halsted St.; $20-$77 at 312-335-1650\n",
      "\n",
      "\n",
      "-0.11666666666666665\n",
      "Harry Groener, the star of Chicago Shakespeare Theater's \"The Madness of George III,\" emerged as the winner in the hotly contested category of actor in a principal role (play), despite formidable competition from Tracy Letts in the Steppenwolf Theatre's Broadway-bound production of \"Who's Afraid of Virginia Woolf\" (which, remarkably, left the awards empty-handed) and John Mahoney, who starred in Northlight Theatre's \"The Outgoing Tide.\"\n",
      "Harry Groener, the star of Chicago Shakespeare Theater's \"The Madness of George III,\" emerged as the winner in the hotly contested category of actor in a principal role (play), despite formidable competition from Tracy Letts in the Steppenwolf Theatre's Broadway-bound production of \"Who's Afraid of Virginia Woolf\" (which, remarkably, left the awards empty-handed) and John Mahoney, who starred in Northlight Theatre's \"The Outgoing Tide.\"\n",
      "\n",
      "\n",
      "-0.15\n",
      " When Tracy Letts and Amy Morton ignite George and Martha's Fun and Games in \"Who's Afraid of Virginia Woolf?\n",
      " When Tracy Letts and Amy Morton ignite George and Martha's Fun and Games in \"Who's Afraid of Virginia Woolf?\" it will mark the first time that a play by Edward Albee has appeared on the stage of the Steppenwolf Theatre Company.\n",
      "\n",
      "\n",
      "-0.1666666666666667\n",
      "Trapped behind a computer penning plays, Tracy Letts clearly has some pent-up aggression.\n",
      "Trapped behind a computer penning plays, Tracy Letts clearly has some pent-up aggression. Clad in polyester and revealing a few cheesy chest hairs, he releases some of that energy as Teach, the most colorful of the three messed-up characters in David Mamet's \"American Buffalo.\" Director Amy Morton has created a very credible world -- you feel this place, and the people who hang out in it, could really exist. It may not pack the punch it once did, but \"American Buffalo\" remains one of the consummate Chicago plays. Through Sunday at Steppenwolf Theatre, 1650 N. Halsted St.; $20-$77 at 312-335-1650\n",
      "\n",
      "\n",
      "-0.1666666666666667\n",
      "Trapped behind a computer, writing Pulitzer Prize-winning plays, Tracy Letts clearly has accumulated some pent-up aggression.\n",
      "Trapped behind a computer, writing Pulitzer Prize-winning plays, Tracy Letts clearly has accumulated some pent-up aggression. Clad in polyester and revealing a few cheesy chest hairs, the actor-writer unleashes some of that energy as Teach, the most colorful of the three messed-up characters in the Lincoln Avenue junk store that holds David Mamet's \"American Buffalo.\"\n",
      "\n",
      "\n",
      "-0.1666666666666667\n",
      "Trapped behind a computer penning plays, Tracy Letts clearly has some pent-up aggression.\n",
      "Trapped behind a computer penning plays, Tracy Letts clearly has some pent-up aggression. Clad in polyester, the actor-writer unleashes some of that energy as Teach, the most colorful of the three messed-up characters in David Mamet's \"American Buffalo.\" Director Amy Morton has said her revival flows from a long-held interest in this 1975 script, which remains one of the consummate Chicago plays. Through Feb. 14 at Steppenwolf Theatre, 1650 N. Halsted St.; $20-$77 at 312-335-1650\n",
      "\n",
      "\n",
      "-0.1666666666666667\n",
      "Trapped behind a computer penning plays, Tracy Letts clearly has some pent-up aggression.\n",
      "Trapped behind a computer penning plays, Tracy Letts clearly has some pent-up aggression. Clad in polyester and revealing a few cheesy chest hairs, the actor-writer unleashes some of that energy as Teach, the most colorful of the three messed-up characters in David Mamet's \"American Buffalo.\" Director Amy Morton has said her straightforward and entertaining revival flows from a long-held interest in this 1975 script, set in a Lincoln Avenue junk shop. Three men hatch a hapless plot to steal a coin collection from a former customer's house. Morton has created a very credible world; you feel this place, and the people who hang out in it, could really exist. It may not pack the punch it once did, but \"American Buffalo\" remains one of the consummate Chicago plays. Through Feb. 14 at Steppenwolf Theatre, 1650 N. Halsted St.; $20-$77 at 312-335-1650\n",
      "\n",
      "\n",
      "-0.1666666666666667\n",
      "Trapped behind a computer penning plays, Tracy Letts clearly has some pent-up aggression.\n",
      "Trapped behind a computer penning plays, Tracy Letts clearly has some pent-up aggression. Clad in polyester and revealing a few cheesy chest hairs, the actor-writer unleashes some of that energy as Teach, the most colorful of the three messed-up characters in David Mamet's \"American Buffalo.\" Director Amy Morton has said her straightforward and entertaining revival flows from a long-held interest in this 1975 script, a short two-act play set in a Lincoln Avenue junk shop. Three men hatch a hapless plot to steal a coin collection from a former customer's house. Morton has created a very credible world -- you feel this place, and the people who hang out in it, could really exist. It may not pack the punch it once did, but \"American Buffalo\" remains one of the consummate Chicago plays. Through Feb. 14 at Steppenwolf Theatre, 1650 N. Halsted St.; $20-$77 at 312-335-1650\n",
      "\n",
      "\n",
      "-0.1666666666666667\n",
      "Trapped behind a computer penning plays, Tracy Letts clearly has some pent-up aggression.\n",
      "Trapped behind a computer penning plays, Tracy Letts clearly has some pent-up aggression. Clad in polyester and revealing a few cheesy chest hairs, the actor-writer unleashes some of that energy as Teach, the most colorful of the three messed-up characters in David Mamet's \"American Buffalo.\" Director Amy Morton has said her straightforward and entertaining revival flows from a long-held interest in this 1975 script, a short two-act play set in a Lincoln Avenue junk shop. Three men hatch a hapless plot to steal a coin collection from a former customer's house. Morton has created a very credible world - you feel this place, and the people who hang out in it, could really exist. It may not pack the punch it once did, but \"American Buffalo\" remains one of the consummate Chicago plays. Through Feb. 14 at Steppenwolf Theatre, 1650 N. Halsted St.; $20-$77 at 312-335-1650\n",
      "\n",
      "\n",
      "-0.2\n",
      "And neither Tolkien nor Doctorow had the recorded, creepily authoritarian voice of Tracy Letts filling us in on the earth-cracking narrative so far, like a Hollywood narrator gone to hell.\n",
      "The hero of this tale seeks to lift up something called the hammer, which has a lot in common with King Arthur's Excalibur. There are Shakespearean riffs on the limits of benign monarchical rule and, given the main themes of revolution followed by divided republicanism, even a few nods to E.L. Doctorow. Allen and Mathews may love comic books and fantasy drama, but they're romantic, moralist Americans at heart, wearing their hearts and boyish excitement on their sleeves, even when that leads them to overplay their metaphoric hands. They even have puppets here that have something in common with the critters of \"War Horse.\" And neither Tolkien nor Doctorow had the recorded, creepily authoritarian voice of Tracy Letts filling us in on the earth-cracking narrative so far, like a Hollywood narrator gone to hell.\n",
      "\n",
      "\n",
      "-0.30625\n",
      "Given their prodigious intellects and complex personalities, Amy Morton and Tracy Letts -- the Hepburn and Tracy of Chicago theater - - should be in sync with Harold Pinter's lean and mean dissection of a relationship in destruction.\n",
      "Given their prodigious intellects and complex personalities, Amy Morton and Tracy Letts -- the Hepburn and Tracy of Chicago theater - - should be in sync with Harold Pinter's lean and mean dissection of a relationship in destruction. Rick Snyder's new production for the Steppenwolf Theatre should deliver some cynical sizzle.\n",
      "\n",
      "\n"
     ]
    }
   ],
   "source": [
    "like_person('jones', 'Tracy Letts')"
   ]
  },
  {
   "cell_type": "code",
   "execution_count": 114,
   "metadata": {
    "collapsed": false
   },
   "outputs": [
    {
     "name": "stdout",
     "output_type": "stream",
     "text": [
      "[0.8, 0.3666666666666667, 0.6666666666666666, 0.25, 0.11363636363636363, -0.1875, -0.5, 0.08333333333333333, 0.34761904761904766, 0.1, 0.05, 0.6333333333333334, 0.4, 0.31212121212121213, 0.37124999999999997, 0.31212121212121213, 0.37124999999999997, -0.3625, 0.3333333333333333, 0.5, 0.375, 0.4642857142857143, 0.5, 0.25, 0.5, 0.0, 0.23666666666666666, 0.5, 0.1377551020408163, 0.4, 0.1, 0.1825, 0.25, -0.05, 0.2, 0.25, -0.3333333333333333, 0.2357142857142857, 0.25, 0.16193181818181818, -0.06944444444444443, 0.125, -0.09375, -0.225, 0.375, 0.1, 0.21428571428571427, 0.16666666666666666, 0.3, 0.5, 0.4375, 0.29545454545454547, 0.25, -0.06666666666666667, -0.15555555555555559]\n",
      "0.21318803058413438\n",
      "0.8\n",
      "Francis Ford Coppola fills every frame with great billowing clouds of smoke, steam, and fog.\n",
      "During the course of Rumble Fish, the characters meet, fight, talk, philosophize, make out, drink, and sometimes die. Rumble Fish treats these activities in a highly stylized way; one death scene is followed by a levitation, as the character floats around town eavesdropping on the gossip about himself. Francis Ford Coppola fills every frame with great billowing clouds of smoke, steam, and fog. He shoots in low-angle a lot, to show the cloudy sky, and he uses special effects to make the clouds race past in an eerie, dreamlike way. \n",
      "\n",
      "\n",
      "0.6666666666666666\n",
      "The best that can be hoped is that, having made a film, Coppola has the taste again, and will go on to make many more,\n",
      "\"Youth Without Youth\" proves that Francis Ford Coppola can still make a movie, but not that he still knows how to choose his projects. Youth Without Youth is a sharp disappointment to those who have been waiting for 10 years since the master's last film. The best that can be hoped is that, having made a film, Coppola has the taste again, and will go on to make many more, nothing like this.\n",
      "\n",
      "\n",
      "0.6333333333333334\n",
      "Coppola resists showing us Stanton's most effective tool, his expressive eyes.\n",
      "Coppola resists showing us Stanton's most effective tool, his expressive eyes.\n",
      "\n",
      "\n",
      "0.5\n",
      "By telling us two love stories, Coppola shows us both sides of that racial divide.\n",
      "The Cotton Club takes place in New York in the 1920s and 1930s, where Irish and Jewish gangsters battled the Italians for the rackets. Most of their intrigues were played out in public, in flashy settings like the Cotton Club, a Harlem nightclub that featured the nation's most talented black entertainers on stage -- playing before an all-white audience. By telling us two love stories, Coppola shows us both sides of that racial divide. He begins by introducing Dixie Dwyer (Richard Gere), a good-looking young musician who saves the life of a gangster and is immediately recruited into the hood's inner circle. There he meets the gangster's teenage girlfriend (Diane Lane), and they immediately fall in love -- but secretly, because they'll live longer that way. Then we meet Sandman Williams (Gregory Hines), a black tap dancer who dreams of appearing at the Cotton Club, and falls in love with a member of the chorus line (Lonette McKee), a mulatto who talks about her secret life among people who think she is white.\n",
      "\n",
      "\n",
      "0.5\n",
      "It is said that Coppola was rewriting it as he went along, and indeed it lacks the confident forward sweep of a film that knows where it's going.\n",
      "In the \"Godfather\" movies Coppola has made a world. Because we know it so intimately, because its rhythms and values are instantly recognizable to us, a film like \"The Godfather Part III\" probably works better than it should. If you stand back and look at it rationally, this is a confusing and disjointed film. It is said that Coppola was rewriting it as he went along, and indeed it lacks the confident forward sweep of a film that knows where it's going.\n",
      "\n",
      "\n",
      "0.5\n",
      "The pitfall is in trying to find parallels: Coppola had a father who was a famous conductor, he has a brother he has sometimes argued with, his sister Talia Shire somewhat resembles the heroine of Tetro, his nephew Nicolas Cage somewhat resembles the character Tetro, and on and on.\n",
      "\"Tetro\" may be the most autobiographical film Francis Ford Coppola has made. He said at Cannes \"nothing in it happened, but it's all true.\" I guess I know what that means. He could be describing any \"autobiographical\" film or novel. The pitfall is in trying to find parallels: Coppola had a father who was a famous conductor, he has a brother he has sometimes argued with, his sister Talia Shire somewhat resembles the heroine of Tetro, his nephew Nicolas Cage somewhat resembles the character Tetro, and on and on. All meaningless.\n",
      "\n",
      "\n",
      "0.5\n",
      "Francis Ford Coppola, who wrote and directed The Rainmaker, has made the most of Grisham's ground-level realism.\n",
      "Francis Ford Coppola, who wrote and directed The Rainmaker, has made the most of Grisham's ground-level realism. This is not a film that loves the legal profession, and yet it loves some of those who labor in it--not only Baylor, played by Matt Damon with the earnestness of an Eagle Scout, but also Deck Shifflet (Danny DeVito) as the kind of courthouse handyman who has never passed the bar exam, perhaps because a license would slow him down. Their give-and-take is the soul of The Rainmaker; they form a desperate democracy made possible because \"The Rainmaker,'' unlike most Grisham films, doesn't have to drag a high-paid superstar around and give him all the best lines. DeVito's role is in the fading tradition of the star character actor.\n",
      "\n",
      "\n",
      "0.5\n",
      "Coppola went to Italy to find Nino Rota, composer of many Fellini films, to score the picture.\n",
      "Coppola went to Italy to find Nino Rota, composer of many Fellini films, to score the picture. Hearing the sadness and nostalgia of The Godfathers main theme, I realized what the music was telling us: Things would have turned out better if we had only listened to the Godfather.\n",
      "\n",
      "\n",
      "0.4642857142857143\n",
      "Whatever it took to do it, Coppola has extracted a very special film out of the checkered history of this project.\n",
      "\"The Cotton Club\" took months to shoot, and they claim they have another 200,000 feet of footage as good as The Cotton Club. I doubt it. Whatever it took to do it, Coppola has extracted a very special film out of the checkered history of this project.\n",
      "\n",
      "\n",
      "0.4375\n",
      "On the other hand, Francis Ford Coppola replaced him on \"The Conversation\" (after Haskell had finished the legendary opening sequence).\n",
      "There were also films he walked away from on matters of principle. After one, he told me the director was lazy and didn't treat people with respect. Haskell isn't an obedient hired hand but a strong-willed artist who gets the admiration of strong directors like John Sayles (\"Limbo,\" \"The Secret of Roan Inish\"), Norman Jewison (\"In the Heat of the Night\"), Mike Nichols (\"Who's Afraid of Virginia Woolf\") and Hal Ashby (\"Bound for Glory\"). He won Oscars for his work on \"Who's Afraid of Virginia Woolf\" and \"Bound for Glory,\" and was nominated three other times. On the other hand, Francis Ford Coppola replaced him on \"The Conversation\" (after Haskell had finished the legendary opening sequence). Haskell's version: He was working too quickly for Coppola, who wasn't prepared. Coppola's version: Unstated. And Haskell believes he shot more than half of Terrence Malick's \"Days of Heaven,\" which Nestor Almendros won an Oscar for. After the lights went up at the Toronto Film Festival premiere of Tell Them Who You Are, there was Norman Jewison sitting across the aisle and observing, \"He could be a son of a bitch.\" The way he said it, it sounded affectionate.\n",
      "\n",
      "\n",
      "0.4\n",
      "Napolon, Carmine Coppola will lead some 60 musicians and the theater's mighty\n",
      "Napolon, Carmine Coppola will lead some 60 musicians and the theater's mighty\n",
      "\n",
      "\n",
      "0.4\n",
      "Coppola assigned Michael Herr, one of his screenwriters on \"Apocalypse Now\" (1979), to write a narration that casts all of these events in a jaundiced light; Rudy Baylor's tone throughout is that of a man who has drifted into a profession that makes his skin crawl.\n",
      "Coppola assigned Michael Herr, one of his screenwriters on \"Apocalypse Now\" (1979), to write a narration that casts all of these events in a jaundiced light; Rudy Baylor's tone throughout is that of a man who has drifted into a profession that makes his skin crawl. Much is made of the hourly billing rates of the insurance company's lawyers, and Voight does a quietly masterful job of being elegantly sleazy. One strong scene has been blind-sided by a woman (Virginia Madsen) who knows more about the inner workings of the insurance company than perhaps she should.\n",
      "\n",
      "\n",
      "0.375\n",
      "Richard Gere is especially good as Dixie Dwyer, maybe because the camera has a way of seeing him off-balance, so that he doesn't dominate the center of each shot like a handsome icon; Coppola stirs him into the action.\n",
      "The performances are well-suited to the material. Richard Gere is especially good as Dixie Dwyer, maybe because the camera has a way of seeing him off-balance, so that he doesn't dominate the center of each shot like a handsome icon; Coppola stirs him into the action. Diane Lane, herself still a teenager, is astonishing as the party girl who wants to own her own club. Gregory Hines and his brother, Maurice, create a wonderful moment of reconciliation when they begin to tap dance and end by forgiving each other for a lifetime's hurts. And Hoskins, the British actor who played the unforgettable mob chief in \"The Long Good Friday,\" is so wound-up and fierce and funny as the mobster that he takes a clich and turns it into an original.\n",
      "\n",
      "\n",
      "0.375\n",
      "Coppola originally intended to show Apocalypse Now as a 70mm roadshow with no credits (they would be printed in a booklet).\n",
      "Why has \"Apocalypse Now\" been so long bedeviled by rumors that Coppola was not happy with this ending? At Apocalypse Now's premiere at Cannes, I saw the confusion begin. Coppola originally intended to show Apocalypse Now as a 70mm roadshow with no credits (they would be printed in a booklet). But the 35mm release would need end titles. After he was finished filming on the huge set of the Kurtz compound, Coppola was required by the Philippine government to destroy it, and he photographed it being blown up. He decided to use this footage over his closing 35mm credits, even though (this is crucial) he did not intend the destruction of the compound as an alternative \"ending\" to Apocalypse Now. Alas, confusion about the endings spread from Cannes into movie folklore, and most people thought that by \"ending\" he meant all of the material involving Kurtz. In the 20th anniversary DVD release, Coppola patiently explains all of this once again.\n",
      "\n",
      "\n",
      "0.37124999999999997\n",
      "Coppola had just finished a successful mainstream production for Warner, \"Finian's Rainbow,\" and his proposal sounded good in that era of youth films, bike films, trip films and other high hopes.\n",
      "The brave new world of the American Zoetrope studio began in the late 1960s in San Francisco. Francis Ford Coppola, a young director of promise, persuaded Warner Bros. to help finance and distribute a group of features by the bright new filmmakers he'd gathered around him. Coppola had just finished a successful mainstream production for Warner, \"Finian's Rainbow,\" and his proposal sounded good in that era of youth films, bike films, trip films and other high hopes.\n",
      "\n",
      "\n",
      "0.37124999999999997\n",
      "Coppola had just finished a successful mainstream production for Warners, \"Finian's Rainbow,\" and his proposal sounded good in that era of youth films, bike films, trip films, and other high hopes.\n",
      "The brave new world of the American Zoetrope studio began in the late 1960s in San Francisco. Francis Ford Coppola, a young director of promise, persuaded Warner Bros. to help finance and distribute a group of features by the bright new filmmakers he'd gathered around him. Coppola had just finished a successful mainstream production for Warners, \"Finian's Rainbow,\" and his proposal sounded good in that era of youth films, bike films, trip films, and other high hopes.\n",
      "\n",
      "\n",
      "0.3666666666666667\n",
      "Coppola has fun directing, and his film is filled with sight jokes, high-spirited performances and a lively sound track by the Lovin' Spoonful.\n",
      "\"The Graduate\" is, of course, the masterpiece of the genre. But \"You're a Big Boy Now\" is more amusing than \"17\" and half a length better than the miserable \"Benjamin.\" Coppola has fun directing, and his film is filled with sight jokes, high-spirited performances and a lively sound track by the Lovin' Spoonful.\n",
      "\n",
      "\n",
      "0.34761904761904766\n",
      "The parallels between Coppola and Tucker are so obvious that its surprising Coppola didnt observe one more: He has been as protective of Tuckers private life as he rightly is of his own.\n",
      "The parallels between Coppola and Tucker are so obvious that its surprising Coppola didnt observe one more: He has been as protective of Tuckers private life as he rightly is of his own.\n",
      "\n",
      "\n",
      "0.3333333333333333\n",
      "But Coppola seems more concerned with spectacle and set-pieces than with storytelling; Bram Stoker's Dracula is particularly operatic in the way it prefers climaxes to continuity.\n",
      "There is a chronology of events, as the characters travel back and forth from London to Transylvania, and rendezvous in bedrooms and graveyards. But Coppola seems more concerned with spectacle and set-pieces than with storytelling; Bram Stoker's Dracula is particularly operatic in the way it prefers climaxes to continuity.\n",
      "\n",
      "\n",
      "0.31212121212121213\n",
      "Francis Ford Coppola, a young director of promise, persuaded Warner Bros. to help finance and distribute a group of features by the bright new filmmakers he'd gathered around him.\n",
      "The brave new world of the American Zoetrope studio began in the late 1960s in San Francisco. Francis Ford Coppola, a young director of promise, persuaded Warner Bros. to help finance and distribute a group of features by the bright new filmmakers he'd gathered around him. Coppola had just finished a successful mainstream production for Warner, \"Finian's Rainbow,\" and his proposal sounded good in that era of youth films, bike films, trip films and other high hopes.\n",
      "\n",
      "\n",
      "0.31212121212121213\n",
      "Francis Ford Coppola, a young director of promise, persuaded Warner Bros. to help finance and distribute a group of features by the bright new filmmakers he'd gathered around him.\n",
      "The brave new world of the American Zoetrope studio began in the late 1960s in San Francisco. Francis Ford Coppola, a young director of promise, persuaded Warner Bros. to help finance and distribute a group of features by the bright new filmmakers he'd gathered around him. Coppola had just finished a successful mainstream production for Warners, \"Finian's Rainbow,\" and his proposal sounded good in that era of youth films, bike films, trip films, and other high hopes.\n",
      "\n",
      "\n",
      "0.3\n",
      "Coppola populates his dark interior spaces with remarkable faces.\n",
      "Gordon Willis cinematography is celebrated for its darkness; it is rich, atmospheric, expressive. You cannot appreciate this on television because the picture is artificially brightened. Coppola populates his dark interior spaces with remarkable faces. The front-line actors--Brando, Pacino, Caan, Duvall--are attractive in one way or another, but those who play their associates are chosen for their fleshy, thickly lined faces--for huge jaws and deeply set eyes. Look at Abe Vigoda as Tessio, the fearsome enforcer. The first time we see him, hes dancing with a child at the wedding, her satin pumps balanced on his shoes. The sun shines that day, but never again: He is developed as a hulking presence who implies the possibility of violent revenge. Only at the end is he brightly lit again, to make him look vulnerable as he begs for his life.\n",
      "\n",
      "\n",
      "0.29545454545454547\n",
      "Such events as Vitos murder of the minor-league New York godfather have their barbarism somewhat softened as Coppola adopts Vitos point of view and follows him as he climbs rooftops to ambush the man and successfully escapes.\n",
      "The devolution of Michael Corleone is counterpointed by flashbacks to the youth and young manhood of his father, Vito (Robert De Niro). These scenes, taking place in Sicily and old New York, follow the conventional pattern of a young man on the rise and show the Mafia code being burned into the Corleone blood. No false romanticism conceals the necessity of using murder to do business. Such events as Vitos murder of the minor-league New York godfather have their barbarism somewhat softened as Coppola adopts Vitos point of view and follows him as he climbs rooftops to ambush the man and successfully escapes. It is a built-in reality that we tend to identify with a films POV. Here the murder becomes another rung on Vitos ladder to success.\n",
      "\n",
      "\n",
      "0.25\n",
      "Coppola found this story in a novella by the Romanian-born Mircea Eliade, for many years a scholar of religious history at the University of Chicago.\n",
      "Coppola found this story in a novella by the Romanian-born Mircea Eliade, for many years a scholar of religious history at the University of Chicago. It is possible to see how Youth Without Youth might have been simplified and clarified into an entertainment along the lines of \"Time After Time,\" but Coppola seems to positively embrace the obscurity and impenetrability of the material.\n",
      "\n",
      "\n",
      "0.25\n",
      "\"Tetro\" may be the most autobiographical film Francis Ford Coppola has made.\n",
      "\"Tetro\" may be the most autobiographical film Francis Ford Coppola has made. He said at Cannes \"nothing in it happened, but it's all true.\" I guess I know what that means. He could be describing any \"autobiographical\" film or novel. The pitfall is in trying to find parallels: Coppola had a father who was a famous conductor, he has a brother he has sometimes argued with, his sister Talia Shire somewhat resembles the heroine of Tetro, his nephew Nicolas Cage somewhat resembles the character Tetro, and on and on. All meaningless.\n",
      "\n",
      "\n",
      "0.25\n",
      "Although the two scared kids (Ralph Macchio and C. Thomas Howell) are convincing enough, the story isn't -- and neither is the way Coppola sees it.\n",
      "Although the two scared kids (Ralph Macchio and C. Thomas Howell) are convincing enough, the story isn't -- and neither is the way Coppola sees it. He seems to be struggling with some sort of fixation on the contrived Hollywood sound stage look of the 1950s; there are scenes in which he poses his two heroes against a lurid sunset and bathes them in backlights so improbably reddish-orange that the kids look like Gordon MacRae in \"Oklahoma!\"\n",
      "\n",
      "\n",
      "0.25\n",
      "Coppola, who wrote and directed, considers The Conversation his most personal project.\n",
      "Coppola, who wrote and directed, considers The Conversation his most personal project. He was working two years after the Watergate break-in, amid the ruins of the Vietnam effort, telling the story of a man who places too much reliance on high technology and has nightmares about his personal responsibility. Harry Caul is a microcosm of America at that time: not a bad man, trying to do his job, haunted by a guilty conscience, feeling tarnished by his work.\n",
      "\n",
      "\n",
      "0.25\n",
      "To the majesty of these scenes in their progression to Kurtz's words \"the Horror,\" Coppola has now added 49 minutes, most of them devoted to a visit by the crew to a French plantation, a colonial leftover that somehow survives.\n",
      "To the majesty of these scenes in their progression to Kurtz's words \"the Horror,\" Coppola has now added 49 minutes, most of them devoted to a visit by the crew to a French plantation, a colonial leftover that somehow survives. At dinner the Americans and French discuss the colonial history of Vietnam, and Willard's eyes meet those of Roxanne (Aurore Clement), a widow who will spend the night in his arms. Other new footage includes dialogue and byplay on the boat, a second encounter with the Playmates, and additional dialogue by Kurtz.\n",
      "\n",
      "\n",
      "0.25\n",
      "Coppola is at the top of his form in both films, and if I disapprove of the morality of the central characters, well, so do we all.\n",
      "Coppola is at the top of his form in both films, and if I disapprove of the morality of the central characters, well, so do we all. We agree people should not kill one another, but that doesnt explain why these films are seen again and again, entering a small worldwide canon of films just about everyone seems to have seen. They are grippingly written, directed with confidence and artistry, photographed by Gordon Willis (The Master of Darkness) in rich, warm, tones. The acting in both films is definitive. We can name the characters in a lot of films (Harry Lime, Scarlett OHara, Travis Bickle, Charles Foster Kane) but from how many films do we remember the names of six or more characters? Brando, Pacino, De Niro, Duvall, Cazale, Caan, Diane Keaton, Lee Strasberg, Talia Shire, Michael V. Gazzo and others are well-cast, well-used, gifted and correct for their roles.\n",
      "\n",
      "\n",
      "0.23666666666666666\n",
      "Coppola and cinematographer Mihai Malaimare Jr. have photographed the central story in black and white, which made me hopelessly desire that more features could be made in this beautiful format.\n",
      "Coppola and cinematographer Mihai Malaimare Jr. have photographed the central story in black and white, which made me hopelessly desire that more features could be made in this beautiful format. People who dislike b&w movies are, in their sad way, color-blind. The flashbacks are in color, presided over by Brandauer, as a sleek and contented reptile. In a way, this is what his amoral character in \"Mephisto\" could have turned out like. Without the strain of being given a lot of evil dialogue, he communicates egomania and selfishness.\n",
      "\n",
      "\n",
      "0.2357142857142857\n",
      "Coppola also pushes the envelope with the remastered soundtrack, and I was reminded of Apocalypse Now /Redux's world premiere at Cannes in 1979, when the old Palais was so filled with light and sound that I felt enveloped; the helicopters in the famous village assault could first be heard behind me, and then passed overhead, and yes, there were people who involuntarily ducked.\n",
      "The physical look of Apocalypse Now /Redux is therefore voluptuous and saturated. This is what would be at risk with digital projection. Coppola also pushes the envelope with the remastered soundtrack, and I was reminded of Apocalypse Now /Redux's world premiere at Cannes in 1979, when the old Palais was so filled with light and sound that I felt enveloped; the helicopters in the famous village assault could first be heard behind me, and then passed overhead, and yes, there were people who involuntarily ducked. To be able to come home from the hellish production conditions on the Philippines locations with a film of such technical mastery is miraculous.\n",
      "\n",
      "\n",
      "0.21428571428571427\n",
      "It is a virtuoso stretch of filmmaking: Coppola brings his large cast onstage so artfully that we are drawn at once into the Godfathers world.\n",
      "As the day continues, there are two more scenes in the Godfathers darkened study, intercut with scenes from the wedding outside. By the end of the wedding sequence, most of the main characters will have been introduced, and we will know essential things about their personalities. It is a virtuoso stretch of filmmaking: Coppola brings his large cast onstage so artfully that we are drawn at once into the Godfathers world.\n",
      "\n",
      "\n",
      "0.2\n",
      "So all you can really say, I guess, is here's what Coppola's up to.\n",
      "So all you can really say, I guess, is here's what Coppola's up to. It is a traditional American pastime and a noble one -- exploring the country through the eyes of a dissatisfied searcher. And what the search discovers is no more (and no less) than a crossroads in Oklahoma, a parade in Pennsylvania, long nights on the road, a hero who got banged on the head, and a highway patrolman who is, even so, a human being. And these places and people fit together, they love or hate each other, all because of the accident of being alive at the same time and place.\n",
      "\n",
      "\n",
      "0.1825\n",
      "By keeping all of the little people in focus, Coppola shows the variety of a young lawyer's life, where every client is necessary and most of them need a lot more than a lawyer.\n",
      "I have enjoyed several of The Rainmakers based on Grisham novels (\"A Time To Kill,\" \"The Pelican Brief,\" \"The Firm\"), but I've usually seen the storyteller's craft rather than the novelist's art being reflected. Coppola says he picked up \"The Rainmaker'' in an airport, was intrigued by the story and asked to direct it. What attracted him, I imagine, was the richness of the supporting characters: Miss Birdie, Deck, Bruiser, Kelly, and the scorned woman from the insurance company. The gallery is so colorful that this could almost be a movie based on a Carl Hiaasen story. By keeping all of the little people in focus, Coppola shows the variety of a young lawyer's life, where every client is necessary and most of them need a lot more than a lawyer.\n",
      "\n",
      "\n",
      "0.16666666666666666\n",
      "My argument is taking this form because I want to point out how cleverly Coppola structures his film to create sympathy for his heroes.\n",
      "My argument is taking this form because I want to point out how cleverly Coppola structures his film to create sympathy for his heroes. The Mafia is not a benevolent and protective organization, and the Corleone family is only marginally better than the others. Yet when the old man falls dead among his tomato plants, we feel that a giant has passed.\n",
      "\n",
      "\n",
      "0.16193181818181818\n",
      "Now /Redux, Coppola emphasizes that this new material was not simply shoehorned into the original version of Apocalypse Now /Redux, but that \"Redux\" is \"a new rendition of Apocalypse\n",
      "In a note released with Apocalypse Now /Redux, Coppola emphasizes that this new material was not simply shoehorned into the original version of Apocalypse Now /Redux, but that \"Redux\" is \"a new rendition of Apocalypse Now /Redux from scratch.\" He and his longtime editor Walter Murch \"re-edited Apocalypse Now /Redux from the original unedited raw footage -- the dailies,\" he says, and so possibly even some of the shots that look familiar to us are different takes than the ones we saw before.\n",
      "\n",
      "\n",
      "0.1377551020408163\n",
      "Kelly and Rudy don't have a romance, exactly; Coppola's screenplay is too smart to stop the action for obligatory love scenes, and Rudy's legal life has become so complex that there's no time for personal matters.\n",
      "Kelly and Rudy don't have a romance, exactly; Coppola's screenplay is too smart to stop the action for obligatory love scenes, and Rudy's legal life has become so complex that there's no time for personal matters. Hey, he hasn't even had time to be sworn in--a service the judge (Dean Stockwell) obligingly performs before his first case. The DeVito character is like a wise, profane little shadow, stage-managing his court appearances and finding the crucial evidence.\n",
      "\n",
      "\n",
      "0.125\n",
      "The Playmate footage simply doesn't work; it was left out of the original because a typhoon prevented him from completing its filming, Coppola says, but \"Walter found a way to get in and out of the sequence.\n",
      "Some of the footage enters seamlessly into the work and disappears, enriching it. That would include the river footage and some moments with the photographer. The new Brando footage, including some more pointed analysis of the war, is a valuable addition. The Playmate footage simply doesn't work; it was left out of the original because a typhoon prevented him from completing its filming, Coppola says, but \"Walter found a way to get in and out of the sequence.\" Perhaps, but no reason to be there.\n",
      "\n",
      "\n",
      "0.11363636363636363\n",
      "It is possible to see how Youth Without Youth might have been simplified and clarified into an entertainment along the lines of \"Time After Time,\" but Coppola seems to positively embrace the obscurity and impenetrability of the material.\n",
      "Coppola found this story in a novella by the Romanian-born Mircea Eliade, for many years a scholar of religious history at the University of Chicago. It is possible to see how Youth Without Youth might have been simplified and clarified into an entertainment along the lines of \"Time After Time,\" but Coppola seems to positively embrace the obscurity and impenetrability of the material.\n",
      "\n",
      "\n",
      "0.1\n",
      "Everybody knows that Coppola used experimental\n",
      "techniques than about its stars. Everybody knows that Coppola used experimental\n",
      "\n",
      "\n",
      "0.1\n",
      "Coppola says he picked up \"The Rainmaker'' in an airport, was intrigued by the story and asked to direct it.\n",
      "I have enjoyed several of The Rainmakers based on Grisham novels (\"A Time To Kill,\" \"The Pelican Brief,\" \"The Firm\"), but I've usually seen the storyteller's craft rather than the novelist's art being reflected. Coppola says he picked up \"The Rainmaker'' in an airport, was intrigued by the story and asked to direct it. What attracted him, I imagine, was the richness of the supporting characters: Miss Birdie, Deck, Bruiser, Kelly, and the scorned woman from the insurance company. The gallery is so colorful that this could almost be a movie based on a Carl Hiaasen story. By keeping all of the little people in focus, Coppola shows the variety of a young lawyer's life, where every client is necessary and most of them need a lot more than a lawyer.\n",
      "\n",
      "\n",
      "0.1\n",
      "Coppola's joy and agony are revealed in\"Hearts Of Darkness: A Filmmaker's Apocalypse,\" a 1991 documentary by Fax Bahr and George Hickenlooper about the making of \"Apocalypse Now,\" with personal footage and journal entries by Coppola's wife, Eleanor, who made secret recordings of Coppola expressing his doubts and discouragement as the project threatened to swamp him.\n",
      "Note: In my original review of \"Apocalypse Now\" I quoted the French director Francois Truffaut: \"I demand that a film express either the joy of making cinema or the agony of making cinema. I am not at all interested in anything in between.\" Coppola's joy and agony are revealed in\"Hearts Of Darkness: A Filmmaker's Apocalypse,\" a 1991 documentary by Fax Bahr and George Hickenlooper about the making of \"Apocalypse Now,\" with personal footage and journal entries by Coppola's wife, Eleanor, who made secret recordings of Coppola expressing his doubts and discouragement as the project threatened to swamp him.\n",
      "\n",
      "\n",
      "0.08333333333333333\n",
      "Coppola says he has been fascinated by the Tucker legend ever since he first saw a Tucker car in the late 40s, and he has owned a rare collectors model during the 10 years he has been trying to get this dream film off the ground.\n",
      "It is difficult, by the way, to avoid the notion that, in Preston Tucker, Coppola sees a version of himself. Coppola says he has been fascinated by the Tucker legend ever since he first saw a Tucker car in the late 40s, and he has owned a rare collectors model during the 10 years he has been trying to get this dream film off the ground.\n",
      "\n",
      "\n",
      "0.05\n",
      "same old celluloid that One From the Hearts have been using forever; Coppola used TV\n",
      "same old celluloid that One From the Hearts have been using forever; Coppola used TV\n",
      "\n",
      "\n",
      "0.0\n",
      "I'm only guessing, but Coppola, considering his father and his Italian-American heritage, may be as opera-besotted as any living American director, including Scorsese.\n",
      "Better to begin with a more promising starting point: Tetro is boldly operatic, involving family drama, secrets, generations at war, melodrama, romance and violence. I'm only guessing, but Coppola, considering his father and his Italian-American heritage, may be as opera-besotted as any living American director, including Scorsese. His great epic \"Apocalypse Now\" is fundamentally, gloriously, operatic. The oedipal issues in the \"Godfather\" trilogy are echoed again in \"Tetro.\" The emotions are theatrical, not realistic.\n",
      "\n",
      "\n",
      "-0.05\n",
      "In \"The Rain People\" Coppola takes his characters across a carefully observed American landscape.\n",
      "In \"The Rain People\" Coppola takes his characters across a carefully observed American landscape. Miss Knight and Caan drive through small country towns, and big cities.\n",
      "\n",
      "\n",
      "-0.06666666666666667\n",
      "I admire the way Coppola and his co-writer Mario Puzo require us to think along with Michael as he handles delicate decisions involving Hyman Roth (Strasberg), the boss of Miami; Fredo (Cazale), his older brother, and the shooting of Sonny (James Caan).\n",
      "Simply as a story, the Michael scenes in The Godfather: Part II engage our emotions. I admire the way Coppola and his co-writer Mario Puzo require us to think along with Michael as he handles delicate decisions involving Hyman Roth (Strasberg), the boss of Miami; Fredo (Cazale), his older brother, and the shooting of Sonny (James Caan). Who has done what? Why? Michael floats various narratives past various principals, misleading them all, or nearly. Its like a game of blindfolded chess; he has to envision the moves without seeing them.\n",
      "\n",
      "\n",
      "-0.06944444444444443\n",
      "To consider \"Apocalypse Now\" mainstream or tame in either form is a bizarre judgment for Coppola to pass on his picture, but then he has a history of incautious and inexplicable remarks about it, going back to the infamous Cannes press conference where he confessed he had \"problems with the ending,\" and many critics thought he was talking about the Kurtz episode, and not (as he was) the closing titles.\n",
      "To consider \"Apocalypse Now\" mainstream or tame in either form is a bizarre judgment for Coppola to pass on his picture, but then he has a history of incautious and inexplicable remarks about it, going back to the infamous Cannes press conference where he confessed he had \"problems with the ending,\" and many critics thought he was talking about the Kurtz episode, and not (as he was) the closing titles.\n",
      "\n",
      "\n",
      "-0.09375\n",
      "It helps me to understand it when Coppola explains that he sees the French like ghosts; I questioned how they had survived in their little enclave, and accept his feeling that their spirits survive as a cautionary specter for the Americans.\n",
      "It is the French plantation sequence that gives me the most pause. It is long enough, I think, that is distracts from the overall arc of Apocalypse Now /Redux. The river journey sets the rhythm of Apocalypse Now /Redux, and too much time on the banks interrupts it (there is the same problem with the feuding families in Huckleberry Finn). Yet the sequence is effective and provoking (despite the inappropriate music during the love scene). It helps me to understand it when Coppola explains that he sees the French like ghosts; I questioned how they had survived in their little enclave, and accept his feeling that their spirits survive as a cautionary specter for the Americans.\n",
      "\n",
      "\n",
      "-0.15555555555555559\n",
      "Coppola shows Michael breaking down under the pressure.\n",
      "Coppola shows Michael breaking down under the pressure. We remember that he was once a proud war hero, a successful college student, building a legitimate lifestyle. But on their wedding day, Kay first began to fully realize what an all-controlling cocoon the Corleone clan was. There would always be things she could not be told about, could not be trusted with. Finally Michael has no one to tell or trust except his elderly mother (Morgana King). Michaels desperation in that intense conversation explains everything about The Godfather, Part IIs final shot.\n",
      "\n",
      "\n",
      "-0.1875\n",
      "A little of this would have made the point; Coppola pushes it to distraction.\n",
      "The worst scene in Tucker: The Man and His Dream is the most crucial, the scene where Tucker is scheduled to unveil his new beauty to the assembled American automobile press. We get a passage thats too long and too confused, a comedy of errors as the workmen try to push the big car up a ramp as a fire starts backstage and Tucker stands in front of the curtain bamboozling the press. A little of this would have made the point; Coppola pushes it to distraction.\n",
      "\n",
      "\n",
      "-0.225\n",
      "Why has \"Apocalypse Now\" been so long bedeviled by rumors that Coppola was not happy with this ending?\n",
      "Why has \"Apocalypse Now\" been so long bedeviled by rumors that Coppola was not happy with this ending? At Apocalypse Now's premiere at Cannes, I saw the confusion begin. Coppola originally intended to show Apocalypse Now as a 70mm roadshow with no credits (they would be printed in a booklet). But the 35mm release would need end titles. After he was finished filming on the huge set of the Kurtz compound, Coppola was required by the Philippine government to destroy it, and he photographed it being blown up. He decided to use this footage over his closing 35mm credits, even though (this is crucial) he did not intend the destruction of the compound as an alternative \"ending\" to Apocalypse Now. Alas, confusion about the endings spread from Cannes into movie folklore, and most people thought that by \"ending\" he meant all of the material involving Kurtz. In the 20th anniversary DVD release, Coppola patiently explains all of this once again.\n",
      "\n",
      "\n",
      "-0.3333333333333333\n",
      "Coppola says the scene was suggested by the shower scene in Psycho, and for Murch, the guilty evidence welling up reminds him of his adolescent shame when he tried to flush some porno magazines and they came floating back at just the wrong time.\n",
      "Much has been written about that scene. Is it real or imagined? The new DVD of The Conversation has commentary tracks by both Coppola and Walter Murch, the editor and sound wizard, but neither addresses that question. Coppola says the scene was suggested by the shower scene in Psycho, and for Murch, the guilty evidence welling up reminds him of his adolescent shame when he tried to flush some porno magazines and they came floating back at just the wrong time. I think the scene is meant to be real. Later, the quick cuts of what might have happened in the room are, I think, Harrys speculations.\n",
      "\n",
      "\n",
      "-0.3625\n",
      "Coppola directs with all the stops out, and the actors perform as if afraid they will not be audible in the other theaters of the multiplex.\n",
      "Coppola directs with all the stops out, and the actors perform as if afraid they will not be audible in the other theaters of the multiplex. The sets are grand opera run riot - Gothic extravaganza intercut with the Victorian London of gaslights and fogbound streets, rogues in top hats and bad girls in bustiers. Keanu Reeves, as a serious young man of the future, hardly knows what he's up against with Count Dracula, and neither do we, since Dracula cheerfully changes form - from an ancient wreck to a presentable young man to a cat and a bat and a wolf.\n",
      "\n",
      "\n",
      "-0.5\n",
      "It is difficult, by the way, to avoid the notion that, in Preston Tucker, Coppola sees a version of himself.\n",
      "It is difficult, by the way, to avoid the notion that, in Preston Tucker, Coppola sees a version of himself. Coppola says he has been fascinated by the Tucker legend ever since he first saw a Tucker car in the late 40s, and he has owned a rare collectors model during the 10 years he has been trying to get this dream film off the ground.\n",
      "\n",
      "\n"
     ]
    }
   ],
   "source": [
    "like_person('ebert', 'Francis Ford Coppola')"
   ]
  },
  {
   "cell_type": "code",
   "execution_count": 10,
   "metadata": {
    "collapsed": false
   },
   "outputs": [],
   "source": [
    "def like_person_3(corpus, name):\n",
    "    c = Corpus(corpus)\n",
    "\n",
    "    final_results = []\n",
    "    \n",
    "    # Get all articles that have the person's name\n",
    "    article_list = c.retrieve_articles(name)\n",
    "    \n",
    "    last_name = name.split()[-1]\n",
    "    \n",
    "    filtered_sentences = []\n",
    "    \n",
    "    for article in article_list:\n",
    "        filtered_sentences += [(article, i) for i in compose_filters(article.sentences,\n",
    "                                       [filter_opinion,\n",
    "                                        filter_person_subject,\n",
    "                                        filter_name_parentheses,\n",
    "                                        filter_fragments,\n",
    "                                        filter_name],\n",
    "                                       name=last_name) if i.filter_depth > 4]\n",
    "        \n",
    "    #print([i[1].sentiment for i in filtered_sentences])\n",
    "    #print(sum([i[1].sentiment for i in filtered_sentences])/ len(filtered_sentences))\n",
    "    \n",
    "    ctr = 0\n",
    "    sorted_results = sorted(filtered_sentences, key=lambda x: x[1].sentiment, reverse=True)\n",
    "    \n",
    "    first_last_candidates = []\n",
    "    \n",
    "    for i in sorted_results:\n",
    "        if ctr < 300:\n",
    "            if i[1].filter_depth > 3:\n",
    "                #print(i[1].sentiment)\n",
    "                #print(i[1].text.text)\n",
    "                try:\n",
    "                    matched_paragraph = i[0].get_paragraph(i[1])\n",
    "                    paragraph_sentences = list(NLP(matched_paragraph).sents)\n",
    "                    if i[1].text.text in paragraph_sentences[0].text:\n",
    "                        #print('FIRST SENTENCE')\n",
    "                        if i[1] not in [i[1] for i in first_last_candidates]:\n",
    "                            first_last_candidates.append(i)\n",
    "                    if i[1].text.text in paragraph_sentences[-1].text:\n",
    "                        #pass#print('LAST SENTENCE')\n",
    "                        if i[1] not in [i[1] for i in first_last_candidates]:\n",
    "                            first_last_candidates.append(i)\n",
    "                    #print(matched_paragraph)\n",
    "                    ctr += 1\n",
    "                except ValueError:\n",
    "                    pass#print('PARAGRAPH NOT FOUND')\n",
    "                #print('\\n')\n",
    "    #try:\n",
    "    #    matched_paragraph = sorted_results[-1][0].get_paragraph(sorted_results[-1][1])\n",
    "    #    print(\"However, \" + matched_paragraph)\n",
    "    #except ValueError:\n",
    "    #    pass\n",
    "    \n",
    "    \n",
    "    #for i in first_last_candidates:\n",
    "    #    print(i[1].sentiment, i[0].title, i[1].text.text)\n",
    "    \n",
    "    grouped = {}    \n",
    "    for i in first_last_candidates:\n",
    "        if grouped.get(i[0].title) is not None:\n",
    "            grouped[i[0].title].append(i[1])\n",
    "        else:\n",
    "            grouped[i[0].title] = [i[1]]\n",
    "            \n",
    "    # sort groups by length\n",
    "    sorted_by_length = sorted(grouped.items(), key=lambda x: len(x[1]), reverse=True)\n",
    "    ctr = 0\n",
    "    previous_average_sentiment = None\n",
    "    running_response = []\n",
    "    for s in sorted_by_length:\n",
    "        if ctr < 4:\n",
    "            curr_par = \"\"\n",
    "            cas = sum(i.sentiment for i in s[1]) / len(s)\n",
    "            if previous_average_sentiment is not None and (cas < 0 and previous_average_sentiment > 0):\n",
    "                curr_par += \"However, \"\n",
    "            previous_average_sentiment = cas\n",
    "            curr_par += \" \".join(i.text.text for i in s[1])\n",
    "            ctr += 1\n",
    "            running_response.append(curr_par)\n",
    "            \n",
    "    return \"\\n\".join(running_response)\n",
    "        "
   ]
  },
  {
   "cell_type": "code",
   "execution_count": 163,
   "metadata": {
    "collapsed": false
   },
   "outputs": [
    {
     "name": "stdout",
     "output_type": "stream",
     "text": [
      "There have been a lot of movies where stars have repeated the triumphs of their parts - but has any star ever done it more triumphantly than Marlon Brando does in \"The Freshman\"? Think of the criticism Brando risked, from those ready to attack him for cashing in on his most famous performance by reprising it for a comedy. Brando must have known the dangers, but he must have had confidence in himself, too - enough to go ahead anyway, and to win a considerable gamble. When Brando finished filming \"The Freshman\" last September, he attacked The Freshman in a notorious interview in the Toronto Globe and Mail, claiming it was trash and that he was retiring from acting. The other actors, perhaps aware of the chances Brando was taking, seem a little in awe of him - which is as it should be.\n",
      "However, Brando doesn't so much walk through Don Juan DeMarco as coast, in a gassy, self-indulgent performance no one else could have gotten away with. In a new book about how he makes movies, director Sidney Lumet speculates that Marlon Brando has a way of testing his directors. Brando does a scene twice, he writes, once really putting his soul into it, the second time using only technique. And there are moments so bizarre we wonder if the director actually suggested them, or whether Brando had a brainstorm, and everybody was afraid to tell him it wasn't such a hot idea. If the director fails the test, Brando walks through the rest of Don Juan DeMarco.\n",
      "And, yes, Brando is good as the old Brando. \"Reflections in a Golden Eye\" was proof that Brando is far from dead as an actor, although he may be finished as a box office draw.\n",
      "If you can take that moment and hold it in your mind with the famous scene where he assaults Stella's sister, Blanche DuBois (Vivien Leigh), you can see the freedom Brando is giving to Stanley Kowalski - and the range. Brando held nothing back, and within a few years his was the style that dominated Hollywood movie acting.\n"
     ]
    }
   ],
   "source": [
    "like_person_3('ebert', 'Marlon Brando')"
   ]
  },
  {
   "cell_type": "code",
   "execution_count": 164,
   "metadata": {
    "collapsed": false
   },
   "outputs": [
    {
     "name": "stdout",
     "output_type": "stream",
     "text": [
      "Why he likes Beethoven is never explained, but my notion is that Alex likes Beethoven in the same way that Kubrick likes to load his sound track with familiar classical music -- to add a cute, cheap, dead-end dimension. I don't know quite how to explain my disgust at Alex (whom Kubrick likes very much, as his visual style reveals and as we shall see in a moment). No, I think Kubrick is being too modest: Alex is all his. When Kubrick shows us Alex, however, he either places him in the center of a wide-angle shot (so Alex alone has normal human dimensions,) or uses a standard lens that does not distort. Kubrick has used visuals to alter the book's point of view and to nudge us toward a kind of grudging pal-ship with Alex. But that isn't what Kubrick is saying, He actually seems to be implying something simpler and more frightening: that in a world where society is criminal, the citizen might as well be a criminal, too. Kubrick uses the wide-angle lens almost all the time when he is showing events from Alex's point of view; this encourages us to see the world as Alex does, as a crazy-house of weird people out to get him. Alex is violent because it is necessary for him to be violent in order for A Clockwork Orange to entertain in the way Kubrick intends.\n",
      "Barry Lyndon\" isn't a great entertainment in the usual way, but it's a great example of directorial vision: Kubrick saying he's going to make this material function as an illustration of the way he sees the world. Kubrick told the critic Michel Ciment he used the narrator because the novel had too much incident even for a three-hour film, but there isn't the slightest sense he's condensing. There is no other way to see Barry than the way Kubrick sees him. By placing such small characters on such a big stage, by forcing our detachment from them, Kubrick supplies a philosophical position just as clearly as if he'd put speeches in his characters' mouths.\n",
      "Stanley Kubrick himself was a perfectionist who went to obsessive lengths in order to get everything in his films to work just right. Kubrick the perfectionist left the unplanned slip in Dr. Strangelove (Restored Version), because Scott made it seem convincing, and not an accident. Yet out of these rudimentary physical props and a brilliant screenplay (which Kubrick and Terry Southern based on a novel by Peter George), Kubrick made what is arguably the best political satire of the century, a film that pulled the rug out from under the Cold War by arguing that if a ``nuclear deterrent'' destroys all life on Earth, it is hard to say exactly what it has deterred. Kubrick, whose attention to the smallest detail in every frame was obsessive, would have been aware of George C. Scott's facial gymnastics, and yet he endorsed them, and when you watch ``Strangelove'' you can see why.\n",
      "Stanley Kubrick himself was a perfectionist who went to obsessive lengths in order to get everything in his films to work just right. Kubrick the perfectionist left the unplanned slip in Dr. Strangelove, because Scott made it seem convincing, and not an accident. Yet out of these rudimentary physical props and a brilliant screenplay (which Kubrick and Terry Southern based on a novel by Peter George), Kubrick made what is arguably the best political satire of the century, a film that pulled the rug out from under the Cold War by arguing that if a \"nuclear deterrent\" destroys all life on Earth, it is hard to say exactly what it has deterred. Kubrick, whose attention to the smallest detail in every frame was obsessive, would have been aware of George C. Scott's facial gymnastics, and yet he endorsed them, and when you watch \"Strangelove\" you can see why.\n"
     ]
    }
   ],
   "source": [
    "like_person_3('ebert', 'Stanley Kubrick')"
   ]
  },
  {
   "cell_type": "markdown",
   "metadata": {},
   "source": [
    "Questions and next steps:\n",
    "- How to deal with things like \"In this scene and others, Brando regains the peak of his magnificent talent.\"\n",
    "    - the \"In this scene and others\" doesn't make sense out of context.\n",
    "    - I think for now what I'm going to do is "
   ]
  },
  {
   "cell_type": "code",
   "execution_count": 165,
   "metadata": {
    "collapsed": false
   },
   "outputs": [
    {
     "name": "stdout",
     "output_type": "stream",
     "text": [
      "Cape Fear is impressive moviemaking, showing Scorsese as a master of a traditional Hollywood genre who is able to mold it to his own themes and obsessions. The way he sees the character of Sam Bowden is the key to why Martin Scorsese wanted to remake the 1962 thriller Cape Fear. This is the first film in a production deal Scorsese has with Universal Studios and Steven Spielberg's Amblin Entertainment, and it represents his access to budgets much larger than those he has worked with in the past. And with this new version of Max Cady, Scorsese gives us not simply a bad man, but an evil one - whose whole purpose is to show Sam Bowden he's a criminal, too. Unlike the simplistic version of this scene we have seen in a hundred thrillers, what Scorsese gives us is a villain who has been wronged, seeking to harm a hero who has sinned.\n",
      "Remarkably, writer-director Martin Scorsese is only 25 years old, and this is his first film. It is possible that with more experience and maturity Scorsese will direct more polished, finished films--but this work, completed when he was 25, contains a frankness he may have diluted by then. Scorsese is gifted at handling subtle moments, but he has some trouble with the more obvious ones. For another misplaced scene, however, Scorsese does not deserve full blame.\n",
      "Scorsese shows a sure sense for the Hollywood of that time, as in a scene where Howard, new in town, approaches the mogul L.B. Mayer at the Coconut Grove and asks to borrow two cameras for a big \"Hells' Angels\" scene. Their lives, in fact, are even a little similar: Heedless ambition and talent when young, great early success, tempestuous romances and a dark period, although with Hughes it got darker and darker, while Scorsese has emerged into the full flower of his gifts. Scorsese adds subtle continuity: Every time we see Mayer, he seems to be surrounded by the same flunkies.\n",
      "I have often thought that many of Scorsese's critics and admirers do not realize how deeply the Catholic Church of pre-Vatican II could burrow into the subconscious, or in how many ways Scorsese is a Catholic director. It is intriguing to wonder what Scorsese saw in the Hong Kong movie that inspired him to make the second remake of his career (after \"Cape Fear\"). It's strange that Jack Nicholson and Scorsese have never worked together, since they seem like a natural fit; he makes Frank Costello not a godfather, not a rat, not a blowhard, but a smart man who finally encounters a situation no one could fight free of, because he simply lacks all the necessary information.\n"
     ]
    }
   ],
   "source": [
    "like_person_3('ebert', 'Martin Scorsese')"
   ]
  },
  {
   "cell_type": "code",
   "execution_count": 166,
   "metadata": {
    "collapsed": false
   },
   "outputs": [
    {
     "name": "stdout",
     "output_type": "stream",
     "text": [
      "The Hunger Games is an effective entertainment, and Jennifer Lawrence is strong and convincing in the central role.\n"
     ]
    }
   ],
   "source": [
    "like_person_3('ebert', 'Jennifer Lawrence')"
   ]
  },
  {
   "cell_type": "code",
   "execution_count": 169,
   "metadata": {
    "collapsed": false
   },
   "outputs": [
    {
     "name": "stdout",
     "output_type": "stream",
     "text": [
      "Now that we know Quentin Tarantino can make a movie like \"Reservoir Dogs,\" it's time for him to move on and make a better one. Tarantino himself is also interesting as an actor; he could play great crazy villains. Reservoir Dogs feels like it's going to be terrific, but Tarantino's script doesn't have much curiosity about these guys. Having created the characters and fashioned the outline, Tarantino doesn't do much with his characters except to let them talk too much, especially when they should be unconscious from shock and loss of blood.\n",
      "But this is all one film, and now that we see it whole, it's greater than its two parts; Tarantino remains the most brilliantly oddball filmmaker of his generation, and this is one of the best films of the year. Put the two parts together, and Tarantino has made a masterful saga that celebrates the martial arts genre while kidding it, loving it, and transcending it. Kill Bill, Volume 2 is a distillation of the countless grind house kung-fu movies Tarantino has absorbed, and which he loves beyond all reason. Tarantino, who began Kill Bill, Volume 2 in black and white before switching to color, plays with formats here, too; to suggest the claustrophobia of being buried, he shows The Bride inside her wooden casket, and as clods of earth rain down on the lid, he switches from widescreen to the classic 4x3 screen ratio.\n",
      "Instead of waving his arms and talking brilliantly a mile a minute, Tarantino mumbles an approximation of a Southwestern accent and puts his charisma on hold. The first of many disappointments comes early in \"Destiny Turns On the Radio,\" when Quentin Tarantino appears on the screen. The disappointment is that Tarantino is not playing \"himself,\" the persona he has perfected on many talk shows and in celebrated roles in \"Reservoir Dogs,\" \"Pulp Fiction\" and \"Sleep With Me\" (where he explained his theory that \"Top Gun\" was a gay movie).\n",
      "Tarantino has a lot of good scenes in Jackie Brown. This is Jackie Brown that proves Tarantino is the real thing, and not just a two-film wonder boy. Tarantino leaves the hardest questions for last, hides his moves, conceals his strategies in plain view, and gives his characters dialogue that is alive, authentic and spontaneous.\n"
     ]
    }
   ],
   "source": [
    "like_person_3('ebert', 'Quentin Tarantino')"
   ]
  },
  {
   "cell_type": "code",
   "execution_count": 172,
   "metadata": {
    "collapsed": false
   },
   "outputs": [
    {
     "name": "stdout",
     "output_type": "stream",
     "text": [
      "I'd sorta rather see Diaz and Cruise in action scenes on a human scale, rather than have it rubbed in that for long stretches, they're essentially replaced by animation. Knight and Day knows this sequence is monumentally silly, and so do Cruise and Diaz, and Cruise keeps up a reassuring line of patter all during it, even while trying to crash-land safely.\n",
      "The archetypal Tom Cruise Movie is \"Top Gun,\" in which the young fighter pilot, a natural, was tutored by a once-great pilot and emotionally nurtured by an older female flight instructor before testing his wings against the hot dogs of his unit, in preparation for a final showdown. And Cruise is so efficiently packaged in this product that he plays the same role as a saint in a Mexican village's holy day procession: It's not what he does that makes him so special; it's the way he manifests everybody's faith in him.\n",
      "However, Tom Cruise, who initially seemed to many people an unlikely choice to play Lestat, is never less than convincing, and his slight British accent, combined with makeup that is dramatic without being obtrusive, disguises the clean-cut star - makes him seem unwholesome in an odd, insinuating way.\n",
      "I have no reason to believe that Tom Cruise is gay, except maybe for the time he used Oprah's couch as a trampoline, but since she brought it up, isn't his private life none of our beeswax?\n"
     ]
    }
   ],
   "source": [
    "like_person_3('ebert', 'Tom Cruise')"
   ]
  },
  {
   "cell_type": "markdown",
   "metadata": {},
   "source": [
    "# Try and Convert Filtering to Scores"
   ]
  },
  {
   "cell_type": "code",
   "execution_count": 11,
   "metadata": {
    "collapsed": false
   },
   "outputs": [],
   "source": [
    "def like_person_4(corpus, name):\n",
    "    c = Corpus(corpus)\n",
    "\n",
    "    final_results = []\n",
    "    \n",
    "    # Get all articles that have the person's name\n",
    "    article_list = c.retrieve_articles(name)\n",
    "    \n",
    "    last_name = name.split()[-1]\n",
    "    \n",
    "    filtered_sentences = []\n",
    "    \n",
    "    for article in article_list:\n",
    "        filtered_sentences += [(article, i) for i in compose_filters(article.sentences,\n",
    "                                       [filter_opinion,\n",
    "                                        filter_person_subject,\n",
    "                                        filter_name_parentheses,\n",
    "                                        filter_fragments,\n",
    "                                        filter_name],\n",
    "                                       name=last_name) if i.filter_depth > 4]\n",
    "    \n",
    "    ctr = 0\n",
    "    sorted_results = sorted(filtered_sentences, key=lambda x: x[1].sentiment, reverse=True)\n",
    "    \n",
    "    first_last_candidates = []\n",
    "    \n",
    "    for i in sorted_results:\n",
    "        if ctr < 300:\n",
    "            if i[1].filter_depth > 0:\n",
    "\n",
    "                try:\n",
    "                    matched_paragraph = i[0].get_paragraph(i[1])\n",
    "                    paragraph_sentences = list(NLP(matched_paragraph).sents)\n",
    "                    if i[1].text.text in paragraph_sentences[0].text:\n",
    "                        #print('FIRST SENTENCE')\n",
    "                        if i[1] not in [j[1] for j in first_last_candidates]:\n",
    "                            tmp = i\n",
    "                            tmp[1].filter_depth = tmp[1].filter_depth * 1.5\n",
    "                            first_last_candidates.append(tmp)\n",
    "                    elif i[1].text.text in paragraph_sentences[-1].text:\n",
    "                        #pass#print('LAST SENTENCE')\n",
    "                        if i[1] not in [j[1] for j in first_last_candidates]:\n",
    "                            tmp = i\n",
    "                            tmp[1].filter_depth = tmp[1].filter_depth * 1.5\n",
    "                            first_last_candidates.append(tmp)\n",
    "                    #print(matched_paragraph)\n",
    "                    else:\n",
    "                        first_last_candidates.append(i)\n",
    "                    ctr += 1\n",
    "                except ValueError:\n",
    "                    pass#print('PARAGRAPH NOT FOUND')\n",
    "                #print('\\n')\n",
    "\n",
    "    grouped = {}    \n",
    "    for i in first_last_candidates:\n",
    "        \n",
    "        if any(j in i[1].text.text.lower() for j in ['here', 'it']):\n",
    "               i[1].filter_depth = i[1].filter_depth * 0.9\n",
    "        \n",
    "        if grouped.get(i[0].title) is not None:\n",
    "            grouped[i[0].title].append(i[1])\n",
    "        else:\n",
    "            grouped[i[0].title] = [i[1]]\n",
    "    \n",
    "    for k in grouped:\n",
    "        \n",
    "        v = sorted(grouped[k], key=lambda x: x.filter_depth, reverse=True)\n",
    "        avg_sim = []\n",
    "        for i in range(len(v)):\n",
    "            for j in range(1, len(v)):\n",
    "                avg_sim += [v[i].text.similarity(v[j].text)]\n",
    "        if len(avg_sim) > 0:\n",
    "            avg_sim = sum(avg_sim)/len(avg_sim)\n",
    "        else:\n",
    "            avg_sim = 0.0\n",
    "        for i in v:\n",
    "            i.filter_depth = i.filter_depth * avg_sim\n",
    "        \n",
    "        grouped[k] = v\n",
    "        \n",
    "    \n",
    "    # sort groups by score\n",
    "    sorted_by_length = sorted(grouped.items(), key=lambda x: max(a.filter_depth for a in x[1]), reverse=True)\n",
    "    ctr = 0\n",
    "    previous_average_sentiment = None\n",
    "    running_response = []\n",
    "    for s in sorted_by_length:\n",
    "        if ctr < 4:\n",
    "            curr_par = \"\"\n",
    "            cas = sum(i.sentiment for i in s[1]) / len(s)\n",
    "            if previous_average_sentiment is not None and (cas < 0 and previous_average_sentiment > 0):\n",
    "                curr_par += \"However, \"\n",
    "            previous_average_sentiment = cas\n",
    "            curr_par += \" \".join(i.text.text for i in s[1])\n",
    "            ctr += 1\n",
    "            running_response.append(curr_par)\n",
    "            \n",
    "    return \"\\n\".join(running_response)\n",
    "        "
   ]
  },
  {
   "cell_type": "code",
   "execution_count": 72,
   "metadata": {
    "collapsed": false
   },
   "outputs": [
    {
     "name": "stdout",
     "output_type": "stream",
     "text": [
      "This sounds like an entertaining story, I suppose, but Scorsese doesn't direct a single scene for a payoff. Scorsese and De Niro are the most creative, productive director/actor team in The King of Comedys right now, and the fact that they feel the freedom to make such an odd, stimulating, unsatisfyng movie is good news, I guess. It's hard to believe Scorsese made it; instead of the big-city life, the violence and sexuality of his movies like \"Taxi Driver\" and \"Mean Streets,\" what we have here is an agonizing portrait of lonely, angry people with their emotions all tightly bottled up.\n",
      "Scorsese seems so much in command of his gift in GoodFellas. So says Henry Hill in the opening moments of Martin Scorseses GoodFellas, a movie about the tradecraft and culture of organized crime in New York.\n",
      "However, The way he sees the character of Sam Bowden is the key to why Martin Scorsese wanted to remake the 1962 thriller Cape Fear. Unlike the simplistic version of this scene we have seen in a hundred thrillers, what Scorsese gives us is a villain who has been wronged, seeking to harm a hero who has sinned. Cape Fear is impressive moviemaking, showing Scorsese as a master of a traditional Hollywood genre who is able to mold it to his own themes and obsessions. This is the first film in a production deal Scorsese has with Universal Studios and Steven Spielberg's Amblin Entertainment, and it represents his access to budgets much larger than those he has worked with in the past. And with this new version of Max Cady, Scorsese gives us not simply a bad man, but an evil one - whose whole purpose is to show Sam Bowden he's a criminal, too. In the Scorsese version, Bowden is flawed and guilty, and indeed everyone in Cape Fear is weak in one way or another, and there are no heroes.\n",
      "Scorsese remains one of the bright young hopes of American movies. Director Martin Scorsese has gone for mood and atmosphere more than for action, and his violence is always blunt and unpleasant -- never liberating and exhilarating, as the New Violence is supposed to be.\n"
     ]
    }
   ],
   "source": [
    "like_person_4('ebert', 'Martin Scorsese')"
   ]
  },
  {
   "cell_type": "code",
   "execution_count": 73,
   "metadata": {
    "collapsed": false
   },
   "outputs": [
    {
     "name": "stdout",
     "output_type": "stream",
     "text": [
      "Brando must have known the dangers, but he must have had confidence in himself, too - enough to go ahead anyway, and to win a considerable gamble. There have been a lot of movies where stars have repeated the triumphs of their parts - but has any star ever done it more triumphantly than Marlon Brando does in \"The Freshman\"? Think of the criticism Brando risked, from those ready to attack him for cashing in on his most famous performance by reprising it for a comedy. When Brando finished filming \"The Freshman\" last September, he attacked The Freshman in a notorious interview in the Toronto Globe and Mail, claiming it was trash and that he was retiring from acting. The other actors, perhaps aware of the chances Brando was taking, seem a little in awe of him - which is as it should be.\n",
      "Brando even tested for the role, but he fell out, Bergman was troubled in her controversial marriage to Roberto Rossellini, and Count Luchino Visconti settled for Valli, an important European star, and Granger, a lesser but well-known star from America. Brando was an imposing masculine presence, and Mahler needs to be a faithless coward.\n",
      "And, yes, Brando is good as the old Brando. \"Reflections in a Golden Eye\" was proof that Brando is far from dead as an actor, although he may be finished as a box office draw. But Brando has not done any acting in the last ten years to equal his magnificent performance in \"Reflections in a Golden Eye\" (1967) a box office flop. But the question remains: Should Brando really be wasting his time on this sort of movie? Miss Moreno has a difficult scene with Brando (she's on dope and keeps going to sleep in a bathtub) that she handles with quiet conviction.\n",
      "However, In a new book about how he makes movies, director Sidney Lumet speculates that Marlon Brando has a way of testing his directors. If the director fails the test, Brando walks through the rest of Don Juan DeMarco. Brando doesn't so much walk through Don Juan DeMarco as coast, in a gassy, self-indulgent performance no one else could have gotten away with. Brando does a scene twice, he writes, once really putting his soul into it, the second time using only technique. And there are moments so bizarre we wonder if the director actually suggested them, or whether Brando had a brainstorm, and everybody was afraid to tell him it wasn't such a hot idea.\n"
     ]
    }
   ],
   "source": [
    "like_person_4('ebert', 'Marlon Brando')"
   ]
  },
  {
   "cell_type": "code",
   "execution_count": 74,
   "metadata": {
    "collapsed": false
   },
   "outputs": [
    {
     "name": "stdout",
     "output_type": "stream",
     "text": [
      "Coppola had just finished a successful mainstream production for Warner, \"Finian's Rainbow,\" and his proposal sounded good in that era of youth films, bike films, trip films and other high hopes. Francis Ford Coppola, a young director of promise, persuaded Warner Bros. to help finance and distribute a group of features by the bright new filmmakers he'd gathered around him.\n",
      "Coppola had just finished a successful mainstream production for Warners, \"Finian's Rainbow,\" and his proposal sounded good in that era of youth films, bike films, trip films, and other high hopes. Francis Ford Coppola, a young director of promise, persuaded Warner Bros. to help finance and distribute a group of features by the bright new filmmakers he'd gathered around him.\n",
      "However, Coppola says he has been fascinated by the Tucker legend ever since he first saw a Tucker car in the late 40s, and he has owned a rare collectors model during the 10 years he has been trying to get this dream film off the ground. The parallels between Coppola and Tucker are so obvious that its surprising Coppola didnt observe one more: He has been as protective of Tuckers private life as he rightly is of his own. A little of this would have made the point; Coppola pushes it to distraction. It is difficult, by the way, to avoid the notion that, in Preston Tucker, Coppola sees a version of himself.\n",
      "Coppola, who wrote and directed, considers The Conversation his most personal project. Coppola says the scene was suggested by the shower scene in Psycho, and for Murch, the guilty evidence welling up reminds him of his adolescent shame when he tried to flush some porno magazines and they came floating back at just the wrong time.\n"
     ]
    }
   ],
   "source": [
    "like_person_4('ebert', 'Francis Ford Coppola')"
   ]
  },
  {
   "cell_type": "code",
   "execution_count": 75,
   "metadata": {
    "collapsed": false
   },
   "outputs": [
    {
     "name": "stdout",
     "output_type": "stream",
     "text": [
      "The archetypal Tom Cruise Movie is \"Top Gun,\" in which the young fighter pilot, a natural, was tutored by a once-great pilot and emotionally nurtured by an older female flight instructor before testing his wings against the hot dogs of his unit, in preparation for a final showdown. And Cruise is so efficiently packaged in this product that he plays the same role as a saint in a Mexican village's holy day procession: It's not what he does that makes him so special; it's the way he manifests everybody's faith in him.\n",
      "However, I'd sorta rather see Diaz and Cruise in action scenes on a human scale, rather than have it rubbed in that for long stretches, they're essentially replaced by animation. Knight and Day knows this sequence is monumentally silly, and so do Cruise and Diaz, and Cruise keeps up a reassuring line of patter all during it, even while trying to crash-land safely. Roy Miller, the Cruise character, has something, and there are bad guys who want it.\n",
      "They find true love, which is shattered when Shue sees Cruise with the rich Manhattan executive. That's when Cruise drops out of school, becomes a full-time bartender, makes Brown his best friend and learns to juggle those bottles. Brown advises Cruise to keep his eyes open for a \"rich chick,\" because that's his ticket to someday opening his own bar.\n",
      "After Moore and Cruise meet with the accused young Marines, she realizes they have a sticky case on their hands, because the unwritten Marine code means that the two won't talk, even to save themselves.\n"
     ]
    }
   ],
   "source": [
    "like_person_4('ebert', 'Tom Cruise')"
   ]
  },
  {
   "cell_type": "markdown",
   "metadata": {},
   "source": [
    "# Determine an Independent Objective Function\n",
    "\n",
    "## Desirable Qualities of a Summary\n",
    "- Favor longer paragraphs -> MAYBE NOT\n",
    "- Thesis statement is at beginning of paragraph\n",
    "- Thesis statement is about the desired subject (person in this case)\n",
    "- If the person is an actor/actress, the sentences are about the person, not a character\n",
    "- Thesis statement does not have any unresolved coreferences\n",
    "- Thesis statement sentiment is representative of the paragraph sentiment\n",
    "- Intra-paragraph sentiment is similar\n",
    "- There are no duplicate sentences\n",
    "- All sentences are subjective\n",
    "- Reward summaries that have things like \"I like\", \"I dislike\", etc. => Personalization\n",
    "- Loop in a generalized readability measure (or multiple) as a way of capturing coherence\n",
    "    - Will start with https://pypi.python.org/pypi/readability , though a good port of Coh-Metrix may be better since it seems to pull in coherence more directly\n",
    "\n",
    "## Other Ideas\n",
    "We know that sentences in the beginning and ends of paragraphs (and likely even articles e.g. intros/conclusions) tend to work well. My thought is that this function should be able to evaluate using only the paragraph itself. We just would end up preferring those sentences at construction time since they exhibit these qualities.\n",
    "\n",
    "## Other Evaluation Techniques\n",
    "ROUGE (Recall-Oriented Understudy for Gisting Evaluation) metrics are used in most major conferences/competitions. The idea here is to compare against a set of human-written summaries across a few different features.\n",
    "- ROUGE-N: N-gram[3] based co-occurrence statistics.\n",
    "- ROUGE-L: Longest Common Subsequence (LCS)[4] based statistics. Longest common subsequence problem takes into account sentence level structure similarity naturally and identifies longest co-occurring in sequence n-grams automatically.\n",
    "- ROUGE-W: Weighted LCS-based statistics that favors consecutive LCSes .\n",
    "- ROUGE-S: Skip-bigram[5] based co-occurrence statistics. Skip-bigram is any pair of words in their sentence order.\n",
    "- ROUGE-SU: Skip-bigram plus unigram-based co-occurrence statistics.\n",
    "\n",
    "This is absolutely an area for further development. Though, likely out of scope for this project.\n",
    "\n"
   ]
  },
  {
   "cell_type": "code",
   "execution_count": 76,
   "metadata": {
    "collapsed": true
   },
   "outputs": [],
   "source": [
    "import readability"
   ]
  },
  {
   "cell_type": "code",
   "execution_count": 12,
   "metadata": {
    "collapsed": true
   },
   "outputs": [],
   "source": [
    "sample_string = \"\"\"\n",
    "Brando must have known the dangers, but he must have had confidence in himself, too - enough to go ahead anyway, and to win a considerable gamble. There have been a lot of movies where stars have repeated the triumphs of their parts - but has any star ever done it more triumphantly than Marlon Brando does in \"The Freshman\"? Think of the criticism Brando risked, from those ready to attack him for cashing in on his most famous performance by reprising it for a comedy. When Brando finished filming \"The Freshman\" last September, he attacked The Freshman in a notorious interview in the Toronto Globe and Mail, claiming it was trash and that he was retiring from acting. The other actors, perhaps aware of the chances Brando was taking, seem a little in awe of him - which is as it should be.\n",
    "Brando even tested for the role, but he fell out, Bergman was troubled in her controversial marriage to Roberto Rossellini, and Count Luchino Visconti settled for Valli, an important European star, and Granger, a lesser but well-known star from America. Brando was an imposing masculine presence, and Mahler needs to be a faithless coward.\n",
    "And, yes, Brando is good as the old Brando. \"Reflections in a Golden Eye\" was proof that Brando is far from dead as an actor, although he may be finished as a box office draw. But Brando has not done any acting in the last ten years to equal his magnificent performance in \"Reflections in a Golden Eye\" (1967) a box office flop. But the question remains: Should Brando really be wasting his time on this sort of movie? Miss Moreno has a difficult scene with Brando (she's on dope and keeps going to sleep in a bathtub) that she handles with quiet conviction.\n",
    "However, In a new book about how he makes movies, director Sidney Lumet speculates that Marlon Brando has a way of testing his directors. If the director fails the test, Brando walks through the rest of Don Juan DeMarco. Brando doesn't so much walk through Don Juan DeMarco as coast, in a gassy, self-indulgent performance no one else could have gotten away with. Brando does a scene twice, he writes, once really putting his soul into it, the second time using only technique. And there are moments so bizarre we wonder if the director actually suggested them, or whether Brando had a brainstorm, and everybody was afraid to tell him it wasn't such a hot idea.\n",
    "\"\"\""
   ]
  },
  {
   "cell_type": "code",
   "execution_count": 81,
   "metadata": {
    "collapsed": false
   },
   "outputs": [
    {
     "data": {
      "text/plain": [
       "OrderedDict([('readability grades',\n",
       "              OrderedDict([('Kincaid', 41.764043062200955),\n",
       "                           ('ARI', 51.92485645933014),\n",
       "                           ('Coleman-Liau', 10.262860600478472),\n",
       "                           ('FleschReadingEase', -18.23919856459328),\n",
       "                           ('GunningFogIndex', 45.14928229665072),\n",
       "                           ('LIX', 123.16028708133972),\n",
       "                           ('SMOGIndex', 19.20185174601965),\n",
       "                           ('RIX', 19.5),\n",
       "                           ('DaleChallIndex', 13.730465550239236)])),\n",
       "             ('sentence info',\n",
       "              OrderedDict([('characters_per_word', 4.480861244019139),\n",
       "                           ('syll_per_word', 1.4066985645933014),\n",
       "                           ('words_per_sentence', 104.5),\n",
       "                           ('sentences_per_paragraph', 4.0),\n",
       "                           ('type_token_ratio', 0.5789473684210527),\n",
       "                           ('characters', 1873),\n",
       "                           ('syllables', 588),\n",
       "                           ('words', 418),\n",
       "                           ('wordtypes', 242),\n",
       "                           ('sentences', 4),\n",
       "                           ('paragraphs', 1),\n",
       "                           ('long_words', 78),\n",
       "                           ('complex_words', 35),\n",
       "                           ('complex_words_dc', 130)])),\n",
       "             ('word usage',\n",
       "              OrderedDict([('tobeverb', 16),\n",
       "                           ('auxverb', 6),\n",
       "                           ('conjunction', 17),\n",
       "                           ('pronoun', 34),\n",
       "                           ('preposition', 52),\n",
       "                           ('nominalization', 7)])),\n",
       "             ('sentence beginnings',\n",
       "              OrderedDict([('pronoun', 0),\n",
       "                           ('interrogative', 0),\n",
       "                           ('article', 0),\n",
       "                           ('subordination', 0),\n",
       "                           ('conjunction', 1),\n",
       "                           ('preposition', 0)]))])"
      ]
     },
     "execution_count": 81,
     "metadata": {},
     "output_type": "execute_result"
    }
   ],
   "source": [
    "readability.getmeasures(sample_string, \"en\")"
   ]
  },
  {
   "cell_type": "markdown",
   "metadata": {},
   "source": [
    "- Kincaid: low - hard to read, high - easy to read\n",
    "- Automatic Readability Index (ARI): low - easy to read, high - hard to read"
   ]
  },
  {
   "cell_type": "code",
   "execution_count": 13,
   "metadata": {
    "collapsed": false
   },
   "outputs": [],
   "source": [
    "# Going to use textacy since it still sits on top of spacy and consistency is nice\n",
    "from textacy import text_stats\n",
    "import textacy"
   ]
  },
  {
   "cell_type": "code",
   "execution_count": 14,
   "metadata": {
    "collapsed": false
   },
   "outputs": [],
   "source": [
    "t = text_stats.TextStats(NLP(sample_string))"
   ]
  },
  {
   "cell_type": "code",
   "execution_count": 15,
   "metadata": {
    "collapsed": false
   },
   "outputs": [
    {
     "name": "stderr",
     "output_type": "stream",
     "text": [
      "WARNING:root:SMOG score may be unreliable for n_sents < 30\n"
     ]
    },
    {
     "data": {
      "text/plain": [
       "{'automated_readability_index': 11.938512605042014,\n",
       " 'coleman_liau_index': 9.236950795238098,\n",
       " 'flesch_kincaid_grade_level': 10.481008403361347,\n",
       " 'flesch_readability_ease': 63.92281512605044,\n",
       " 'gulpease_index': 56.52380952380952,\n",
       " 'gunning_fog_index': 13.596638655462186,\n",
       " 'lix': 43.03921568627451,\n",
       " 'smog_index': 11.78182255692154,\n",
       " 'wiener_sachtextformel': 5.10251400560224}"
      ]
     },
     "execution_count": 15,
     "metadata": {},
     "output_type": "execute_result"
    }
   ],
   "source": [
    "t.readability_stats"
   ]
  },
  {
   "cell_type": "code",
   "execution_count": 17,
   "metadata": {
    "collapsed": true
   },
   "outputs": [],
   "source": [
    "# flesch_readability_ease HIGH => easy, LOW => hard"
   ]
  },
  {
   "cell_type": "code",
   "execution_count": 18,
   "metadata": {
    "collapsed": true
   },
   "outputs": [],
   "source": [
    "# lets get a baseline for Ebert:\n",
    "\n",
    "apocalypse_now_review = \"\"\"\n",
    "Francis Ford Coppola's film \"Apocalypse Now\" was inspired by Heart of Darkness, a novel by Joseph Conrad about a European named Kurtz who penetrated to the farthest reaches of the Congo and established himself like a god. A boat sets out to find him, and on the journey the narrator gradually loses confidence in orderly civilization; he is oppressed by the great weight of the jungle all around him, a pitiless Darwinian testing ground in which each living thing tries every day not to be eaten.\n",
    "\n",
    "What is found at the end of the journey is not Kurtz so much as what Kurtz found: that all of our days and ways are a fragile structure perched uneasily atop the hungry jaws of nature that will thoughtlessly devour us. A happy life is a daily reprieve from this knowledge.\n",
    "\n",
    "A week ago I was in Calcutta, where I saw mile upon square mile of squatter camps in which hundreds of thousands live generation after generation in leaky huts of plastic, cardboard and scrap metal, in poverty so absolute it is impossible to see any hope of escape. I do not mean to equate the misery of those hopeless people with a movie; that would be indecent. But I was deeply shaken by what I saw, and realized how precious and precarious is a happy life. And in such a mood I watched \"Apocalypse Now\" and came to the scene where Col. Kurtz (Marlon Brando) tells Capt. Willard (Martin Sheen) about \"the horror.\"\n",
    "\n",
    "Kurtz is a decorated hero, one of the best soldiers in the Army, who has created a jungle sanctuary upriver inside enemy territory, and rules Montagnard tribesmen as his private army. He tells Willard about a day when his Special Forces men inoculated the children of a village against polio: \"This old man came running after us and he was crying, he couldn't see. We went back there, and they had come and hacked off every inoculated arm. There they were in a pile, a pile of little arms. . . .\"\n",
    "\n",
    "What Kurtz learned is that the Viet Cong were willing to go to greater lengths to win: \"Then I realized they were stronger than we. They have the strength, the strength to do that. If I had 10 divisions of those men, then our troubles here would be over very quickly. You have to have men who are moral and at the same time who are able to utilize their primordial instincts to kill without feeling, without passion, without judgment.\" This is the \"horror\" that Kurtz has found, and it threatens to envelop Willard, too.\n",
    "\n",
    "The whole movie is a journey toward Willard's understanding of how Kurtz, one of the Army's best soldiers, penetrated the reality of war to such a depth that he could not look any longer without madness and despair.\n",
    "\n",
    "The film has one of the most haunting endings in cinema, a poetic evocation of what Kurtz has discovered, and what we hope not to discover for ourselves. The river journey creates enormous anticipation about Kurtz, and Brando fulfills it. When the film was released in 1979, his casting was criticized and his enormous paycheck of $1 million was much discussed, but it's clear he was the correct choice, not only because of his stature as an icon, but because of his voice, which enters the film from darkness or half-light, repeating the words of T.S. Eliot's despairing \"The Hollow Men.\" That voice sets the final tone of the film.\n",
    "\n",
    "Another crucial element in the ending is the photojournalist (Dennis Hopper) who has somehow found Kurtz's camp and stayed there, stoned, as a witness. He blathers to Willard that Kurtz is \"a poet-warrior in the classic sense\" and \"we're all his children.\" In the photographer's spaced-out ravings we hear disconnected snatches of the poetry he must have heard Kurtz reciting: If you can keep your head when all about you . . . I should have been a pair of ragged claws, scuttling across the floor of a silent sea. . . .\" The photographer is the guide, the clown, the fool, providing the balance between Willard and Kurtz.\n",
    "\n",
    "Why has \"Apocalypse Now\" been so long bedeviled by rumors that Coppola was not happy with this ending? At the film's premiere at Cannes, I saw the confusion begin. Coppola originally intended to show the movie as a 70mm roadshow with no credits (they would be printed in a booklet). But the 35mm release would need end titles. After he was finished filming on the huge set of the Kurtz compound, Coppola was required by the Philippine government to destroy it, and he photographed it being blown up. He decided to use this footage over his closing 35mm credits, even though (this is crucial) he did not intend the destruction of the compound as an alternative \"ending\" to the film. Alas, confusion about the endings spread from Cannes into movie folklore, and most people thought that by \"ending\" he meant all of the material involving Kurtz. In the 20th anniversary DVD release, Coppola patiently explains all of this once again.\n",
    "\n",
    "In any event, seen again now at a distance of 20 years, \"Apocalypse Now\" is more clearly than ever one of the key films of the century. Most films are lucky to contain a single great sequence. \"Apocalypse Now\" strings together one after another, with the river journey as the connecting link. The best is the helicopter attack on a Vietnam village, led by Col. Kilgore (Robert Duvall), whose choppers use loudspeakers at top volume to play Wagner's \"Ride of the Valkyries\" as they swoop down on a yard full of schoolchildren. Duvall won an Oscar nomination for his performance and its unforgettable line, \"I love the smell of napalm in the morning.\" His emptiness is frightening: A surfing fanatic, he agrees to the attack only to liberate a beach said to offer great waves (\"Charlie don't surf\").\n",
    "\n",
    "There is also the sequence where the patrol boat stops a small fishing boat with a family on board. A little girl makes a sudden dash, and the jumpy machine-gunner (a young Laurence Fishburne) opens fire, wiping out the entire family. It turns out the girl was running for her puppy. The mother is not quite dead. The boat chief (Albert Hall) wants to take her for medical treatment. Willard puts a bullet into her; nothing can delay his mission. He and \"Chief\" are the only two seasoned military men on the boat, trying to do things by the book; later, in a scene with peculiar power, the chief is astonished to be killed by a spear.\n",
    "\n",
    "For me the most remarkable visuals in the film occur when Chef (Fredric Forrest), one of Willard's crew members, insists on venturing into the forest in search of mangos. Willard can't stop him, so he joins him. The great cinematographer Vittorio Storaro shows them as little human specks at the foot of towering trees, and this is a Joseph Conrad moment, showing how nature dwarfs us.\n",
    "\n",
    "The rock 'n' roll soundtrack opens and closes with \"The End\" by the Doors, and includes disc jockeys on transistor radios (\"Good morning, Vietnam!\"). The music underlines surrealistic moments, as when Lance (Sam Bottoms), one of Willard's crew, water-skis behind the boat. It also shows how the soldiers try to use the music of home, and booze and drugs, to ease their loneliness and apprehension.\n",
    "\n",
    "Other important films such as \"Platoon,\" \"The Deer Hunter,\" \"Full Metal Jacket\" and \"Casualties of War\" take their own approaches to Vietnam. Once at the Hawaii Film Festival I saw five North Vietnamese films about the war. (They never mentioned \"America,\" only \"the enemy,\" and one director told me, \"It is all the same--we have been invaded by China, France, the U.S. . . .\") But \"Apocalypse Now\" is the best Vietnam film, one of the greatest of all films, because it pushes beyond the others, into the dark places of the soul. It is not about war so much as about how war reveals truths we would be happy never to discover.\n",
    "\n",
    "In a way I cannot quite explain, my thoughts since Calcutta prepared me to understand the horror that Kurtz found. If we are lucky, we spend our lives in a fool's paradise, never knowing how close we skirt the abyss. What drives Kurtz mad is his discovery of this.\n",
    "\"\"\""
   ]
  },
  {
   "cell_type": "code",
   "execution_count": 19,
   "metadata": {
    "collapsed": false
   },
   "outputs": [
    {
     "data": {
      "text/plain": [
       "{'automated_readability_index': 9.938535250405238,\n",
       " 'coleman_liau_index': 8.7505075641749,\n",
       " 'flesch_kincaid_grade_level': 8.916074984737808,\n",
       " 'flesch_readability_ease': 68.83445834999895,\n",
       " 'gulpease_index': 59.042313117066286,\n",
       " 'gunning_fog_index': 11.850721007094288,\n",
       " 'lix': 41.121865987411326,\n",
       " 'smog_index': 10.77446382781758,\n",
       " 'wiener_sachtextformel': 4.4982910847735935}"
      ]
     },
     "execution_count": 19,
     "metadata": {},
     "output_type": "execute_result"
    }
   ],
   "source": [
    "t = text_stats.TextStats(NLP(apocalypse_now_review))\n",
    "t.readability_stats"
   ]
  },
  {
   "cell_type": "code",
   "execution_count": 20,
   "metadata": {
    "collapsed": true
   },
   "outputs": [],
   "source": [
    "godfather_review = \"\"\"\n",
    "“The Godfather” is told entirely within a closed world. That’s why we sympathize with characters who are essentially evil. The story by Mario Puzo and Francis Ford Coppola is a brilliant conjuring act, inviting us to consider the Mafia entirely on its own terms. Don Vito Corleone (Marlon Brando) emerges as a sympathetic and even admirable character; during the entire film, this lifelong professional criminal does nothing of which we can really disapprove.\n",
    "\n",
    "During the movie we see not a single actual civilian victim of organized crime. No women trapped into prostitution. No lives wrecked by gambling. No victims of theft, fraud or protection rackets. The only police officer with a significant speaking role is corrupt.\n",
    "\n",
    "The story views the Mafia from the inside. That is its secret, its charm, its spell; in a way, it has shaped the public perception of the Mafia ever since. The real world is replaced by an authoritarian patriarchy where power and justice flow from the Godfather, and the only villains are traitors. There is one commandment, spoken by Michael (Al Pacino): “Don’t ever take sides against the family.”\n",
    "\n",
    "It is significant that the first shot is inside a dark, shuttered room. It is the wedding day of Vito Corleone’s daughter, and on such a day a Sicilian must grant any reasonable request. A man has come to ask for punishment for his daughter’s rapist. Don Vito asks why he did not come to him immediately.\n",
    "\n",
    "“I went to the police, like a good American,” the man says. The Godfather’s reply will underpin the entire movie: “Why did you go to the police? Why didn’t you come to me first? What have I ever done to make you treat me so disrespectfully? If you’d come to me in friendship, then this scum that ruined your daughter would be suffering this very day. And if, by chance, an honest man like yourself should make enemies . . . then they would become my enemies. And then they would fear you.”\n",
    "\n",
    "As the day continues, there are two more scenes in the Godfather’s darkened study, intercut with scenes from the wedding outside. By the end of the wedding sequence, most of the main characters will have been introduced, and we will know essential things about their personalities. It is a virtuoso stretch of filmmaking: Coppola brings his large cast onstage so artfully that we are drawn at once into the Godfather’s world.\n",
    "\n",
    "The screenplay of “The Godfather” follows no formulas except for the classic structure in which power passes between the generations. The writing is subtly constructed to set up events later in the film. Notice how the request by Johnny Fontane, the failing singer, pays off in the Hollywood scenes; how his tears set up the shocking moment when a mogul wakes up in bed with what is left of his racehorse. Notice how the undertaker is told “someday, and that day may never come, I will ask a favor of you. . .” and how when the day comes the favor is not violence (as in a conventional movie) but Don Vito’s desire to spare his wife the sight of their son’s maimed body. And notice how a woman’s “mistaken” phone call sets up the trap in which Sonny (James Caan) is murdered: It’s done so neatly that you have to think back through the events to figure it out.\n",
    "\n",
    "Now here is a trivia question: What is the name of Vito’s wife? She exists in the movie as an insignificant shadow, a plump Sicilian grandmother who poses with her husband in wedding pictures but plays no role in the events that take place in his study. There is little room for women in “The Godfather.” Sonny uses and discards them, and ignores his wife. Connie (Talia Shire), the Don’s daughter, is so disregarded that her husband is not allowed into the family business. He is thrown a bone--”a living”--and later, when he is killed, Michael coldly lies to his sister about what happened.\n",
    "\n",
    "The irony of the title is that it eventually comes to refer to the son, not the father. As the film opens Michael is not part of the family business, and plans to marry a WASP, Kay Adams (Diane Keaton). His turning point comes when he saves his father’s life by moving his hospital bed, and whispers to the unconscious man: “I’m with you now.”\n",
    "\n",
    "After he shoots the corrupt cop, Michael hides in Sicily, where he falls in love with and marries Appolonia (Simonetta Stefanelli). They do not speak the same language; small handicap for a Mafia wife. He undoubtedly loves Appolonia, as he loved Kay, but what is he thinking here: that he can no longer marry Kay because he has chosen a Mafia life? After Appolonia’s death and his return to America, he seeks out Kay and eventually they marry. Did he tell her about Appolonia? Such details are unimportant to the story.\n",
    "\n",
    "What is important is loyalty to the family. Much is said in the movie about trusting a man’s word, but honesty is nothing compared to loyalty. Michael doesn’t even trust Tom Hagen (Robert Duvall) with the secret that he plans to murder the heads of the other families. The famous “baptism massacre” is tough, virtuoso filmmaking: The baptism provides him with an airtight alibi, and he becomes a godfather in both senses at the same time.\n",
    "\n",
    "Vito Corleone is the moral center of the film. He is old, wise and opposed to dealing in drugs. He understands that society is not alarmed by “liquor, gambling . . . even women.” But drugs are a dirty business to Don Vito, and one of the movie’s best scenes is the Mafia summit at which he argues his point. The implication is that in the godfather’s world there would be no drugs, only “victimless crimes,” and justice would be dispatched evenly and swiftly.\n",
    "\n",
    "My argument is taking this form because I want to point out how cleverly Coppola structures his film to create sympathy for his heroes. The Mafia is not a benevolent and protective organization, and the Corleone family is only marginally better than the others. Yet when the old man falls dead among his tomato plants, we feel that a giant has passed.\n",
    "\n",
    "Gordon Willis’ cinematography is celebrated for its darkness; it is rich, atmospheric, expressive. You cannot appreciate this on television because the picture is artificially brightened. Coppola populates his dark interior spaces with remarkable faces. The front-line actors--Brando, Pacino, Caan, Duvall--are attractive in one way or another, but those who play their associates are chosen for their fleshy, thickly lined faces--for huge jaws and deeply set eyes. Look at Abe Vigoda as Tessio, the fearsome enforcer. The first time we see him, he’s dancing with a child at the wedding, her satin pumps balanced on his shoes. The sun shines that day, but never again: He is developed as a hulking presence who implies the possibility of violent revenge. Only at the end is he brightly lit again, to make him look vulnerable as he begs for his life.\n",
    "\n",
    "The Brando performance is justly famous and often imitated. We know all about his puffy cheeks, and his use of props like the kitten in the opening scene. Those are actor’s devices. Brando uses them but does not depend on them: He embodies the character so convincingly that at the end, when he warns his son two or three times that “the man who comes to you to set up a meeting--that’s the traitor,” we are not thinking of acting at all. We are thinking that the Don is growing old and repeating himself, but we are also thinking that he is probably absolutely right.\n",
    "\n",
    "Pacino plays Michael close to his vest; he has learned from his father never to talk in front of outsiders, never to trust anyone unnecessarily, to take advice but keep his own counsel. All of the other roles are so successfully filled that a strange thing happened as I watched this restored 1997 version: Familiar as I am with Robert Duvall, when he first appeared on the screen I found myself thinking, “There’s Tom Hagen.”\n",
    "\n",
    "Coppola went to Italy to find Nino Rota, composer of many Fellini films, to score the picture. Hearing the sadness and nostalgia of the movie’s main theme, I realized what the music was telling us: Things would have turned out better if we had only listened to the Godfather.\n",
    "\"\"\""
   ]
  },
  {
   "cell_type": "code",
   "execution_count": 21,
   "metadata": {
    "collapsed": false
   },
   "outputs": [
    {
     "data": {
      "text/plain": [
       "0.6768157809129848"
      ]
     },
     "execution_count": 21,
     "metadata": {},
     "output_type": "execute_result"
    }
   ],
   "source": [
    "# also look at similarity, check out word movers\n",
    "similarity.word_movers(NLP(apocalypse_now_review), NLP(godfather_review))"
   ]
  },
  {
   "cell_type": "code",
   "execution_count": 16,
   "metadata": {
    "collapsed": false
   },
   "outputs": [],
   "source": [
    "EBERT_READABILITY = 9.782916286401726\n",
    "def score_summary(summary_text, desired_person):\n",
    "    \"\"\"Score a summarized piece of text\n",
    "    \"\"\"\n",
    "    # Want high similarity between paragraphs\n",
    "    inter_paragraph_similarities = []\n",
    "    avg_similarity = None\n",
    "    \n",
    "    # readability measures close to ebert baseline\n",
    "    readability = abs(text_stats.TextStats(NLP(summary_text)).automated_readability_index - EBERT_READABILITY)/EBERT_READABILITY\n",
    "    \n",
    "    \n",
    "    # more mentions of person\n",
    "    num_person = 0\n",
    "    sentences = []\n",
    "    for s in summary_text.split('.'):\n",
    "        sentences += s.split('?')\n",
    "            \n",
    "    \n",
    "    for i in sentences:\n",
    "        if desired_person in i:\n",
    "            num_person += 1\n",
    "    person_score = num_person / len(sentences)\n",
    "    \n",
    "    # more subjective is better\n",
    "    total_subjectivity = 0\n",
    "    for i in sentences:\n",
    "        total_subjectivity += TextBlob(i).sentiment[1]\n",
    "    subjectivity = total_subjectivity/len(sentences)\n",
    "    \n",
    "    # thesis sentence doesn't have \"this\", \"here\", \"it\"\n",
    "    if sentences[0] not in [' ', '', '\\n']:\n",
    "        thesis_penalty = sum(i in sentences[0] for i in [\" this \", \" This \", \" here \", \" Here\"])\n",
    "    elif sentences[1] not in [' ', '', '\\n']:\n",
    "        thesis_penalty = sum(i in sentences[1] for i in [\" this \", \" This \", \" here \", \" Here\"])\n",
    "    else:\n",
    "        thesis_penalty = 0\n",
    "    \n",
    "    # Prefer expressions from the author\n",
    "    author_count = 0\n",
    "    for s in sentences:\n",
    "        if any(i in s for i in [\"I \", \"I'd\"]):\n",
    "            author_count += 1\n",
    "    \n",
    "    # iterate through the paragraphs\n",
    "    # sentiment within a paragraph is similar\n",
    "    paragraphs = summary_text.split('\\n')\n",
    "    for i in range(1, len(paragraphs)):\n",
    "        if paragraphs[i - 1] not in [' ', '', '\\n'] and paragraphs[i] not in [' ', '', '\\n']:\n",
    "            inter_paragraph_similarities.append(similarity.word_movers(NLP(paragraphs[i - 1]), NLP(paragraphs[i])))\n",
    "            \n",
    "    max_diff = 0\n",
    "    for p in paragraphs:\n",
    "        p_sent_min = None\n",
    "        p_sent_max = None    \n",
    "        for s in p.split('.'):\n",
    "            sent = TextBlob(s).sentiment[0]\n",
    "            if p_sent_min is None:\n",
    "                p_sent_min = sent\n",
    "            if p_sent_max is None:\n",
    "                p_sent_max = sent\n",
    "                \n",
    "            if sent < p_sent_min:\n",
    "                p_sent_min = sent\n",
    "            if sent > p_sent_max:\n",
    "                p_sent_max = sent\n",
    "        if max_diff < abs(p_sent_max - p_sent_min):\n",
    "            max_diff = abs(p_sent_max - p_sent_min)\n",
    "    max_diff = 1 - max_diff \n",
    "    avg_similarity = sum(inter_paragraph_similarities)/len(inter_paragraph_similarities)\n",
    "    \n",
    "    # high num_sentences / paragraph\n",
    "    sents_per_par = 1 - (len(paragraphs) / len(sentences))\n",
    "    \n",
    "    #print(person_score, sents_per_par, avg_similarity, readability, max_diff)\n",
    "    \n",
    "    \n",
    "    # Make score\n",
    "    #score = sum([person_score, sents_per_par, avg_similarity, readability, max_diff])/5\n",
    "    score = sum([person_score, avg_similarity, readability, max_diff])/4\n",
    "    print('person_score', 'avg_similarity', 'readability', 'max_diff')\n",
    "    print(person_score, avg_similarity, readability, max_diff)\n",
    "    # boost by person count\n",
    "    score = score * (1 + (0.1 * author_count))\n",
    "    score = score - (0.2 * thesis_penalty)\n",
    "    \n",
    "    print(score)"
   ]
  },
  {
   "cell_type": "code",
   "execution_count": 23,
   "metadata": {
    "collapsed": false
   },
   "outputs": [
    {
     "name": "stdout",
     "output_type": "stream",
     "text": [
      "person_score avg_similarity readability max_diff\n",
      "0.9444444444444444 0.5501685739883325 0.22034291774903275 0.30000000000000004\n",
      "0.5037389840454525\n"
     ]
    }
   ],
   "source": [
    "score_summary(sample_string, 'Brando')"
   ]
  },
  {
   "cell_type": "code",
   "execution_count": 24,
   "metadata": {
    "collapsed": false
   },
   "outputs": [
    {
     "name": "stdout",
     "output_type": "stream",
     "text": [
      "person_score avg_similarity readability max_diff\n",
      "0.9333333333333333 0.5584514089379983 0.21625024211246366 0.30000000000000004\n",
      "0.5020087460959488\n"
     ]
    }
   ],
   "source": [
    "other_brando = \"\"\"There have been a lot of movies where stars have repeated the triumphs of their parts - but has any star ever done it more triumphantly than Marlon Brando does in \"The Freshman\"? Think of the criticism Brando risked, from those ready to attack him for cashing in on his most famous performance by reprising it for a comedy. Brando must have known the dangers, but he must have had confidence in himself, too - enough to go ahead anyway, and to win a considerable gamble. When Brando finished filming \"The Freshman\" last September, he attacked The Freshman in a notorious interview in the Toronto Globe and Mail, claiming it was trash and that he was retiring from acting. The other actors, perhaps aware of the chances Brando was taking, seem a little in awe of him - which is as it should be.\n",
    "However, Brando doesn't so much walk through Don Juan DeMarco as coast, in a gassy, self-indulgent performance no one else could have gotten away with. In a new book about how he makes movies, director Sidney Lumet speculates that Marlon Brando has a way of testing his directors. Brando does a scene twice, he writes, once really putting his soul into it, the second time using only technique. And there are moments so bizarre we wonder if the director actually suggested them, or whether Brando had a brainstorm, and everybody was afraid to tell him it wasn't such a hot idea. If the director fails the test, Brando walks through the rest of Don Juan DeMarco.\n",
    "And, yes, Brando is good as the old Brando. \"Reflections in a Golden Eye\" was proof that Brando is far from dead as an actor, although he may be finished as a box office draw.\n",
    "If you can take that moment and hold it in your mind with the famous scene where he assaults Stella's sister, Blanche DuBois (Vivien Leigh), you can see the freedom Brando is giving to Stanley Kowalski - and the range. Brando held nothing back, and within a few years his was the style that dominated Hollywood movie acting.\"\"\"\n",
    "\n",
    "score_summary(other_brando, 'Brando')"
   ]
  },
  {
   "cell_type": "code",
   "execution_count": 25,
   "metadata": {
    "collapsed": false
   },
   "outputs": [
    {
     "name": "stdout",
     "output_type": "stream",
     "text": [
      "person_score avg_similarity readability max_diff\n",
      "0.9 0.5138724477793329 0.5133846031421214 0.0\n",
      "0.5299956890034\n"
     ]
    }
   ],
   "source": [
    "bad_cruise = \"\"\"The archetypal Tom Cruise Movie is \"Top Gun,\" in which the young fighter pilot, a natural, was tutored by a once-great pilot and emotionally nurtured by an older female flight instructor before testing his wings against the hot dogs of his unit, in preparation for a final showdown. And Cruise is so efficiently packaged in this product that he plays the same role as a saint in a Mexican village's holy day procession: It's not what he does that makes him so special; it's the way he manifests everybody's faith in him.\n",
    "However, I'd sorta rather see Diaz and Cruise in action scenes on a human scale, rather than have it rubbed in that for long stretches, they're essentially replaced by animation. Knight and Day knows this sequence is monumentally silly, and so do Cruise and Diaz, and Cruise keeps up a reassuring line of patter all during it, even while trying to crash-land safely. Roy Miller, the Cruise character, has something, and there are bad guys who want it.\n",
    "They find true love, which is shattered when Shue sees Cruise with the rich Manhattan executive. That's when Cruise drops out of school, becomes a full-time bartender, makes Brown his best friend and learns to juggle those bottles. Brown advises Cruise to keep his eyes open for a \"rich chick,\" because that's his ticket to someday opening his own bar.\n",
    "After Moore and Cruise meet with the accused young Marines, she realizes they have a sticky case on their hands, because the unwritten Marine code means that the two won't talk, even to save themselves.\"\"\"\n",
    "\n",
    "score_summary(bad_cruise, 'Cruise')"
   ]
  },
  {
   "cell_type": "markdown",
   "metadata": {},
   "source": [
    "This sounds like an entertaining story, I suppose, but Scorsese doesn't direct a single scene for a payoff. Scorsese and De Niro are the most creative, productive director/actor team in The King of Comedys right now, and the fact that they feel the freedom to make such an odd, stimulating, unsatisfyng movie is good news, I guess. It's hard to believe Scorsese made it; instead of the big-city life, the violence and sexuality of his movies like \"Taxi Driver\" and \"Mean Streets,\" what we have here is an agonizing portrait of lonely, angry people with their emotions all tightly bottled up.\n",
    "Scorsese seems so much in command of his gift in GoodFellas. So says Henry Hill in the opening moments of Martin Scorseses GoodFellas, a movie about the tradecraft and culture of organized crime in New York.\n",
    "However, The way he sees the character of Sam Bowden is the key to why Martin Scorsese wanted to remake the 1962 thriller Cape Fear. Unlike the simplistic version of this scene we have seen in a hundred thrillers, what Scorsese gives us is a villain who has been wronged, seeking to harm a hero who has sinned. Cape Fear is impressive moviemaking, showing Scorsese as a master of a traditional Hollywood genre who is able to mold it to his own themes and obsessions. This is the first film in a production deal Scorsese has with Universal Studios and Steven Spielberg's Amblin Entertainment, and it represents his access to budgets much larger than those he has worked with in the past. And with this new version of Max Cady, Scorsese gives us not simply a bad man, but an evil one - whose whole purpose is to show Sam Bowden he's a criminal, too. In the Scorsese version, Bowden is flawed and guilty, and indeed everyone in Cape Fear is weak in one way or another, and there are no heroes.\n",
    "Scorsese remains one of the bright young hopes of American movies. Director Martin Scorsese has gone for mood and atmosphere more than for action, and his violence is always blunt and unpleasant -- never liberating and exhilarating, as the New Violence is supposed to be."
   ]
  },
  {
   "cell_type": "code",
   "execution_count": 26,
   "metadata": {
    "collapsed": false
   },
   "outputs": [
    {
     "name": "stdout",
     "output_type": "stream",
     "text": [
      "person_score avg_similarity readability max_diff\n",
      "0.9285714285714286 0.5305535211966649 0.41753748020396547 -0.02499999999999991\n",
      "0.5554987289916178\n"
     ]
    }
   ],
   "source": [
    "scorcese_sample = \"\"\"This sounds like an entertaining story, I suppose, but Scorsese doesn't direct a single scene for a payoff. Scorsese and De Niro are the most creative, productive director/actor team in The King of Comedys right now, and the fact that they feel the freedom to make such an odd, stimulating, unsatisfyng movie is good news, I guess. It's hard to believe Scorsese made it; instead of the big-city life, the violence and sexuality of his movies like \"Taxi Driver\" and \"Mean Streets,\" what we have here is an agonizing portrait of lonely, angry people with their emotions all tightly bottled up.\n",
    "Scorsese seems so much in command of his gift in GoodFellas. So says Henry Hill in the opening moments of Martin Scorseses GoodFellas, a movie about the tradecraft and culture of organized crime in New York.\n",
    "However, The way he sees the character of Sam Bowden is the key to why Martin Scorsese wanted to remake the 1962 thriller Cape Fear. Unlike the simplistic version of this scene we have seen in a hundred thrillers, what Scorsese gives us is a villain who has been wronged, seeking to harm a hero who has sinned. Cape Fear is impressive moviemaking, showing Scorsese as a master of a traditional Hollywood genre who is able to mold it to his own themes and obsessions. This is the first film in a production deal Scorsese has with Universal Studios and Steven Spielberg's Amblin Entertainment, and it represents his access to budgets much larger than those he has worked with in the past. And with this new version of Max Cady, Scorsese gives us not simply a bad man, but an evil one - whose whole purpose is to show Sam Bowden he's a criminal, too. In the Scorsese version, Bowden is flawed and guilty, and indeed everyone in Cape Fear is weak in one way or another, and there are no heroes.\n",
    "Scorsese remains one of the bright young hopes of American movies. Director Martin Scorsese has gone for mood and atmosphere more than for action, and his violence is always blunt and unpleasant -- never liberating and exhilarating, as the New Violence is supposed to be.\"\"\"\n",
    "\n",
    "score_summary(scorcese_sample, \"Scorsese\")"
   ]
  },
  {
   "cell_type": "markdown",
   "metadata": {},
   "source": [
    "Cape Fear is impressive moviemaking, showing Scorsese as a master of a traditional Hollywood genre who is able to mold it to his own themes and obsessions. The way he sees the character of Sam Bowden is the key to why Martin Scorsese wanted to remake the 1962 thriller Cape Fear. This is the first film in a production deal Scorsese has with Universal Studios and Steven Spielberg's Amblin Entertainment, and it represents his access to budgets much larger than those he has worked with in the past. And with this new version of Max Cady, Scorsese gives us not simply a bad man, but an evil one - whose whole purpose is to show Sam Bowden he's a criminal, too. Unlike the simplistic version of this scene we have seen in a hundred thrillers, what Scorsese gives us is a villain who has been wronged, seeking to harm a hero who has sinned.\n",
    "Remarkably, writer-director Martin Scorsese is only 25 years old, and this is his first film. It is possible that with more experience and maturity Scorsese will direct more polished, finished films--but this work, completed when he was 25, contains a frankness he may have diluted by then. Scorsese is gifted at handling subtle moments, but he has some trouble with the more obvious ones. For another misplaced scene, however, Scorsese does not deserve full blame.\n",
    "Scorsese shows a sure sense for the Hollywood of that time, as in a scene where Howard, new in town, approaches the mogul L.B. Mayer at the Coconut Grove and asks to borrow two cameras for a big \"Hells' Angels\" scene. Their lives, in fact, are even a little similar: Heedless ambition and talent when young, great early success, tempestuous romances and a dark period, although with Hughes it got darker and darker, while Scorsese has emerged into the full flower of his gifts. Scorsese adds subtle continuity: Every time we see Mayer, he seems to be surrounded by the same flunkies.\n",
    "I have often thought that many of Scorsese's critics and admirers do not realize how deeply the Catholic Church of pre-Vatican II could burrow into the subconscious, or in how many ways Scorsese is a Catholic director. It is intriguing to wonder what Scorsese saw in the Hong Kong movie that inspired him to make the second remake of his career (after \"Cape Fear\"). It's strange that Jack Nicholson and Scorsese have never worked together, since they seem like a natural fit; he makes Frank Costello not a godfather, not a rat, not a blowhard, but a smart man who finally encounters a situation no one could fight free of, because he simply lacks all the necessary information.\"\"\"\n"
   ]
  },
  {
   "cell_type": "code",
   "execution_count": 27,
   "metadata": {
    "collapsed": false
   },
   "outputs": [
    {
     "name": "stdout",
     "output_type": "stream",
     "text": [
      "person_score avg_similarity readability max_diff\n",
      "0.8333333333333334 0.5710885434736652 0.5363524419501641 -0.02499999999999991\n",
      "0.5268379376582198\n"
     ]
    }
   ],
   "source": [
    "other_scorsese = \"\"\"Cape Fear is impressive moviemaking, showing Scorsese as a master of a traditional Hollywood genre who is able to mold it to his own themes and obsessions. The way he sees the character of Sam Bowden is the key to why Martin Scorsese wanted to remake the 1962 thriller Cape Fear. This is the first film in a production deal Scorsese has with Universal Studios and Steven Spielberg's Amblin Entertainment, and it represents his access to budgets much larger than those he has worked with in the past. And with this new version of Max Cady, Scorsese gives us not simply a bad man, but an evil one - whose whole purpose is to show Sam Bowden he's a criminal, too. Unlike the simplistic version of this scene we have seen in a hundred thrillers, what Scorsese gives us is a villain who has been wronged, seeking to harm a hero who has sinned.\n",
    "Remarkably, writer-director Martin Scorsese is only 25 years old, and this is his first film. It is possible that with more experience and maturity Scorsese will direct more polished, finished films--but this work, completed when he was 25, contains a frankness he may have diluted by then. Scorsese is gifted at handling subtle moments, but he has some trouble with the more obvious ones. For another misplaced scene, however, Scorsese does not deserve full blame.\n",
    "Scorsese shows a sure sense for the Hollywood of that time, as in a scene where Howard, new in town, approaches the mogul L.B. Mayer at the Coconut Grove and asks to borrow two cameras for a big \"Hells' Angels\" scene. Their lives, in fact, are even a little similar: Heedless ambition and talent when young, great early success, tempestuous romances and a dark period, although with Hughes it got darker and darker, while Scorsese has emerged into the full flower of his gifts. Scorsese adds subtle continuity: Every time we see Mayer, he seems to be surrounded by the same flunkies.\n",
    "I have often thought that many of Scorsese's critics and admirers do not realize how deeply the Catholic Church of pre-Vatican II could burrow into the subconscious, or in how many ways Scorsese is a Catholic director. It is intriguing to wonder what Scorsese saw in the Hong Kong movie that inspired him to make the second remake of his career (after \"Cape Fear\"). It's strange that Jack Nicholson and Scorsese have never worked together, since they seem like a natural fit; he makes Frank Costello not a godfather, not a rat, not a blowhard, but a smart man who finally encounters a situation no one could fight free of, because he simply lacks all the necessary information.\"\"\"\n",
    "\n",
    "score_summary(other_scorsese, 'Scorsese')"
   ]
  },
  {
   "cell_type": "code",
   "execution_count": 28,
   "metadata": {
    "collapsed": false
   },
   "outputs": [
    {
     "name": "stdout",
     "output_type": "stream",
     "text": [
      "person_score avg_similarity readability max_diff\n",
      "0.9333333333333333 0.5409352920149993 0.45611934413809613 0.09999999999999998\n",
      "0.5075969923716072\n"
     ]
    }
   ],
   "source": [
    "qt = \"\"\"Now that we know Quentin Tarantino can make a movie like \"Reservoir Dogs,\" it's time for him to move on and make a better one. Tarantino himself is also interesting as an actor; he could play great crazy villains. Reservoir Dogs feels like it's going to be terrific, but Tarantino's script doesn't have much curiosity about these guys. Having created the characters and fashioned the outline, Tarantino doesn't do much with his characters except to let them talk too much, especially when they should be unconscious from shock and loss of blood.\n",
    "But this is all one film, and now that we see it whole, it's greater than its two parts; Tarantino remains the most brilliantly oddball filmmaker of his generation, and this is one of the best films of the year. Put the two parts together, and Tarantino has made a masterful saga that celebrates the martial arts genre while kidding it, loving it, and transcending it. Kill Bill, Volume 2 is a distillation of the countless grind house kung-fu movies Tarantino has absorbed, and which he loves beyond all reason. Tarantino, who began Kill Bill, Volume 2 in black and white before switching to color, plays with formats here, too; to suggest the claustrophobia of being buried, he shows The Bride inside her wooden casket, and as clods of earth rain down on the lid, he switches from widescreen to the classic 4x3 screen ratio.\n",
    "Instead of waving his arms and talking brilliantly a mile a minute, Tarantino mumbles an approximation of a Southwestern accent and puts his charisma on hold. The first of many disappointments comes early in \"Destiny Turns On the Radio,\" when Quentin Tarantino appears on the screen. The disappointment is that Tarantino is not playing \"himself,\" the persona he has perfected on many talk shows and in celebrated roles in \"Reservoir Dogs,\" \"Pulp Fiction\" and \"Sleep With Me\" (where he explained his theory that \"Top Gun\" was a gay movie).\n",
    "Tarantino has a lot of good scenes in Jackie Brown. This is Jackie Brown that proves Tarantino is the real thing, and not just a two-film wonder boy. Tarantino leaves the hardest questions for last, hides his moves, conceals his strategies in plain view, and gives his characters dialogue that is alive, authentic and spontaneous.\"\"\"\n",
    "\n",
    "score_summary(qt, 'Tarantino')"
   ]
  },
  {
   "cell_type": "code",
   "execution_count": 29,
   "metadata": {
    "collapsed": false
   },
   "outputs": [
    {
     "name": "stdout",
     "output_type": "stream",
     "text": [
      "person_score avg_similarity readability max_diff\n",
      "0.8 0.7148757556863313 0.48850340231830963 0.1875\n",
      "0.6572637474013922\n"
     ]
    }
   ],
   "source": [
    "ke = \"\"\"Why he likes Beethoven is never explained, but my notion is that Alex likes Beethoven in the same way that Kubrick likes to load his sound track with familiar classical music -- to add a cute, cheap, dead-end dimension. I don't know quite how to explain my disgust at Alex (whom Kubrick likes very much, as his visual style reveals and as we shall see in a moment). No, I think Kubrick is being too modest: Alex is all his. When Kubrick shows us Alex, however, he either places him in the center of a wide-angle shot (so Alex alone has normal human dimensions,) or uses a standard lens that does not distort. Kubrick has used visuals to alter the book's point of view and to nudge us toward a kind of grudging pal-ship with Alex. But that isn't what Kubrick is saying, He actually seems to be implying something simpler and more frightening: that in a world where society is criminal, the citizen might as well be a criminal, too. Kubrick uses the wide-angle lens almost all the time when he is showing events from Alex's point of view; this encourages us to see the world as Alex does, as a crazy-house of weird people out to get him. Alex is violent because it is necessary for him to be violent in order for A Clockwork Orange to entertain in the way Kubrick intends.\n",
    "Barry Lyndon\" isn't a great entertainment in the usual way, but it's a great example of directorial vision: Kubrick saying he's going to make this material function as an illustration of the way he sees the world. Kubrick told the critic Michel Ciment he used the narrator because the novel had too much incident even for a three-hour film, but there isn't the slightest sense he's condensing. There is no other way to see Barry than the way Kubrick sees him. By placing such small characters on such a big stage, by forcing our detachment from them, Kubrick supplies a philosophical position just as clearly as if he'd put speeches in his characters' mouths.\n",
    "Stanley Kubrick himself was a perfectionist who went to obsessive lengths in order to get everything in his films to work just right. Kubrick the perfectionist left the unplanned slip in Dr. Strangelove (Restored Version), because Scott made it seem convincing, and not an accident. Yet out of these rudimentary physical props and a brilliant screenplay (which Kubrick and Terry Southern based on a novel by Peter George), Kubrick made what is arguably the best political satire of the century, a film that pulled the rug out from under the Cold War by arguing that if a ``nuclear deterrent'' destroys all life on Earth, it is hard to say exactly what it has deterred. Kubrick, whose attention to the smallest detail in every frame was obsessive, would have been aware of George C. Scott's facial gymnastics, and yet he endorsed them, and when you watch ``Strangelove'' you can see why.\n",
    "Stanley Kubrick himself was a perfectionist who went to obsessive lengths in order to get everything in his films to work just right. Kubrick the perfectionist left the unplanned slip in Dr. Strangelove, because Scott made it seem convincing, and not an accident. Yet out of these rudimentary physical props and a brilliant screenplay (which Kubrick and Terry Southern based on a novel by Peter George), Kubrick made what is arguably the best political satire of the century, a film that pulled the rug out from under the Cold War by arguing that if a \"nuclear deterrent\" destroys all life on Earth, it is hard to say exactly what it has deterred. Kubrick, whose attention to the smallest detail in every frame was obsessive, would have been aware of George C. Scott's facial gymnastics, and yet he endorsed them, and when you watch \"Strangelove\" you can see why.\"\"\"\n",
    "\n",
    "score_summary(ke, 'Kubrick')"
   ]
  },
  {
   "cell_type": "markdown",
   "metadata": {},
   "source": [
    "The archetypal Tom Cruise Movie is \"Top Gun,\" in which the young fighter pilot, a natural, was tutored by a once-great pilot and emotionally nurtured by an older female flight instructor before testing his wings against the hot dogs of his unit, in preparation for a final showdown. And Cruise is so efficiently packaged in this product that he plays the same role as a saint in a Mexican village's holy day procession: It's not what he does that makes him so special; it's the way he manifests everybody's faith in him.\n",
    "However, I'd sorta rather see Diaz and Cruise in action scenes on a human scale, rather than have it rubbed in that for long stretches, they're essentially replaced by animation. Knight and Day knows this sequence is monumentally silly, and so do Cruise and Diaz, and Cruise keeps up a reassuring line of patter all during it, even while trying to crash-land safely. Roy Miller, the Cruise character, has something, and there are bad guys who want it.\n",
    "They find true love, which is shattered when Shue sees Cruise with the rich Manhattan executive. That's when Cruise drops out of school, becomes a full-time bartender, makes Brown his best friend and learns to juggle those bottles. Brown advises Cruise to keep his eyes open for a \"rich chick,\" because that's his ticket to someday opening his own bar.\n",
    "After Moore and Cruise meet with the accused young Marines, she realizes they have a sticky case on their hands, because the unwritten Marine code means that the two won't talk, even to save themselves."
   ]
  },
  {
   "cell_type": "markdown",
   "metadata": {},
   "source": [
    "I'd sorta rather see Diaz and Cruise in action scenes on a human scale, rather than have it rubbed in that for long stretches, they're essentially replaced by animation. Knight and Day knows this sequence is monumentally silly, and so do Cruise and Diaz, and Cruise keeps up a reassuring line of patter all during it, even while trying to crash-land safely.\n",
    "The archetypal Tom Cruise Movie is \"Top Gun,\" in which the young fighter pilot, a natural, was tutored by a once-great pilot and emotionally nurtured by an older female flight instructor before testing his wings against the hot dogs of his unit, in preparation for a final showdown. And Cruise is so efficiently packaged in this product that he plays the same role as a saint in a Mexican village's holy day procession: It's not what he does that makes him so special; it's the way he manifests everybody's faith in him.\n",
    "However, Tom Cruise, who initially seemed to many people an unlikely choice to play Lestat, is never less than convincing, and his slight British accent, combined with makeup that is dramatic without being obtrusive, disguises the clean-cut star - makes him seem unwholesome in an odd, insinuating way.\n",
    "I have no reason to believe that Tom Cruise is gay, except maybe for the time he used Oprah's couch as a trampoline, but since she brought it up, isn't his private life none of our beeswax?\"\"\"\n"
   ]
  },
  {
   "cell_type": "code",
   "execution_count": 30,
   "metadata": {
    "collapsed": false
   },
   "outputs": [
    {
     "name": "stdout",
     "output_type": "stream",
     "text": [
      "person_score avg_similarity readability max_diff\n",
      "0.8571428571428571 0.4960873088279995 1.057385377368458 0.8604166666666666\n",
      "0.9813096630017943\n"
     ]
    }
   ],
   "source": [
    "other_cruise = \"\"\"I'd sorta rather see Diaz and Cruise in action scenes on a human scale, rather than have it rubbed in that for long stretches, they're essentially replaced by animation. Knight and Day knows this sequence is monumentally silly, and so do Cruise and Diaz, and Cruise keeps up a reassuring line of patter all during it, even while trying to crash-land safely.\n",
    "The archetypal Tom Cruise Movie is \"Top Gun,\" in which the young fighter pilot, a natural, was tutored by a once-great pilot and emotionally nurtured by an older female flight instructor before testing his wings against the hot dogs of his unit, in preparation for a final showdown. And Cruise is so efficiently packaged in this product that he plays the same role as a saint in a Mexican village's holy day procession: It's not what he does that makes him so special; it's the way he manifests everybody's faith in him.\n",
    "However, Tom Cruise, who initially seemed to many people an unlikely choice to play Lestat, is never less than convincing, and his slight British accent, combined with makeup that is dramatic without being obtrusive, disguises the clean-cut star - makes him seem unwholesome in an odd, insinuating way.\n",
    "I have no reason to believe that Tom Cruise is gay, except maybe for the time he used Oprah's couch as a trampoline, but since she brought it up, isn't his private life none of our beeswax?\"\"\"\n",
    "\n",
    "score_summary(other_cruise, 'Cruise')"
   ]
  },
  {
   "cell_type": "markdown",
   "metadata": {
    "collapsed": true
   },
   "source": [
    "# Work on Using Scorer on Generic Text"
   ]
  },
  {
   "cell_type": "code",
   "execution_count": 31,
   "metadata": {
    "collapsed": false
   },
   "outputs": [],
   "source": [
    "ebert_sample = \"\"\"\n",
    "The success of “The Godfather” as a novel was largely due to a series of unforgettable scenes. Puzo is a good storyteller, but no great shakes as a writer. The movie gives almost everything in the novel except the gynecological repair job. It doesn’t miss a single killing; it opens with the wedding of Don Corleone’s daughter (and attendant upstairs activity); and there are the right number of auto bombs, double crosses, and garrotings.\n",
    "Coppola has found a style and a visual look for all this material so “The Godfather” becomes something of a rarity: a really good movie squeezed from a bestseller. The decision to shoot everything in period decor (the middle and late 1940s) was crucial; if they’d tried to save money as they originally planned, by bringing everything up-to-date, the movie simply wouldn’t have worked. But it’s uncannily successful as a period piece, filled with sleek, bulging limousines and postwar fedoras. Coppola and his cinematographer, Gordon Willis, also do some interesting things with the color photography. The earlier scenes have a reddish-brown tint, slightly overexposed and feeling like nothing so much as a 1946 newspaper rotogravure supplement.\n",
    "Although the movie is three hours long, it absorbs us so effectively it never has to hurry. There is something in the measured passage of time as Don Corleone hands over his reins of power that would have made a shorter, faster moving film unseemly. Even at this length, there are characters in relationships you can’t quite understand unless you’ve read the novel. Or perhaps you can, just by the way the characters look at each other.\n",
    "\"\"\""
   ]
  },
  {
   "cell_type": "code",
   "execution_count": 32,
   "metadata": {
    "collapsed": false
   },
   "outputs": [
    {
     "name": "stdout",
     "output_type": "stream",
     "text": [
      "person_score avg_similarity readability max_diff\n",
      "0.14285714285714285 0.5477441397064999 0.03712192955661554 0.42500000000000004\n",
      "0.28818080303006455\n"
     ]
    }
   ],
   "source": [
    "score_summary(ebert_sample, 'Coppola')"
   ]
  },
  {
   "cell_type": "markdown",
   "metadata": {},
   "source": [
    "Those who have read the novel may be surprised to find Michael at the center of the movie, instead of Don Corleone. In fact, this is simply an economical way for Coppola to get at the heart of the Puzo story, which dealt with the transfer of power within the family. Marlon Brando, who plays the Godfather as a shrewd, unbreakable old man, actually has the character lead in the movie; Al Pacino, with a brilliantly developed performance as Michael, is the lead.\n",
    "But Brando’s performance is a skillful throwaway, even though it earned him an Academy Award for best actor. His voice is wheezy and whispery, and his physical movements deliberately lack precision; the effect is of a man so accustomed to power that he no longer needs to remind others. Brando does look the part of old Don Corleone, mostly because of acting and partly because of the makeup, although he seems to have stuffed a little too much cotton into his jowls, making his lower face immobile.\n"
   ]
  },
  {
   "cell_type": "code",
   "execution_count": 33,
   "metadata": {
    "collapsed": false
   },
   "outputs": [
    {
     "name": "stdout",
     "output_type": "stream",
     "text": [
      "person_score avg_similarity readability max_diff\n",
      "0.42857142857142855 0.6038022790899997 0.4396381648179288 0.0\n",
      "0.3680029681198393\n"
     ]
    }
   ],
   "source": [
    "ebert_sample_2 = \"\"\"Those who have read the novel may be surprised to find Michael at the center of the movie, instead of Don Corleone. In fact, this is simply an economical way for Coppola to get at the heart of the Puzo story, which dealt with the transfer of power within the family. Marlon Brando, who plays the Godfather as a shrewd, unbreakable old man, actually has the character lead in the movie; Al Pacino, with a brilliantly developed performance as Michael, is the lead.\n",
    "But Brando’s performance is a skillful throwaway, even though it earned him an Academy Award for best actor. His voice is wheezy and whispery, and his physical movements deliberately lack precision; the effect is of a man so accustomed to power that he no longer needs to remind others. Brando does look the part of old Don Corleone, mostly because of acting and partly because of the makeup, although he seems to have stuffed a little too much cotton into his jowls, making his lower face immobile.\"\"\"\n",
    "score_summary(ebert_sample_2, 'Brando')"
   ]
  },
  {
   "cell_type": "code",
   "execution_count": 34,
   "metadata": {
    "collapsed": false
   },
   "outputs": [
    {
     "name": "stdout",
     "output_type": "stream",
     "text": [
      "person_score avg_similarity readability max_diff\n",
      "0.18181818181818182 0.5703697282889971 0.2886254112533559 0.4\n",
      "0.36020333034013374\n"
     ]
    }
   ],
   "source": [
    "ebert_sample_3 = \"\"\"It's pale and unconvincing compared with the chemistry between Cruise and Rebecca De Mornay in \"Risky Business,\" and between McGillis and Harrison Ford in \"Witness\" - not to mention between Richard Gere and Debra Winger in \"An Officer and a Gentleman,\" which obviously inspired \"Top Gun.\" Cruise and McGillis spend a lot of time squinting uneasily at each other and exchanging words as if they were weapons, and when they finally get physical, they look like the stars of one of those sexy new perfume ads. There's no flesh and blood here, which is remarkable, given the almost palpable physical presence McGillis had in \"Witness.\" In its other scenes on the ground, the movie seems content to recycle old cliches and conventions out of countless other war movies.\n",
    "Wouldn't you know, for example, that Maverick's commanding officer at the flying school is the only man who knows what happened to the kid's father in Vietnam? And are we surprised when Maverick's best friend dies in his arms? Is there any suspense as Maverick undergoes his obligatory crisis of conscience, wondering whether he can ever fly again? Movies like \"Top Gun\" are hard to review because the good parts are so good and the bad parts are so relentless. The dogfights are absolutely the best since Clint Eastwood's electrifying aerial scenes in \"Firefox.\" But look out for the scenes where the people talk to one another.\"\"\"\n",
    "score_summary(ebert_sample_3, 'Cruise')"
   ]
  },
  {
   "cell_type": "code",
   "execution_count": 35,
   "metadata": {
    "collapsed": false
   },
   "outputs": [
    {
     "name": "stdout",
     "output_type": "stream",
     "text": [
      "person_score avg_similarity readability max_diff\n",
      "0.46153846153846156 0.5273591221373326 0.5200207438047236 0.5\n",
      "0.5022295818701294\n"
     ]
    }
   ],
   "source": [
    "ebert_sample_4 = \"\"\"His performance broke through some kind of psychic barrier, freeing actors of his and later generations to tap emotions that most earlier actors were unable or willing to reveal. It was said that his style was fashioned by the famed acting teacher Stella Adler, but perhaps he possessed it all along, and Adler simply recognized and encouraged it. It took her only a week of coaching Brando, recalls the AP's Bob Thomas, before she said that within a year he would be the best young actor in America.\n",
    "Much is made of the generation that followed, the Method actors, and although there is much theory and lore associated with the Method, to some degree it consisted of a lot of actors trying to do what Brando did. Paul Newman, Montgomery Clift, James Dean, Robert De Niro, Jack Nicholson, Al Pacino, Sean Penn and Johnny Depp all owe something to Brando. And a performance like Charlize Ther-on's in \"Monster\" (2003) is almost literally made possible by the avenues that Brando opened.\n",
    "A recent Premiere magazine poll named Brando's Don Corleone, from Francis Coppola's \"The Godfather\" (1972) as the single most memorable character in movie history. \"The Godfather\" is at or near the top of many lists of the greatest films, and Brando's masterpieces also include \"A Streetcar Named Desire\" (1951), \"On the Waterfront\" (1954), \"Apocalypse Now\" (1979) and \"Last Tango in Paris\" (1972). In those films, he was fearless, exposing his psyche in \"Last Tango\" in a famous sex scene that no other major actor might have dared.\n",
    "\"Apocalypse Now\" traded on his mystique by keeping him offscreen until the closing act of the film; he was the enigmatic Col. Kurtz, brilliant, crazy, holed up in the Vietnamese jungle, running his own operation. Even when he appeared, he was seen mostly in shadow, speaking of the horrors of war in a way that transcended the movie and the character.\"\"\"\n",
    "score_summary(ebert_sample_4, 'Brando')"
   ]
  },
  {
   "cell_type": "markdown",
   "metadata": {
    "collapsed": true
   },
   "source": [
    "# Rebuild the Parts of Coh-Metrix that are Relevant\n",
    "\n",
    "I couldn't find a good port of CohMetrix for English so I picked the relevant parts and elected to implement them myself.\n",
    "\n",
    "* Referential Cohesion\n",
    "    * Noun Overlap\n",
    "    * Argument Overlap\n",
    "    * Stem Overlap\n",
    "    * Content Word Overlap\n",
    "    * Anaphor Overlap\n",
    "* Connectives\n",
    "    * Incidence score of\n",
    "        * Causal\n",
    "        * Logical\n",
    "        * Adversative/Contrastive\n",
    "        * Temporal\n",
    "        * Additive\n",
    "        \n",
    "I'm going to focus on the Anaphor Overlap and connectives since much of the rest should be caught in the LSA similiarity scoring. I'll use a lexicon for connectives."
   ]
  },
  {
   "cell_type": "code",
   "execution_count": 17,
   "metadata": {
    "collapsed": false
   },
   "outputs": [],
   "source": [
    "def anaphor_overlap(summary_text):\n",
    "    \"\"\"This function computes the anaphor overlap index\n",
    "    \n",
    "    Per the Coh-Metrix Documentation:\n",
    "        \n",
    "        This measure considers the anphor overlap between pairs of \n",
    "        sentences. A pair of sentences has an anphor overlap if the \n",
    "        later sentence contains a pronoun that refers to a pronoun \n",
    "        or noun in the earlier sentence. The score for each pair of \n",
    "        sentences is binary, i.e., 0 or 1. The measure of the text \n",
    "        is the average of the pair scores.\n",
    "    \n",
    "    Args:\n",
    "        summary_text (String): The text to be scored\n",
    "        \n",
    "    Return:\n",
    "        Float - the anaphor overlap score\n",
    "    \"\"\"\n",
    "    \n",
    "    # Analyze Text w/ Spacy\n",
    "    annotated_text = NLP(summary_text)\n",
    "    sentences = list(annotated_text.sents)\n",
    "    \n",
    "    # Iterate through sentences\n",
    "    num_anaphors = 0\n",
    "    for i in range(1, len(sentences)):\n",
    "        if sentences[i - 1].text not in [' ', '', '\\n'] and sentences[i].text not in [' ', '', '\\n']:\n",
    "            # check if prounoun in i and either noun or matching pronoun in i-1\n",
    "            \n",
    "            # First, check if there is a person in i-1\n",
    "            person_flag = False\n",
    "            for word in sentences[i-1]:\n",
    "                if word.ent_type_ == 'PERSON':\n",
    "                    person_flag = True\n",
    "            \n",
    "            # Next, check if there is a pronoun in i-1\n",
    "            pronouns = ['he', 'she', 'they', 'him', 'her', 'them', 'his', 'hers', 'theirs']\n",
    "            pronoun_flag = any(j in sentences[i-1].text.lower() for j in pronouns)\n",
    "            \n",
    "            # Check if there is a pronoun in i\n",
    "            pronoun_flag_2 = any(j in sentences[i].text.lower() for j in pronouns)\n",
    "            \n",
    "            if (pronoun_flag_2 and pronoun_flag) or (pronoun_flag_2 and person_flag):\n",
    "                num_anaphors += 1\n",
    "                \n",
    "    return num_anaphors / (len(sentences) - 1)\n",
    "                    \n",
    "            \n",
    "def person_overlap(summary_text):\n",
    "    \"\"\"This function computes the person overlap index\n",
    "    \n",
    "    Roughly based on the Noun Overlap index from Coh-Metrix\n",
    "    \n",
    "    Args:\n",
    "        summary_text (String): The text to be scored\n",
    "        \n",
    "    Return:\n",
    "        Float - the person overlap score\n",
    "    \"\"\"\n",
    "    \n",
    "    # Analyze Text w/ Spacy\n",
    "    annotated_text = NLP(summary_text)\n",
    "    sentences = list(annotated_text.sents)\n",
    "    \n",
    "    # Iterate through sentences\n",
    "    num_anaphors = 0\n",
    "    for i in range(1, len(sentences)):\n",
    "        if sentences[i - 1].text not in [' ', '', '\\n'] and sentences[i].text not in [' ', '', '\\n']:\n",
    "            # check if name in i and in i-1\n",
    "            people_match = False\n",
    "            \n",
    "            # First, check if there is a person in i-1\n",
    "            people = []\n",
    "            for word in sentences[i-1]:\n",
    "                if word.ent_type_ == 'PERSON':\n",
    "                    people.append(word.text.lower())\n",
    "            \n",
    "            for word in sentences[i]:\n",
    "                if word.ent_type_ == 'Person':\n",
    "                    if word.text.lower() in people:\n",
    "                        people_match = True\n",
    "                        \n",
    "            if people_match:\n",
    "                num_anaphors += 1\n",
    "                        \n",
    "                \n",
    "    return num_anaphors / (len(sentences) - 1)           \n",
    "  \n",
    "    \n",
    "    "
   ]
  },
  {
   "cell_type": "code",
   "execution_count": 18,
   "metadata": {
    "collapsed": false
   },
   "outputs": [
    {
     "name": "stdout",
     "output_type": "stream",
     "text": [
      "1.0\n",
      "0.0\n"
     ]
    }
   ],
   "source": [
    "test_sentences = \"Jerry Seinfeld starred in the show for like seven seasons. He was wildly successful from it.\"\n",
    "print(anaphor_overlap(test_sentences))\n",
    "print(person_overlap(test_sentences))"
   ]
  },
  {
   "cell_type": "code",
   "execution_count": 19,
   "metadata": {
    "collapsed": true
   },
   "outputs": [],
   "source": [
    "EBERT_READABILITY = 9.782916286401726\n",
    "def score_summary_2(summary_text, desired_person):\n",
    "    \"\"\"Score a summarized piece of text\n",
    "    \"\"\"\n",
    "    # Want high similarity between paragraphs\n",
    "    inter_paragraph_similarities = []\n",
    "    avg_similarity = None\n",
    "    \n",
    "    sentences = [i.text for i in NLP(summary_text).sents]\n",
    "    \n",
    "    # readability measures close to ebert baseline\n",
    "    readability = abs(text_stats.TextStats(NLP(summary_text)).automated_readability_index - EBERT_READABILITY)/EBERT_READABILITY\n",
    "    \n",
    "    \n",
    "    # Coh Metrix Indices\n",
    "    anaphor_score = anaphor_overlap(summary_text)\n",
    "    person_score = person_overlap(summary_text)\n",
    "    \n",
    "    \n",
    "    # more subjective is better\n",
    "    total_subjectivity = 0\n",
    "    for i in sentences:\n",
    "        total_subjectivity += TextBlob(i).sentiment[1]\n",
    "    subjectivity = total_subjectivity/len(sentences)\n",
    "    \n",
    "    # thesis sentence doesn't have \"this\", \"here\", \"it\"\n",
    "    if sentences[0] not in [' ', '', '\\n']:\n",
    "        thesis_penalty = sum(i in sentences[0] for i in [\" this \", \" This \", \" here \", \" Here\"])\n",
    "    elif sentences[1] not in [' ', '', '\\n']:\n",
    "        thesis_penalty = sum(i in sentences[1] for i in [\" this \", \" This \", \" here \", \" Here\"])\n",
    "    else:\n",
    "        thesis_penalty = 0\n",
    "    \n",
    "    # Prefer expressions from the author\n",
    "    author_count = 0\n",
    "    for s in sentences:\n",
    "        if any(i in s for i in [\"I \", \"I'd\", \"My\"]):\n",
    "            author_count += 1\n",
    "    \n",
    "    # iterate through the paragraphs\n",
    "    # sentiment within a paragraph is similar\n",
    "    paragraphs = summary_text.split('\\n')\n",
    "    for i in range(1, len(paragraphs)):\n",
    "        if paragraphs[i - 1] not in [' ', '', '\\n'] and paragraphs[i] not in [' ', '', '\\n']:\n",
    "            inter_paragraph_similarities.append(similarity.word_movers(NLP(paragraphs[i - 1]), NLP(paragraphs[i])))\n",
    "            \n",
    "    max_diff = 0\n",
    "    for p in paragraphs:\n",
    "        p_sent_min = None\n",
    "        p_sent_max = None    \n",
    "        for s in p.split('.'):\n",
    "            sent = TextBlob(s).sentiment[0]\n",
    "            if p_sent_min is None:\n",
    "                p_sent_min = sent\n",
    "            if p_sent_max is None:\n",
    "                p_sent_max = sent\n",
    "                \n",
    "            if sent < p_sent_min:\n",
    "                p_sent_min = sent\n",
    "            if sent > p_sent_max:\n",
    "                p_sent_max = sent\n",
    "        if max_diff < abs(p_sent_max - p_sent_min):\n",
    "            max_diff = abs(p_sent_max - p_sent_min)\n",
    "    max_diff = 1 - max_diff \n",
    "    avg_similarity = sum(inter_paragraph_similarities)/len(inter_paragraph_similarities)\n",
    "    \n",
    "    \n",
    "    \n",
    "    # Make score\n",
    "    score = (0.25 * avg_similarity) + \\\n",
    "            (0.20 * person_score) + \\\n",
    "            (0.15 * anaphor_score) + \\\n",
    "            (0.1 * max_diff) + \\\n",
    "            (0.05 * readability) + \\\n",
    "            (0.25 * subjectivity) \n",
    "    # boost by person count\n",
    "    score = score * (1 + (0.1 * author_count))\n",
    "    score = score - (0.2 * thesis_penalty)\n",
    "    \n",
    "    \n",
    "    return score"
   ]
  },
  {
   "cell_type": "code",
   "execution_count": 83,
   "metadata": {
    "collapsed": false
   },
   "outputs": [
    {
     "data": {
      "text/plain": [
       "0.46817376024501184"
      ]
     },
     "execution_count": 83,
     "metadata": {},
     "output_type": "execute_result"
    }
   ],
   "source": [
    "ebert_sample_4 = \"\"\"His performance broke through some kind of psychic barrier, freeing actors of his and later generations to tap emotions that most earlier actors were unable or willing to reveal. It was said that his style was fashioned by the famed acting teacher Stella Adler, but perhaps he possessed it all along, and Adler simply recognized and encouraged it. It took her only a week of coaching Brando, recalls the AP's Bob Thomas, before she said that within a year he would be the best young actor in America.\n",
    "Much is made of the generation that followed, the Method actors, and although there is much theory and lore associated with the Method, to some degree it consisted of a lot of actors trying to do what Brando did. Paul Newman, Montgomery Clift, James Dean, Robert De Niro, Jack Nicholson, Al Pacino, Sean Penn and Johnny Depp all owe something to Brando. And a performance like Charlize Ther-on's in \"Monster\" (2003) is almost literally made possible by the avenues that Brando opened.\n",
    "A recent Premiere magazine poll named Brando's Don Corleone, from Francis Coppola's \"The Godfather\" (1972) as the single most memorable character in movie history. \"The Godfather\" is at or near the top of many lists of the greatest films, and Brando's masterpieces also include \"A Streetcar Named Desire\" (1951), \"On the Waterfront\" (1954), \"Apocalypse Now\" (1979) and \"Last Tango in Paris\" (1972). In those films, he was fearless, exposing his psyche in \"Last Tango\" in a famous sex scene that no other major actor might have dared.\n",
    "\"Apocalypse Now\" traded on his mystique by keeping him offscreen until the closing act of the film; he was the enigmatic Col. Kurtz, brilliant, crazy, holed up in the Vietnamese jungle, running his own operation. Even when he appeared, he was seen mostly in shadow, speaking of the horrors of war in a way that transcended the movie and the character.\"\"\"\n",
    "score_summary_2(ebert_sample_4, 'Brando')"
   ]
  },
  {
   "cell_type": "code",
   "execution_count": 84,
   "metadata": {
    "collapsed": false
   },
   "outputs": [
    {
     "data": {
      "text/plain": [
       "0.4752293660917666"
      ]
     },
     "execution_count": 84,
     "metadata": {},
     "output_type": "execute_result"
    }
   ],
   "source": [
    "ebert_sample_4 = \"\"\"Brando's performances broke through some kind of psychic barrier, freeing actors of his and later generations to tap emotions that most earlier actors were unable or willing to reveal. It was said that his style was fashioned by the famed acting teacher Stella Adler, but perhaps he possessed it all along, and Adler simply recognized and encouraged it. It took her only a week of coaching Brando, recalls the AP's Bob Thomas, before she said that within a year he would be the best young actor in America.\n",
    "Much is made of the generation that followed, the Method actors, and although there is much theory and lore associated with the Method, to some degree it consisted of a lot of actors trying to do what Brando did. Paul Newman, Montgomery Clift, James Dean, Robert De Niro, Jack Nicholson, Al Pacino, Sean Penn and Johnny Depp all owe something to Brando. And a performance like Charlize Ther-on's in \"Monster\" (2003) is almost literally made possible by the avenues that Brando opened.\n",
    "A recent Premiere magazine poll named Brando's Don Corleone, from Francis Coppola's \"The Godfather\" (1972) as the single most memorable character in movie history. \"The Godfather\" is at or near the top of many lists of the greatest films, and Brando's masterpieces also include \"A Streetcar Named Desire\" (1951), \"On the Waterfront\" (1954), \"Apocalypse Now\" (1979) and \"Last Tango in Paris\" (1972). In those films, he was fearless, exposing his psyche in \"Last Tango\" in a famous sex scene that no other major actor might have dared.\n",
    "\"Apocalypse Now\" traded on his mystique by keeping him offscreen until the closing act of the film; he was the enigmatic Col. Kurtz, brilliant, crazy, holed up in the Vietnamese jungle, running his own operation. Even when he appeared, he was seen mostly in shadow, speaking of the horrors of war in a way that transcended the movie and the character.\"\"\"\n",
    "score_summary_2(ebert_sample_4, 'Brando')"
   ]
  },
  {
   "cell_type": "code",
   "execution_count": 85,
   "metadata": {
    "collapsed": false
   },
   "outputs": [
    {
     "data": {
      "text/plain": [
       "0.48443035847907295"
      ]
     },
     "execution_count": 85,
     "metadata": {},
     "output_type": "execute_result"
    }
   ],
   "source": [
    "ebert_sample_3 = \"\"\"It's pale and unconvincing compared with the chemistry between Cruise and Rebecca De Mornay in \"Risky Business,\" and between McGillis and Harrison Ford in \"Witness\" - not to mention between Richard Gere and Debra Winger in \"An Officer and a Gentleman,\" which obviously inspired \"Top Gun.\" Cruise and McGillis spend a lot of time squinting uneasily at each other and exchanging words as if they were weapons, and when they finally get physical, they look like the stars of one of those sexy new perfume ads. There's no flesh and blood here, which is remarkable, given the almost palpable physical presence McGillis had in \"Witness.\" In its other scenes on the ground, the movie seems content to recycle old cliches and conventions out of countless other war movies.\n",
    "Wouldn't you know, for example, that Maverick's commanding officer at the flying school is the only man who knows what happened to the kid's father in Vietnam? And are we surprised when Maverick's best friend dies in his arms? Is there any suspense as Maverick undergoes his obligatory crisis of conscience, wondering whether he can ever fly again? Movies like \"Top Gun\" are hard to review because the good parts are so good and the bad parts are so relentless. The dogfights are absolutely the best since Clint Eastwood's electrifying aerial scenes in \"Firefox.\" But look out for the scenes where the people talk to one another.\"\"\"\n",
    "score_summary_2(ebert_sample_3, 'Cruise')"
   ]
  },
  {
   "cell_type": "code",
   "execution_count": 86,
   "metadata": {
    "collapsed": false
   },
   "outputs": [
    {
     "name": "stdout",
     "output_type": "stream",
     "text": [
      "The proof of it is that, on the basis of She-Devil, Streep didn't have to retire to her own dressing room to ask herself what she was doing in a movie with Barr. It's a role that calls out for broad, fearless interpretation, and Streep has a lot of fun with it. And that sense of realized revenge is an undercurrent throughout \"She-Devil,\" which works both on a fictional level and as a real-life demonstration that Barr and Streep are indeed right there in the same movie. If Barr is correctly cast, so is Streep, who has always had a rich vein of comedy bubbling through her personal life - few people are merrier during interviews - but who has dedicated her career to playing serious or even tragic women, most of them with accents. Streep, as Mary Fisher, has erected a glamorous fictional facade around the mundane actual facts of her life, and it is with grim precision that Barr's character pulls it to pieces.\n",
      "However, And while it can be funny when a respectable lady gets stoned on pot, it's difficult for even Streep to make it funny for 10 minutes. \"It's Complicated\" is perfectly plausible if you are only willing to believe that Meryl Streep sells a whole lot of muffins. Pairing Diane Keaton and Jack Nicholson, Mel Gibson and Helen Hunt, and now Streep, Baldwin and Martin, Meyer favors tush-bearing scenes from her stars, although it's a sign of the times that Baldwin finds himself hooked up with Martin via iChat, with the Camera and Screen Sharing options unfortunately enabled.\n",
      "Streep is very funny in Postcards from the Edge; she does a good job of catching the knife-edged throwaway lines that have become Carrie Fisher's speciality. Streep plays this character with a kind of defiant sweetness that recalls the late Irene Dunne.\n",
      "Streep was so much more convincing in the somewhat similar role of Karen Silkwood. \"Erin Brockovich\" is \"Silkwood\" (Meryl Streep fighting nuclear wastes) crossed with \"A Civil Action\" (John Travolta against pollution) plus Julia Roberts in a plunging neckline.\n",
      "0.4326559552487794\n"
     ]
    }
   ],
   "source": [
    "results_3 = like_person_3('ebert', 'Streep')\n",
    "print(results_3)\n",
    "print(score_summary_2(results_3, 'Streep'))"
   ]
  },
  {
   "cell_type": "code",
   "execution_count": 87,
   "metadata": {
    "collapsed": false
   },
   "outputs": [
    {
     "name": "stdout",
     "output_type": "stream",
     "text": [
      "So Lisa continues the sessions, and perhaps only Streep could produce such gradations of facial expressions as her client describes her son's lovemaking, his opinion of his mother, and admirable details of his physique. And Streep has that ability to cut through the solemnity of a scene with a zinger that reveals how all human effort is, after all, comic at some level: How amusing, to think we can control fate! Meryl Streep and Uma Thurman have line readings that work as delicate and precise adjustments of dangerous situations.\n",
      "Streep was so much more convincing in the somewhat similar role of Karen Silkwood. \"Erin Brockovich\" is \"Silkwood\" (Meryl Streep fighting nuclear wastes) crossed with \"A Civil Action\" (John Travolta against pollution) plus Julia Roberts in a plunging neckline.\n",
      "The proof of it is that, on the basis of She-Devil, Streep didn't have to retire to her own dressing room to ask herself what she was doing in a movie with Barr. It's a role that calls out for broad, fearless interpretation, and Streep has a lot of fun with it. And that sense of realized revenge is an undercurrent throughout \"She-Devil,\" which works both on a fictional level and as a real-life demonstration that Barr and Streep are indeed right there in the same movie. If Barr is correctly cast, so is Streep, who has always had a rich vein of comedy bubbling through her personal life - few people are merrier during interviews - but who has dedicated her career to playing serious or even tragic women, most of them with accents. Streep, as Mary Fisher, has erected a glamorous fictional facade around the mundane actual facts of her life, and it is with grim precision that Barr's character pulls it to pieces.\n",
      "Nicholson and Streep play drunks in Ironweed, and actors are said to like to play drunks, because it gives them an excuse for overacting. Both Nicholson and Streep have moments as good as anything they have done.\n",
      "0.3877295671999269\n"
     ]
    }
   ],
   "source": [
    "results_4 = like_person_4('ebert', 'Streep')\n",
    "print(results_4)\n",
    "print(score_summary_2(results_4, 'Streep'))"
   ]
  },
  {
   "cell_type": "code",
   "execution_count": 88,
   "metadata": {
    "collapsed": false
   },
   "outputs": [
    {
     "data": {
      "text/plain": [
       "0.4197181922991106"
      ]
     },
     "execution_count": 88,
     "metadata": {},
     "output_type": "execute_result"
    }
   ],
   "source": [
    "ebert_sample_2 = \"\"\"Those who have read the novel may be surprised to find Michael at the center of the movie, instead of Don Corleone. In fact, this is simply an economical way for Coppola to get at the heart of the Puzo story, which dealt with the transfer of power within the family. Marlon Brando, who plays the Godfather as a shrewd, unbreakable old man, actually has the character lead in the movie; Al Pacino, with a brilliantly developed performance as Michael, is the lead.\n",
    "But Brando’s performance is a skillful throwaway, even though it earned him an Academy Award for best actor. His voice is wheezy and whispery, and his physical movements deliberately lack precision; the effect is of a man so accustomed to power that he no longer needs to remind others. Brando does look the part of old Don Corleone, mostly because of acting and partly because of the makeup, although he seems to have stuffed a little too much cotton into his jowls, making his lower face immobile.\"\"\"\n",
    "score_summary_2(ebert_sample_2, 'Brando')"
   ]
  },
  {
   "cell_type": "code",
   "execution_count": 90,
   "metadata": {
    "collapsed": false
   },
   "outputs": [
    {
     "data": {
      "text/plain": [
       "0.5029025510961714"
      ]
     },
     "execution_count": 90,
     "metadata": {},
     "output_type": "execute_result"
    }
   ],
   "source": [
    "nick_sample_1 = \"\"\"Joel McHale has a particular kind of charisma that makes him perfect for a show like community, and stick out in a show like his new one. His overwhelming screen presence and self-aware delivery absolutely make the characater of Jeff Winger. But, in a more traditional sitcom -- laugh track or studio audience and all -- it just pulls you out of it.\n",
    "I must say though, despite his limited range, I loved him in Community. His character is designed to showcase the sharp monologue delivery that carried him for most of his early career such as the host of The Soup. And, it makes every episode feel like the end of some old Bill Murray movie. He can even plausibly play the action hero, when the paintball homage calls for it.\n",
    "I wouldn't cast McHale in just anything; but he's incredibly watchable in the right setting.\"\"\"\n",
    "\n",
    "score_summary_2(nick_sample_1, 'McHale')"
   ]
  },
  {
   "cell_type": "code",
   "execution_count": 91,
   "metadata": {
    "collapsed": false
   },
   "outputs": [
    {
     "name": "stdout",
     "output_type": "stream",
     "text": [
      "Nicholson is very good with the material (some of his line readings are balancing acts of the savage and the sublime), but this material can only take him, and us, so far. \"Wolf\" stars Jack Nicholson as a top editor for a New York publishing house, who is bitten by a wolf and begins to turn into a werewolf, just as a billionaire tycoon buys the company and replaces Nicholson with a back-stabbing yuppie. His replacement, a traitor Nicholson thought was his friend, is the polished young hypocrite Stewart Swinton (James Spader, playing what can only be called the James Spader role, and playing it very nicely, too). And more, because Nicholson and his director, Mike Nichols, are halfway serious about exploring what might happen if a New York book editor did become a werewolf. This scenario doesn't develop as office politics as usual, however, because of the strange experience Nicholson had a few nights earlier in Vermont, where he was bitten by a wolf.\n",
      "It may seem surprising to say that Baker holds the screen against Jack Nicholson, and yet she does. Nicholsons homecoming is all the more effective because Carroll Baker is so good as his wife, who has never remarried, who in her way does not blame him for what he has made of their lives, because he had his reasons. Nicholson and Streep play drunks in Ironweed, and actors are said to like to play drunks, because it gives them an excuse for overacting. As the drunk, hallucinatory Nicholson sees the face of a trolley driver he accidentally killed years ago, we begin to understand some of the chaos within his soaked brain.\n",
      "Nicholson is so proud of the bridge that he essentially forgets about the war. The next morning brings an elaborate interplay of characters and motives, as the sound of the approaching train creates suspense, while Nicholson, incredibly, seems ready to expose the sabotage rather than see his beloved bridge go down. But he is a rigidly dutiful officer, and we see him weeping privately with humiliation because Nicholson is a better bridge builder; he prepares for hara-kiri if the bridge is not ready on time.\n",
      "The story: Rachel meets Mark and it's love at first sight, but it's not the kind of loin-churning passion we felt when Nicholson met Kathleen Turner in \"Prizzi's Honor.\" It's more of a low-grade fever, something to be treated with aspirin - or marriage. There are scenes set in the thickets of Washington gossip, where Catherine O'Hara plays the reigning bitch goddess, and other scenes of domesticity, as when Nicholson wonders why the carpenters have not supplied a doorway from the kitchen to the rest of the house. And a moment when Nicholson sits by her bed and cries, because he knows that the flaws in his character will make it impossible for him to function responsibly as a husband and father.\n",
      "0.25008852092254685\n"
     ]
    }
   ],
   "source": [
    "results_3 = like_person_3('ebert', 'Nicholson')\n",
    "print(results_3)\n",
    "print(score_summary_2(results_3, 'Nicholson'))"
   ]
  },
  {
   "cell_type": "code",
   "execution_count": 92,
   "metadata": {
    "collapsed": false
   },
   "outputs": [
    {
     "name": "stdout",
     "output_type": "stream",
     "text": [
      "Too bad, because in their best scenes together, Nicholson and Mohr achieve a kind of intimacy and immediate truth that is hard to find, and a shame to waste. They aren't sitcom types, but solid, loyal, comfortable, smart people; Alice reminds me a little of Nicholson's great performance in \"Tully\" (2000) as a veterinary student who knows who she wants to marry and captures her prey with infinite subtlety and tenderness.\n",
      "\"Easy Rider\" proved in 1969 that Jack Nicholson was a great character actor. \"Five Easy Pieces\" proved in 1970 that he was a great actor and a star. Nicholson was not Five Easy Pieces's only discovery.\n",
      "Historic moments in the cinema are not always this easy to identify: Nicholson had been in movies for years, but his jailhouse dialogue in \"Easy Rider\" instantly made him a star. In scenes like the one where Hopper and Fonda teach Nicholson how to inhale, there's a quietly approving air, as if life is a treatable disease, and pot is the cure. Easy Rider comes alive with the electrifying entry of the Jack Nicholson character, a lawyer named George Hanson whom they meet in a jail cell.\n",
      "Joe Don Baker and Pierce Brosnan are the exceptions; many of the other actors don't seem in on the joke, and Nicholson doesn't look like he's having a good time. The action also takes place in Las Vegas, where Nicholson, in an unsuccessful and unnecessary dual role, plays a casino owner with a boozy wife (Annette Bening).\n",
      "0.45360548150426505\n"
     ]
    }
   ],
   "source": [
    "results_3 = like_person_4('ebert', 'Nicholson')\n",
    "print(results_3)\n",
    "print(score_summary_2(results_3, 'Nicholson'))"
   ]
  },
  {
   "cell_type": "markdown",
   "metadata": {
    "collapsed": true
   },
   "source": [
    "# Topic Modeling\n",
    "\n",
    "Use topic modeling to try and make better paragraphs"
   ]
  },
  {
   "cell_type": "code",
   "execution_count": 20,
   "metadata": {
    "collapsed": false
   },
   "outputs": [],
   "source": [
    "c = Corpus('ebert')\n",
    "all_articles = c.slurp_articles()"
   ]
  },
  {
   "cell_type": "code",
   "execution_count": 28,
   "metadata": {
    "collapsed": false
   },
   "outputs": [],
   "source": [
    "doc_term_matrix, id2term = textacy.vsm.doc_term_matrix(\n",
    "    (textacy.Doc(doc, lang='en').to_terms_list(ngrams=1, named_entities=True, as_strings=True)\n",
    "     for doc in all_articles),\n",
    "    weighting='tfidf', normalize=True, smooth_idf=True, min_df=4, max_df=0.90)"
   ]
  },
  {
   "cell_type": "code",
   "execution_count": 29,
   "metadata": {
    "collapsed": false
   },
   "outputs": [
    {
     "data": {
      "text/plain": [
       "'1. A robot may not injure a human being or, through inaction, allow a human being to come to harm.\\n2. A robot must obey orders given it by human beings, except where such orders would conflict with the First Law.\\n3. A robot must protect its own existence as long as such protection does not conflict with the First or Second Law.\\n--Isaac Asimov\\'s I, Robot\\n\\'I, Robot\" takes place in Chicago circa 2035, a city where spectacular new skyscrapers share the skyline with landmarks like the Sears (but not the Trump) Tower. The tallest of the buildings belongs to U.S. Robotics, and on the floor of its atrium lobby lies the dead body of its chief robot designer, apparently a suicide.\\nDet. Del Spooner is on the case. Will Smith plays Spooner, a Chicago Police Department detective who doesn\\'t think it\\'s suicide. He has a deep-seated mistrust of robots, despite the famous Three Laws of Robotics, which declare above all that a robot must not harm a human being.\\nThe dead man is Dr. Alfred Lanning (James Cromwell), who, we are told, wrote the Three Laws. Every schoolchild knows the laws were set down by the good doctor Isaac Asimov, after a conversation he had on Dec. 23, 1940, with John W. Campbell, the legendary editor of Astounding Science Fiction. It is peculiar that no one in the film knows that, especially since the film is \"based on the book by Isaac Asimov.\" Would it have killed the filmmakers to credit Asimov?\\nAsimov\\'s robot stories were often based on robots that got themselves hopelessly entangled in logical contradictions involving the laws. According to the invaluable Wikipedia encyclopedia on the Web, Harlan Ellison and Asimov collaborated in the 1970s on an \"I, Robot\" screenplay, which, the good doctor said, would produce \"the first really adult, complex, worthwhile science fiction movie ever made.\"\\nWhile that does not speak highly for \"2001: A Space Odyssey\" (1968), it is certain that the screenplay for this film, by Jeff Vintar and Akiva Goldsman, is not adult, complex or worthwhile, although it is indeed science fiction. The director is Alex Proyas, whose great \"Dark City\" (1998) was also about a hero trying to make sense of the deceptive natures of the beings around him.\\nThe movie makes Spooner into another one of those movie cops who insults the powerful, races recklessly around town, gets his badge pulled by his captain, solves the crime and survives incredible physical adventures. In many of these exploits he is accompanied by Dr. Susan Calvin (Bridget Moynahan), whose job at U.S. Robotics is \"to make the robots seem more human.\"\\nAt this she is not very successful. The movie\\'s robots are curiously uninvolving as individuals, and when seen by the hundreds or thousands look like shiny chromium ants. True, a robot need not have much of a personality, but there is one robot, named Sonny and voiced by Alan Tudyk, who is more advanced than the standard robot, more \"human,\" and capable of questions like \"What am I?\" -- a question many movie characters might profitably ask themselves.\\nIf Sonny doesn\\'t have real feelings, he comes as close to them as any of the humans in the movie. Both Spooner and Calvin are kept in motion so relentlessly that their human sides get overlooked, except for a touching story Spooner tells about how a little girl dies because a robot was too logical. Sonny doesn\\'t seem as \"human\" as, say, Andrew, the robot played by Robin Williams in \"Bicentennial Man\" (1999), based on a robot story by Asimov and Robert Silverberg. But his voice has a certain poignancy, and suggests some the chilly chumminess of HAL 9000.\\nThe plot I will not detail, except to note that you already know from the ads that the robots are up to no good, and Spooner could write a lot of tickets for Three Laws violations.\\nThe plot is simple-minded and disappointing, and the chase and action scenes are pretty much routine for movies in the sci-fi CGI genre. The robots never seem to have the heft and weight of actual metallic machines, and make boring villains.\\nDr. Susan Calvin is one of those handy movie characters who knows all the secrets, can get through all the doors, can solve all the problems and helps Spooner move almost at will through the Robotics skyscraper, which seems curiously ill-guarded. When they team up against the eventual villain, it\\'s an obvious ploy to create yet another space where characters can fall for hundreds of feet and somehow save themselves.\\nAs for the robots, they function like the giant insects in \"Starship Troopers,\" as video game targets. You can\\'t even be mad at them, since they\\'re only programs. Although, come to think of it, you can be mad at programs; Microsoft Word has inspired me to rage far beyond anything these robots engender.'"
      ]
     },
     "execution_count": 29,
     "metadata": {},
     "output_type": "execute_result"
    }
   ],
   "source": [
    "all_articles[0]"
   ]
  },
  {
   "cell_type": "code",
   "execution_count": 30,
   "metadata": {
    "collapsed": false
   },
   "outputs": [
    {
     "data": {
      "text/plain": [
       "(7833, 12)"
      ]
     },
     "execution_count": 30,
     "metadata": {},
     "output_type": "execute_result"
    }
   ],
   "source": [
    "model = textacy.tm.TopicModel('lda', n_topics=12)\n",
    "model.fit(doc_term_matrix)\n",
    "doc_topic_matrix = model.transform(doc_term_matrix)\n",
    "doc_topic_matrix.shape\n",
    "\n"
   ]
  },
  {
   "cell_type": "code",
   "execution_count": 31,
   "metadata": {
    "collapsed": true
   },
   "outputs": [],
   "source": [
    "import numpy as np"
   ]
  },
  {
   "cell_type": "code",
   "execution_count": 32,
   "metadata": {
    "collapsed": false
   },
   "outputs": [],
   "source": [
    "#model = textacy.tm.TopicModel('lda', n_topics=30)\n",
    "\n",
    "#model.fit(doc_term_matrix)\n",
    "#doc_topic_matrix = model.transform(doc_term_matrix)\n",
    "\n",
    "top_term_matrix = np.real(model.model.components_)\n",
    "doc_lengths = [len(d) for d in all_articles]\n",
    "vocab = list(id2term.values())\n",
    "term_frequency = textacy.vsm.get_term_freqs(doc_term_matrix)\n",
    "term_frequency = np.real(term_frequency)\n",
    "\n",
    "import pyLDAvis\n",
    "\n",
    "vis_data = pyLDAvis.prepare(\n",
    "    top_term_matrix,\n",
    "    doc_topic_matrix,\n",
    "    doc_lengths,\n",
    "    vocab,\n",
    "    term_frequency,\n",
    ")"
   ]
  },
  {
   "cell_type": "code",
   "execution_count": 33,
   "metadata": {
    "collapsed": false
   },
   "outputs": [
    {
     "data": {
      "text/plain": [
       "array([ 0.08333349,  0.08333338,  0.08333338, ...,  0.08333339,\n",
       "        0.08333338,  0.08333339])"
      ]
     },
     "execution_count": 33,
     "metadata": {},
     "output_type": "execute_result"
    }
   ],
   "source": [
    "top_term_matrix[0]"
   ]
  },
  {
   "cell_type": "code",
   "execution_count": 34,
   "metadata": {
    "collapsed": false
   },
   "outputs": [
    {
     "data": {
      "text/html": [
       "\n",
       "<link rel=\"stylesheet\" type=\"text/css\" href=\"https://cdn.rawgit.com/bmabey/pyLDAvis/files/ldavis.v1.0.0.css\">\n",
       "\n",
       "\n",
       "<div id=\"ldavis_el3331070190322729862543026\"></div>\n",
       "<script type=\"text/javascript\">\n",
       "\n",
       "var ldavis_el3331070190322729862543026_data = {\"topic.order\": [8, 4, 2, 10, 9, 7, 6, 11, 5, 1, 12, 3], \"lambda.step\": 0.01, \"plot.opts\": {\"xlab\": \"PC1\", \"ylab\": \"PC2\"}, \"tinfo\": {\"Category\": [\"Default\", \"Default\", \"Default\", \"Default\", \"Default\", \"Default\", \"Default\", \"Default\", \"Default\", \"Default\", \"Default\", \"Default\", \"Default\", \"Default\", \"Default\", \"Default\", \"Default\", \"Default\", \"Default\", \"Default\", \"Default\", \"Default\", \"Default\", \"Default\", \"Default\", \"Default\", \"Default\", \"Default\", \"Default\", \"Default\", \"Topic1\", \"Topic1\", \"Topic1\", \"Topic1\", \"Topic1\", \"Topic1\", \"Topic1\", \"Topic1\", \"Topic1\", \"Topic1\", \"Topic1\", \"Topic1\", \"Topic1\", \"Topic1\", \"Topic1\", \"Topic1\", \"Topic1\", \"Topic1\", \"Topic1\", \"Topic1\", \"Topic1\", \"Topic1\", \"Topic1\", \"Topic1\", \"Topic1\", \"Topic1\", \"Topic1\", \"Topic1\", \"Topic1\", \"Topic1\", \"Topic2\", \"Topic2\", \"Topic2\", \"Topic2\", \"Topic2\", \"Topic2\", \"Topic2\", \"Topic2\", \"Topic2\", \"Topic2\", \"Topic2\", \"Topic2\", \"Topic2\", \"Topic2\", \"Topic2\", \"Topic2\", \"Topic2\", \"Topic2\", \"Topic2\", \"Topic2\", \"Topic2\", \"Topic2\", \"Topic2\", \"Topic2\", \"Topic2\", \"Topic2\", \"Topic2\", \"Topic2\", \"Topic2\", \"Topic2\", \"Topic2\", \"Topic2\", \"Topic2\", \"Topic2\", \"Topic2\", \"Topic2\", \"Topic2\", \"Topic2\", \"Topic2\", \"Topic2\", \"Topic2\", \"Topic2\", \"Topic2\", \"Topic2\", \"Topic2\", \"Topic2\", \"Topic2\", \"Topic2\", \"Topic2\", \"Topic2\", \"Topic2\", \"Topic2\", \"Topic2\", \"Topic2\", \"Topic2\", \"Topic2\", \"Topic3\", \"Topic3\", \"Topic3\", \"Topic3\", \"Topic3\", \"Topic3\", \"Topic3\", \"Topic3\", \"Topic3\", \"Topic3\", \"Topic3\", \"Topic3\", \"Topic3\", \"Topic3\", \"Topic3\", \"Topic3\", \"Topic3\", \"Topic3\", \"Topic3\", \"Topic3\", \"Topic3\", \"Topic3\", \"Topic3\", \"Topic3\", \"Topic3\", \"Topic3\", \"Topic3\", \"Topic3\", \"Topic3\", \"Topic3\", \"Topic3\", \"Topic3\", \"Topic3\", \"Topic3\", \"Topic3\", \"Topic3\", \"Topic3\", \"Topic3\", \"Topic3\", \"Topic3\", \"Topic3\", \"Topic3\", \"Topic3\", \"Topic3\", \"Topic3\", \"Topic3\", \"Topic3\", \"Topic3\", \"Topic3\", \"Topic3\", \"Topic3\", \"Topic3\", \"Topic3\", \"Topic3\", \"Topic3\", \"Topic3\", \"Topic3\", \"Topic3\", \"Topic4\", \"Topic4\", \"Topic4\", \"Topic4\", \"Topic4\", \"Topic4\", \"Topic4\", \"Topic4\", \"Topic4\", \"Topic4\", \"Topic4\", \"Topic4\", \"Topic4\", \"Topic4\", \"Topic4\", \"Topic4\", \"Topic4\", \"Topic4\", \"Topic4\", \"Topic4\", \"Topic4\", \"Topic4\", \"Topic4\", \"Topic4\", \"Topic4\", \"Topic4\", \"Topic4\", \"Topic4\", \"Topic4\", \"Topic4\", \"Topic4\", \"Topic4\", \"Topic4\", \"Topic4\", \"Topic4\", \"Topic4\", \"Topic4\", \"Topic4\", \"Topic4\", \"Topic4\", \"Topic4\", \"Topic4\", \"Topic4\", \"Topic4\", \"Topic4\", \"Topic4\", \"Topic4\", \"Topic4\", \"Topic4\", \"Topic4\", \"Topic4\", \"Topic4\", \"Topic4\", \"Topic4\", \"Topic4\", \"Topic4\", \"Topic4\", \"Topic4\", \"Topic5\", \"Topic5\", \"Topic5\", \"Topic5\", \"Topic5\", \"Topic5\", \"Topic5\", \"Topic5\", \"Topic5\", \"Topic5\", \"Topic5\", \"Topic5\", \"Topic5\", \"Topic5\", \"Topic5\", \"Topic5\", \"Topic5\", \"Topic5\", \"Topic5\", \"Topic5\", \"Topic5\", \"Topic5\", \"Topic5\", \"Topic5\", \"Topic5\", \"Topic5\", \"Topic5\", \"Topic5\", \"Topic5\", \"Topic5\", \"Topic5\", \"Topic5\", \"Topic5\", \"Topic5\", \"Topic5\", \"Topic5\", \"Topic5\", \"Topic5\", \"Topic5\", \"Topic5\", \"Topic5\", \"Topic5\", \"Topic5\", \"Topic5\", \"Topic5\", \"Topic5\", \"Topic5\", \"Topic5\", \"Topic5\", \"Topic5\", \"Topic5\", \"Topic5\", \"Topic5\", \"Topic5\", \"Topic5\", \"Topic5\", \"Topic5\", \"Topic5\", \"Topic6\", \"Topic6\", \"Topic6\", \"Topic6\", \"Topic6\", \"Topic6\", \"Topic6\", \"Topic6\", \"Topic6\", \"Topic6\", \"Topic6\", \"Topic6\", \"Topic6\", \"Topic6\", \"Topic6\", \"Topic6\", \"Topic6\", \"Topic6\", \"Topic6\", \"Topic6\", \"Topic6\", \"Topic6\", \"Topic6\", \"Topic6\", \"Topic6\", \"Topic6\", \"Topic6\", \"Topic6\", \"Topic6\", \"Topic6\", \"Topic6\", \"Topic6\", \"Topic6\", \"Topic6\", \"Topic6\", \"Topic6\", \"Topic6\", \"Topic6\", \"Topic6\", \"Topic6\", \"Topic6\", \"Topic6\", \"Topic6\", \"Topic6\", \"Topic6\", \"Topic6\", \"Topic6\", \"Topic6\", \"Topic6\", \"Topic6\", \"Topic6\", \"Topic6\", \"Topic6\", \"Topic6\", \"Topic6\", \"Topic6\", \"Topic6\", \"Topic6\", \"Topic6\", \"Topic7\", \"Topic7\", \"Topic7\", \"Topic7\", \"Topic7\", \"Topic7\", \"Topic7\", \"Topic7\", \"Topic7\", \"Topic7\", \"Topic7\", \"Topic7\", \"Topic7\", \"Topic7\", \"Topic7\", \"Topic7\", \"Topic7\", \"Topic7\", \"Topic7\", \"Topic7\", \"Topic7\", \"Topic7\", \"Topic7\", \"Topic7\", \"Topic7\", \"Topic7\", \"Topic7\", \"Topic7\", \"Topic7\", \"Topic7\", \"Topic7\", \"Topic7\", \"Topic7\", \"Topic7\", \"Topic7\", \"Topic7\", \"Topic7\", \"Topic7\", \"Topic7\", \"Topic7\", \"Topic7\", \"Topic7\", \"Topic7\", \"Topic7\", \"Topic7\", \"Topic7\", \"Topic7\", \"Topic7\", \"Topic7\", \"Topic7\", \"Topic7\", \"Topic7\", \"Topic7\", \"Topic7\", \"Topic7\", \"Topic7\", \"Topic7\", \"Topic7\", \"Topic7\", \"Topic8\", \"Topic8\", \"Topic8\", \"Topic8\", \"Topic8\", \"Topic8\", \"Topic8\", \"Topic8\", \"Topic8\", \"Topic8\", \"Topic8\", \"Topic8\", \"Topic8\", \"Topic8\", \"Topic8\", \"Topic8\", \"Topic8\", \"Topic8\", \"Topic8\", \"Topic8\", \"Topic8\", \"Topic8\", \"Topic8\", \"Topic8\", \"Topic8\", \"Topic8\", \"Topic8\", \"Topic8\", \"Topic8\", \"Topic8\", \"Topic8\", \"Topic8\", \"Topic8\", \"Topic8\", \"Topic8\", \"Topic8\", \"Topic8\", \"Topic8\", \"Topic8\", \"Topic8\", \"Topic8\", \"Topic8\", \"Topic8\", \"Topic8\", \"Topic8\", \"Topic8\", \"Topic8\", \"Topic8\", \"Topic8\", \"Topic8\", \"Topic8\", \"Topic8\", \"Topic8\", \"Topic8\", \"Topic8\", \"Topic8\", \"Topic8\", \"Topic8\", \"Topic8\", \"Topic8\", \"Topic9\", \"Topic9\", \"Topic9\", \"Topic9\", \"Topic9\", \"Topic9\", \"Topic9\", \"Topic9\", \"Topic9\", \"Topic9\", \"Topic9\", \"Topic9\", \"Topic9\", \"Topic9\", \"Topic9\", \"Topic9\", \"Topic9\", \"Topic9\", \"Topic9\", \"Topic9\", \"Topic9\", \"Topic9\", \"Topic9\", \"Topic9\", \"Topic9\", \"Topic9\", \"Topic9\", \"Topic9\", \"Topic9\", \"Topic9\", \"Topic9\", \"Topic9\", \"Topic9\", \"Topic9\", \"Topic9\", \"Topic9\", \"Topic9\", \"Topic9\", \"Topic9\", \"Topic9\", \"Topic9\", \"Topic9\", \"Topic9\", \"Topic9\", \"Topic9\", \"Topic9\", \"Topic9\", \"Topic9\", \"Topic9\", \"Topic9\", \"Topic9\", \"Topic9\", \"Topic9\", \"Topic9\", \"Topic9\", \"Topic9\", \"Topic9\", \"Topic9\", \"Topic9\", \"Topic9\", \"Topic10\", \"Topic10\", \"Topic10\", \"Topic10\", \"Topic10\", \"Topic10\", \"Topic10\", \"Topic10\", \"Topic10\", \"Topic10\", \"Topic10\", \"Topic10\", \"Topic10\", \"Topic10\", \"Topic10\", \"Topic10\", \"Topic10\", \"Topic10\", \"Topic10\", \"Topic10\", \"Topic10\", \"Topic10\", \"Topic10\", \"Topic10\", \"Topic10\", \"Topic10\", \"Topic10\", \"Topic10\", \"Topic10\", \"Topic10\", \"Topic10\", \"Topic10\", \"Topic10\", \"Topic10\", \"Topic10\", \"Topic10\", \"Topic10\", \"Topic10\", \"Topic10\", \"Topic10\", \"Topic10\", \"Topic10\", \"Topic10\", \"Topic10\", \"Topic10\", \"Topic10\", \"Topic10\", \"Topic10\", \"Topic10\", \"Topic10\", \"Topic10\", \"Topic10\", \"Topic10\", \"Topic10\", \"Topic10\", \"Topic10\", \"Topic10\", \"Topic10\", \"Topic10\", \"Topic10\", \"Topic11\", \"Topic11\", \"Topic11\", \"Topic11\", \"Topic11\", \"Topic11\", \"Topic11\", \"Topic11\", \"Topic11\", \"Topic11\", \"Topic11\", \"Topic11\", \"Topic11\", \"Topic11\", \"Topic11\", \"Topic11\", \"Topic11\", \"Topic11\", \"Topic11\", \"Topic11\", \"Topic11\", \"Topic11\", \"Topic11\", \"Topic11\", \"Topic11\", \"Topic11\", \"Topic11\", \"Topic11\", \"Topic11\", \"Topic11\", \"Topic11\", \"Topic11\", \"Topic11\", \"Topic11\", \"Topic11\", \"Topic11\", \"Topic11\", \"Topic11\", \"Topic11\", \"Topic11\", \"Topic11\", \"Topic11\", \"Topic11\", \"Topic11\", \"Topic11\", \"Topic11\", \"Topic11\", \"Topic11\", \"Topic11\", \"Topic11\", \"Topic11\", \"Topic11\", \"Topic11\", \"Topic11\", \"Topic11\", \"Topic11\", \"Topic11\", \"Topic11\", \"Topic11\", \"Topic11\", \"Topic12\", \"Topic12\", \"Topic12\", \"Topic12\", \"Topic12\", \"Topic12\", \"Topic12\", \"Topic12\", \"Topic12\", \"Topic12\", \"Topic12\", \"Topic12\", \"Topic12\", \"Topic12\", \"Topic12\", \"Topic12\", \"Topic12\", \"Topic12\", \"Topic12\", \"Topic12\", \"Topic12\", \"Topic12\", \"Topic12\", \"Topic12\", \"Topic12\", \"Topic12\", \"Topic12\", \"Topic12\", \"Topic12\", \"Topic12\", \"Topic12\", \"Topic12\", \"Topic12\", \"Topic12\", \"Topic12\", \"Topic12\", \"Topic12\", \"Topic12\", \"Topic12\", \"Topic12\", \"Topic12\", \"Topic12\", \"Topic12\", \"Topic12\", \"Topic12\", \"Topic12\", \"Topic12\", \"Topic12\", \"Topic12\", \"Topic12\", \"Topic12\", \"Topic12\", \"Topic12\", \"Topic12\", \"Topic12\", \"Topic12\", \"Topic12\", \"Topic12\", \"Topic12\", \"Topic12\"], \"Freq\": [101569901936.0, 73267986051.0, 60191134669.0, 53913003497.0, 51704759989.0, 48050831659.0, 43868044201.0, 42952224022.0, 40010934142.0, 39582735595.0, 39292787201.0, 39091306739.0, 38562799466.0, 37324989665.0, 36853620193.0, 35796773700.0, 35246338346.0, 32302645822.0, 32009945011.0, 31437334347.0, 30830172690.0, 30470446101.0, 30341614214.0, 30010941233.0, 29912933811.0, 29606657163.0, 29204419642.0, 28859593681.0, 28564924545.0, 28517142135.0, 101567386621.06831, 73265470738.37068, 60188619358.11423, 53910488186.32256, 51702244678.97877, 48048316349.311195, 43865528892.37635, 42949708714.23236, 40008418834.95942, 39580220285.73215, 39290271893.041824, 39088791430.611145, 38560284156.65502, 37322474356.744286, 36851104885.57017, 35794258391.73715, 35243823037.312546, 32300130514.01737, 32007429704.087746, 31434819040.00682, 30827657382.940853, 30467930792.559124, 30339098906.314724, 30008425925.43172, 29910418503.039684, 29604141855.188, 29201904334.51486, 28857078373.60616, 28562409237.17896, 28514626827.769123, 8187859.076645387, 6391708.96704605, 5289302.437671206, 3617360.4800450457, 230989.88523705932, 230989.9009524916, 230989.8955847362, 230989.9050750213, 230989.91603814, 230989.8863486709, 230989.89457876259, 230989.92221902416, 230990.00366190865, 230989.8746001491, 230989.91224793572, 230989.8852419931, 230989.89741920622, 230989.9369943991, 230989.88400900332, 230989.91632488248, 230989.89927119142, 230989.9190461684, 230989.91843863874, 230989.87449589965, 230989.9153063854, 230989.88827276215, 230989.90010299714, 230989.90664429864, 230989.9077202163, 230989.90798112666, 231079.94940513727, 231096.27209788916, 231071.14892644624, 231051.3387034657, 231039.1293740858, 231036.56308495376, 231035.96845475168, 231034.99087169277, 231033.2714919327, 231029.04876359412, 231028.99516778014, 231027.50147109525, 231026.94158653068, 231025.56546756125, 231025.25820505896, 231019.14973152918, 231018.9276954607, 231014.60871845583, 231013.63154526637, 231010.9432820808, 231010.16837196844, 231009.91672910578, 231009.66712409403, 231007.73875938807, 231006.50042748405, 231005.88223442365, 6251151.966358187, 4372309.54054155, 229137.37000786883, 229137.38916457674, 229137.38429768803, 229137.38805019562, 229137.36477150724, 229137.81941911957, 229137.40538374396, 229137.4263185484, 229137.39103194745, 229137.42786124407, 229137.37870258538, 229137.4031690268, 229137.39944007114, 229137.3734290458, 229137.38085930442, 229137.39066884565, 229137.3899396253, 229137.45581606752, 229137.3942438577, 229137.38133844276, 229137.40295279102, 229137.38024613605, 229137.38988195866, 229137.41641325026, 229137.39741234024, 229137.37286366138, 229137.41547697963, 229137.3620474398, 229220.36741146992, 229196.89683397417, 229191.98089836971, 229187.97319286462, 229179.36073535075, 229164.79615484647, 229163.01631172252, 229162.27793699427, 229160.93322224144, 229159.03083058423, 229152.93661803048, 229151.53509997082, 229151.42759605485, 229148.73863736275, 229148.01090738198, 229147.8976043386, 229146.17473274036, 229146.11716617242, 229146.03347767913, 229145.44842093985, 229145.3349387106, 229145.29125633923, 229145.1613960523, 229144.97456982368, 229144.44858917847, 229144.05089740094, 229143.98518761594, 229143.75710297897, 4813088.317982394, 4322862.2891321955, 229125.08127660895, 229125.11729470757, 229125.07541845102, 229125.07874835868, 229125.0719155533, 229125.08758204232, 229125.06808847561, 229125.0995866165, 229125.06192282247, 229125.10289385787, 229125.0652921876, 229125.09081771888, 229125.20582347983, 229125.08418470284, 229125.06931560134, 229125.0710989597, 229125.07742241354, 229125.08520667918, 229125.1006410189, 229125.0493049132, 229125.1120615883, 229125.1056364893, 229125.08316039405, 229125.09117952173, 229125.10076588634, 229125.06588016605, 229125.08014909478, 229125.08454005956, 229218.40349255956, 229193.8244569482, 229173.55712489167, 229169.710200429, 229164.28686423582, 229153.79101459813, 229149.87500338463, 229146.89165349433, 229141.96178844565, 229141.71621348776, 229140.86739182522, 229140.15935055132, 229138.49873966785, 229138.17087410358, 229136.53634538734, 229135.50821709563, 229133.92718282802, 229133.9253344968, 229133.16625546425, 229132.6395266405, 229132.58488569764, 229132.4371219073, 229132.2486874274, 229131.50790085335, 229131.50140773537, 229130.50520256997, 229130.35694188665, 229130.15249207584, 5267346.155539315, 228957.29388737885, 228957.301518332, 228957.26562953013, 228957.3044980055, 228957.31105741338, 228957.2951933979, 228957.28392044985, 228957.30104425285, 228957.3188014747, 228957.27382625427, 228957.29010806195, 228957.29621424992, 228957.2828487049, 228957.28879848545, 228957.31164050405, 228957.27781051316, 228957.28005624659, 228957.28847048237, 229009.03201876505, 228957.2728861504, 228957.29226016125, 228957.26822411563, 228957.29553627508, 228957.29625207916, 228957.29456931195, 228957.29574901104, 228957.26245782667, 228957.30312940074, 228957.2816456882, 229086.57738094765, 229041.46203679824, 229008.51839845337, 228978.8034169761, 228977.0361555385, 228976.7158718266, 228975.31727253087, 228971.6020623598, 228967.77249761936, 228966.02550917593, 228965.9881704048, 228965.90636999728, 228965.69197028098, 228964.36599546287, 228964.32240582054, 228963.9062687062, 228963.82205061734, 228963.15880894198, 228962.5402732206, 228961.24986730126, 228961.04074536287, 228961.03224794805, 228960.92300818276, 228960.73383471905, 228960.6947044615, 228960.10507872925, 228960.0139208927, 228960.00015062556, 3282071.3151904196, 228458.01043902582, 228458.01358257048, 228458.02480740394, 228457.99337611304, 228458.01505814982, 228458.01349799713, 228458.02037853864, 228458.01440175535, 228458.01066283984, 228458.02170513014, 228458.01347895135, 228458.01385056195, 228458.02713181044, 228458.01458618022, 228458.01804301006, 228458.02196347396, 228458.00668207364, 228458.01793226975, 228458.00393437632, 228458.01759018723, 228457.99053474492, 228458.01901571287, 228458.02357203906, 228458.03587199273, 228457.9979892904, 228457.9971334805, 228458.05436713403, 228458.02352917218, 228458.0172842049, 228483.0250065023, 228478.06338861553, 228471.6948145801, 228466.89240266176, 228462.07364911033, 228460.88831381162, 228460.7187713182, 228460.5504676967, 228460.16714987557, 228460.04326620998, 228459.95922210783, 228459.78833996234, 228459.57451855726, 228459.55169202026, 228459.50913110297, 228459.47948971743, 228459.47409284624, 228459.45765657042, 228459.44120612412, 228459.43954174704, 228459.4086224153, 228459.40484011843, 228459.36561082958, 228459.28206597606, 228459.26679274693, 228459.23090036344, 228459.18254779317, 228459.15205825423, 228459.09528895706, 2245297.044898861, 228338.51212432355, 228338.48889919315, 228338.49508565213, 228338.5014399589, 228338.49707564048, 228338.49916300905, 228338.4991746821, 228338.48596520597, 228338.52966450687, 228338.5177166633, 228338.51494619081, 228338.48233902204, 228338.49323469284, 228338.61355015324, 228338.47810690932, 228338.5142729458, 228338.48302243778, 228338.50510280114, 228338.4904406164, 228338.49500400666, 228338.4821726284, 228338.48842776153, 228338.48817984507, 228338.49979771127, 228338.49564317946, 228338.48487956575, 228338.5086291231, 228338.4875429005, 228338.47099096712, 228345.22209042372, 228344.8718778397, 228343.859390582, 228343.76714550337, 228343.55214303377, 228343.14848584542, 228343.1055941651, 228341.98791769095, 228341.30542148682, 228341.2346716916, 228340.2035360157, 228340.15628700293, 228340.1353219845, 228339.97696849634, 228339.9447999483, 228339.93061856466, 228339.92979455105, 228339.63941194414, 228339.63482761648, 228339.624444692, 228339.6232182473, 228339.58674438862, 228339.55295615262, 228339.48603669825, 228339.46702501277, 228339.46056826288, 228339.42364078396, 228339.41845961328, 228339.41455413788, 228059.67014241617, 228059.6664771809, 228059.67694007917, 228059.65071227757, 228059.65867927333, 228059.68332718447, 228059.6802441509, 228059.69077414347, 228059.67328594928, 228059.70829222535, 228059.65010410515, 228059.67177494906, 228059.6745348845, 228059.6912014248, 228059.67916982633, 228059.692658813, 228059.68817506108, 228059.69347235872, 228059.6720072546, 228059.646556334, 228059.65626495256, 228059.66630287538, 228059.66130575025, 228059.6744166749, 228059.6738667471, 228059.710463624, 228059.67460844322, 228059.69935647343, 228059.6855657271, 228059.6849452123, 228064.99068405406, 228063.61745256293, 228061.88777428798, 228061.38353301084, 228060.75807110567, 228060.75448070763, 228060.74430346835, 228060.70662464862, 228060.69648572252, 228060.6922259992, 228060.65295267434, 228060.61566687596, 228060.56436696232, 228060.52685650802, 228060.51549878603, 228060.47116809725, 228060.46390104629, 228060.42825789275, 228060.40867203719, 228060.40235941616, 228060.38441130653, 228060.3798316061, 228060.36270351068, 228060.3444568763, 228060.31115909992, 228060.30179566133, 228060.29577060638, 228060.2747102577, 228060.26793485554, 228060.26444088118, 228059.67878112165, 228059.67994787428, 228059.67262518452, 228059.68563723753, 228059.691047903, 228059.67863013264, 228059.7989267965, 228059.6456608128, 228059.64989952868, 228059.71175534753, 228059.66103362496, 228059.70059766414, 228059.6580084575, 228059.6941576322, 228059.68283390338, 228059.68332929295, 228059.684224865, 228059.68593146102, 228059.66330663415, 228059.65534808952, 228059.65604334834, 228059.65809494082, 228059.6683117106, 228059.69471860174, 228059.67534923358, 228059.6880879722, 228059.6799679862, 228059.68862053732, 228059.67594367452, 228059.67038920234, 228062.69451590715, 228062.56013343754, 228061.33337532883, 228061.02170263222, 228060.89649656296, 228060.83437348163, 228060.8289555328, 228060.82258206833, 228060.61314311702, 228060.6025831443, 228060.5693651508, 228060.56644018562, 228060.55377993817, 228060.54002568682, 228060.5186181324, 228060.5105199876, 228060.4790190208, 228060.40764334874, 228060.40193732033, 228060.38095018629, 228060.37053615172, 228060.36758224433, 228060.33258300353, 228060.3169149801, 228060.30580870959, 228060.30371167356, 228060.2990554009, 228060.29129057913, 228060.2609933705, 228060.25874547588, 228059.68924760068, 228059.6587869186, 228059.66529841552, 228059.69939426554, 228059.65492020472, 228059.6777351041, 228059.68005195123, 228059.67440083486, 228059.66094998625, 228059.68618580082, 228059.6640133851, 228059.66596432548, 228059.69029047896, 228059.6659914254, 228059.66235366114, 228059.7065715302, 228059.68540024915, 228059.72125760885, 228059.67932252242, 228059.69103152913, 228059.66609873777, 228059.6642294011, 228059.66873695393, 228059.68266379603, 228059.68550114217, 228059.68122808088, 228059.68004375786, 228059.65542141022, 228059.6759076487, 228059.66944946302, 228061.97032017316, 228061.05761577387, 228061.01181252536, 228060.95392526133, 228060.950296131, 228060.815397958, 228060.81068347883, 228060.79937447305, 228060.79394553517, 228060.69223701794, 228060.6212975787, 228060.61856098738, 228060.5728855906, 228060.55638027564, 228060.4819977896, 228060.464332263, 228060.42777665015, 228060.3944551199, 228060.3001672963, 228060.2776486552, 228060.26573251665, 228060.2423302811, 228060.24152303537, 228060.23788729496, 228060.23227179353, 228060.22369284087, 228060.22058937725, 228060.2183048591, 228060.20127354114, 228060.1923467856, 228059.67049250094, 228059.69106535878, 228059.6687424047, 228059.69120090836, 228059.6791293556, 228059.69483170405, 228059.7160820235, 228059.67319518814, 228059.65684681974, 228059.6952862339, 228059.68364788403, 228059.6898878316, 228059.65985710354, 228059.68752940645, 228059.67082488685, 228059.67352208775, 228059.65608601057, 228059.67915894723, 228059.684709892, 228059.66512430797, 228059.6888759052, 228059.69824657965, 228059.66767278846, 228059.70308552607, 228059.6443037016, 228059.64599482086, 228059.67313426663, 228059.66428635208, 228059.68123418486, 228059.68825658585, 228061.36413977566, 228060.87123089313, 228060.8000004795, 228060.77624749663, 228060.48572832678, 228060.4257133066, 228060.41009849487, 228060.33767467586, 228060.33331434717, 228060.3257576512, 228060.32114963164, 228060.24954268604, 228060.24921712643, 228060.2151067155, 228060.21068321995, 228060.18847763745, 228060.1554575178, 228060.1535167169, 228060.11236270712, 228060.09848736326, 228060.09202323543, 228060.06698761633, 228060.05729859078, 228060.048562132, 228060.04569464098, 228060.03660722266, 228060.0320537849, 228060.02355882752, 228060.0208002113, 228060.00800737264, 228059.7057692562, 228059.67845396858, 228059.66222479587, 228059.68572966743, 228059.67565090567, 228059.65913481015, 228059.67810329687, 228059.68323778687, 228059.65522581548, 228059.68941613528, 228059.67316253154, 228059.67171221433, 228059.67829358974, 228059.65637236866, 228059.67512245986, 228059.68570246422, 228059.6539080327, 228059.68573429622, 228059.65645718155, 228059.68040523175, 228059.67965806476, 228059.6787796237, 228059.67853299784, 228059.6944869274, 228059.64685762548, 228059.67214849073, 228059.67966363742, 228059.6745353523, 228059.66642513694, 228059.68870307552, 228062.95873304785, 228060.98328934034, 228060.97315445737, 228060.74124061372, 228060.6917736473, 228060.6905205371, 228060.5456022693, 228060.4740987288, 228060.37275347338, 228060.3256436133, 228060.21803194407, 228060.1936725235, 228060.19249409143, 228060.15119610244, 228060.1271421797, 228060.0914163391, 228060.07396567118, 228060.07043417316, 228060.0661716338, 228060.05742195656, 228060.05657961615, 228060.0561003541, 228060.05075722342, 228060.04139809706, 228060.0397876, 228060.01899427263, 228060.01644062542, 228060.01258962942, 228060.00476892907, 228059.98948140698], \"logprob\": [30.0, 29.0, 28.0, 27.0, 26.0, 25.0, 24.0, 23.0, 22.0, 21.0, 20.0, 19.0, 18.0, 17.0, 16.0, 15.0, 14.0, 13.0, 12.0, 11.0, 10.0, 9.0, 8.0, 7.0, 6.0, 5.0, 4.0, 3.0, 2.0, 1.0, 5.6771, 5.3504, 5.1538, 5.0437, 5.0018, 4.9285, 4.8375, 4.8164, 4.7454, 4.7347, 4.7273, 4.7222, 4.7086, 4.6759, 4.6632, 4.6341, 4.6186, 4.5314, 4.5223, 4.5042, 4.4847, 4.473, 4.4688, 4.4578, 4.4545, 4.4442, 4.4306, 4.4187, 4.4084, 4.4067, 1.0831, 0.8355, 0.6462, 0.2662, -2.4849, -2.4849, -2.4849, -2.4849, -2.4849, -2.4849, -2.4849, -2.4849, -2.4849, -2.4849, -2.4849, -2.4849, -2.4849, -2.4849, -2.4849, -2.4849, -2.4849, -2.4849, -2.4849, -2.4849, -2.4849, -2.4849, -2.4849, -2.4849, -2.4849, -2.4849, -2.4845, -2.4844, -2.4846, -2.4846, -2.4847, -2.4847, -2.4847, -2.4847, -2.4847, -2.4847, -2.4847, -2.4847, -2.4847, -2.4848, -2.4848, -2.4848, -2.4848, -2.4848, -2.4848, -2.4848, -2.4848, -2.4848, -2.4848, -2.4848, -2.4848, -2.4848, 0.8213, 0.4638, -2.4849, -2.4849, -2.4849, -2.4849, -2.4849, -2.4849, -2.4849, -2.4849, -2.4849, -2.4849, -2.4849, -2.4849, -2.4849, -2.4849, -2.4849, -2.4849, -2.4849, -2.4849, -2.4849, -2.4849, -2.4849, -2.4849, -2.4849, -2.4849, -2.4849, -2.4849, -2.4849, -2.4849, -2.4845, -2.4846, -2.4847, -2.4847, -2.4847, -2.4848, -2.4848, -2.4848, -2.4848, -2.4848, -2.4848, -2.4848, -2.4848, -2.4849, -2.4849, -2.4849, -2.4849, -2.4849, -2.4849, -2.4849, -2.4849, -2.4849, -2.4849, -2.4849, -2.4849, -2.4849, -2.4849, -2.4849, 0.5599, 0.4525, -2.4849, -2.4849, -2.4849, -2.4849, -2.4849, -2.4849, -2.4849, -2.4849, -2.4849, -2.4849, -2.4849, -2.4849, -2.4849, -2.4849, -2.4849, -2.4849, -2.4849, -2.4849, -2.4849, -2.4849, -2.4849, -2.4849, -2.4849, -2.4849, -2.4849, -2.4849, -2.4849, -2.4849, -2.4845, -2.4846, -2.4847, -2.4847, -2.4847, -2.4848, -2.4848, -2.4848, -2.4848, -2.4848, -2.4848, -2.4848, -2.4848, -2.4848, -2.4849, -2.4849, -2.4849, -2.4849, -2.4849, -2.4849, -2.4849, -2.4849, -2.4849, -2.4849, -2.4849, -2.4849, -2.4849, -2.4849, 0.6508, -2.4849, -2.4849, -2.4849, -2.4849, -2.4849, -2.4849, -2.4849, -2.4849, -2.4849, -2.4849, -2.4849, -2.4849, -2.4849, -2.4849, -2.4849, -2.4849, -2.4849, -2.4849, -2.4847, -2.4849, -2.4849, -2.4849, -2.4849, -2.4849, -2.4849, -2.4849, -2.4849, -2.4849, -2.4849, -2.4843, -2.4845, -2.4847, -2.4848, -2.4848, -2.4848, -2.4848, -2.4848, -2.4849, -2.4849, -2.4849, -2.4849, -2.4849, -2.4849, -2.4849, -2.4849, -2.4849, -2.4849, -2.4849, -2.4849, -2.4849, -2.4849, -2.4849, -2.4849, -2.4849, -2.4849, -2.4849, -2.4849, 0.18, -2.4849, -2.4849, -2.4849, -2.4849, -2.4849, -2.4849, -2.4849, -2.4849, -2.4849, -2.4849, -2.4849, -2.4849, -2.4849, -2.4849, -2.4849, -2.4849, -2.4849, -2.4849, -2.4849, -2.4849, -2.4849, -2.4849, -2.4849, -2.4849, -2.4849, -2.4849, -2.4849, -2.4849, -2.4849, -2.4848, -2.4848, -2.4848, -2.4849, -2.4849, -2.4849, -2.4849, -2.4849, -2.4849, -2.4849, -2.4849, -2.4849, -2.4849, -2.4849, -2.4849, -2.4849, -2.4849, -2.4849, -2.4849, -2.4849, -2.4849, -2.4849, -2.4849, -2.4849, -2.4849, -2.4849, -2.4849, -2.4849, -2.4849, -0.1991, -2.4849, -2.4849, -2.4849, -2.4849, -2.4849, -2.4849, -2.4849, -2.4849, -2.4849, -2.4849, -2.4849, -2.4849, -2.4849, -2.4849, -2.4849, -2.4849, -2.4849, -2.4849, -2.4849, -2.4849, -2.4849, -2.4849, -2.4849, -2.4849, -2.4849, -2.4849, -2.4849, -2.4849, -2.4849, -2.4849, -2.4849, -2.4849, -2.4849, -2.4849, -2.4849, -2.4849, -2.4849, -2.4849, -2.4849, -2.4849, -2.4849, -2.4849, -2.4849, -2.4849, -2.4849, -2.4849, -2.4849, -2.4849, -2.4849, -2.4849, -2.4849, -2.4849, -2.4849, -2.4849, -2.4849, -2.4849, -2.4849, -2.4849, -2.4849, -2.4849, -2.4849, -2.4849, -2.4849, -2.4849, -2.4849, -2.4849, -2.4849, -2.4849, -2.4849, -2.4849, -2.4849, -2.4849, -2.4849, -2.4849, -2.4849, -2.4849, -2.4849, -2.4849, -2.4849, -2.4849, -2.4849, -2.4849, -2.4849, -2.4849, -2.4849, -2.4849, -2.4849, -2.4849, -2.4849, -2.4849, -2.4849, -2.4849, -2.4849, -2.4849, -2.4849, -2.4849, -2.4849, -2.4849, -2.4849, -2.4849, -2.4849, -2.4849, -2.4849, -2.4849, -2.4849, -2.4849, -2.4849, -2.4849, -2.4849, -2.4849, -2.4849, -2.4849, -2.4849, -2.4849, -2.4849, -2.4849, -2.4849, -2.4849, -2.4849, -2.4849, -2.4849, -2.4849, -2.4849, -2.4849, -2.4849, -2.4849, -2.4849, -2.4849, -2.4849, -2.4849, -2.4849, -2.4849, -2.4849, -2.4849, -2.4849, -2.4849, -2.4849, -2.4849, -2.4849, -2.4849, -2.4849, -2.4849, -2.4849, -2.4849, -2.4849, -2.4849, -2.4849, -2.4849, -2.4849, -2.4849, -2.4849, -2.4849, -2.4849, -2.4849, -2.4849, -2.4849, -2.4849, -2.4849, -2.4849, -2.4849, -2.4849, -2.4849, -2.4849, -2.4849, -2.4849, -2.4849, -2.4849, -2.4849, -2.4849, -2.4849, -2.4849, -2.4849, -2.4849, -2.4849, -2.4849, -2.4849, -2.4849, -2.4849, -2.4849, -2.4849, -2.4849, -2.4849, -2.4849, -2.4849, -2.4849, -2.4849, -2.4849, -2.4849, -2.4849, -2.4849, -2.4849, -2.4849, -2.4849, -2.4849, -2.4849, -2.4849, -2.4849, -2.4849, -2.4849, -2.4849, -2.4849, -2.4849, -2.4849, -2.4849, -2.4849, -2.4849, -2.4849, -2.4849, -2.4849, -2.4849, -2.4849, -2.4849, -2.4849, -2.4849, -2.4849, -2.4849, -2.4849, -2.4849, -2.4849, -2.4849, -2.4849, -2.4849, -2.4849, -2.4849, -2.4849, -2.4849, -2.4849, -2.4849, -2.4849, -2.4849, -2.4849, -2.4849, -2.4849, -2.4849, -2.4849, -2.4849, -2.4849, -2.4849, -2.4849, -2.4849, -2.4849, -2.4849, -2.4849, -2.4849, -2.4849, -2.4849, -2.4849, -2.4849, -2.4849, -2.4849, -2.4849, -2.4849, -2.4849, -2.4849, -2.4849, -2.4849, -2.4849, -2.4849, -2.4849, -2.4849, -2.4849, -2.4849, -2.4849, -2.4849, -2.4849, -2.4849, -2.4849, -2.4849, -2.4849, -2.4849, -2.4849, -2.4849, -2.4849, -2.4849, -2.4849, -2.4849, -2.4849, -2.4849, -2.4849, -2.4849, -2.4849, -2.4849, -2.4849, -2.4849, -2.4849, -2.4849, -2.4849, -2.4849, -2.4849, -2.4849, -2.4849, -2.4849, -2.4849, -2.4849, -2.4849, -2.4849, -2.4849, -2.4849, -2.4849, -2.4849, -2.4849, -2.4849, -2.4849, -2.4849, -2.4849, -2.4849, -2.4849, -2.4849, -2.4849, -2.4849, -2.4849, -2.4849, -2.4849, -2.4849, -2.4849, -2.4849, -2.4849, -2.4849, -2.4849, -2.4849, -2.4849, -2.4849, -2.4849, -2.4849, -2.4849, -2.4849, -2.4849, -2.4849, -2.4849, -2.4849, -2.4849, -2.4849, -2.4849, -2.4849, -2.4849, -2.4849, -2.4849, -2.4849, -2.4849, -2.4849, -2.4849, -2.4849, -2.4849, -2.4849, -2.4849, -2.4849, -2.4849, -2.4849, -2.4849, -2.4849, -2.4849, -2.4849, -2.4849, -2.4849, -2.4849, -2.4849, -2.4849, -2.4849], \"loglift\": [30.0, 29.0, 28.0, 27.0, 26.0, 25.0, 24.0, 23.0, 22.0, 21.0, 20.0, 19.0, 18.0, 17.0, 16.0, 15.0, 14.0, 13.0, 12.0, 11.0, 10.0, 9.0, 8.0, 7.0, 6.0, 5.0, 4.0, 3.0, 2.0, 1.0, 11.3281, 11.3281, 11.3281, 11.3281, 11.3281, 11.3281, 11.328, 11.328, 11.328, 11.328, 11.328, 11.328, 11.328, 11.328, 11.328, 11.328, 11.328, 11.328, 11.328, 11.328, 11.328, 11.328, 11.328, 11.328, 11.328, 11.328, 11.328, 11.328, 11.328, 11.328, 14.5874, 14.381, 14.2253, 13.8927, 11.179, 11.1506, 11.121, 11.1206, 11.1088, 11.0958, 11.0698, 10.485, 10.4454, 10.431, 10.4131, 10.4123, 10.4066, 10.3925, 10.3887, 10.38, 10.3728, 10.3715, 10.3689, 10.3667, 10.3649, 10.3609, 10.3582, 10.3549, 10.3528, 10.3509, 10.3427, 10.29, 10.1442, 9.7499, 9.3446, 10.2181, 10.0118, 10.1924, 9.9789, 9.9788, 9.9678, 9.0856, 9.8555, 10.2337, 9.8576, 9.5934, 9.9029, 10.1085, 10.2268, 9.8078, 9.4235, 9.5309, 9.6649, 9.6586, 9.4488, 9.7109, 14.376, 14.0693, 11.179, 11.1506, 11.1416, 11.121, 11.1088, 11.0958, 11.0942, 11.0606, 11.0193, 10.485, 10.4454, 10.431, 10.4131, 10.4123, 10.4066, 10.3925, 10.3887, 10.38, 10.3728, 10.3715, 10.3689, 10.3667, 10.3649, 10.3609, 10.3582, 10.3549, 10.3528, 10.3509, 9.3637, 9.6363, 9.828, 9.9997, 9.9365, 9.7356, 9.188, 9.8718, 9.7398, 9.5376, 8.6578, 9.7081, 8.6751, 9.4715, 9.1826, 9.5018, 8.8698, 9.465, 9.3209, 9.343, 9.4026, 9.2147, 9.035, 9.1474, 8.8367, 9.3241, 9.3384, 9.2546, 14.1536, 14.0584, 11.179, 11.1506, 11.1416, 11.1206, 11.0958, 11.0942, 11.0698, 11.0606, 11.0193, 10.485, 10.4454, 10.431, 10.4131, 10.4123, 10.4066, 10.3925, 10.3887, 10.38, 10.3728, 10.3715, 10.3689, 10.3667, 10.3649, 10.3609, 10.3582, 10.3549, 10.3528, 10.3509, 10.0918, 10.0199, 9.9176, 9.9416, 9.7594, 10.1409, 9.7876, 10.0928, 10.0008, 8.9291, 9.2743, 9.8283, 9.9688, 9.6308, 9.7631, 9.7255, 9.4858, 9.4858, 8.4225, 9.2345, 9.5904, 9.8701, 9.6302, 8.5324, 9.596, 9.072, 9.4285, 9.4289, 14.2315, 11.179, 11.1506, 11.1416, 11.121, 11.1206, 11.1088, 11.0942, 11.0698, 11.0606, 11.0193, 10.485, 10.4454, 10.431, 10.4131, 10.4123, 10.4066, 10.3925, 10.3887, 10.3802, 10.3728, 10.3715, 10.3689, 10.3667, 10.3649, 10.3609, 10.3582, 10.3549, 10.3528, 10.3509, 10.2859, 10.0796, 8.9859, 10.2238, 10.0727, 10.0495, 10.1899, 8.5059, 9.9394, 9.1882, 10.0917, 8.5534, 10.0029, 9.5185, 9.9708, 9.7321, 9.5122, 9.7237, 9.8686, 9.7886, 9.4479, 8.2497, 9.7668, 9.746, 9.3079, 8.448, 9.0399, 8.9251, 13.8155, 11.179, 11.1416, 11.121, 11.1206, 11.1088, 11.0958, 11.0942, 11.0698, 11.0606, 11.0193, 10.485, 10.4454, 10.431, 10.4131, 10.4123, 10.4066, 10.3925, 10.3887, 10.38, 10.3728, 10.3715, 10.3689, 10.3667, 10.3649, 10.3609, 10.3582, 10.3549, 10.3528, 10.3509, 9.9296, 10.1313, 9.9439, 9.9463, 9.6954, 9.4188, 7.7341, 6.7067, 8.2064, 9.035, 8.4992, 9.1657, 8.9712, 7.564, 7.5148, 5.6409, 9.3151, 9.2935, 5.5725, 9.1015, 9.2549, 7.7196, 9.2511, 6.9735, 8.8128, 6.147, 8.7815, 9.2083, 8.4381, 13.4648, 11.1506, 11.1416, 11.121, 11.1206, 11.1088, 11.0958, 11.0942, 11.0698, 11.0606, 11.0193, 10.485, 10.4454, 10.431, 10.4131, 10.4123, 10.4066, 10.3925, 10.3887, 10.38, 10.3728, 10.3715, 10.3689, 10.3667, 10.3649, 10.3609, 10.3582, 10.3549, 10.3528, 10.3509, 10.1805, 9.7297, 10.1035, 8.7553, 8.3218, 9.7257, 9.7257, 9.8221, 10.1092, 10.2814, 6.8632, 8.1667, 9.8662, 7.0432, 7.5451, 9.7507, 7.7436, 8.6128, 6.6705, 7.9133, 9.2853, 5.2014, 8.4923, 9.1389, 9.5631, 5.2441, 6.4335, 7.1878, 9.0172, 11.179, 11.1506, 11.1416, 11.121, 11.1206, 11.1088, 11.0958, 11.0942, 11.0698, 11.0606, 11.0193, 10.485, 10.4454, 10.431, 10.4131, 10.4123, 10.4066, 10.3925, 10.3887, 10.38, 10.3728, 10.3715, 10.3689, 10.3667, 10.3649, 10.3609, 10.3582, 10.3549, 10.3528, 10.3509, 8.8134, 8.2822, 7.3251, 8.9573, 3.1661, 6.606, 6.6651, 7.0536, 9.0225, 6.524, 6.8009, 8.0612, 7.129, 5.8278, 5.5955, 7.5765, 7.2663, 6.5967, 6.9419, 3.8413, 5.6409, 8.4763, 5.642, 9.4059, 6.8895, 4.3989, 9.6431, 7.0555, 6.8059, 5.5222, 11.179, 11.1506, 11.1416, 11.121, 11.1206, 11.1088, 11.0958, 11.0942, 11.0698, 11.0606, 11.0193, 10.485, 10.4454, 10.431, 10.4131, 10.4123, 10.4066, 10.3925, 10.3887, 10.38, 10.3728, 10.3715, 10.3689, 10.3667, 10.3649, 10.3609, 10.3582, 10.3549, 10.3528, 10.3509, 7.0555, 6.9964, 7.4378, 7.1106, 8.0909, 6.4907, 7.7916, 5.9271, 8.3073, 6.0241, 6.7092, 8.1835, 6.9145, 9.3574, 9.456, 5.7557, 8.4972, 7.7088, 5.9575, 6.3573, 6.0524, 7.3692, 6.2864, 3.4928, 5.4556, 3.7995, 3.1661, 5.8231, 7.0666, 4.807, 11.179, 11.1506, 11.1416, 11.121, 11.1206, 11.1088, 11.0958, 11.0942, 11.0698, 11.0606, 11.0193, 10.485, 10.4454, 10.431, 10.4131, 10.4123, 10.4066, 10.3925, 10.3887, 10.38, 10.3728, 10.3715, 10.3689, 10.3667, 10.3649, 10.3609, 10.3582, 10.3549, 10.3528, 10.3509, 8.8154, 5.3456, 7.6881, 8.1979, 7.4154, 6.884, 7.5665, 5.9683, 7.323, 8.1447, 8.2802, 7.2172, 6.0169, 7.239, 7.3431, 7.3191, 5.7913, 4.5367, 5.2325, 3.1661, 9.3403, 8.5982, 6.9264, 3.7995, 4.4244, 7.1284, 6.5905, 7.7755, 7.7521, 3.4928, 11.179, 11.1506, 11.1416, 11.121, 11.1206, 11.1088, 11.0958, 11.0942, 11.0698, 11.0606, 11.0193, 10.485, 10.4454, 10.431, 10.4131, 10.4123, 10.4066, 10.3925, 10.3887, 10.38, 10.3728, 10.3715, 10.3689, 10.3667, 10.3649, 10.3609, 10.3582, 10.3549, 10.3528, 10.3509, 6.9498, 6.714, 7.3858, 8.5149, 6.4365, 8.9562, 6.8798, 6.524, 3.1661, 7.7397, 5.9641, 5.8391, 8.0284, 6.6155, 8.6603, 8.7805, 6.28, 6.3648, 4.1799, 7.4804, 7.4829, 7.9825, 6.8147, 3.8413, 8.894, 5.4358, 4.3584, 3.4927, 9.0904, 5.9143, 11.179, 11.1506, 11.1416, 11.121, 11.1206, 11.1088, 11.0958, 11.0942, 11.0698, 11.0606, 11.0193, 10.485, 10.4454, 10.431, 10.4131, 10.4123, 10.4066, 10.3925, 10.3887, 10.38, 10.3728, 10.3715, 10.3689, 10.3667, 10.3649, 10.3609, 10.3582, 10.3549, 10.3528, 10.3509, 8.1753, 8.6617, 8.4113, 7.0263, 6.2332, 7.5373, 6.0008, 9.353, 6.6431, 7.0835, 7.8249, 6.6174, 5.4783, 6.7471, 6.7672, 6.6178, 5.7609, 7.5659, 9.7102, 9.2763, 6.7238, 9.7102, 3.1661, 9.3948, 5.4358, 6.2985, 3.7995, 8.4611, 7.9874, 6.5798], \"Term\": [\"be\", \"film\", \"not\", \"like\", \"one\", \"man\", \"character\", \"good\", \"scene\", \"story\", \"time\", \"play\", \"know\", \"life\", \"woman\", \"love\", \"way\", \"look\", \"year\", \"people\", \"work\", \"old\", \"day\", \"think\", \"find\", \"american\", \"young\", \"two\", \"little\", \"kid\", \"be\", \"film\", \"not\", \"like\", \"one\", \"man\", \"character\", \"good\", \"scene\", \"story\", \"time\", \"play\", \"know\", \"life\", \"woman\", \"love\", \"way\", \"look\", \"year\", \"people\", \"work\", \"old\", \"day\", \"think\", \"find\", \"american\", \"young\", \"two\", \"little\", \"kid\", \"broomfield\", \"dickie\", \"weavers\", \"cale\", \"ropes\", \"allie\", \"117\", \"riggs\", \"tora\", \"spidey\", \"murtaugh\", \"penitent\", \"trifecta\", \"lotte eisner\", \"homoerotic\", \"gait\", \"von sternberg 's\", \"stranger on a train\", \"hunter thompson\", \"spider - man 's\", \"cecil b. demille 's\", \"jeffrey hunter\", \"waxwork\", \"boris kaufman\", \"faceoff\", \"twice a week\", \"l'age\", \"enlisted\", \"buck turgidson\", \"gregg toland\", \"talented mr. ripley\", \"unprepossess\", \"purple noon\", \"tom ripley\", \"leventhal\", \"rene clement\", \"about 35\", \"anthony minghella\", \"nick broomfield\", \"nuptial\", \"arlo guthrie\", \"hays\", \"four or\", \"recant\", \"annex\", \"cyndi\", \"elisha cook jr.\", \"squares\", \"procure\", \"recessive\", \"nack\", \"goodnight\", \"pete seeger\", \"smalls\", \"kisses\", \"excerpt\", \"murtaugh\", \"riggs\", \"ropes\", \"allie\", \"cale\", \"117\", \"tora\", \"spidey\", \"weavers\", \"dickie\", \"broomfield\", \"penitent\", \"trifecta\", \"lotte eisner\", \"homoerotic\", \"gait\", \"von sternberg 's\", \"stranger on a train\", \"hunter thompson\", \"spider - man 's\", \"cecil b. demille 's\", \"jeffrey hunter\", \"waxwork\", \"boris kaufman\", \"faceoff\", \"twice a week\", \"l'age\", \"enlisted\", \"buck turgidson\", \"gregg toland\", \"getz\", \"rigg\", \"wordplay\", \"fathers\", \"pipsqueak\", \"summer of\", \"richard donner\", \"alertness\", \"stuart wilson\", \"lethal weapon 2\", \"lethal weapon\", \"contention\", \"leticia\", \"freewheeling\", \"internal affairs\", \"heartily\", \"joe pesci\", \"deprecate\", \"exasperate\", \"triad\", \"joss ackland\", \"deduction\", \"joss\", \"repartee\", \"rene russo\", \"patter\", \"varied\", \"anemic\", \"tora\", \"117\", \"ropes\", \"allie\", \"cale\", \"riggs\", \"spidey\", \"weavers\", \"murtaugh\", \"dickie\", \"broomfield\", \"penitent\", \"trifecta\", \"lotte eisner\", \"homoerotic\", \"gait\", \"von sternberg 's\", \"stranger on a train\", \"hunter thompson\", \"spider - man 's\", \"cecil b. demille 's\", \"jeffrey hunter\", \"waxwork\", \"boris kaufman\", \"faceoff\", \"twice a week\", \"l'age\", \"enlisted\", \"buck turgidson\", \"gregg toland\", \"ian fleming\", \"john gavin\", \"jean dujardin\", \"western union\", \"bismarck\", \"cluck\", \"suez\", \"foresight\", \"mosque\", \"dujardin\", \"selznick\", \"tos\", \"depose\", \"apoplexy\", \"drollery\", \"probability\", \"rio de janeiro\", \"janeiro\", \"fleischer\", \"bondian\", \"verbatim\", \"glenn ford\", \"edward g. robinson\", \"cairo\", \"unappetizing\", \"egyptians\", \"misread\", \"$ 25 million\", \"spidey\", \"ropes\", \"allie\", \"cale\", \"117\", \"riggs\", \"tora\", \"weavers\", \"murtaugh\", \"dickie\", \"broomfield\", \"penitent\", \"trifecta\", \"lotte eisner\", \"homoerotic\", \"gait\", \"von sternberg 's\", \"stranger on a train\", \"hunter thompson\", \"spider - man 's\", \"cecil b. demille 's\", \"jeffrey hunter\", \"waxwork\", \"boris kaufman\", \"faceoff\", \"twice a week\", \"l'age\", \"enlisted\", \"buck turgidson\", \"gregg toland\", \"doc ock\", \"ock\", \"peter parker\", \"oooh\", \"regenerate\", \"rosemary harris\", \"bryce dallas howard\", \"irina\", \"insufficiently\", \"mary jane\", \"reboot\", \"scully\", \"misapprehension\", \"andrew garfield\", \"shortchange\", \"infamy\", \"connors\", \"midtown\", \"beastie\", \"meteorite\", \"mega\", \"spider - man\", \"man of steel\", \"webs\", \"tobey maguire\", \"pattinson\", \"sandman\", \"goblin\", \"allie\", \"ropes\", \"cale\", \"117\", \"riggs\", \"tora\", \"spidey\", \"weavers\", \"murtaugh\", \"dickie\", \"broomfield\", \"penitent\", \"trifecta\", \"lotte eisner\", \"homoerotic\", \"gait\", \"von sternberg 's\", \"stranger on a train\", \"hunter thompson\", \"spider - man 's\", \"cecil b. demille 's\", \"jeffrey hunter\", \"waxwork\", \"boris kaufman\", \"faceoff\", \"twice a week\", \"l'age\", \"enlisted\", \"buck turgidson\", \"gregg toland\", \"santa .\", \"25 year ago\", \"heartrending\", \"sawmill\", \"nick cassavetes\", \"gene autry\", \"wexler\", \"ali\", \"istanbul\", \"jughead\", \"pleasantville\", \"autry\", \"francesco\", \"noah\", \"turkish\", \"charlie\", \"unloved\", \"few month ago\", \"mark\", \"sleigh\", \"mandy moore\", \"darcy\", \"calhoun\", \"ian\", \"ryan gosling\", \"tommy\", \"rachel mcadams\", \"lucid\", \"gena rowlands\", \"ropes\", \"allie\", \"cale\", \"117\", \"riggs\", \"tora\", \"spidey\", \"weavers\", \"murtaugh\", \"dickie\", \"broomfield\", \"penitent\", \"trifecta\", \"lotte eisner\", \"homoerotic\", \"gait\", \"von sternberg 's\", \"stranger on a train\", \"hunter thompson\", \"spider - man 's\", \"cecil b. demille 's\", \"jeffrey hunter\", \"waxwork\", \"boris kaufman\", \"faceoff\", \"twice a week\", \"l'age\", \"enlisted\", \"buck turgidson\", \"gregg toland\", \"clemens\", \"burstein\", \"sundance 2008\", \"jumanji\", \"bertha\", \"gloves\", \"golden gloves\", \"nanette\", \"hurricane \\\"\", \"very day\", \"mars\", \"warsaw\", \"tainted\", \"cole\", \"renoir\", \"acne\", \"dominique\", \"haiti\", \"molly\", \"labute\", \"walton\", \"london\", \"menzel\", \"emporium\", \"jurist\", \"game\", \"lisa\", \"jan\", \"lawless\", \"ropes\", \"allie\", \"cale\", \"117\", \"riggs\", \"tora\", \"spidey\", \"weavers\", \"murtaugh\", \"dickie\", \"broomfield\", \"penitent\", \"trifecta\", \"lotte eisner\", \"homoerotic\", \"gait\", \"von sternberg 's\", \"stranger on a train\", \"hunter thompson\", \"spider - man 's\", \"cecil b. demille 's\", \"jeffrey hunter\", \"waxwork\", \"boris kaufman\", \"faceoff\", \"twice a week\", \"l'age\", \"enlisted\", \"buck turgidson\", \"gregg toland\", \"snyder\", \"justine\", \"romero\", \"cukor\", \"be\", \"carter\", \"chicken\", \"vince\", \"jenson\", \"annie\", \"godzilla\", \"sylvie\", \"schrader\", \"u.s.\", \"mary\", \"weekly\", \"ana\", \"zombie\", \"arab\", \"one\", \"charlie\", \"hud\", \"race\", \"yoakam\", \"walker\", \"american\", \"mcgraw\", \"frankenstein\", \"1979\", \"disney\", \"ropes\", \"allie\", \"cale\", \"117\", \"riggs\", \"tora\", \"spidey\", \"weavers\", \"murtaugh\", \"dickie\", \"broomfield\", \"penitent\", \"trifecta\", \"lotte eisner\", \"homoerotic\", \"gait\", \"von sternberg 's\", \"stranger on a train\", \"hunter thompson\", \"spider - man 's\", \"cecil b. demille 's\", \"jeffrey hunter\", \"waxwork\", \"boris kaufman\", \"faceoff\", \"twice a week\", \"l'age\", \"enlisted\", \"buck turgidson\", \"gregg toland\", \"frankenstein\", \"dracula\", \"duncan\", \"marion\", \"imamura\", \"ted\", \"dixon\", \"cannes\", \"mormon\", \"monster\", \"cash\", \"chimp\", \"perry\", \"helsing\", \"van helsing\", \"eddie\", \"romanian\", \"gallo\", \"johnny\", \"christian\", \"davis\", \"june\", \"kelly\", \"film\", \"cut\", \"like\", \"be\", \"gay\", \"phoenix\", \"school\", \"ropes\", \"allie\", \"cale\", \"117\", \"riggs\", \"tora\", \"spidey\", \"weavers\", \"murtaugh\", \"dickie\", \"broomfield\", \"penitent\", \"trifecta\", \"lotte eisner\", \"homoerotic\", \"gait\", \"von sternberg 's\", \"stranger on a train\", \"hunter thompson\", \"spider - man 's\", \"cecil b. demille 's\", \"jeffrey hunter\", \"waxwork\", \"boris kaufman\", \"faceoff\", \"twice a week\", \"l'age\", \"enlisted\", \"buck turgidson\", \"gregg toland\", \"hermione\", \"harry\", \"brady\", \"voldemort\", \"ferrell\", \"chabrol\", \"gabrielle\", \"soldier\", \"ronnie\", \"alexandra\", \"brennan\", \"camille\", \"danny\", \"dale\", \"jeep\", \"sandy\", \"russian\", \"night\", \"japanese\", \"be\", \"sirius\", \"galifianakis\", \"sandler\", \"like\", \"two\", \"potter\", \"campaign\", \"denis\", \"palestinian\", \"film\", \"ropes\", \"allie\", \"cale\", \"117\", \"riggs\", \"tora\", \"spidey\", \"weavers\", \"murtaugh\", \"dickie\", \"broomfield\", \"penitent\", \"trifecta\", \"lotte eisner\", \"homoerotic\", \"gait\", \"von sternberg 's\", \"stranger on a train\", \"hunter thompson\", \"spider - man 's\", \"cecil b. demille 's\", \"jeffrey hunter\", \"waxwork\", \"boris kaufman\", \"faceoff\", \"twice a week\", \"l'age\", \"enlisted\", \"buck turgidson\", \"gregg toland\", \"rodriguez\", \"eli\", \"300\", \"anchorman\", \"albert\", \"barkley\", \"ron\", \"annie\", \"be\", \"hebrew\", \"sarah\", \"news\", \"rickman\", \"israeli\", \"hangman\", \"jellyfish\", \"client\", \"miller\", \"woman\", \"anchor\", \"execution\", \"nobel\", \"detroit\", \"one\", \"catering\", \"team\", \"work\", \"film\", \"marsan\", \"co\", \"ropes\", \"allie\", \"cale\", \"117\", \"riggs\", \"tora\", \"spidey\", \"weavers\", \"murtaugh\", \"dickie\", \"broomfield\", \"penitent\", \"trifecta\", \"lotte eisner\", \"homoerotic\", \"gait\", \"von sternberg 's\", \"stranger on a train\", \"hunter thompson\", \"spider - man 's\", \"cecil b. demille 's\", \"jeffrey hunter\", \"waxwork\", \"boris kaufman\", \"faceoff\", \"twice a week\", \"l'age\", \"enlisted\", \"buck turgidson\", \"gregg toland\", \"quincy\", \"hauser\", \"jasmine\", \"chuck\", \"lawrence\", \"evan\", \"chris\", \"ding\", \"jamie\", \"august\", \"cheney\", \"curtis\", \"sam\", \"harvey\", \"samantha\", \"cusack\", \"smart\", \"nicky\", \"keke palmer\", \"faris\", \"rita\", \"keke\", \"be\", \"anna faris\", \"team\", \"magazine\", \"like\", \"hilton\", \"palmer\", \"quaid\"], \"Total\": [101569901936.0, 73267986051.0, 60191134669.0, 53913003497.0, 51704759989.0, 48050831659.0, 43868044201.0, 42952224022.0, 40010934142.0, 39582735595.0, 39292787201.0, 39091306739.0, 38562799466.0, 37324989665.0, 36853620193.0, 35796773700.0, 35246338346.0, 32302645822.0, 32009945011.0, 31437334347.0, 30830172690.0, 30470446101.0, 30341614214.0, 30010941233.0, 29912933811.0, 29606657163.0, 29204419642.0, 28859593681.0, 28564924545.0, 28517142135.0, 101569901936.37126, 73267986051.27318, 60191134669.73095, 53913003497.41159, 51704759989.15963, 48050831659.71028, 43868044201.285484, 42952224022.66591, 40010934142.74457, 39582735595.15722, 39292787201.649796, 39091306739.57173, 38562799466.17715, 37324989665.569664, 36853620193.70161, 35796773700.35845, 35246338346.01362, 32302645822.25934, 32009945011.825874, 31437334347.930454, 30830172690.97779, 30470446101.343983, 30341614214.70416, 30010941233.62213, 29912933811.137108, 29606657163.345417, 29204419642.222984, 28859593681.507385, 28564924545.203487, 28517142135.47987, 39459784.995361775, 37865754.50411582, 36614407.66271808, 34920070.28934742, 33636207.86616264, 34604451.07747596, 35645498.94664362, 35660348.95799677, 36083496.66384138, 36556224.18587062, 37517103.52118765, 67334625.86675423, 70054053.77559827, 71068825.66794978, 72350676.6702065, 72407497.51423696, 72823625.78896251, 73857350.11503547, 74135449.07903324, 74787668.12878574, 75322500.18471757, 75426447.36558856, 75622409.24276598, 75790099.32794334, 75923868.90951481, 76227053.4333628, 76430723.08004446, 76687155.08329825, 76846399.7039712, 76994431.15542814, 77659938.34388533, 81869145.51793218, 94705176.06984973, 140467883.61996657, 210659198.29070157, 87949919.069292, 108096201.68522002, 90231373.33987837, 111709688.77948907, 111719135.84331073, 112955249.08571555, 272912158.2623338, 126379868.9124747, 86582851.3733803, 126111490.91151257, 164235892.87409878, 120530281.92043632, 98122317.31039706, 87171978.56003432, 132549101.26741393, 194659278.00186986, 174822804.84412462, 152899584.6200228, 153866005.65327826, 189784524.44629186, 146026024.27652106, 37517103.52118765, 35660348.95799677, 33636207.86616264, 34604451.07747596, 34920070.28934742, 35645498.94664362, 36083496.66384138, 36556224.18587062, 36614407.66271808, 37865754.50411582, 39459784.995361775, 67334625.86675423, 70054053.77559827, 71068825.66794978, 72350676.6702065, 72407497.51423696, 72823625.78896251, 73857350.11503547, 74135449.07903324, 74787668.12878574, 75322500.18471757, 75426447.36558856, 75622409.24276598, 75790099.32794334, 75923868.90951481, 76227053.4333628, 76430723.08004446, 76687155.08329825, 76846399.7039712, 76994431.15542814, 206714382.94674647, 157368085.12965906, 129919298.133913, 109411283.47032832, 116550678.55479161, 142469760.7174767, 246347501.05997851, 124334324.316869, 141873911.94897002, 173667007.9665683, 418585405.64970446, 146439920.05186716, 411390784.6447983, 185524105.82958326, 247651865.4885767, 179978590.18832415, 338632170.9020199, 186729644.46126333, 215682340.0779405, 210953328.19873455, 198742901.7432684, 239832684.94642746, 287063081.16454667, 256529712.62967747, 350001514.63142973, 214976256.99574566, 211919567.05053514, 230462883.64250988, 36083496.66384138, 35645498.94664362, 33636207.86616264, 34604451.07747596, 34920070.28934742, 35660348.95799677, 36556224.18587062, 36614407.66271808, 37517103.52118765, 37865754.50411582, 39459784.995361775, 67334625.86675423, 70054053.77559827, 71068825.66794978, 72350676.6702065, 72407497.51423696, 72823625.78896251, 73857350.11503547, 74135449.07903324, 74787668.12878574, 75322500.18471757, 75426447.36558856, 75622409.24276598, 75790099.32794334, 75923868.90951481, 76227053.4333628, 76430723.08004446, 76687155.08329825, 76846399.7039712, 76994431.15542814, 99802562.07281865, 107240424.67183495, 118780374.09285417, 115954744.4077129, 139124076.7275958, 95001780.22988823, 135254886.28741887, 99675084.18923722, 109279624.12341525, 319115388.81780005, 225966476.17938915, 129851460.38979648, 112829767.25436664, 158205157.92477688, 138602321.0245971, 143906550.85744202, 182880893.6144216, 182880891.78351587, 529601721.03941035, 235123618.5099867, 164727190.5366388, 124531736.39384697, 158290510.7783496, 474502022.7021662, 163801028.450269, 276633933.5917831, 193663345.14025587, 193599587.12988654, 36556224.18587062, 33636207.86616264, 34604451.07747596, 34920070.28934742, 35645498.94664362, 35660348.95799677, 36083496.66384138, 36614407.66271808, 37517103.52118765, 37865754.50411582, 39459784.995361775, 67334625.86675423, 70054053.77559827, 71068825.66794978, 72350676.6702065, 72407497.51423696, 72823625.78896251, 73857350.11503547, 74135449.07903324, 74787668.12878574, 75322500.18471757, 75426447.36558856, 75622409.24276598, 75790099.32794334, 75923868.90951481, 76227053.4333628, 76430723.08004446, 76687155.08329825, 76846399.7039712, 76994431.15542814, 82214211.23440954, 101031086.35464261, 301545614.0983097, 87433771.60785927, 101695476.46675812, 104083715.64660807, 90454959.15768962, 487242265.388733, 116195302.88664582, 246273866.55887726, 99777237.44854851, 464653684.9513832, 109050262.37108667, 177008577.97965506, 112597346.75580083, 142963223.28071618, 178117859.49353817, 144165396.86418876, 124719901.44712663, 135106552.02211356, 189946745.32151207, 629523234.5187207, 138078743.21185634, 140981246.49098945, 218480428.47307497, 516284545.8917954, 285654188.5207751, 320377492.8201698, 34604451.07747596, 33636207.86616264, 34920070.28934742, 35645498.94664362, 35660348.95799677, 36083496.66384138, 36556224.18587062, 36614407.66271808, 37517103.52118765, 37865754.50411582, 39459784.995361775, 67334625.86675423, 70054053.77559827, 71068825.66794978, 72350676.6702065, 72407497.51423696, 72823625.78896251, 73857350.11503547, 74135449.07903324, 74787668.12878574, 75322500.18471757, 75426447.36558856, 75622409.24276598, 75790099.32794334, 75923868.90951481, 76227053.4333628, 76430723.08004446, 76687155.08329825, 76846399.7039712, 76994431.15542814, 117346290.3401511, 95910684.2375414, 115676592.23917158, 115399144.65722913, 148298004.5032211, 195557365.23762167, 1054168836.528241, 2945246914.5742745, 657358608.9801286, 287057647.1916783, 490507962.19474137, 251865563.73982865, 305944195.7114054, 1249675573.1273649, 1312752372.671181, 8550294137.262332, 216929196.27075145, 221658518.19481817, 9156048680.313002, 268575479.9167026, 230370019.71398318, 1069551066.2764521, 231259452.57870504, 2255503345.062386, 358455245.96509224, 5154366512.25319, 369868341.3544785, 241362900.80406404, 521392867.8517725, 33636207.86616264, 34604451.07747596, 34920070.28934742, 35645498.94664362, 35660348.95799677, 36083496.66384138, 36556224.18587062, 36614407.66271808, 37517103.52118765, 37865754.50411582, 39459784.995361775, 67334625.86675423, 70054053.77559827, 71068825.66794978, 72350676.6702065, 72407497.51423696, 72823625.78896251, 73857350.11503547, 74135449.07903324, 74787668.12878574, 75322500.18471757, 75426447.36558856, 75622409.24276598, 75790099.32794334, 75923868.90951481, 76227053.4333628, 76430723.08004446, 76687155.08329825, 76846399.7039712, 76994431.15542814, 91301621.27216218, 143309113.74546215, 98610136.51622653, 379677208.51338005, 585736633.3365395, 143878167.80538982, 143878171.74075866, 130656354.9180024, 98048571.43320705, 82536881.85428005, 2518546919.066742, 683960343.1733996, 125013482.48344836, 2103707766.244772, 1273541157.801188, 140315672.02653062, 1044240696.3309656, 437837021.0873762, 3053843731.4304757, 881220836.774896, 223487496.84930328, 13269897946.323395, 493890314.87546086, 258724834.05894527, 169278846.58252248, 12714986330.435755, 3870293113.4316034, 1820375187.5764666, 292192044.21714115, 33636207.86616264, 34604451.07747596, 34920070.28934742, 35645498.94664362, 35660348.95799677, 36083496.66384138, 36556224.18587062, 36614407.66271808, 37517103.52118765, 37865754.50411582, 39459784.995361775, 67334625.86675423, 70054053.77559827, 71068825.66794978, 72350676.6702065, 72407497.51423696, 72823625.78896251, 73857350.11503547, 74135449.07903324, 74787668.12878574, 75322500.18471757, 75426447.36558856, 75622409.24276598, 75790099.32794334, 75923868.90951481, 76227053.4333628, 76430723.08004446, 76687155.08329825, 76846399.7039712, 76994431.15542814, 358245110.2676371, 609405555.2602434, 1586919338.996422, 310231503.78022105, 101569901936.37126, 3257206718.731679, 3070157528.01236, 2081883374.6951942, 290652995.50019175, 3535718255.975428, 2680330151.123112, 760071127.3863742, 1930697655.624034, 7092574758.907831, 8947445898.656635, 1234152259.1577506, 1683070530.8464746, 3287571190.282408, 2327943313.3892636, 51704759989.15963, 8550294137.262332, 501888138.5751432, 8540766872.33505, 198097704.25739267, 2453227744.289824, 29606657163.345417, 156253888.6119689, 2078016371.7512097, 2667083243.0243955, 9627777135.8994, 33636207.86616264, 34604451.07747596, 34920070.28934742, 35645498.94664362, 35660348.95799677, 36083496.66384138, 36556224.18587062, 36614407.66271808, 37517103.52118765, 37865754.50411582, 39459784.995361775, 67334625.86675423, 70054053.77559827, 71068825.66794978, 72350676.6702065, 72407497.51423696, 72823625.78896251, 73857350.11503547, 74135449.07903324, 74787668.12878574, 75322500.18471757, 75426447.36558856, 75622409.24276598, 75790099.32794334, 75923868.90951481, 76227053.4333628, 76430723.08004446, 76687155.08329825, 76846399.7039712, 76994431.15542814, 2078016371.7512097, 2204466122.9327917, 1417789907.4447165, 1966512992.3177574, 737851967.5030429, 3655186391.8617997, 995328521.0821875, 6422347276.692845, 594270865.0488408, 5828375891.848887, 2937954220.9557357, 672572930.9243581, 2392616596.0355935, 207935310.74874845, 188409145.02976587, 7623416762.150816, 491462108.3757754, 1081150605.0101879, 6229992819.043487, 4176732061.263013, 5666092738.077499, 1518438926.6752915, 4483997356.129864, 73267986051.27318, 10290666674.283749, 53913003497.41159, 101569901936.37126, 7126285088.048367, 2054943066.8491755, 19684628176.158493, 33636207.86616264, 34604451.07747596, 34920070.28934742, 35645498.94664362, 35660348.95799677, 36083496.66384138, 36556224.18587062, 36614407.66271808, 37517103.52118765, 37865754.50411582, 39459784.995361775, 67334625.86675423, 70054053.77559827, 71068825.66794978, 72350676.6702065, 72407497.51423696, 72823625.78896251, 73857350.11503547, 74135449.07903324, 74787668.12878574, 75322500.18471757, 75426447.36558856, 75622409.24276598, 75790099.32794334, 75923868.90951481, 76227053.4333628, 76430723.08004446, 76687155.08329825, 76846399.7039712, 76994431.15542814, 357553134.3301476, 11487320611.71945, 1103804486.815688, 662945443.405813, 1449838242.0556335, 2466618952.370924, 1246566080.7640452, 6163174878.997611, 1590251206.3670642, 699211368.8805897, 610604468.8753369, 1767753892.048986, 5870605176.51065, 1729607336.5887873, 1558607628.8671422, 1596458383.9790633, 7356770015.094867, 25794324674.393005, 12863356478.668554, 101569901936.37126, 211530738.01205036, 444288458.6930168, 2364306696.7409177, 53913003497.41159, 28859593681.507385, 1931934554.336571, 3307982838.008862, 1011389914.6484377, 1035433124.9248931, 73267986051.27318, 33636207.86616264, 34604451.07747596, 34920070.28934742, 35645498.94664362, 35660348.95799677, 36083496.66384138, 36556224.18587062, 36614407.66271808, 37517103.52118765, 37865754.50411582, 39459784.995361775, 67334625.86675423, 70054053.77559827, 71068825.66794978, 72350676.6702065, 72407497.51423696, 72823625.78896251, 73857350.11503547, 74135449.07903324, 74787668.12878574, 75322500.18471757, 75426447.36558856, 75622409.24276598, 75790099.32794334, 75923868.90951481, 76227053.4333628, 76430723.08004446, 76687155.08329825, 76846399.7039712, 76994431.15542814, 2309567554.2447014, 2923867155.2475257, 1493397165.5937815, 482842020.1172389, 3858913326.0818067, 310577385.7149297, 2477042934.75645, 3535718255.975428, 101569901936.37126, 1048322392.6486303, 6189195015.465268, 7012958918.4352665, 785445851.2432791, 3226336142.206248, 417521874.9772838, 370241625.63341683, 4512413837.958385, 4145541333.3005075, 36853620193.70161, 1358680140.9956284, 1355168658.5966325, 822308071.762033, 2643789720.4804115, 51704759989.15963, 330520268.26102906, 10496746399.836668, 30830172690.97779, 73267986051.27318, 271575365.40853393, 6505206625.222219, 33636207.86616264, 34604451.07747596, 34920070.28934742, 35645498.94664362, 35660348.95799677, 36083496.66384138, 36556224.18587062, 36614407.66271808, 37517103.52118765, 37865754.50411582, 39459784.995361775, 67334625.86675423, 70054053.77559827, 71068825.66794978, 72350676.6702065, 72407497.51423696, 72823625.78896251, 73857350.11503547, 74135449.07903324, 74787668.12878574, 75322500.18471757, 75426447.36558856, 75622409.24276598, 75790099.32794334, 75923868.90951481, 76227053.4333628, 76430723.08004446, 76687155.08329825, 76846399.7039712, 76994431.15542814, 678161553.2326657, 416937396.16044843, 535581677.734404, 2139533184.9058762, 4728842018.937803, 1283421673.3047078, 5966003512.21052, 208850404.0861179, 3138661485.5292096, 2020504646.5719178, 962702600.8353381, 3220211096.304708, 10060028038.093052, 2828574972.677826, 2772331045.573953, 3219152291.0165024, 7583417376.021619, 1247338750.983404, 146127143.3585322, 225494916.96209446, 2895217996.4510875, 146127140.5392468, 101569901936.37126, 200303397.713783, 10496746399.836668, 4430031551.457343, 53913003497.41159, 509569815.85631776, 818337527.6172401, 3343721807.5716815]}, \"token.table\": {\"Term\": [\"$ 25 million\", \"$ 25 million\", \"$ 25 million\", \"$ 25 million\", \"$ 25 million\", \"$ 25 million\", \"$ 25 million\", \"$ 25 million\", \"$ 25 million\", \"$ 25 million\", \"$ 25 million\", \"$ 25 million\", \"117\", \"117\", \"117\", \"117\", \"117\", \"117\", \"117\", \"117\", \"117\", \"117\", \"117\", \"117\", \"1979\", \"1979\", \"1979\", \"1979\", \"1979\", \"1979\", \"1979\", \"1979\", \"1979\", \"1979\", \"1979\", \"1979\", \"25 year ago\", \"25 year ago\", \"25 year ago\", \"25 year ago\", \"25 year ago\", \"25 year ago\", \"25 year ago\", \"25 year ago\", \"25 year ago\", \"25 year ago\", \"25 year ago\", \"25 year ago\", \"300\", \"300\", \"300\", \"300\", \"300\", \"300\", \"300\", \"300\", \"300\", \"300\", \"300\", \"300\", \"about 35\", \"about 35\", \"about 35\", \"about 35\", \"about 35\", \"about 35\", \"about 35\", \"about 35\", \"about 35\", \"about 35\", \"about 35\", \"about 35\", \"acne\", \"acne\", \"acne\", \"acne\", \"acne\", \"acne\", \"acne\", \"acne\", \"acne\", \"acne\", \"acne\", \"acne\", \"albert\", \"albert\", \"albert\", \"albert\", \"albert\", \"albert\", \"albert\", \"albert\", \"albert\", \"albert\", \"albert\", \"albert\", \"alertness\", \"alertness\", \"alertness\", \"alertness\", \"alertness\", \"alertness\", \"alertness\", \"alertness\", \"alertness\", \"alertness\", \"alertness\", \"alertness\", \"alexandra\", \"alexandra\", \"alexandra\", \"alexandra\", \"alexandra\", \"alexandra\", \"alexandra\", \"alexandra\", \"alexandra\", \"alexandra\", \"alexandra\", \"alexandra\", \"ali\", \"ali\", \"ali\", \"ali\", \"ali\", \"ali\", \"ali\", \"ali\", \"ali\", \"ali\", \"ali\", \"ali\", \"allie\", \"allie\", \"allie\", \"allie\", \"allie\", \"allie\", \"allie\", \"allie\", \"allie\", \"allie\", \"allie\", \"allie\", \"american\", \"american\", \"american\", \"american\", \"american\", \"american\", \"american\", \"american\", \"american\", \"american\", \"american\", \"american\", \"ana\", \"ana\", \"ana\", \"ana\", \"ana\", \"ana\", \"ana\", \"ana\", \"ana\", \"ana\", \"ana\", \"ana\", \"anchor\", \"anchor\", \"anchor\", \"anchor\", \"anchor\", \"anchor\", \"anchor\", \"anchor\", \"anchor\", \"anchor\", \"anchor\", \"anchor\", \"anchorman\", \"anchorman\", \"anchorman\", \"anchorman\", \"anchorman\", \"anchorman\", \"anchorman\", \"anchorman\", \"anchorman\", \"anchorman\", \"anchorman\", \"anchorman\", \"andrew garfield\", \"andrew garfield\", \"andrew garfield\", \"andrew garfield\", \"andrew garfield\", \"andrew garfield\", \"andrew garfield\", \"andrew garfield\", \"andrew garfield\", \"andrew garfield\", \"andrew garfield\", \"andrew garfield\", \"anemic\", \"anemic\", \"anemic\", \"anemic\", \"anemic\", \"anemic\", \"anemic\", \"anemic\", \"anemic\", \"anemic\", \"anemic\", \"anemic\", \"anna faris\", \"anna faris\", \"anna faris\", \"anna faris\", \"anna faris\", \"anna faris\", \"anna faris\", \"anna faris\", \"anna faris\", \"anna faris\", \"anna faris\", \"anna faris\", \"annex\", \"annex\", \"annex\", \"annex\", \"annex\", \"annex\", \"annex\", \"annex\", \"annex\", \"annex\", \"annex\", \"annex\", \"annie\", \"annie\", \"annie\", \"annie\", \"annie\", \"annie\", \"annie\", \"annie\", \"annie\", \"annie\", \"annie\", \"annie\", \"anthony minghella\", \"anthony minghella\", \"anthony minghella\", \"anthony minghella\", \"anthony minghella\", \"anthony minghella\", \"anthony minghella\", \"anthony minghella\", \"anthony minghella\", \"anthony minghella\", \"anthony minghella\", \"anthony minghella\", \"apoplexy\", \"apoplexy\", \"apoplexy\", \"apoplexy\", \"apoplexy\", \"apoplexy\", \"apoplexy\", \"apoplexy\", \"apoplexy\", \"apoplexy\", \"apoplexy\", \"apoplexy\", \"arab\", \"arab\", \"arab\", \"arab\", \"arab\", \"arab\", \"arab\", \"arab\", \"arab\", \"arab\", \"arab\", \"arab\", \"arlo guthrie\", \"arlo guthrie\", \"arlo guthrie\", \"arlo guthrie\", \"arlo guthrie\", \"arlo guthrie\", \"arlo guthrie\", \"arlo guthrie\", \"arlo guthrie\", \"arlo guthrie\", \"arlo guthrie\", \"arlo guthrie\", \"august\", \"august\", \"august\", \"august\", \"august\", \"august\", \"august\", \"august\", \"august\", \"august\", \"august\", \"august\", \"autry\", \"autry\", \"autry\", \"autry\", \"autry\", \"autry\", \"autry\", \"autry\", \"autry\", \"autry\", \"autry\", \"autry\", \"barkley\", \"barkley\", \"barkley\", \"barkley\", \"barkley\", \"barkley\", \"barkley\", \"barkley\", \"barkley\", \"barkley\", \"barkley\", \"barkley\", \"be\", \"be\", \"be\", \"be\", \"be\", \"be\", \"be\", \"be\", \"be\", \"be\", \"be\", \"be\", \"beastie\", \"beastie\", \"beastie\", \"beastie\", \"beastie\", \"beastie\", \"beastie\", \"beastie\", \"beastie\", \"beastie\", \"beastie\", \"beastie\", \"bertha\", \"bertha\", \"bertha\", \"bertha\", \"bertha\", \"bertha\", \"bertha\", \"bertha\", \"bertha\", \"bertha\", \"bertha\", \"bertha\", \"bismarck\", \"bismarck\", \"bismarck\", \"bismarck\", \"bismarck\", \"bismarck\", \"bismarck\", \"bismarck\", \"bismarck\", \"bismarck\", \"bismarck\", \"bismarck\", \"bondian\", \"bondian\", \"bondian\", \"bondian\", \"bondian\", \"bondian\", \"bondian\", \"bondian\", \"bondian\", \"bondian\", \"bondian\", \"bondian\", \"boris kaufman\", \"boris kaufman\", \"boris kaufman\", \"boris kaufman\", \"boris kaufman\", \"boris kaufman\", \"boris kaufman\", \"boris kaufman\", \"boris kaufman\", \"boris kaufman\", \"boris kaufman\", \"boris kaufman\", \"brady\", \"brady\", \"brady\", \"brady\", \"brady\", \"brady\", \"brady\", \"brady\", \"brady\", \"brady\", \"brady\", \"brady\", \"brennan\", \"brennan\", \"brennan\", \"brennan\", \"brennan\", \"brennan\", \"brennan\", \"brennan\", \"brennan\", \"brennan\", \"brennan\", \"brennan\", \"broomfield\", \"broomfield\", \"broomfield\", \"broomfield\", \"broomfield\", \"broomfield\", \"broomfield\", \"broomfield\", \"broomfield\", \"broomfield\", \"broomfield\", \"broomfield\", \"bryce dallas howard\", \"bryce dallas howard\", \"bryce dallas howard\", \"bryce dallas howard\", \"bryce dallas howard\", \"bryce dallas howard\", \"bryce dallas howard\", \"bryce dallas howard\", \"bryce dallas howard\", \"bryce dallas howard\", \"bryce dallas howard\", \"bryce dallas howard\", \"buck turgidson\", \"buck turgidson\", \"buck turgidson\", \"buck turgidson\", \"buck turgidson\", \"buck turgidson\", \"buck turgidson\", \"buck turgidson\", \"buck turgidson\", \"buck turgidson\", \"buck turgidson\", \"buck turgidson\", \"burstein\", \"burstein\", \"burstein\", \"burstein\", \"burstein\", \"burstein\", \"burstein\", \"burstein\", \"burstein\", \"burstein\", \"burstein\", \"burstein\", \"cairo\", \"cairo\", \"cairo\", \"cairo\", \"cairo\", \"cairo\", \"cairo\", \"cairo\", \"cairo\", \"cairo\", \"cairo\", \"cairo\", \"cale\", \"cale\", \"cale\", \"cale\", \"cale\", \"cale\", \"cale\", \"cale\", \"cale\", \"cale\", \"cale\", \"cale\", \"calhoun\", \"calhoun\", \"calhoun\", \"calhoun\", \"calhoun\", \"calhoun\", \"calhoun\", \"calhoun\", \"calhoun\", \"calhoun\", \"calhoun\", \"calhoun\", \"camille\", \"camille\", \"camille\", \"camille\", \"camille\", \"camille\", \"camille\", \"camille\", \"camille\", \"camille\", \"camille\", \"camille\", \"campaign\", \"campaign\", \"campaign\", \"campaign\", \"campaign\", \"campaign\", \"campaign\", \"campaign\", \"campaign\", \"campaign\", \"campaign\", \"campaign\", \"cannes\", \"cannes\", \"cannes\", \"cannes\", \"cannes\", \"cannes\", \"cannes\", \"cannes\", \"cannes\", \"cannes\", \"cannes\", \"cannes\", \"carter\", \"carter\", \"carter\", \"carter\", \"carter\", \"carter\", \"carter\", \"carter\", \"carter\", \"carter\", \"carter\", \"carter\", \"cash\", \"cash\", \"cash\", \"cash\", \"cash\", \"cash\", \"cash\", \"cash\", \"cash\", \"cash\", \"cash\", \"cash\", \"catering\", \"catering\", \"catering\", \"catering\", \"catering\", \"catering\", \"catering\", \"catering\", \"catering\", \"catering\", \"catering\", \"catering\", \"cecil b. demille 's\", \"cecil b. demille 's\", \"cecil b. demille 's\", \"cecil b. demille 's\", \"cecil b. demille 's\", \"cecil b. demille 's\", \"cecil b. demille 's\", \"cecil b. demille 's\", \"cecil b. demille 's\", \"cecil b. demille 's\", \"cecil b. demille 's\", \"cecil b. demille 's\", \"chabrol\", \"chabrol\", \"chabrol\", \"chabrol\", \"chabrol\", \"chabrol\", \"chabrol\", \"chabrol\", \"chabrol\", \"chabrol\", \"chabrol\", \"chabrol\", \"character\", \"character\", \"character\", \"character\", \"character\", \"character\", \"character\", \"character\", \"character\", \"character\", \"character\", \"character\", \"charlie\", \"charlie\", \"charlie\", \"charlie\", \"charlie\", \"charlie\", \"charlie\", \"charlie\", \"charlie\", \"charlie\", \"charlie\", \"charlie\", \"cheney\", \"cheney\", \"cheney\", \"cheney\", \"cheney\", \"cheney\", \"cheney\", \"cheney\", \"cheney\", \"cheney\", \"cheney\", \"cheney\", \"chicken\", \"chicken\", \"chicken\", \"chicken\", \"chicken\", \"chicken\", \"chicken\", \"chicken\", \"chicken\", \"chicken\", \"chicken\", \"chicken\", \"chimp\", \"chimp\", \"chimp\", \"chimp\", \"chimp\", \"chimp\", \"chimp\", \"chimp\", \"chimp\", \"chimp\", \"chimp\", \"chimp\", \"chris\", \"chris\", \"chris\", \"chris\", \"chris\", \"chris\", \"chris\", \"chris\", \"chris\", \"chris\", \"chris\", \"chris\", \"christian\", \"christian\", \"christian\", \"christian\", \"christian\", \"christian\", \"christian\", \"christian\", \"christian\", \"christian\", \"christian\", \"christian\", \"chuck\", \"chuck\", \"chuck\", \"chuck\", \"chuck\", \"chuck\", \"chuck\", \"chuck\", \"chuck\", \"chuck\", \"chuck\", \"chuck\", \"clemens\", \"clemens\", \"clemens\", \"clemens\", \"clemens\", \"clemens\", \"clemens\", \"clemens\", \"clemens\", \"clemens\", \"clemens\", \"clemens\", \"client\", \"client\", \"client\", \"client\", \"client\", \"client\", \"client\", \"client\", \"client\", \"client\", \"client\", \"client\", \"cluck\", \"cluck\", \"cluck\", \"cluck\", \"cluck\", \"cluck\", \"cluck\", \"cluck\", \"cluck\", \"cluck\", \"cluck\", \"cluck\", \"co\", \"co\", \"co\", \"co\", \"co\", \"co\", \"co\", \"co\", \"co\", \"co\", \"co\", \"co\", \"cole\", \"cole\", \"cole\", \"cole\", \"cole\", \"cole\", \"cole\", \"cole\", \"cole\", \"cole\", \"cole\", \"cole\", \"connors\", \"connors\", \"connors\", \"connors\", \"connors\", \"connors\", \"connors\", \"connors\", \"connors\", \"connors\", \"connors\", \"connors\", \"contention\", \"contention\", \"contention\", \"contention\", \"contention\", \"contention\", \"contention\", \"contention\", \"contention\", \"contention\", \"contention\", \"contention\", \"cukor\", \"cukor\", \"cukor\", \"cukor\", \"cukor\", \"cukor\", \"cukor\", \"cukor\", \"cukor\", \"cukor\", \"cukor\", \"cukor\", \"curtis\", \"curtis\", \"curtis\", \"curtis\", \"curtis\", \"curtis\", \"curtis\", \"curtis\", \"curtis\", \"curtis\", \"curtis\", \"curtis\", \"cusack\", \"cusack\", \"cusack\", \"cusack\", \"cusack\", \"cusack\", \"cusack\", \"cusack\", \"cusack\", \"cusack\", \"cusack\", \"cusack\", \"cut\", \"cut\", \"cut\", \"cut\", \"cut\", \"cut\", \"cut\", \"cut\", \"cut\", \"cut\", \"cut\", \"cut\", \"cyndi\", \"cyndi\", \"cyndi\", \"cyndi\", \"cyndi\", \"cyndi\", \"cyndi\", \"cyndi\", \"cyndi\", \"cyndi\", \"cyndi\", \"cyndi\", \"dale\", \"dale\", \"dale\", \"dale\", \"dale\", \"dale\", \"dale\", \"dale\", \"dale\", \"dale\", \"dale\", \"dale\", \"danny\", \"danny\", \"danny\", \"danny\", \"danny\", \"danny\", \"danny\", \"danny\", \"danny\", \"danny\", \"danny\", \"danny\", \"darcy\", \"darcy\", \"darcy\", \"darcy\", \"darcy\", \"darcy\", \"darcy\", \"darcy\", \"darcy\", \"darcy\", \"darcy\", \"darcy\", \"davis\", \"davis\", \"davis\", \"davis\", \"davis\", \"davis\", \"davis\", \"davis\", \"davis\", \"davis\", \"davis\", \"davis\", \"day\", \"day\", \"day\", \"day\", \"day\", \"day\", \"day\", \"day\", \"day\", \"day\", \"day\", \"day\", \"deduction\", \"deduction\", \"deduction\", \"deduction\", \"deduction\", \"deduction\", \"deduction\", \"deduction\", \"deduction\", \"deduction\", \"deduction\", \"deduction\", \"denis\", \"denis\", \"denis\", \"denis\", \"denis\", \"denis\", \"denis\", \"denis\", \"denis\", \"denis\", \"denis\", \"denis\", \"depose\", \"depose\", \"depose\", \"depose\", \"depose\", \"depose\", \"depose\", \"depose\", \"depose\", \"depose\", \"depose\", \"depose\", \"deprecate\", \"deprecate\", \"deprecate\", \"deprecate\", \"deprecate\", \"deprecate\", \"deprecate\", \"deprecate\", \"deprecate\", \"deprecate\", \"deprecate\", \"deprecate\", \"detroit\", \"detroit\", \"detroit\", \"detroit\", \"detroit\", \"detroit\", \"detroit\", \"detroit\", \"detroit\", \"detroit\", \"detroit\", \"detroit\", \"dickie\", \"dickie\", \"dickie\", \"dickie\", \"dickie\", \"dickie\", \"dickie\", \"dickie\", \"dickie\", \"dickie\", \"dickie\", \"dickie\", \"ding\", \"ding\", \"ding\", \"ding\", \"ding\", \"ding\", \"ding\", \"ding\", \"ding\", \"ding\", \"ding\", \"ding\", \"disney\", \"disney\", \"disney\", \"disney\", \"disney\", \"disney\", \"disney\", \"disney\", \"disney\", \"disney\", \"disney\", \"disney\", \"dixon\", \"dixon\", \"dixon\", \"dixon\", \"dixon\", \"dixon\", \"dixon\", \"dixon\", \"dixon\", \"dixon\", \"dixon\", \"dixon\", \"doc ock\", \"doc ock\", \"doc ock\", \"doc ock\", \"doc ock\", \"doc ock\", \"doc ock\", \"doc ock\", \"doc ock\", \"doc ock\", \"doc ock\", \"doc ock\", \"dominique\", \"dominique\", \"dominique\", \"dominique\", \"dominique\", \"dominique\", \"dominique\", \"dominique\", \"dominique\", \"dominique\", \"dominique\", \"dominique\", \"dracula\", \"dracula\", \"dracula\", \"dracula\", \"dracula\", \"dracula\", \"dracula\", \"dracula\", \"dracula\", \"dracula\", \"dracula\", \"dracula\", \"drollery\", \"drollery\", \"drollery\", \"drollery\", \"drollery\", \"drollery\", \"drollery\", \"drollery\", \"drollery\", \"drollery\", \"drollery\", \"drollery\", \"dujardin\", \"dujardin\", \"dujardin\", \"dujardin\", \"dujardin\", \"dujardin\", \"dujardin\", \"dujardin\", \"dujardin\", \"dujardin\", \"dujardin\", \"dujardin\", \"duncan\", \"duncan\", \"duncan\", \"duncan\", \"duncan\", \"duncan\", \"duncan\", \"duncan\", \"duncan\", \"duncan\", \"duncan\", \"duncan\", \"eddie\", \"eddie\", \"eddie\", \"eddie\", \"eddie\", \"eddie\", \"eddie\", \"eddie\", \"eddie\", \"eddie\", \"eddie\", \"eddie\", \"edward g. robinson\", \"edward g. robinson\", \"edward g. robinson\", \"edward g. robinson\", \"edward g. robinson\", \"edward g. robinson\", \"edward g. robinson\", \"edward g. robinson\", \"edward g. robinson\", \"edward g. robinson\", \"edward g. robinson\", \"edward g. robinson\", \"egyptians\", \"egyptians\", \"egyptians\", \"egyptians\", \"egyptians\", \"egyptians\", \"egyptians\", \"egyptians\", \"egyptians\", \"egyptians\", \"egyptians\", \"egyptians\", \"eli\", \"eli\", \"eli\", \"eli\", \"eli\", \"eli\", \"eli\", \"eli\", \"eli\", \"eli\", \"eli\", \"eli\", \"elisha cook jr.\", \"elisha cook jr.\", \"elisha cook jr.\", \"elisha cook jr.\", \"elisha cook jr.\", \"elisha cook jr.\", \"elisha cook jr.\", \"elisha cook jr.\", \"elisha cook jr.\", \"elisha cook jr.\", \"elisha cook jr.\", \"elisha cook jr.\", \"emporium\", \"emporium\", \"emporium\", \"emporium\", \"emporium\", \"emporium\", \"emporium\", \"emporium\", \"emporium\", \"emporium\", \"emporium\", \"emporium\", \"enlisted\", \"enlisted\", \"enlisted\", \"enlisted\", \"enlisted\", \"enlisted\", \"enlisted\", \"enlisted\", \"enlisted\", \"enlisted\", \"enlisted\", \"enlisted\", \"evan\", \"evan\", \"evan\", \"evan\", \"evan\", \"evan\", \"evan\", \"evan\", \"evan\", \"evan\", \"evan\", \"evan\", \"exasperate\", \"exasperate\", \"exasperate\", \"exasperate\", \"exasperate\", \"exasperate\", \"exasperate\", \"exasperate\", \"exasperate\", \"exasperate\", \"exasperate\", \"exasperate\", \"excerpt\", \"excerpt\", \"excerpt\", \"excerpt\", \"excerpt\", \"excerpt\", \"excerpt\", \"excerpt\", \"excerpt\", \"excerpt\", \"excerpt\", \"excerpt\", \"execution\", \"execution\", \"execution\", \"execution\", \"execution\", \"execution\", \"execution\", \"execution\", \"execution\", \"execution\", \"execution\", \"execution\", \"faceoff\", \"faceoff\", \"faceoff\", \"faceoff\", \"faceoff\", \"faceoff\", \"faceoff\", \"faceoff\", \"faceoff\", \"faceoff\", \"faceoff\", \"faceoff\", \"faris\", \"faris\", \"faris\", \"faris\", \"faris\", \"faris\", \"faris\", \"faris\", \"faris\", \"faris\", \"faris\", \"faris\", \"fathers\", \"fathers\", \"fathers\", \"fathers\", \"fathers\", \"fathers\", \"fathers\", \"fathers\", \"fathers\", \"fathers\", \"fathers\", \"fathers\", \"ferrell\", \"ferrell\", \"ferrell\", \"ferrell\", \"ferrell\", \"ferrell\", \"ferrell\", \"ferrell\", \"ferrell\", \"ferrell\", \"ferrell\", \"ferrell\", \"few month ago\", \"few month ago\", \"few month ago\", \"few month ago\", \"few month ago\", \"few month ago\", \"few month ago\", \"few month ago\", \"few month ago\", \"few month ago\", \"few month ago\", \"few month ago\", \"film\", \"film\", \"film\", \"film\", \"film\", \"film\", \"film\", \"film\", \"film\", \"film\", \"film\", \"film\", \"find\", \"find\", \"find\", \"find\", \"find\", \"find\", \"find\", \"find\", \"find\", \"find\", \"find\", \"find\", \"fleischer\", \"fleischer\", \"fleischer\", \"fleischer\", \"fleischer\", \"fleischer\", \"fleischer\", \"fleischer\", \"fleischer\", \"fleischer\", \"fleischer\", \"fleischer\", \"foresight\", \"foresight\", \"foresight\", \"foresight\", \"foresight\", \"foresight\", \"foresight\", \"foresight\", \"foresight\", \"foresight\", \"foresight\", \"foresight\", \"four or\", \"four or\", \"four or\", \"four or\", \"four or\", \"four or\", \"four or\", \"four or\", \"four or\", \"four or\", \"four or\", \"four or\", \"francesco\", \"francesco\", \"francesco\", \"francesco\", \"francesco\", \"francesco\", \"francesco\", \"francesco\", \"francesco\", \"francesco\", \"francesco\", \"francesco\", \"frankenstein\", \"frankenstein\", \"frankenstein\", \"frankenstein\", \"frankenstein\", \"frankenstein\", \"frankenstein\", \"frankenstein\", \"frankenstein\", \"frankenstein\", \"frankenstein\", \"frankenstein\", \"freewheeling\", \"freewheeling\", \"freewheeling\", \"freewheeling\", \"freewheeling\", \"freewheeling\", \"freewheeling\", \"freewheeling\", \"freewheeling\", \"freewheeling\", \"freewheeling\", \"freewheeling\", \"gabrielle\", \"gabrielle\", \"gabrielle\", \"gabrielle\", \"gabrielle\", \"gabrielle\", \"gabrielle\", \"gabrielle\", \"gabrielle\", \"gabrielle\", \"gabrielle\", \"gabrielle\", \"gait\", \"gait\", \"gait\", \"gait\", \"gait\", \"gait\", \"gait\", \"gait\", \"gait\", \"gait\", \"gait\", \"gait\", \"galifianakis\", \"galifianakis\", \"galifianakis\", \"galifianakis\", \"galifianakis\", \"galifianakis\", \"galifianakis\", \"galifianakis\", \"galifianakis\", \"galifianakis\", \"galifianakis\", \"galifianakis\", \"gallo\", \"gallo\", \"gallo\", \"gallo\", \"gallo\", \"gallo\", \"gallo\", \"gallo\", \"gallo\", \"gallo\", \"gallo\", \"gallo\", \"game\", \"game\", \"game\", \"game\", \"game\", \"game\", \"game\", \"game\", \"game\", \"game\", \"game\", \"game\", \"gay\", \"gay\", \"gay\", \"gay\", \"gay\", \"gay\", \"gay\", \"gay\", \"gay\", \"gay\", \"gay\", \"gay\", \"gena rowlands\", \"gena rowlands\", \"gena rowlands\", \"gena rowlands\", \"gena rowlands\", \"gena rowlands\", \"gena rowlands\", \"gena rowlands\", \"gena rowlands\", \"gena rowlands\", \"gena rowlands\", \"gena rowlands\", \"gene autry\", \"gene autry\", \"gene autry\", \"gene autry\", \"gene autry\", \"gene autry\", \"gene autry\", \"gene autry\", \"gene autry\", \"gene autry\", \"gene autry\", \"gene autry\", \"getz\", \"getz\", \"getz\", \"getz\", \"getz\", \"getz\", \"getz\", \"getz\", \"getz\", \"getz\", \"getz\", \"getz\", \"glenn ford\", \"glenn ford\", \"glenn ford\", \"glenn ford\", \"glenn ford\", \"glenn ford\", \"glenn ford\", \"glenn ford\", \"glenn ford\", \"glenn ford\", \"glenn ford\", \"glenn ford\", \"gloves\", \"gloves\", \"gloves\", \"gloves\", \"gloves\", \"gloves\", \"gloves\", \"gloves\", \"gloves\", \"gloves\", \"gloves\", \"gloves\", \"goblin\", \"goblin\", \"goblin\", \"goblin\", \"goblin\", \"goblin\", \"goblin\", \"goblin\", \"goblin\", \"goblin\", \"goblin\", \"goblin\", \"godzilla\", \"godzilla\", \"godzilla\", \"godzilla\", \"godzilla\", \"godzilla\", \"godzilla\", \"godzilla\", \"godzilla\", \"godzilla\", \"godzilla\", \"godzilla\", \"golden gloves\", \"golden gloves\", \"golden gloves\", \"golden gloves\", \"golden gloves\", \"golden gloves\", \"golden gloves\", \"golden gloves\", \"golden gloves\", \"golden gloves\", \"golden gloves\", \"golden gloves\", \"good\", \"good\", \"good\", \"good\", \"good\", \"good\", \"good\", \"good\", \"good\", \"good\", \"good\", \"good\", \"goodnight\", \"goodnight\", \"goodnight\", \"goodnight\", \"goodnight\", \"goodnight\", \"goodnight\", \"goodnight\", \"goodnight\", \"goodnight\", \"goodnight\", \"goodnight\", \"gregg toland\", \"gregg toland\", \"gregg toland\", \"gregg toland\", \"gregg toland\", \"gregg toland\", \"gregg toland\", \"gregg toland\", \"gregg toland\", \"gregg toland\", \"gregg toland\", \"gregg toland\", \"haiti\", \"haiti\", \"haiti\", \"haiti\", \"haiti\", \"haiti\", \"haiti\", \"haiti\", \"haiti\", \"haiti\", \"haiti\", \"haiti\", \"hangman\", \"hangman\", \"hangman\", \"hangman\", \"hangman\", \"hangman\", \"hangman\", \"hangman\", \"hangman\", \"hangman\", \"hangman\", \"hangman\", \"harry\", \"harry\", \"harry\", \"harry\", \"harry\", \"harry\", \"harry\", \"harry\", \"harry\", \"harry\", \"harry\", \"harry\", \"harvey\", \"harvey\", \"harvey\", \"harvey\", \"harvey\", \"harvey\", \"harvey\", \"harvey\", \"harvey\", \"harvey\", \"harvey\", \"harvey\", \"hauser\", \"hauser\", \"hauser\", \"hauser\", \"hauser\", \"hauser\", \"hauser\", \"hauser\", \"hauser\", \"hauser\", \"hauser\", \"hauser\", \"hays\", \"hays\", \"hays\", \"hays\", \"hays\", \"hays\", \"hays\", \"hays\", \"hays\", \"hays\", \"hays\", \"hays\", \"heartily\", \"heartily\", \"heartily\", \"heartily\", \"heartily\", \"heartily\", \"heartily\", \"heartily\", \"heartily\", \"heartily\", \"heartily\", \"heartily\", \"heartrending\", \"heartrending\", \"heartrending\", \"heartrending\", \"heartrending\", \"heartrending\", \"heartrending\", \"heartrending\", \"heartrending\", \"heartrending\", \"heartrending\", \"heartrending\", \"hebrew\", \"hebrew\", \"hebrew\", \"hebrew\", \"hebrew\", \"hebrew\", \"hebrew\", \"hebrew\", \"hebrew\", \"hebrew\", \"hebrew\", \"hebrew\", \"helsing\", \"helsing\", \"helsing\", \"helsing\", \"helsing\", \"helsing\", \"helsing\", \"helsing\", \"helsing\", \"helsing\", \"helsing\", \"helsing\", \"hermione\", \"hermione\", \"hermione\", \"hermione\", \"hermione\", \"hermione\", \"hermione\", \"hermione\", \"hermione\", \"hermione\", \"hermione\", \"hermione\", \"hilton\", \"hilton\", \"hilton\", \"hilton\", \"hilton\", \"hilton\", \"hilton\", \"hilton\", \"hilton\", \"hilton\", \"hilton\", \"hilton\", \"homoerotic\", \"homoerotic\", \"homoerotic\", \"homoerotic\", \"homoerotic\", \"homoerotic\", \"homoerotic\", \"homoerotic\", \"homoerotic\", \"homoerotic\", \"homoerotic\", \"homoerotic\", \"hud\", \"hud\", \"hud\", \"hud\", \"hud\", \"hud\", \"hud\", \"hud\", \"hud\", \"hud\", \"hud\", \"hud\", \"hunter thompson\", \"hunter thompson\", \"hunter thompson\", \"hunter thompson\", \"hunter thompson\", \"hunter thompson\", \"hunter thompson\", \"hunter thompson\", \"hunter thompson\", \"hunter thompson\", \"hunter thompson\", \"hunter thompson\", \"hurricane \\\"\", \"hurricane \\\"\", \"hurricane \\\"\", \"hurricane \\\"\", \"hurricane \\\"\", \"hurricane \\\"\", \"hurricane \\\"\", \"hurricane \\\"\", \"hurricane \\\"\", \"hurricane \\\"\", \"hurricane \\\"\", \"hurricane \\\"\", \"ian\", \"ian\", \"ian\", \"ian\", \"ian\", \"ian\", \"ian\", \"ian\", \"ian\", \"ian\", \"ian\", \"ian\", \"ian fleming\", \"ian fleming\", \"ian fleming\", \"ian fleming\", \"ian fleming\", \"ian fleming\", \"ian fleming\", \"ian fleming\", \"ian fleming\", \"ian fleming\", \"ian fleming\", \"ian fleming\", \"imamura\", \"imamura\", \"imamura\", \"imamura\", \"imamura\", \"imamura\", \"imamura\", \"imamura\", \"imamura\", \"imamura\", \"imamura\", \"imamura\", \"infamy\", \"infamy\", \"infamy\", \"infamy\", \"infamy\", \"infamy\", \"infamy\", \"infamy\", \"infamy\", \"infamy\", \"infamy\", \"infamy\", \"insufficiently\", \"insufficiently\", \"insufficiently\", \"insufficiently\", \"insufficiently\", \"insufficiently\", \"insufficiently\", \"insufficiently\", \"insufficiently\", \"insufficiently\", \"insufficiently\", \"insufficiently\", \"internal affairs\", \"internal affairs\", \"internal affairs\", \"internal affairs\", \"internal affairs\", \"internal affairs\", \"internal affairs\", \"internal affairs\", \"internal affairs\", \"internal affairs\", \"internal affairs\", \"internal affairs\", \"irina\", \"irina\", \"irina\", \"irina\", \"irina\", \"irina\", \"irina\", \"irina\", \"irina\", \"irina\", \"irina\", \"irina\", \"israeli\", \"israeli\", \"israeli\", \"israeli\", \"israeli\", \"israeli\", \"israeli\", \"israeli\", \"israeli\", \"israeli\", \"israeli\", \"israeli\", \"istanbul\", \"istanbul\", \"istanbul\", \"istanbul\", \"istanbul\", \"istanbul\", \"istanbul\", \"istanbul\", \"istanbul\", \"istanbul\", \"istanbul\", \"istanbul\", \"jamie\", \"jamie\", \"jamie\", \"jamie\", \"jamie\", \"jamie\", \"jamie\", \"jamie\", \"jamie\", \"jamie\", \"jamie\", \"jamie\", \"jan\", \"jan\", \"jan\", \"jan\", \"jan\", \"jan\", \"jan\", \"jan\", \"jan\", \"jan\", \"jan\", \"jan\", \"janeiro\", \"janeiro\", \"janeiro\", \"janeiro\", \"janeiro\", \"janeiro\", \"janeiro\", \"janeiro\", \"janeiro\", \"janeiro\", \"janeiro\", \"janeiro\", \"japanese\", \"japanese\", \"japanese\", \"japanese\", \"japanese\", \"japanese\", \"japanese\", \"japanese\", \"japanese\", \"japanese\", \"japanese\", \"japanese\", \"jasmine\", \"jasmine\", \"jasmine\", \"jasmine\", \"jasmine\", \"jasmine\", \"jasmine\", \"jasmine\", \"jasmine\", \"jasmine\", \"jasmine\", \"jasmine\", \"jean dujardin\", \"jean dujardin\", \"jean dujardin\", \"jean dujardin\", \"jean dujardin\", \"jean dujardin\", \"jean dujardin\", \"jean dujardin\", \"jean dujardin\", \"jean dujardin\", \"jean dujardin\", \"jean dujardin\", \"jeep\", \"jeep\", \"jeep\", \"jeep\", \"jeep\", \"jeep\", \"jeep\", \"jeep\", \"jeep\", \"jeep\", \"jeep\", \"jeep\", \"jeffrey hunter\", \"jeffrey hunter\", \"jeffrey hunter\", \"jeffrey hunter\", \"jeffrey hunter\", \"jeffrey hunter\", \"jeffrey hunter\", \"jeffrey hunter\", \"jeffrey hunter\", \"jeffrey hunter\", \"jeffrey hunter\", \"jeffrey hunter\", \"jellyfish\", \"jellyfish\", \"jellyfish\", \"jellyfish\", \"jellyfish\", \"jellyfish\", \"jellyfish\", \"jellyfish\", \"jellyfish\", \"jellyfish\", \"jellyfish\", \"jellyfish\", \"jenson\", \"jenson\", \"jenson\", \"jenson\", \"jenson\", \"jenson\", \"jenson\", \"jenson\", \"jenson\", \"jenson\", \"jenson\", \"jenson\", \"joe pesci\", \"joe pesci\", \"joe pesci\", \"joe pesci\", \"joe pesci\", \"joe pesci\", \"joe pesci\", \"joe pesci\", \"joe pesci\", \"joe pesci\", \"joe pesci\", \"joe pesci\", \"john gavin\", \"john gavin\", \"john gavin\", \"john gavin\", \"john gavin\", \"john gavin\", \"john gavin\", \"john gavin\", \"john gavin\", \"john gavin\", \"john gavin\", \"john gavin\", \"johnny\", \"johnny\", \"johnny\", \"johnny\", \"johnny\", \"johnny\", \"johnny\", \"johnny\", \"johnny\", \"johnny\", \"johnny\", \"johnny\", \"joss\", \"joss\", \"joss\", \"joss\", \"joss\", \"joss\", \"joss\", \"joss\", \"joss\", \"joss\", \"joss\", \"joss\", \"joss ackland\", \"joss ackland\", \"joss ackland\", \"joss ackland\", \"joss ackland\", \"joss ackland\", \"joss ackland\", \"joss ackland\", \"joss ackland\", \"joss ackland\", \"joss ackland\", \"joss ackland\", \"jughead\", \"jughead\", \"jughead\", \"jughead\", \"jughead\", \"jughead\", \"jughead\", \"jughead\", \"jughead\", \"jughead\", \"jughead\", \"jughead\", \"jumanji\", \"jumanji\", \"jumanji\", \"jumanji\", \"jumanji\", \"jumanji\", \"jumanji\", \"jumanji\", \"jumanji\", \"jumanji\", \"jumanji\", \"jumanji\", \"june\", \"june\", \"june\", \"june\", \"june\", \"june\", \"june\", \"june\", \"june\", \"june\", \"june\", \"june\", \"jurist\", \"jurist\", \"jurist\", \"jurist\", \"jurist\", \"jurist\", \"jurist\", \"jurist\", \"jurist\", \"jurist\", \"jurist\", \"jurist\", \"justine\", \"justine\", \"justine\", \"justine\", \"justine\", \"justine\", \"justine\", \"justine\", \"justine\", \"justine\", \"justine\", \"justine\", \"keke\", \"keke\", \"keke\", \"keke\", \"keke\", \"keke\", \"keke\", \"keke\", \"keke\", \"keke\", \"keke\", \"keke\", \"keke palmer\", \"keke palmer\", \"keke palmer\", \"keke palmer\", \"keke palmer\", \"keke palmer\", \"keke palmer\", \"keke palmer\", \"keke palmer\", \"keke palmer\", \"keke palmer\", \"keke palmer\", \"kelly\", \"kelly\", \"kelly\", \"kelly\", \"kelly\", \"kelly\", \"kelly\", \"kelly\", \"kelly\", \"kelly\", \"kelly\", \"kelly\", \"kid\", \"kid\", \"kid\", \"kid\", \"kid\", \"kid\", \"kid\", \"kid\", \"kid\", \"kid\", \"kid\", \"kid\", \"kisses\", \"kisses\", \"kisses\", \"kisses\", \"kisses\", \"kisses\", \"kisses\", \"kisses\", \"kisses\", \"kisses\", \"kisses\", \"kisses\", \"know\", \"know\", \"know\", \"know\", \"know\", \"know\", \"know\", \"know\", \"know\", \"know\", \"know\", \"know\", \"l'age\", \"l'age\", \"l'age\", \"l'age\", \"l'age\", \"l'age\", \"l'age\", \"l'age\", \"l'age\", \"l'age\", \"l'age\", \"l'age\", \"labute\", \"labute\", \"labute\", \"labute\", \"labute\", \"labute\", \"labute\", \"labute\", \"labute\", \"labute\", \"labute\", \"labute\", \"lawless\", \"lawless\", \"lawless\", \"lawless\", \"lawless\", \"lawless\", \"lawless\", \"lawless\", \"lawless\", \"lawless\", \"lawless\", \"lawless\", \"lawrence\", \"lawrence\", \"lawrence\", \"lawrence\", \"lawrence\", \"lawrence\", \"lawrence\", \"lawrence\", \"lawrence\", \"lawrence\", \"lawrence\", \"lawrence\", \"lethal weapon\", \"lethal weapon\", \"lethal weapon\", \"lethal weapon\", \"lethal weapon\", \"lethal weapon\", \"lethal weapon\", \"lethal weapon\", \"lethal weapon\", \"lethal weapon\", \"lethal weapon\", \"lethal weapon\", \"lethal weapon 2\", \"lethal weapon 2\", \"lethal weapon 2\", \"lethal weapon 2\", \"lethal weapon 2\", \"lethal weapon 2\", \"lethal weapon 2\", \"lethal weapon 2\", \"lethal weapon 2\", \"lethal weapon 2\", \"lethal weapon 2\", \"lethal weapon 2\", \"leticia\", \"leticia\", \"leticia\", \"leticia\", \"leticia\", \"leticia\", \"leticia\", \"leticia\", \"leticia\", \"leticia\", \"leticia\", \"leticia\", \"leventhal\", \"leventhal\", \"leventhal\", \"leventhal\", \"leventhal\", \"leventhal\", \"leventhal\", \"leventhal\", \"leventhal\", \"leventhal\", \"leventhal\", \"leventhal\", \"life\", \"life\", \"life\", \"life\", \"life\", \"life\", \"life\", \"life\", \"life\", \"life\", \"life\", \"life\", \"like\", \"like\", \"like\", \"like\", \"like\", \"like\", \"like\", \"like\", \"like\", \"like\", \"like\", \"like\", \"lisa\", \"lisa\", \"lisa\", \"lisa\", \"lisa\", \"lisa\", \"lisa\", \"lisa\", \"lisa\", \"lisa\", \"lisa\", \"lisa\", \"little\", \"little\", \"little\", \"little\", \"little\", \"little\", \"little\", \"little\", \"little\", \"little\", \"little\", \"little\", \"london\", \"london\", \"london\", \"london\", \"london\", \"london\", \"london\", \"london\", \"london\", \"london\", \"london\", \"london\", \"look\", \"look\", \"look\", \"look\", \"look\", \"look\", \"look\", \"look\", \"look\", \"look\", \"look\", \"look\", \"lotte eisner\", \"lotte eisner\", \"lotte eisner\", \"lotte eisner\", \"lotte eisner\", \"lotte eisner\", \"lotte eisner\", \"lotte eisner\", \"lotte eisner\", \"lotte eisner\", \"lotte eisner\", \"lotte eisner\", \"love\", \"love\", \"love\", \"love\", \"love\", \"love\", \"love\", \"love\", \"love\", \"love\", \"love\", \"love\", \"lucid\", \"lucid\", \"lucid\", \"lucid\", \"lucid\", \"lucid\", \"lucid\", \"lucid\", \"lucid\", \"lucid\", \"lucid\", \"lucid\", \"magazine\", \"magazine\", \"magazine\", \"magazine\", \"magazine\", \"magazine\", \"magazine\", \"magazine\", \"magazine\", \"magazine\", \"magazine\", \"magazine\", \"man\", \"man\", \"man\", \"man\", \"man\", \"man\", \"man\", \"man\", \"man\", \"man\", \"man\", \"man\", \"man of steel\", \"man of steel\", \"man of steel\", \"man of steel\", \"man of steel\", \"man of steel\", \"man of steel\", \"man of steel\", \"man of steel\", \"man of steel\", \"man of steel\", \"man of steel\", \"mandy moore\", \"mandy moore\", \"mandy moore\", \"mandy moore\", \"mandy moore\", \"mandy moore\", \"mandy moore\", \"mandy moore\", \"mandy moore\", \"mandy moore\", \"mandy moore\", \"mandy moore\", \"marion\", \"marion\", \"marion\", \"marion\", \"marion\", \"marion\", \"marion\", \"marion\", \"marion\", \"marion\", \"marion\", \"marion\", \"mark\", \"mark\", \"mark\", \"mark\", \"mark\", \"mark\", \"mark\", \"mark\", \"mark\", \"mark\", \"mark\", \"mark\", \"mars\", \"mars\", \"mars\", \"mars\", \"mars\", \"mars\", \"mars\", \"mars\", \"mars\", \"mars\", \"mars\", \"mars\", \"marsan\", \"marsan\", \"marsan\", \"marsan\", \"marsan\", \"marsan\", \"marsan\", \"marsan\", \"marsan\", \"marsan\", \"marsan\", \"marsan\", \"mary\", \"mary\", \"mary\", \"mary\", \"mary\", \"mary\", \"mary\", \"mary\", \"mary\", \"mary\", \"mary\", \"mary\", \"mary jane\", \"mary jane\", \"mary jane\", \"mary jane\", \"mary jane\", \"mary jane\", \"mary jane\", \"mary jane\", \"mary jane\", \"mary jane\", \"mary jane\", \"mary jane\", \"mcgraw\", \"mcgraw\", \"mcgraw\", \"mcgraw\", \"mcgraw\", \"mcgraw\", \"mcgraw\", \"mcgraw\", \"mcgraw\", \"mcgraw\", \"mcgraw\", \"mcgraw\", \"mega\", \"mega\", \"mega\", \"mega\", \"mega\", \"mega\", \"mega\", \"mega\", \"mega\", \"mega\", \"mega\", \"mega\", \"menzel\", \"menzel\", \"menzel\", \"menzel\", \"menzel\", \"menzel\", \"menzel\", \"menzel\", \"menzel\", \"menzel\", \"menzel\", \"menzel\", \"meteorite\", \"meteorite\", \"meteorite\", \"meteorite\", \"meteorite\", \"meteorite\", \"meteorite\", \"meteorite\", \"meteorite\", \"meteorite\", \"meteorite\", \"meteorite\", \"midtown\", \"midtown\", \"midtown\", \"midtown\", \"midtown\", \"midtown\", \"midtown\", \"midtown\", \"midtown\", \"midtown\", \"midtown\", \"midtown\", \"miller\", \"miller\", \"miller\", \"miller\", \"miller\", \"miller\", \"miller\", \"miller\", \"miller\", \"miller\", \"miller\", \"miller\", \"misapprehension\", \"misapprehension\", \"misapprehension\", \"misapprehension\", \"misapprehension\", \"misapprehension\", \"misapprehension\", \"misapprehension\", \"misapprehension\", \"misapprehension\", \"misapprehension\", \"misapprehension\", \"misread\", \"misread\", \"misread\", \"misread\", \"misread\", \"misread\", \"misread\", \"misread\", \"misread\", \"misread\", \"misread\", \"misread\", \"molly\", \"molly\", \"molly\", \"molly\", \"molly\", \"molly\", \"molly\", \"molly\", \"molly\", \"molly\", \"molly\", \"molly\", \"monster\", \"monster\", \"monster\", \"monster\", \"monster\", \"monster\", \"monster\", \"monster\", \"monster\", \"monster\", \"monster\", \"monster\", \"mormon\", \"mormon\", \"mormon\", \"mormon\", \"mormon\", \"mormon\", \"mormon\", \"mormon\", \"mormon\", \"mormon\", \"mormon\", \"mormon\", \"mosque\", \"mosque\", \"mosque\", \"mosque\", \"mosque\", \"mosque\", \"mosque\", \"mosque\", \"mosque\", \"mosque\", \"mosque\", \"mosque\", \"murtaugh\", \"murtaugh\", \"murtaugh\", \"murtaugh\", \"murtaugh\", \"murtaugh\", \"murtaugh\", \"murtaugh\", \"murtaugh\", \"murtaugh\", \"murtaugh\", \"murtaugh\", \"nack\", \"nack\", \"nack\", \"nack\", \"nack\", \"nack\", \"nack\", \"nack\", \"nack\", \"nack\", \"nack\", \"nack\", \"nanette\", \"nanette\", \"nanette\", \"nanette\", \"nanette\", \"nanette\", \"nanette\", \"nanette\", \"nanette\", \"nanette\", \"nanette\", \"nanette\", \"news\", \"news\", \"news\", \"news\", \"news\", \"news\", \"news\", \"news\", \"news\", \"news\", \"news\", \"news\", \"nick broomfield\", \"nick broomfield\", \"nick broomfield\", \"nick broomfield\", \"nick broomfield\", \"nick broomfield\", \"nick broomfield\", \"nick broomfield\", \"nick broomfield\", \"nick broomfield\", \"nick broomfield\", \"nick broomfield\", \"nick cassavetes\", \"nick cassavetes\", \"nick cassavetes\", \"nick cassavetes\", \"nick cassavetes\", \"nick cassavetes\", \"nick cassavetes\", \"nick cassavetes\", \"nick cassavetes\", \"nick cassavetes\", \"nick cassavetes\", \"nick cassavetes\", \"nicky\", \"nicky\", \"nicky\", \"nicky\", \"nicky\", \"nicky\", \"nicky\", \"nicky\", \"nicky\", \"nicky\", \"nicky\", \"nicky\", \"night\", \"night\", \"night\", \"night\", \"night\", \"night\", \"night\", \"night\", \"night\", \"night\", \"night\", \"night\", \"noah\", \"noah\", \"noah\", \"noah\", \"noah\", \"noah\", \"noah\", \"noah\", \"noah\", \"noah\", \"noah\", \"noah\", \"nobel\", \"nobel\", \"nobel\", \"nobel\", \"nobel\", \"nobel\", \"nobel\", \"nobel\", \"nobel\", \"nobel\", \"nobel\", \"nobel\", \"not\", \"not\", \"not\", \"not\", \"not\", \"not\", \"not\", \"not\", \"not\", \"not\", \"not\", \"not\", \"nuptial\", \"nuptial\", \"nuptial\", \"nuptial\", \"nuptial\", \"nuptial\", \"nuptial\", \"nuptial\", \"nuptial\", \"nuptial\", \"nuptial\", \"nuptial\", \"ock\", \"ock\", \"ock\", \"ock\", \"ock\", \"ock\", \"ock\", \"ock\", \"ock\", \"ock\", \"ock\", \"ock\", \"old\", \"old\", \"old\", \"old\", \"old\", \"old\", \"old\", \"old\", \"old\", \"old\", \"old\", \"old\", \"one\", \"one\", \"one\", \"one\", \"one\", \"one\", \"one\", \"one\", \"one\", \"one\", \"one\", \"one\", \"oooh\", \"oooh\", \"oooh\", \"oooh\", \"oooh\", \"oooh\", \"oooh\", \"oooh\", \"oooh\", \"oooh\", \"oooh\", \"oooh\", \"palestinian\", \"palestinian\", \"palestinian\", \"palestinian\", \"palestinian\", \"palestinian\", \"palestinian\", \"palestinian\", \"palestinian\", \"palestinian\", \"palestinian\", \"palestinian\", \"palmer\", \"palmer\", \"palmer\", \"palmer\", \"palmer\", \"palmer\", \"palmer\", \"palmer\", \"palmer\", \"palmer\", \"palmer\", \"palmer\", \"patter\", \"patter\", \"patter\", \"patter\", \"patter\", \"patter\", \"patter\", \"patter\", \"patter\", \"patter\", \"patter\", \"patter\", \"pattinson\", \"pattinson\", \"pattinson\", \"pattinson\", \"pattinson\", \"pattinson\", \"pattinson\", \"pattinson\", \"pattinson\", \"pattinson\", \"pattinson\", \"pattinson\", \"penitent\", \"penitent\", \"penitent\", \"penitent\", \"penitent\", \"penitent\", \"penitent\", \"penitent\", \"penitent\", \"penitent\", \"penitent\", \"penitent\", \"people\", \"people\", \"people\", \"people\", \"people\", \"people\", \"people\", \"people\", \"people\", \"people\", \"people\", \"people\", \"perry\", \"perry\", \"perry\", \"perry\", \"perry\", \"perry\", \"perry\", \"perry\", \"perry\", \"perry\", \"perry\", \"perry\", \"pete seeger\", \"pete seeger\", \"pete seeger\", \"pete seeger\", \"pete seeger\", \"pete seeger\", \"pete seeger\", \"pete seeger\", \"pete seeger\", \"pete seeger\", \"pete seeger\", \"pete seeger\", \"peter parker\", \"peter parker\", \"peter parker\", \"peter parker\", \"peter parker\", \"peter parker\", \"peter parker\", \"peter parker\", \"peter parker\", \"peter parker\", \"peter parker\", \"peter parker\", \"phoenix\", \"phoenix\", \"phoenix\", \"phoenix\", \"phoenix\", \"phoenix\", \"phoenix\", \"phoenix\", \"phoenix\", \"phoenix\", \"phoenix\", \"phoenix\", \"pipsqueak\", \"pipsqueak\", \"pipsqueak\", \"pipsqueak\", \"pipsqueak\", \"pipsqueak\", \"pipsqueak\", \"pipsqueak\", \"pipsqueak\", \"pipsqueak\", \"pipsqueak\", \"pipsqueak\", \"play\", \"play\", \"play\", \"play\", \"play\", \"play\", \"play\", \"play\", \"play\", \"play\", \"play\", \"play\", \"pleasantville\", \"pleasantville\", \"pleasantville\", \"pleasantville\", \"pleasantville\", \"pleasantville\", \"pleasantville\", \"pleasantville\", \"pleasantville\", \"pleasantville\", \"pleasantville\", \"pleasantville\", \"potter\", \"potter\", \"potter\", \"potter\", \"potter\", \"potter\", \"potter\", \"potter\", \"potter\", \"potter\", \"potter\", \"potter\", \"probability\", \"probability\", \"probability\", \"probability\", \"probability\", \"probability\", \"probability\", \"probability\", \"probability\", \"probability\", \"probability\", \"probability\", \"procure\", \"procure\", \"procure\", \"procure\", \"procure\", \"procure\", \"procure\", \"procure\", \"procure\", \"procure\", \"procure\", \"procure\", \"purple noon\", \"purple noon\", \"purple noon\", \"purple noon\", \"purple noon\", \"purple noon\", \"purple noon\", \"purple noon\", \"purple noon\", \"purple noon\", \"purple noon\", \"purple noon\", \"quaid\", \"quaid\", \"quaid\", \"quaid\", \"quaid\", \"quaid\", \"quaid\", \"quaid\", \"quaid\", \"quaid\", \"quaid\", \"quaid\", \"quincy\", \"quincy\", \"quincy\", \"quincy\", \"quincy\", \"quincy\", \"quincy\", \"quincy\", \"quincy\", \"quincy\", \"quincy\", \"quincy\", \"race\", \"race\", \"race\", \"race\", \"race\", \"race\", \"race\", \"race\", \"race\", \"race\", \"race\", \"race\", \"rachel mcadams\", \"rachel mcadams\", \"rachel mcadams\", \"rachel mcadams\", \"rachel mcadams\", \"rachel mcadams\", \"rachel mcadams\", \"rachel mcadams\", \"rachel mcadams\", \"rachel mcadams\", \"rachel mcadams\", \"rachel mcadams\", \"reboot\", \"reboot\", \"reboot\", \"reboot\", \"reboot\", \"reboot\", \"reboot\", \"reboot\", \"reboot\", \"reboot\", \"reboot\", \"reboot\", \"recant\", \"recant\", \"recant\", \"recant\", \"recant\", \"recant\", \"recant\", \"recant\", \"recant\", \"recant\", \"recant\", \"recant\", \"recessive\", \"recessive\", \"recessive\", \"recessive\", \"recessive\", \"recessive\", \"recessive\", \"recessive\", \"recessive\", \"recessive\", \"recessive\", \"recessive\", \"regenerate\", \"regenerate\", \"regenerate\", \"regenerate\", \"regenerate\", \"regenerate\", \"regenerate\", \"regenerate\", \"regenerate\", \"regenerate\", \"regenerate\", \"regenerate\", \"rene clement\", \"rene clement\", \"rene clement\", \"rene clement\", \"rene clement\", \"rene clement\", \"rene clement\", \"rene clement\", \"rene clement\", \"rene clement\", \"rene clement\", \"rene clement\", \"rene russo\", \"rene russo\", \"rene russo\", \"rene russo\", \"rene russo\", \"rene russo\", \"rene russo\", \"rene russo\", \"rene russo\", \"rene russo\", \"rene russo\", \"rene russo\", \"renoir\", \"renoir\", \"renoir\", \"renoir\", \"renoir\", \"renoir\", \"renoir\", \"renoir\", \"renoir\", \"renoir\", \"renoir\", \"renoir\", \"repartee\", \"repartee\", \"repartee\", \"repartee\", \"repartee\", \"repartee\", \"repartee\", \"repartee\", \"repartee\", \"repartee\", \"repartee\", \"repartee\", \"richard donner\", \"richard donner\", \"richard donner\", \"richard donner\", \"richard donner\", \"richard donner\", \"richard donner\", \"richard donner\", \"richard donner\", \"richard donner\", \"richard donner\", \"richard donner\", \"rickman\", \"rickman\", \"rickman\", \"rickman\", \"rickman\", \"rickman\", \"rickman\", \"rickman\", \"rickman\", \"rickman\", \"rickman\", \"rickman\", \"rigg\", \"rigg\", \"rigg\", \"rigg\", \"rigg\", \"rigg\", \"rigg\", \"rigg\", \"rigg\", \"rigg\", \"rigg\", \"rigg\", \"riggs\", \"riggs\", \"riggs\", \"riggs\", \"riggs\", \"riggs\", \"riggs\", \"riggs\", \"riggs\", \"riggs\", \"riggs\", \"riggs\", \"rio de janeiro\", \"rio de janeiro\", \"rio de janeiro\", \"rio de janeiro\", \"rio de janeiro\", \"rio de janeiro\", \"rio de janeiro\", \"rio de janeiro\", \"rio de janeiro\", \"rio de janeiro\", \"rio de janeiro\", \"rio de janeiro\", \"rita\", \"rita\", \"rita\", \"rita\", \"rita\", \"rita\", \"rita\", \"rita\", \"rita\", \"rita\", \"rita\", \"rita\", \"rodriguez\", \"rodriguez\", \"rodriguez\", \"rodriguez\", \"rodriguez\", \"rodriguez\", \"rodriguez\", \"rodriguez\", \"rodriguez\", \"rodriguez\", \"rodriguez\", \"rodriguez\", \"romanian\", \"romanian\", \"romanian\", \"romanian\", \"romanian\", \"romanian\", \"romanian\", \"romanian\", \"romanian\", \"romanian\", \"romanian\", \"romanian\", \"romero\", \"romero\", \"romero\", \"romero\", \"romero\", \"romero\", \"romero\", \"romero\", \"romero\", \"romero\", \"romero\", \"romero\", \"ron\", \"ron\", \"ron\", \"ron\", \"ron\", \"ron\", \"ron\", \"ron\", \"ron\", \"ron\", \"ron\", \"ron\", \"ronnie\", \"ronnie\", \"ronnie\", \"ronnie\", \"ronnie\", \"ronnie\", \"ronnie\", \"ronnie\", \"ronnie\", \"ronnie\", \"ronnie\", \"ronnie\", \"ropes\", \"ropes\", \"ropes\", \"ropes\", \"ropes\", \"ropes\", \"ropes\", \"ropes\", \"ropes\", \"ropes\", \"ropes\", \"ropes\", \"rosemary harris\", \"rosemary harris\", \"rosemary harris\", \"rosemary harris\", \"rosemary harris\", \"rosemary harris\", \"rosemary harris\", \"rosemary harris\", \"rosemary harris\", \"rosemary harris\", \"rosemary harris\", \"rosemary harris\", \"russian\", \"russian\", \"russian\", \"russian\", \"russian\", \"russian\", \"russian\", \"russian\", \"russian\", \"russian\", \"russian\", \"russian\", \"ryan gosling\", \"ryan gosling\", \"ryan gosling\", \"ryan gosling\", \"ryan gosling\", \"ryan gosling\", \"ryan gosling\", \"ryan gosling\", \"ryan gosling\", \"ryan gosling\", \"ryan gosling\", \"ryan gosling\", \"sam\", \"sam\", \"sam\", \"sam\", \"sam\", \"sam\", \"sam\", \"sam\", \"sam\", \"sam\", \"sam\", \"sam\", \"samantha\", \"samantha\", \"samantha\", \"samantha\", \"samantha\", \"samantha\", \"samantha\", \"samantha\", \"samantha\", \"samantha\", \"samantha\", \"samantha\", \"sandler\", \"sandler\", \"sandler\", \"sandler\", \"sandler\", \"sandler\", \"sandler\", \"sandler\", \"sandler\", \"sandler\", \"sandler\", \"sandler\", \"sandman\", \"sandman\", \"sandman\", \"sandman\", \"sandman\", \"sandman\", \"sandman\", \"sandman\", \"sandman\", \"sandman\", \"sandman\", \"sandman\", \"sandy\", \"sandy\", \"sandy\", \"sandy\", \"sandy\", \"sandy\", \"sandy\", \"sandy\", \"sandy\", \"sandy\", \"sandy\", \"sandy\", \"santa .\", \"santa .\", \"santa .\", \"santa .\", \"santa .\", \"santa .\", \"santa .\", \"santa .\", \"santa .\", \"santa .\", \"santa .\", \"santa .\", \"sarah\", \"sarah\", \"sarah\", \"sarah\", \"sarah\", \"sarah\", \"sarah\", \"sarah\", \"sarah\", \"sarah\", \"sarah\", \"sarah\", \"sawmill\", \"sawmill\", \"sawmill\", \"sawmill\", \"sawmill\", \"sawmill\", \"sawmill\", \"sawmill\", \"sawmill\", \"sawmill\", \"sawmill\", \"sawmill\", \"scene\", \"scene\", \"scene\", \"scene\", \"scene\", \"scene\", \"scene\", \"scene\", \"scene\", \"scene\", \"scene\", \"scene\", \"school\", \"school\", \"school\", \"school\", \"school\", \"school\", \"school\", \"school\", \"school\", \"school\", \"school\", \"school\", \"schrader\", \"schrader\", \"schrader\", \"schrader\", \"schrader\", \"schrader\", \"schrader\", \"schrader\", \"schrader\", \"schrader\", \"schrader\", \"schrader\", \"scully\", \"scully\", \"scully\", \"scully\", \"scully\", \"scully\", \"scully\", \"scully\", \"scully\", \"scully\", \"scully\", \"scully\", \"selznick\", \"selznick\", \"selznick\", \"selznick\", \"selznick\", \"selznick\", \"selznick\", \"selznick\", \"selznick\", \"selznick\", \"selznick\", \"selznick\", \"shortchange\", \"shortchange\", \"shortchange\", \"shortchange\", \"shortchange\", \"shortchange\", \"shortchange\", \"shortchange\", \"shortchange\", \"shortchange\", \"shortchange\", \"shortchange\", \"sirius\", \"sirius\", \"sirius\", \"sirius\", \"sirius\", \"sirius\", \"sirius\", \"sirius\", \"sirius\", \"sirius\", \"sirius\", \"sirius\", \"sleigh\", \"sleigh\", \"sleigh\", \"sleigh\", \"sleigh\", \"sleigh\", \"sleigh\", \"sleigh\", \"sleigh\", \"sleigh\", \"sleigh\", \"sleigh\", \"smalls\", \"smalls\", \"smalls\", \"smalls\", \"smalls\", \"smalls\", \"smalls\", \"smalls\", \"smalls\", \"smalls\", \"smalls\", \"smalls\", \"smart\", \"smart\", \"smart\", \"smart\", \"smart\", \"smart\", \"smart\", \"smart\", \"smart\", \"smart\", \"smart\", \"smart\", \"snyder\", \"snyder\", \"snyder\", \"snyder\", \"snyder\", \"snyder\", \"snyder\", \"snyder\", \"snyder\", \"snyder\", \"snyder\", \"snyder\", \"soldier\", \"soldier\", \"soldier\", \"soldier\", \"soldier\", \"soldier\", \"soldier\", \"soldier\", \"soldier\", \"soldier\", \"soldier\", \"soldier\", \"spider - man\", \"spider - man\", \"spider - man\", \"spider - man\", \"spider - man\", \"spider - man\", \"spider - man\", \"spider - man\", \"spider - man\", \"spider - man\", \"spider - man\", \"spider - man\", \"spider - man 's\", \"spider - man 's\", \"spider - man 's\", \"spider - man 's\", \"spider - man 's\", \"spider - man 's\", \"spider - man 's\", \"spider - man 's\", \"spider - man 's\", \"spider - man 's\", \"spider - man 's\", \"spider - man 's\", \"spidey\", \"spidey\", \"spidey\", \"spidey\", \"spidey\", \"spidey\", \"spidey\", \"spidey\", \"spidey\", \"spidey\", \"spidey\", \"spidey\", \"squares\", \"squares\", \"squares\", \"squares\", \"squares\", \"squares\", \"squares\", \"squares\", \"squares\", \"squares\", \"squares\", \"squares\", \"story\", \"story\", \"story\", \"story\", \"story\", \"story\", \"story\", \"story\", \"story\", \"story\", \"story\", \"story\", \"stranger on a train\", \"stranger on a train\", \"stranger on a train\", \"stranger on a train\", \"stranger on a train\", \"stranger on a train\", \"stranger on a train\", \"stranger on a train\", \"stranger on a train\", \"stranger on a train\", \"stranger on a train\", \"stranger on a train\", \"stuart wilson\", \"stuart wilson\", \"stuart wilson\", \"stuart wilson\", \"stuart wilson\", \"stuart wilson\", \"stuart wilson\", \"stuart wilson\", \"stuart wilson\", \"stuart wilson\", \"stuart wilson\", \"stuart wilson\", \"suez\", \"suez\", \"suez\", \"suez\", \"suez\", \"suez\", \"suez\", \"suez\", \"suez\", \"suez\", \"suez\", \"suez\", \"summer of\", \"summer of\", \"summer of\", \"summer of\", \"summer of\", \"summer of\", \"summer of\", \"summer of\", \"summer of\", \"summer of\", \"summer of\", \"summer of\", \"sundance 2008\", \"sundance 2008\", \"sundance 2008\", \"sundance 2008\", \"sundance 2008\", \"sundance 2008\", \"sundance 2008\", \"sundance 2008\", \"sundance 2008\", \"sundance 2008\", \"sundance 2008\", \"sundance 2008\", \"sylvie\", \"sylvie\", \"sylvie\", \"sylvie\", \"sylvie\", \"sylvie\", \"sylvie\", \"sylvie\", \"sylvie\", \"sylvie\", \"sylvie\", \"sylvie\", \"tainted\", \"tainted\", \"tainted\", \"tainted\", \"tainted\", \"tainted\", \"tainted\", \"tainted\", \"tainted\", \"tainted\", \"tainted\", \"tainted\", \"talented mr. ripley\", \"talented mr. ripley\", \"talented mr. ripley\", \"talented mr. ripley\", \"talented mr. ripley\", \"talented mr. ripley\", \"talented mr. ripley\", \"talented mr. ripley\", \"talented mr. ripley\", \"talented mr. ripley\", \"talented mr. ripley\", \"talented mr. ripley\", \"team\", \"team\", \"team\", \"team\", \"team\", \"team\", \"team\", \"team\", \"team\", \"team\", \"team\", \"team\", \"ted\", \"ted\", \"ted\", \"ted\", \"ted\", \"ted\", \"ted\", \"ted\", \"ted\", \"ted\", \"ted\", \"ted\", \"think\", \"think\", \"think\", \"think\", \"think\", \"think\", \"think\", \"think\", \"think\", \"think\", \"think\", \"think\", \"time\", \"time\", \"time\", \"time\", \"time\", \"time\", \"time\", \"time\", \"time\", \"time\", \"time\", \"time\", \"tobey maguire\", \"tobey maguire\", \"tobey maguire\", \"tobey maguire\", \"tobey maguire\", \"tobey maguire\", \"tobey maguire\", \"tobey maguire\", \"tobey maguire\", \"tobey maguire\", \"tobey maguire\", \"tobey maguire\", \"tom ripley\", \"tom ripley\", \"tom ripley\", \"tom ripley\", \"tom ripley\", \"tom ripley\", \"tom ripley\", \"tom ripley\", \"tom ripley\", \"tom ripley\", \"tom ripley\", \"tom ripley\", \"tommy\", \"tommy\", \"tommy\", \"tommy\", \"tommy\", \"tommy\", \"tommy\", \"tommy\", \"tommy\", \"tommy\", \"tommy\", \"tommy\", \"tora\", \"tora\", \"tora\", \"tora\", \"tora\", \"tora\", \"tora\", \"tora\", \"tora\", \"tora\", \"tora\", \"tora\", \"tos\", \"tos\", \"tos\", \"tos\", \"tos\", \"tos\", \"tos\", \"tos\", \"tos\", \"tos\", \"tos\", \"tos\", \"triad\", \"triad\", \"triad\", \"triad\", \"triad\", \"triad\", \"triad\", \"triad\", \"triad\", \"triad\", \"triad\", \"triad\", \"trifecta\", \"trifecta\", \"trifecta\", \"trifecta\", \"trifecta\", \"trifecta\", \"trifecta\", \"trifecta\", \"trifecta\", \"trifecta\", \"trifecta\", \"trifecta\", \"turkish\", \"turkish\", \"turkish\", \"turkish\", \"turkish\", \"turkish\", \"turkish\", \"turkish\", \"turkish\", \"turkish\", \"turkish\", \"turkish\", \"twice a week\", \"twice a week\", \"twice a week\", \"twice a week\", \"twice a week\", \"twice a week\", \"twice a week\", \"twice a week\", \"twice a week\", \"twice a week\", \"twice a week\", \"twice a week\", \"two\", \"two\", \"two\", \"two\", \"two\", \"two\", \"two\", \"two\", \"two\", \"two\", \"two\", \"two\", \"u.s.\", \"u.s.\", \"u.s.\", \"u.s.\", \"u.s.\", \"u.s.\", \"u.s.\", \"u.s.\", \"u.s.\", \"u.s.\", \"u.s.\", \"u.s.\", \"unappetizing\", \"unappetizing\", \"unappetizing\", \"unappetizing\", \"unappetizing\", \"unappetizing\", \"unappetizing\", \"unappetizing\", \"unappetizing\", \"unappetizing\", \"unappetizing\", \"unappetizing\", \"unloved\", \"unloved\", \"unloved\", \"unloved\", \"unloved\", \"unloved\", \"unloved\", \"unloved\", \"unloved\", \"unloved\", \"unloved\", \"unloved\", \"unprepossess\", \"unprepossess\", \"unprepossess\", \"unprepossess\", \"unprepossess\", \"unprepossess\", \"unprepossess\", \"unprepossess\", \"unprepossess\", \"unprepossess\", \"unprepossess\", \"unprepossess\", \"van helsing\", \"van helsing\", \"van helsing\", \"van helsing\", \"van helsing\", \"van helsing\", \"van helsing\", \"van helsing\", \"van helsing\", \"van helsing\", \"van helsing\", \"van helsing\", \"varied\", \"varied\", \"varied\", \"varied\", \"varied\", \"varied\", \"varied\", \"varied\", \"varied\", \"varied\", \"varied\", \"varied\", \"verbatim\", \"verbatim\", \"verbatim\", \"verbatim\", \"verbatim\", \"verbatim\", \"verbatim\", \"verbatim\", \"verbatim\", \"verbatim\", \"verbatim\", \"verbatim\", \"very day\", \"very day\", \"very day\", \"very day\", \"very day\", \"very day\", \"very day\", \"very day\", \"very day\", \"very day\", \"very day\", \"very day\", \"vince\", \"vince\", \"vince\", \"vince\", \"vince\", \"vince\", \"vince\", \"vince\", \"vince\", \"vince\", \"vince\", \"vince\", \"voldemort\", \"voldemort\", \"voldemort\", \"voldemort\", \"voldemort\", \"voldemort\", \"voldemort\", \"voldemort\", \"voldemort\", \"voldemort\", \"voldemort\", \"voldemort\", \"von sternberg 's\", \"von sternberg 's\", \"von sternberg 's\", \"von sternberg 's\", \"von sternberg 's\", \"von sternberg 's\", \"von sternberg 's\", \"von sternberg 's\", \"von sternberg 's\", \"von sternberg 's\", \"von sternberg 's\", \"von sternberg 's\", \"walker\", \"walker\", \"walker\", \"walker\", \"walker\", \"walker\", \"walker\", \"walker\", \"walker\", \"walker\", \"walker\", \"walker\", \"walton\", \"walton\", \"walton\", \"walton\", \"walton\", \"walton\", \"walton\", \"walton\", \"walton\", \"walton\", \"walton\", \"walton\", \"warsaw\", \"warsaw\", \"warsaw\", \"warsaw\", \"warsaw\", \"warsaw\", \"warsaw\", \"warsaw\", \"warsaw\", \"warsaw\", \"warsaw\", \"warsaw\", \"waxwork\", \"waxwork\", \"waxwork\", \"waxwork\", \"waxwork\", \"waxwork\", \"waxwork\", \"waxwork\", \"waxwork\", \"waxwork\", \"waxwork\", \"waxwork\", \"way\", \"way\", \"way\", \"way\", \"way\", \"way\", \"way\", \"way\", \"way\", \"way\", \"way\", \"way\", \"weavers\", \"weavers\", \"weavers\", \"weavers\", \"weavers\", \"weavers\", \"weavers\", \"weavers\", \"weavers\", \"weavers\", \"weavers\", \"weavers\", \"webs\", \"webs\", \"webs\", \"webs\", \"webs\", \"webs\", \"webs\", \"webs\", \"webs\", \"webs\", \"webs\", \"webs\", \"weekly\", \"weekly\", \"weekly\", \"weekly\", \"weekly\", \"weekly\", \"weekly\", \"weekly\", \"weekly\", \"weekly\", \"weekly\", \"weekly\", \"western union\", \"western union\", \"western union\", \"western union\", \"western union\", \"western union\", \"western union\", \"western union\", \"western union\", \"western union\", \"western union\", \"western union\", \"wexler\", \"wexler\", \"wexler\", \"wexler\", \"wexler\", \"wexler\", \"wexler\", \"wexler\", \"wexler\", \"wexler\", \"wexler\", \"wexler\", \"woman\", \"woman\", \"woman\", \"woman\", \"woman\", \"woman\", \"woman\", \"woman\", \"woman\", \"woman\", \"woman\", \"woman\", \"wordplay\", \"wordplay\", \"wordplay\", \"wordplay\", \"wordplay\", \"wordplay\", \"wordplay\", \"wordplay\", \"wordplay\", \"wordplay\", \"wordplay\", \"wordplay\", \"work\", \"work\", \"work\", \"work\", \"work\", \"work\", \"work\", \"work\", \"work\", \"work\", \"work\", \"work\", \"year\", \"year\", \"year\", \"year\", \"year\", \"year\", \"year\", \"year\", \"year\", \"year\", \"year\", \"year\", \"yoakam\", \"yoakam\", \"yoakam\", \"yoakam\", \"yoakam\", \"yoakam\", \"yoakam\", \"yoakam\", \"yoakam\", \"yoakam\", \"yoakam\", \"yoakam\", \"young\", \"young\", \"young\", \"young\", \"young\", \"young\", \"young\", \"young\", \"young\", \"young\", \"young\", \"young\", \"zombie\", \"zombie\", \"zombie\", \"zombie\", \"zombie\", \"zombie\", \"zombie\", \"zombie\", \"zombie\", \"zombie\", \"zombie\", \"zombie\"], \"Freq\": [0.9870076730680267, 0.0011931327097563908, 0.0011835614083529594, 0.0011835252512510577, 0.0011826316543040562, 0.0011800541694684857, 0.0011794394987361552, 0.0011779983799603553, 0.0011779983799603553, 0.0011779983799603553, 0.0011779983799603553, 0.0011779983799603553, 0.8145897198258765, 0.006480201058365323, 0.006428216935411295, 0.12127371274759616, 0.006423167209490235, 0.006409168247075739, 0.006405801763128365, 0.006398002741983617, 0.006398002741983617, 0.006398002741983617, 0.006398002741983617, 0.006398002741983617, 0.9990569075671057, 8.660772047671973e-05, 8.591295401045123e-05, 8.590845471331403e-05, 8.58454645533933e-05, 8.565836878077161e-05, 8.561337580939967e-05, 8.550914209238798e-05, 8.550914209238798e-05, 8.550914209238798e-05, 8.550914209238798e-05, 8.550914209238798e-05, 0.9737743061939614, 0.002408386529991888, 0.002389066471807226, 0.0023889413554023606, 0.0023871897257342423, 0.002382195495906691, 0.0023807358045165924, 0.0023778372744705394, 0.0023778372744705394, 0.0023778372744705394, 0.0023778372744705394, 0.0023778372744705394, 0.998315715570023, 0.00015467419205135381, 0.0001534333968746312, 0.00015342536150381595, 0.00015331286631240233, 0.00015297872880933456, 0.0001528990447154166, 0.00015271222234396187, 0.00015271222234396187, 0.00015271222234396187, 0.00015271289195819648, 0.00015271222234396187, 0.9767304433827859, 0.0021373183923037837, 0.002119750707497152, 0.002119639695270886, 0.002118085524103159, 0.0021134692656942546, 0.0021123591434315924, 0.002109787360189758, 0.002109787360189758, 0.002109787360189758, 0.002109787360189758, 0.002109787360189758, 0.9820739480472642, 0.0016462166817426127, 0.0016330107442073555, 0.0016329252227554273, 0.0016317279224284315, 0.0016281716553857475, 0.0016273306944417862, 0.0016253351938967933, 0.0016253351938967933, 0.0016253351938967933, 0.0016253351938967933, 0.0016253351938967933, 0.9993481830584776, 5.985882047123832e-05, 5.93786334746878e-05, 5.9375523790954064e-05, 5.933198821868181e-05, 5.920267720342077e-05, 5.9171580366083445e-05, 5.909953935958531e-05, 5.909953935958531e-05, 5.909953935958531e-05, 5.909953935958531e-05, 5.909953935958531e-05, 0.9797696305449923, 0.0018578136107557592, 0.0018431113150699653, 0.0018428137303104608, 0.0018414625346456833, 0.0018374491618080404, 0.001836492064878823, 0.0018342481149355315, 0.0018342481149355315, 0.0018342481149355315, 0.0018342481149355315, 0.0018342481149355315, 0.9964026530566621, 0.0003303579007443858, 0.00032770777221033956, 0.0003276906100179982, 0.00032745033932521904, 0.00032673667816035713, 0.0003265664864196386, 0.00032616746544770174, 0.00032616746544770174, 0.0003261688956303969, 0.00032616746544770174, 0.00032616746544770174, 0.9991459773502086, 7.842805941225774e-05, 7.779924965412319e-05, 7.779483576273238e-05, 7.773779470475906e-05, 7.756938777169495e-05, 7.752796509864288e-05, 7.743323619879432e-05, 7.743323619879432e-05, 7.743323619879432e-05, 7.743323619879432e-05, 7.743323619879432e-05, 0.8390693132219408, 0.006675152843281234, 0.006621604818610902, 0.006621258042412281, 0.0066164031756315925, 0.09484534208191213, 0.006598544201402631, 0.006590481654784702, 0.006590481654784702, 0.006590481654784702, 0.006590481654784702, 0.006590481654784702, 0.9999150424740105, 7.801995298745814e-06, 7.739374247346085e-06, 7.738968933097543e-06, 7.733328309805334e-06, 7.716440216116086e-06, 7.712420849818046e-06, 7.702997293539446e-06, 7.702997293539446e-06, 7.702997293539446e-06, 7.702997293539446e-06, 7.702997293539446e-06, 0.9985055255853065, 0.00013724320862764267, 0.00013614224466562257, 0.0001361351148396408, 0.00013603529727589583, 0.00013573881534548676, 0.00013566751708566895, 0.00013550234278375767, 0.00013550234278375767, 0.00013550234278375767, 0.00013550234278375767, 0.00013550234278375767, 0.9981487143885204, 0.00017001058087942072, 0.00016864675730970095, 0.00016863792520887167, 0.0001685142757972619, 0.00016814700760444477, 0.00016805868659615207, 0.00016785407626027397, 0.00016785407626027397, 0.00016785407626027397, 0.00016785407626027397, 0.00016785407626027397, 0.994790625064844, 0.00047839663984487784, 0.00047455894568654825, 0.00047453409283716887, 0.00047418615294585783, 0.00047315268862583275, 0.00047290416013203915, 0.0004723284024547506, 0.0004723284024547506, 0.0004723284024547506, 0.00047233047352553223, 0.0004723284024547506, 0.9857898865220862, 0.0013049650058572272, 0.0012944965866362502, 0.0012944287933115597, 0.0012935192328719603, 0.001290660614347506, 0.0012899826811005996, 0.0012884121357452669, 0.0012884121357452669, 0.0012884121357452669, 0.0012884121357452669, 0.0012884121357452669, 0.989085831945019, 0.0010022872071596039, 0.0009942772405618437, 0.0009941947977853772, 0.000993465830077672, 0.0009913006224220478, 0.0009907842702957565, 0.0009895736632097461, 0.0009895736632097461, 0.0009895736632097461, 0.0009895736632097461, 0.0009895736632097461, 0.9874425259756344, 0.0011532006078602104, 0.0011439496414704748, 0.001143889732351923, 0.0011430510046921952, 0.001140559783845742, 0.001139965685086768, 0.0011385727980804344, 0.0011385727980804344, 0.0011385727980804344, 0.0011385727980804344, 0.0011385727980804344, 0.9800546334570139, 0.0018319107825162505, 0.0018169399024929168, 0.0018168447485944633, 0.0018155125940161158, 0.0018115557777387623, 0.0018106042387542284, 0.0018083998401067247, 0.0018083998401067247, 0.0018083998401067247, 0.0018083998401067247, 0.0018083998401067247, 0.9992886008461853, 6.533043169082341e-05, 6.480635147123341e-05, 6.480295753565052e-05, 6.475544243749018e-05, 6.461431128283534e-05, 6.458065475497177e-05, 6.4502028580635e-05, 6.450174575266977e-05, 6.450174575266977e-05, 6.450174575266977e-05, 6.450174575266977e-05, 0.9721233397345767, 0.002560473053310965, 0.002539438241030643, 0.002539305249593676, 0.0025374433694761345, 0.0025319131422222455, 0.002530583227852573, 0.0025275022595628313, 0.0025275022595628313, 0.0025275022595628313, 0.0025275022595628313, 0.0025275022595628313, 0.9841009107555592, 0.0014600661762863049, 0.0014483535366713496, 0.0014483598575777798, 0.0014472157735139336, 0.001444061641205319, 0.0014433094533401385, 0.0014415459204461436, 0.0014415459204461436, 0.0014415459204461436, 0.0014415459204461436, 0.0014415459204461436, 0.9989195156193036, 9.922492470991511e-05, 9.84289431285156e-05, 9.842378836382224e-05, 9.835162165811521e-05, 9.813726935961637e-05, 9.808572171268279e-05, 9.796630299728663e-05, 9.796630299728663e-05, 9.796630299728663e-05, 9.796630299728663e-05, 9.796630299728663e-05, 0.9777314989247928, 0.002045314422038809, 0.0020285644257764463, 0.0020284581890136827, 0.002026970874334995, 0.0020225531956167505, 0.0020214908279891164, 0.002019029676318431, 0.002019029676318431, 0.002019029676318431, 0.002019029676318431, 0.002019029676318431, 0.9987551102264549, 0.00011432292441985144, 0.00011340582680112342, 0.00011339988769080246, 0.00011331674014630904, 0.00011307026706798926, 0.0001130103810389196, 0.0001128727916498174, 0.0001128727916498174, 0.0001128727916498174, 0.0001128727916498174, 0.0001128727916498174, 0.9900132963693802, 0.0009171162447543142, 0.0009097591453061573, 0.0009097115008413015, 0.0009090444783333197, 0.0009070712034138734, 0.0009065868180211723, 0.0009054830545853451, 0.0009054830545853451, 0.0009054830545853451, 0.0009054830545853451, 0.0009054830545853451, 0.9919011949014265, 0.0007437437837538477, 0.000737777476851835, 0.0007377388391384924, 0.0007371979111516936, 0.0007355912262385234, 0.000735208068914541, 0.0007343097420793215, 0.0007343097420793215, 0.0007343097420793215, 0.0007343097420793215, 0.0007343097420793215, 0.9999752356227257, 2.2742367137925055e-06, 2.255963584010784e-06, 2.2558454387751266e-06, 2.254191405475919e-06, 2.2492785327598206e-06, 2.2480970804032437e-06, 2.2453600491105073e-06, 2.2453502036742027e-06, 2.2453502036742027e-06, 2.2453502036742027e-06, 2.2453502036742027e-06, 0.9798323329481385, 0.0018520700972324388, 0.0018372128051844206, 0.0018371165895856207, 0.0018358176790018222, 0.0018317686058856597, 0.0018308144678642272, 0.0018285774551921295, 0.0018285774551921295, 0.0018285774551921295, 0.0018285774551921295, 0.0018285774551921295, 0.9957057332709216, 0.00039435812420372026, 0.00039119458637026645, 0.0003911740993470601, 0.00039088728102217057, 0.0003900353623071714, 0.00038984073558671065, 0.00038935587603749274, 0.00038935587603749274, 0.00038935587603749274, 0.00038935587603749274, 0.00038935587603749274, 0.9819201407350876, 0.001660316499007409, 0.0016469974528467062, 0.0016471915242154806, 0.0016457036437215434, 0.0016421169173134534, 0.0016412543778966783, 0.0016392561615811492, 0.0016392561615811492, 0.0016392561615811492, 0.0016392561615811492, 0.0016392561615811492, 0.9893021699566951, 0.0009824193820417444, 0.0009745384213294913, 0.0009745214090019959, 0.0009737728665921974, 0.0009716505787371438, 0.0009711444619941551, 0.0009699578521513496, 0.0009699578521513496, 0.0009699578521513496, 0.0009699578521513496, 0.0009699578521513496, 0.9668122307498288, 0.003047759562901581, 0.0030233104591739016, 0.0030231521271476026, 0.003020935478779416, 0.00301435150535248, 0.0030127681850894896, 0.0030091001598135615, 0.0030091001598135615, 0.0030091001598135615, 0.0030091001598135615, 0.0030091001598135615, 0.9977212397252124, 0.0002092671326843143, 0.00020758839335852515, 0.00020757752186801814, 0.00020742532100092017, 0.00020697324818733743, 0.00020686453328226743, 0.00020661267708552196, 0.00020661267708552196, 0.0002066135830430642, 0.00020661267708552196, 0.00020661267708552196, 0.9958806297635362, 0.0003782972640627033, 0.00037526256632553634, 0.00037524291366884666, 0.0003749677764751909, 0.0003741505535011778, 0.0003739540269342809, 0.0003734987403876363, 0.0003734987403876363, 0.00037350037810902713, 0.0003734987403876363, 0.0003734987403876363, 0.7346114785827468, 0.2074988244604583, 0.0058068486695235025, 0.005806544562443309, 0.005802287063320601, 0.005789641277235891, 0.00578662554869064, 0.005779555059076142, 0.005779555059076142, 0.005779555059076142, 0.005779555059076142, 0.005779555059076142, 0.9721925455374463, 0.002553646612092505, 0.002533161278648601, 0.0025330286159387645, 0.0025313703320658095, 0.0025256547803170245, 0.0025243281532186606, 0.002521254800440784, 0.002521254800440784, 0.002521254800440784, 0.002521254800440784, 0.002521254800440784, 0.9672684118753683, 0.003005866259054724, 0.002981753223087676, 0.002981597067431117, 0.002979410888239285, 0.00297291741552069, 0.002971355858955096, 0.0029677382529114697, 0.0029677382529114697, 0.0029677382529114697, 0.0029677382529114697, 0.0029677382529114697, 0.9824483546110703, 0.0016118304967698836, 0.001598900404945499, 0.0015988166698662262, 0.001597644378756406, 0.0015941623950433094, 0.00159337388971349, 0.0015913851815807596, 0.0015913851815807596, 0.0015913851815807596, 0.0015913851815807596, 0.0015913851815807596, 0.9946990516756027, 0.0004868050902809049, 0.00048289994359797267, 0.0004828894062350937, 0.0004825205985343311, 0.00048146896971901367, 0.0004812181804824951, 0.0004806301956338507, 0.0004806301956338507, 0.0004806301956338507, 0.0004806301956338507, 0.0004806301956338507, 0.8309947477068006, 0.10358971130431825, 0.006561756551500976, 0.006561412909580998, 0.0065566019227013056, 0.006542312146195551, 0.00653887572699577, 0.006530914689182946, 0.006530914689182946, 0.006530914689182946, 0.006530914689182946, 0.006530914689182946, 0.9891234474930316, 0.0009988348472864548, 0.0009908222018385057, 0.0009907703120676608, 0.0009900438552758338, 0.000987890429785775, 0.0009873715320773272, 0.000986165094905186, 0.000986165094905186, 0.000986165094905186, 0.000986165094905186, 0.000986165094905186, 0.9985771180817085, 0.00013066864173737544, 0.0001296204189002857, 0.00012961363062503203, 0.00012951859477148045, 0.00012923631565884807, 0.00012916843290631123, 0.00012901117119626756, 0.00012901117119626756, 0.00012901173688587204, 0.00012901117119626756, 0.00012901117119626756, 0.99923962573809, 6.982805271717712e-05, 6.92678926163722e-05, 6.926426502802376e-05, 6.92134787911456e-05, 6.906263157565631e-05, 6.902635569217191e-05, 6.894231656209971e-05, 6.894231656209971e-05, 6.894231656209971e-05, 6.894231656209971e-05, 6.894231656209971e-05, 0.9996083510304755, 3.596660069104004e-05, 3.567807689745375e-05, 3.567620842172626e-05, 3.5650049761541424e-05, 3.557235231254005e-05, 3.555382326157579e-05, 3.551038120091169e-05, 3.551053690722231e-05, 3.551038120091169e-05, 3.551038120091169e-05, 3.551038120091169e-05, 0.9992277721529881, 7.091659202089114e-05, 7.034769966618006e-05, 7.034401552788727e-05, 7.029243759178827e-05, 7.013923884111324e-05, 7.010270446970978e-05, 7.00173552659269e-05, 7.00170482544025e-05, 7.00170482544025e-05, 7.00170482544025e-05, 7.00170482544025e-05, 0.9991438580159641, 7.862273630827965e-05, 7.79920253234784e-05, 7.798794084867127e-05, 7.793075820137143e-05, 7.776091212397486e-05, 7.772006737590354e-05, 7.762544370953833e-05, 7.762578408243893e-05, 7.762544370953833e-05, 7.762544370953833e-05, 7.762544370953833e-05, 0.9923898607662917, 0.0006988678824911735, 0.0006932615697232781, 0.0006932252633265082, 0.0006927169737717287, 0.000691207232772711, 0.0006908471943380755, 0.0006900030706131739, 0.0006900030706131739, 0.0006900030706131739, 0.0006900030706131739, 0.0006900030706131739, 0.9666062042742986, 0.0030666799353915543, 0.0030420790525815603, 0.0030419197376362174, 0.0030396893284014206, 0.003033064481924255, 0.0030314713324708286, 0.0030277805362370572, 0.0030277805362370572, 0.0030277805362370572, 0.0030277805362370572, 0.0030277805362370572, 0.9989802618809418, 9.364640605634343e-05, 9.289517530859503e-05, 9.289031034962419e-05, 9.282220092403231e-05, 9.261989971349456e-05, 9.257125012378608e-05, 9.245854524096144e-05, 9.245854524096144e-05, 9.245895065420901e-05, 9.245854524096144e-05, 9.245854524096144e-05, 0.9999426619232454, 5.2655869256471475e-06, 5.223346610772437e-06, 5.223050267494849e-06, 5.219220600522938e-06, 5.2078455777908924e-06, 5.2051328970191215e-06, 5.198772914369341e-06, 5.198772914369341e-06, 5.198772914369341e-06, 5.198772914369341e-06, 5.198772914369341e-06, 0.999705822136414, 2.7015444883158058e-05, 2.6798727192485336e-05, 2.679732373199528e-05, 2.6777675285134503e-05, 2.6719431674797205e-05, 2.6705397069896653e-05, 2.6672766613502864e-05, 2.6672766613502864e-05, 2.6672766613502864e-05, 2.6672766613502864e-05, 2.6672766613502864e-05, 0.9973872462449405, 0.00023993910455790784, 0.00023801431491010574, 0.00023800185000143138, 0.00023782734127999005, 0.00023730900882761377, 0.00023718539848325952, 0.0002368955893565802, 0.0002368955893565802, 0.0002368955893565802, 0.0002368955893565802, 0.0002368955893565802, 0.9991807237936783, 7.523718177078179e-05, 7.463362967839138e-05, 7.462972108416111e-05, 7.457500076493737e-05, 7.441246838819544e-05, 7.437338244589277e-05, 7.428315906241078e-05, 7.428283334622492e-05, 7.428283334622492e-05, 7.428283334622492e-05, 7.428283334622492e-05, 0.9962601737169214, 0.00034344230845350304, 0.00034068721690164215, 0.0003406693749703835, 0.000340419587932762, 0.000339677660957922, 0.0003394992416453352, 0.0003390859035711758, 0.0003390873903987807, 0.0003390859035711758, 0.0003390859035711758, 0.0003390859035711758, 0.9995783932735923, 3.8717878648115876e-05, 3.840728546857659e-05, 3.840510645544437e-05, 3.8376946901120244e-05, 3.829330632012181e-05, 3.827335996914222e-05, 3.8226594994996804e-05, 3.8226594994996804e-05, 3.8226594994996804e-05, 3.8226594994996804e-05, 3.822676261139159e-05, 0.9993977815128864, 5.5304002414306254e-05, 5.486035413310919e-05, 5.4857481073543963e-05, 5.481725823963079e-05, 5.4697786846043455e-05, 5.466929567202163e-05, 5.460249703713011e-05, 5.460249703713011e-05, 5.460249703713011e-05, 5.460249703713011e-05, 5.460249703713011e-05, 0.9988243669583527, 0.00010796280311499907, 0.00010709672634036773, 0.00010709111764026218, 0.00010701259583878455, 0.00010677936739272894, 0.00010672328039167348, 0.000106593345505895, 0.000106593345505895, 0.000106593345505895, 0.000106593345505895, 0.00010659381289757047, 0.9724505300441023, 0.0025299660266868526, 0.002509670658716591, 0.0025095392262202915, 0.002507699171272097, 0.0025022337699676395, 0.0025009961139608183, 0.002497874592173703, 0.002497874592173703, 0.002497874592173703, 0.002497874592173703, 0.002497874592173703, 0.9994425810555702, 5.118989709164398e-05, 5.077925213164217e-05, 5.077659280108631e-05, 5.073936217330417e-05, 5.062877834435603e-05, 5.060218503879736e-05, 5.054057721425311e-05, 5.054057721425311e-05, 5.054057721425311e-05, 5.054057721425311e-05, 5.054057721425311e-05, 0.9735233042601775, 0.002431428121041977, 0.0024119232233914697, 0.0024121021674066117, 0.002410028522054669, 0.0024047759889043166, 0.0024035233807983203, 0.0024005865937262796, 0.0024005865937262796, 0.0024005865937262796, 0.0024005865937262796, 0.0024005865937262796, 0.9996133395344481, 3.550863382331215e-05, 3.522363134655582e-05, 3.522178667033087e-05, 3.5195961203181425e-05, 3.511925341682684e-05, 3.5100960377595984e-05, 3.5058071655365664e-05, 3.5058071655365664e-05, 3.5058071655365664e-05, 3.5058071655365664e-05, 3.5058071655365664e-05, 0.9988043461714923, 0.00010980137246549657, 0.00010892102205289819, 0.00010891484248736699, 0.00010883498348665612, 0.00010859778324049705, 0.00010854169179952156, 0.00010840859346500345, 0.00010840859346500345, 0.00010840859346500345, 0.00010840859346500345, 0.00010840859346500345, 0.9858783869248697, 0.0012968379513250323, 0.001286434727272886, 0.0012863673561511236, 0.0012854634602674777, 0.0012826226446331626, 0.0012819545476756853, 0.001280388169094709, 0.001280388169094709, 0.001280388169094709, 0.001280388169094709, 0.001280388169094709, 0.9828235425765306, 0.0015773704323123522, 0.001564819209945193, 0.0015646348339909421, 0.0015634876058311582, 0.0015600800650470382, 0.0015592606163614784, 0.001557362226906598, 0.001557362226906598, 0.001557362226906598, 0.001557362226906598, 0.001557362226906598, 0.9918921652070417, 0.0007445729952804583, 0.0007386000364499691, 0.0007385613556588381, 0.0007380198245830031, 0.0007364113483518029, 0.0007360245404404921, 0.0007351316588452166, 0.0007351284354459557, 0.0007351284354459557, 0.0007351284354459557, 0.0007351284354459557, 0.9992189001809246, 7.173132229283608e-05, 7.115589417816174e-05, 7.115216771438619e-05, 7.10999972215285e-05, 7.094503843619526e-05, 7.090808433708773e-05, 7.082144405430623e-05, 7.082144405430623e-05, 7.082144405430623e-05, 7.082144405430623e-05, 7.082144405430623e-05, 0.9992186436710305, 7.175491530630909e-05, 7.117929792866248e-05, 7.117557023922278e-05, 7.112338258706701e-05, 7.096837283453293e-05, 7.093109594013595e-05, 7.084473780144963e-05, 7.084473780144963e-05, 7.084473780144963e-05, 7.084473780144963e-05, 7.084473780144963e-05, 0.9997555740202883, 2.2446553494657562e-05, 2.2266487415495694e-05, 2.226532131028795e-05, 2.224899583737959e-05, 2.2200505295824396e-05, 2.2188941419180975e-05, 2.2161829473101018e-05, 2.2161829473101018e-05, 2.2161829473101018e-05, 2.2161829473101018e-05, 2.2161829473101018e-05, 0.9846846275191076, 0.0014066291841400122, 0.0013951700568623792, 0.0013950969912261775, 0.0013940740723193538, 0.0013910357596139664, 0.0013903051032519494, 0.0013886124160132768, 0.0013886124160132768, 0.0013886124160132768, 0.0013886124160132768, 0.0013886124160132768, 0.9985457360548966, 0.0001335505435907605, 0.00013247920215921072, 0.00013247226416828866, 0.00013237513229537968, 0.00013208720567211372, 0.00013201782576289302, 0.00013185651747395487, 0.00013185651747395487, 0.00013185709563986507, 0.00013185651747395487, 0.00013185651747395487, 0.9995715420412339, 3.934705078178936e-05, 3.9031410410092385e-05, 3.9029195987625e-05, 3.900057883573882e-05, 3.891557908102927e-05, 3.8895308598443226e-05, 3.8847783685489396e-05, 3.8847783685489396e-05, 3.884795402567919e-05, 3.8847783685489396e-05, 3.8847783685489396e-05, 0.9976482597645301, 0.00021596911758890705, 0.00021423661499185852, 0.00021422539533121922, 0.00021406832008226932, 0.00021360270416573927, 0.00021348957258762657, 0.00021322965044948328, 0.00021322965044948328, 0.00021322965044948328, 0.00021322965044948328, 0.00021322965044948328, 0.9995560776722563, 4.0767070127125154e-05, 4.044003700471482e-05, 4.043791914315577e-05, 4.040826908132903e-05, 4.032020133816511e-05, 4.029902272257458e-05, 4.0249958929789876e-05, 4.0249958929789876e-05, 4.0249958929789876e-05, 4.0249958929789876e-05, 4.0249958929789876e-05, 0.9999171003663035, 7.613009590243129e-06, 7.551938350364863e-06, 7.551509895902684e-06, 7.546005903965463e-06, 7.5295268861893525e-06, 7.525604879958638e-06, 7.5164095880395685e-06, 7.5164095880395685e-06, 7.5164095880395685e-06, 7.5164095880395685e-06, 7.5164095880395685e-06, 0.9895122220435079, 0.0009631297754582421, 0.0009554369124091038, 0.0009553535209397364, 0.0009546530325970507, 0.0009525724154363352, 0.0009520720666201311, 0.0009509129251959249, 0.0009509129251959249, 0.0009509129251959249, 0.0009509129251959249, 0.0009509129251959249, 0.9975130218207564, 0.00022838867251340236, 0.0002265565403424541, 0.0002265446754821997, 0.0002263785674386383, 0.0002258851869997267, 0.00022576653839718284, 0.00022549166913462287, 0.00022549166913462287, 0.00022549166913462287, 0.00022549166913462287, 0.00022549166913462287, 0.9777069623063563, 0.002047243432482224, 0.00203082046144283, 0.002030829324352188, 0.0020292251377584856, 0.0020248025459891077, 0.002023738996866211, 0.002021275108064834, 0.002021275108064834, 0.002021275108064834, 0.002021275108064834, 0.002021275108064834, 0.986529651097873, 0.0012370290784113735, 0.0012271538387014702, 0.0012270413766440364, 0.0012261416801845656, 0.0012234693674864953, 0.001222826727158302, 0.001221337943731321, 0.001221337943731321, 0.001221337943731321, 0.001221337943731321, 0.001221337943731321, 0.999048598509584, 8.737079133435244e-05, 8.66699035195442e-05, 8.666536458064636e-05, 8.660181943607659e-05, 8.641307522690805e-05, 8.636768583792964e-05, 8.6262533753463e-05, 8.6262533753463e-05, 8.6262533753463e-05, 8.6262533753463e-05, 8.6262533753463e-05, 0.7708741416159348, 0.1687991982123386, 0.006051298937542468, 0.006050982028500059, 0.006046545301906331, 0.006033367167559483, 0.0060302244862222585, 0.006022856350986245, 0.006022856350986245, 0.006022856350986245, 0.006022856350986245, 0.006022856350986245, 0.9879564270075306, 0.0011060069575194742, 0.0010971345782290996, 0.0010970771208348826, 0.0010962727173158416, 0.0010938834473396425, 0.0010933088733974703, 0.0010919777770981049, 0.0010919777770981049, 0.0010919777770981049, 0.0010919777770981049, 0.0010919777770981049, 0.9997387448978206, 2.3992038529714216e-05, 2.3799678447645595e-05, 2.3798328187890253e-05, 2.3780878677205844e-05, 2.372915334196277e-05, 2.371668940575962e-05, 2.3687710754087294e-05, 2.3687710754087294e-05, 2.3687710754087294e-05, 2.3687710754087294e-05, 2.3687710754087294e-05, 0.9974728885700445, 0.00023207412940287522, 0.0002302124325251596, 0.00023020037620431093, 0.00023003158771242954, 0.00022953024570380564, 0.00022940968249531894, 0.0002291303777289914, 0.00022913138242239544, 0.0002291303777289914, 0.0002291303777289914, 0.0002291303777289914, 0.969403899926285, 0.002809611580915132, 0.002787072898463789, 0.0027869269382968078, 0.0027864647311013676, 0.0027788139856821043, 0.002777366547359541, 0.0027739729734772285, 0.0027739729734772285, 0.0027739729734772285, 0.0027739729734772285, 0.0027739729734772285, 0.9975912580884815, 0.00022120379028666887, 0.00021942929518557706, 0.00021941780358211615, 0.00021925692113366314, 0.00021877906195641282, 0.00021866606118904703, 0.00021839792377495868, 0.00021839792377495868, 0.00021839792377495868, 0.00021839792377495868, 0.00021839792377495868, 0.9988589945172551, 0.0001047827397286986, 0.00010394217339804671, 0.0001039367299031909, 0.0001038605209752095, 0.00010363416231412193, 0.0001035801809901351, 0.00010345361973473745, 0.0001034549806084514, 0.00010345361973473745, 0.00010345361973473745, 0.00010345361973473745, 0.9818522806400137, 0.0016665666079214306, 0.0016531974234351827, 0.0016531974234351827, 0.001651898743884441, 0.0016482985155743288, 0.0016474327292071676, 0.0016454269907899108, 0.0016454269907899108, 0.0016454269907899108, 0.0016454269907899108, 0.0016454269907899108, 0.9921178329032694, 0.0007238447536351326, 0.0007180380765993912, 0.0007180537449130332, 0.0007174740173082776, 0.0007159103196068016, 0.0007155342800793926, 0.0007146631218408949, 0.0007146631218408949, 0.0007146631218408949, 0.0007146631218408949, 0.0007146631218408949, 0.9982258962124722, 0.000162922587322062, 0.00016161562358203956, 0.00016160715970460823, 0.0001614886654205695, 0.00016113670918404968, 0.0001610520704097363, 0.000160855990582577, 0.00016085669590569626, 0.000160855990582577, 0.000160855990582577, 0.000160855990582577, 0.9996700552745189, 3.030006192850857e-05, 3.0056995065209177e-05, 3.0055420967875345e-05, 3.0033383605201683e-05, 2.9967927391069788e-05, 2.9952186417731458e-05, 2.991571982949766e-05, 2.991585100427548e-05, 2.991571982949766e-05, 2.991571982949766e-05, 2.991571982949766e-05, 0.9841095226366934, 0.0014592788845280166, 0.0014475725605614794, 0.001447540973071014, 0.0014464354109047191, 0.0014432829793562562, 0.0014425311970831759, 0.0014407686151151975, 0.0014407686151151975, 0.0014407686151151975, 0.0014407686151151975, 0.0014407686151151975, 0.990907443786362, 0.0008350024055286799, 0.0008283040226660251, 0.0008282823333529242, 0.0008276533432729987, 0.0008258495154001089, 0.0008254157291380914, 0.0008244107909644173, 0.0008244107909644173, 0.0008244107909644173, 0.0008244107909644173, 0.0008244107909644173, 0.9991397330610553, 7.900153725706635e-05, 7.836778753397295e-05, 7.836368338034256e-05, 7.830622522951704e-05, 7.813556084105313e-05, 7.809486131755172e-05, 7.799943974564506e-05, 7.799943974564506e-05, 7.799943974564506e-05, 7.799978175844759e-05, 7.799943974564506e-05, 0.9791311039818464, 0.001916688456370647, 0.0019010741230262487, 0.0019009745629836703, 0.0018995807223875709, 0.0018954406839503473, 0.001894445083524562, 0.0018921386092048264, 0.0018921386092048264, 0.0018921386092048264, 0.0018921386092048264, 0.0018921386092048264, 0.9902780648479527, 0.0008928018094597505, 0.0008856397602241604, 0.0008855933789015339, 0.0008849440403847615, 0.0008830153503855391, 0.000882555402269492, 0.0008814770365184237, 0.0008814770365184237, 0.0008814770365184237, 0.0008814770365184237, 0.0008814770365184237, 0.9672004512285518, 0.003012108087059647, 0.0029879449791964433, 0.002987788499275041, 0.002985597780375409, 0.002979090823643763, 0.0029775390644231907, 0.0029739009062505874, 0.0029739009062505874, 0.0029739009062505874, 0.0029739009062505874, 0.0029739009062505874, 0.9980401559697593, 0.00017997981863997924, 0.00017853602192176686, 0.00017852667191603638, 0.0001783957718358099, 0.00017800774659799566, 0.00017791346737354682, 0.00017769685890745774, 0.00017769685890745774, 0.00017769685890745774, 0.00017769685890745774, 0.00017769763807460196, 0.9883378811773299, 0.0010709731724745188, 0.0010624235619717136, 0.001062326196559263, 0.001061547273259658, 0.0010592336856019033, 0.0010586819482646833, 0.0010573883792135538, 0.0010573883792135538, 0.0010573883792135538, 0.0010573883792135538, 0.0010573883792135538, 0.9827748492846868, 0.0015819508963865049, 0.0015691518079414151, 0.0015690696308085414, 0.0015679191509483086, 0.001564501951839641, 0.0015636801805109033, 0.0015617764102659943, 0.0015617764102659943, 0.0015617764102659943, 0.0015617764102659943, 0.0015617764102659943, 0.9981439169355959, 0.00017045110845406177, 0.0001690844888910637, 0.0001690748959891636, 0.00016895092617999315, 0.00016858270633013568, 0.00016849489438197328, 0.00016828901594888665, 0.00016828901594888665, 0.00016828901594888665, 0.00016828901594888665, 0.00016828901594888665, 0.9668706963219627, 0.0030423897427473198, 0.0030179837156755385, 0.003017825662613012, 0.003015612919737643, 0.0030090405465542543, 0.0030074600159289903, 0.003003798453313796, 0.003003798453313796, 0.003003798453313796, 0.003003798453313796, 0.003003798453313796, 0.9888454028322187, 0.0010243689884984382, 0.0010161515083664514, 0.001016098292089288, 0.001015353264209, 0.0010131403540169538, 0.0010126081912453196, 0.0010113753474910335, 0.0010113753474910335, 0.0010113753474910335, 0.0010113753474910335, 0.0010113753474910335, 0.9770100908192849, 0.0021112082106471506, 0.002094738245732712, 0.002094162436748467, 0.002092626946123813, 0.0020880661733755864, 0.0020869785341831237, 0.002084428522967181, 0.002084428522967181, 0.002084428522967181, 0.002084428522967181, 0.002084428522967181, 0.998265112629346, 0.0001593212217057359, 0.00015804314809293566, 0.00015803487130753167, 0.00015791899631187575, 0.00015757481998549295, 0.00015749274186357, 0.0001573003066029271, 0.0001573003066029271, 0.0001573009963350441, 0.0001573003066029271, 0.0001573003066029271, 0.988652336867977, 0.0010420984579396146, 0.0010337387521403933, 0.001033684614811958, 0.0010329266922138635, 0.0010306799930837975, 0.0010301386197994443, 0.0010288799269133231, 0.0010288799269133231, 0.0010288799269133231, 0.0010288799269133231, 0.0010288799269133231, 0.9999656696818251, 3.152713926630252e-06, 3.1273959112189665e-06, 3.127232128909028e-06, 3.124939176569893e-06, 3.1181149136557996e-06, 3.1164907390822453e-06, 3.1126828003761815e-06, 3.1126828003761815e-06, 3.1126828003761815e-06, 3.1126828003761815e-06, 3.1126828003761815e-06, 0.9999159123557392, 7.722111159621462e-06, 7.660164711583319e-06, 7.659730116966754e-06, 7.654147247661643e-06, 7.637432070101433e-06, 7.633453857842101e-06, 7.624126788763504e-06, 7.624126788763504e-06, 7.624126788763504e-06, 7.624126788763504e-06, 7.624126788763504e-06, 0.9952505572782624, 0.0004361579481778362, 0.00043265909247856984, 0.0004326515396330237, 0.0004323192144289919, 0.0004313769969471064, 0.00043115041158072105, 0.0004306254888152618, 0.0004306254888152618, 0.0004306254888152618, 0.0004306254888152618, 0.0004306254888152618, 0.9747647447735106, 0.002317429695483939, 0.0022988392923247902, 0.0022989396182997454, 0.002297033424775602, 0.0022920271586253506, 0.0022908232469258916, 0.0022880341848221446, 0.0022880341848221446, 0.0022880341848221446, 0.0022880341848221446, 0.0022880341848221446, 0.9800969732432883, 0.001828036395258484, 0.001813081481819628, 0.0018129865299882704, 0.001811657204349261, 0.0018077087906952984, 0.0018067592723817203, 0.0018045595549552643, 0.0018045595549552643, 0.0018045595549552643, 0.0018045595549552643, 0.0018045595549552643, 0.9917785473734626, 0.0007550069693686588, 0.0007489503092784379, 0.0007489110864392135, 0.0007483619666900732, 0.0007467374874321996, 0.0007463387219000858, 0.0007454300594580558, 0.0007454300594580558, 0.0007454300594580558, 0.0007454300594580558, 0.0007454300594580558, 0.9987895625918048, 0.00011115889323111418, 0.00011026717744620032, 0.0001102614027082516, 0.00011018055637696961, 0.0001099404235239356, 0.00010988267614444846, 0.00010974889471530326, 0.00010975033839979045, 0.00010974889471530326, 0.00010974889471530326, 0.00010974889471530326, 0.9864421077879025, 0.0012450673133128063, 0.0012351440745413927, 0.0012350147112983106, 0.0012341091685967368, 0.0012314194911676572, 0.0012307726749522473, 0.0012292742173865476, 0.0012292742173865476, 0.0012292742173865476, 0.0012292742173865476, 0.0012292742173865476, 0.9979822122526361, 0.0001853010470639644, 0.00018381456349233997, 0.00018380493704719185, 0.00018367016681511796, 0.00018326986713770803, 0.0001831736026862267, 0.00018295059004029492, 0.00018295059004029492, 0.00018295139224405727, 0.00018295059004029492, 0.00018295059004029492, 0.9652618223169169, 0.0031901392525626525, 0.0031645479800616843, 0.0031643822513676683, 0.0031620620496514446, 0.0031551704981252803, 0.0031535132111851203, 0.00314967382977375, 0.00314967382977375, 0.00314967382977375, 0.00314967382977375, 0.00314967382977375, 0.9943385774629028, 0.0005199099717321346, 0.0005157392579453055, 0.0005157122484658441, 0.0005153341157533846, 0.000514210971565782, 0.0005139431275611233, 0.000513315157163646, 0.000513315157163646, 0.000513315157163646, 0.000513315157163646, 0.000513315157163646, 0.9976734924824242, 0.00021365201011733546, 0.00021193809533856831, 0.00021192699605235936, 0.0002117716060454339, 0.00021131006072724456, 0.00021119999280567236, 0.000210941934401314, 0.000210941934401314, 0.000210941934401314, 0.000210941934401314, 0.000210941934401314, 0.9998021778104681, 1.8166751736655917e-05, 1.802101819421675e-05, 1.802007442599804e-05, 1.8006861670936097e-05, 1.7967616642508064e-05, 1.7958257607672522e-05, 1.7936314996587508e-05, 1.7936314996587508e-05, 1.7936314996587508e-05, 1.7936314996587508e-05, 1.7936314996587508e-05, 0.9996470382510257, 3.241394319003594e-05, 3.2153779587669066e-05, 3.2152095680857626e-05, 3.212852098549752e-05, 3.20584985272553e-05, 3.204165945914094e-05, 3.200264895134267e-05, 3.200264895134267e-05, 3.200264895134267e-05, 3.200264895134267e-05, 3.200264895134267e-05, 0.9951757954378317, 0.00044302485561745057, 0.0004394709136396198, 0.00043944789836507367, 0.00043912568452142794, 0.00043817055062776375, 0.00043793847994275694, 0.0004374052927491051, 0.0004374052927491051, 0.0004374052927491051, 0.0004374052927491051, 0.0004374052927491051, 0.9871377524719392, 0.001181187932857063, 0.001171712452361872, 0.0011716510892933658, 0.0011707920063342766, 0.001168255666169347, 0.0011676266947171568, 0.001166205116963426, 0.001166205116963426, 0.001166205116963426, 0.001166205116963426, 0.001166205116963426, 0.9878315775085932, 0.001117435549027604, 0.0011088730098623636, 0.001108413438551235, 0.0011076007229694493, 0.0011051867641878365, 0.0011046110906507384, 0.0011032614022738446, 0.0011032614022738446, 0.0011032614022738446, 0.0011032614022738446, 0.0011032614022738446, 0.9798018443596419, 0.0018548685394497804, 0.0018399887983198595, 0.0018399486479120616, 0.0018385433836391333, 0.0018345363729408977, 0.0018335727631537467, 0.0018313404004801806, 0.0018313404004801806, 0.0018313404004801806, 0.0018313404004801806, 0.0018313404004801806, 0.9825177867931149, 0.0016054555289614057, 0.0015925765770796554, 0.0015924931731818783, 0.0015913255186129987, 0.0015878573065304334, 0.001587058019176736, 0.0015850910772541589, 0.0015850910772541589, 0.0015850910772541589, 0.0015850910772541589, 0.0015850910772541589, 0.9921489278225245, 0.0007209932194882876, 0.0007152094174374985, 0.0007151719616228145, 0.0007146569441709094, 0.0007130900425899616, 0.0007127154844431215, 0.0007118477580696085, 0.0007118477580696085, 0.0007118477580696085, 0.0007118477580696085, 0.0007118477580696085, 0.9990615685451816, 8.617968197059999e-05, 8.548834922592912e-05, 8.548387216552111e-05, 8.542119331980891e-05, 8.523502222450898e-05, 8.519025162042884e-05, 8.508690614267719e-05, 8.508653305430984e-05, 8.508653305430984e-05, 8.508653305430984e-05, 8.508653305430984e-05, 0.9825177877204975, 0.00160545548504884, 0.0015925765335193561, 0.0015924931296238602, 0.0015913254750869184, 0.001587857263099216, 0.0015870579757673807, 0.0015850910338986036, 0.0015850910338986036, 0.0015850910338986036, 0.0015850910338986036, 0.0015850910338986036, 0.9999414393847317, 5.377858894526764e-06, 5.334717938681913e-06, 5.334415276822234e-06, 5.330503954327936e-06, 5.318886395252609e-06, 5.316115875152481e-06, 5.309620286010164e-06, 5.309620286010164e-06, 5.309620286010164e-06, 5.309620286010164e-06, 5.309620286010164e-06, 0.9856121468456742, 0.001321395113217483, 0.0013106814079793707, 0.0013106127670488542, 0.0013096517940216236, 0.0013067974753276472, 0.0013061110660224824, 0.0013045208844655175, 0.0013045208844655175, 0.0013045208844655175, 0.0013045208844655175, 0.0013045208844655175, 0.9673313495835756, 0.003000087104140065, 0.0029760204285092084, 0.0029758645730814854, 0.002973682597093367, 0.002967201608890562, 0.0029656430546133343, 0.0029620324038710905, 0.0029620324038710905, 0.0029620324038710905, 0.0029620324038710905, 0.0029620324038710905, 0.9942551543925423, 0.0005275707372262221, 0.0005233385688376331, 0.0005233111613790993, 0.0005229274569596266, 0.0005217877634755974, 0.0005215182568000154, 0.0005208787494342275, 0.0005208787494342275, 0.0005208787494342275, 0.0005208787494342275, 0.0005208787494342275, 0.9939756330673198, 0.0005532404739573645, 0.0005488023831385283, 0.0005487736421294478, 0.0005483712680023218, 0.000547176121041394, 0.0005468887109505897, 0.0005462228775735598, 0.0005462228775735598, 0.0005462228775735598, 0.0005462228775735598, 0.0005462228775735598, 0.9997810362568897, 2.0108344478898e-05, 1.994694914027495e-05, 1.99459045102515e-05, 1.993136674242515e-05, 1.988784049144806e-05, 1.9877481243715515e-05, 1.98531935956703e-05, 1.98531935956703e-05, 1.985328064817225e-05, 1.98531935956703e-05, 1.98531935956703e-05, 0.999110751985674, 8.166302899205837e-05, 8.100792880277622e-05, 8.10036863838494e-05, 8.094429251887401e-05, 8.076787859850067e-05, 8.072545440923253e-05, 8.062717170409468e-05, 8.062717170409468e-05, 8.062717170409468e-05, 8.062717170409468e-05, 8.062717170409468e-05, 0.9939671850411794, 0.0005540160276510889, 0.000549571715346498, 0.0005495429340471698, 0.0005491399958565754, 0.0005479431734928459, 0.0005476553604995642, 0.000546988593731795, 0.000546988593731795, 0.000546988593731795, 0.000546988593731795, 0.0005469909921734057, 0.9907833264800319, 0.000846528793260749, 0.0008395998238368866, 0.000839555853644879, 0.0008389402709567728, 0.0008371118438057906, 0.0008366758060683821, 0.0008356534991042057, 0.0008356534991042057, 0.0008356534991042057, 0.0008356534991042057, 0.0008356534991042057, 0.9860243644219449, 0.0012834304333548732, 0.0012731958826893046, 0.001273068089711396, 0.0012721346453510184, 0.0012693620933520396, 0.0012686953473803413, 0.0012671507192125737, 0.0012671507192125737, 0.0012671507192125737, 0.0012671507192125737, 0.0012671507192125737, 0.9782555987302, 0.0019968603459756817, 0.001980841547667993, 0.001980737810172207, 0.0019792854852311967, 0.0019750927614431615, 0.00197393435940688, 0.001971531107421161, 0.001971531107421161, 0.001971531107421161, 0.001971531107421161, 0.001971531107421161, 0.997600637297964, 0.00022034252212851634, 0.00021857493611395233, 0.00021856348925363136, 0.00021840323320913767, 0.00021792723460079043, 0.00021781371990260744, 0.00021754758040014476, 0.00021754758040014476, 0.00021754758040014476, 0.00021754758040014476, 0.00021754758040014476, 0.9879034217916565, 0.0011108743347545665, 0.00110196290940152, 0.0011019051991455909, 0.001101097255562584, 0.0010986974707535336, 0.001098120368194243, 0.0010967834139318864, 0.0010967882231198804, 0.0010967834139318864, 0.0010967834139318864, 0.0010967834139318864, 0.9929652236586881, 0.0006460298563253953, 0.000640847409796234, 0.0006408138483508212, 0.0006403439881150419, 0.0006389483913432925, 0.0006386127768891644, 0.0006378352700704343, 0.0006378352700704343, 0.0006378408636446699, 0.0006378352700704343, 0.0006378352700704343, 0.995063866072815, 0.0004533039297310572, 0.00044966752909989714, 0.00044964397982435805, 0.0004493142899668109, 0.00044833503259231075, 0.0004480995398369199, 0.0004475539816202645, 0.0004475539816202645, 0.0004475539816202645, 0.0004475539816202645, 0.0004475539816202645, 0.9652345384180452, 0.0031926446390116493, 0.0031670332683198937, 0.0031668674094702982, 0.0031645453855759565, 0.0031576484217469302, 0.0031560036548217716, 0.0031521474365686685, 0.0031521474365686685, 0.0031521474365686685, 0.0031521474365686685, 0.0031521474365686685, 0.9949883143636664, 0.0004602419986568699, 0.0004565499408902515, 0.0004565260311799442, 0.0004561912952356421, 0.00045519704978203034, 0.00045495795267895734, 0.00045440404439017165, 0.00045440404439017165, 0.00045440404439017165, 0.00045440404439017165, 0.00045440404439017165, 0.9660715068124595, 0.003115783378525832, 0.003090788588273404, 0.0030906267223894165, 0.0030883606000135892, 0.003081629677004436, 0.0030800245069882246, 0.0030762611251855115, 0.0030762611251855115, 0.0030762611251855115, 0.0030762611251855115, 0.0030762611251855115, 0.9743463122772723, 0.002355873182276355, 0.0023369743857624015, 0.00233685199744175, 0.0023351385609526273, 0.0023300492466188645, 0.0023288559604925114, 0.0023259900339839194, 0.0023259900339839194, 0.0023259900339839194, 0.0023259900339839194, 0.0023259900339839194, 0.9988848138629932, 0.00010241173018238682, 0.00010159018407204455, 0.00010158486375184805, 0.00010151037926909711, 0.00010128958598094252, 0.00010123593941896118, 0.00010111268533440902, 0.00010111268533440902, 0.00010111268533440902, 0.00010111268533440902, 0.00010111268533440902, 0.9747962575250989, 0.0023144696408842033, 0.002295902983260244, 0.0022967145856712208, 0.002294099422346961, 0.0022890995507040277, 0.002287897176761839, 0.0022851116771291026, 0.0022851116771291026, 0.0022851116771291026, 0.0022851116771291026, 0.0022851116771291026, 0.9965910431714983, 0.00031305737488468156, 0.0003105460310357647, 0.00031052976761094706, 0.00031030207966350077, 0.0003096257922481691, 0.0003094631579999932, 0.00030908638865838556, 0.00030908774394378704, 0.00030908638865838556, 0.00030908638865838556, 0.00030908638865838556, 0.9824058857726142, 0.001615730218578231, 0.001602768843215551, 0.001602684905544557, 0.001601558741792052, 0.0015980193699984652, 0.0015971799932885237, 0.001595235437243826, 0.001595235437243826, 0.001595235437243826, 0.001595235437243826, 0.001595235437243826, 0.9783526973624774, 0.0019879461067831804, 0.0019719988184336013, 0.001971895544035223, 0.0019705443706564407, 0.001966155208725364, 0.0019651224647415813, 0.001962729941179151, 0.001962729941179151, 0.001962729941179151, 0.001962729941179151, 0.001962729941179151, 0.9898433412418904, 0.0009327206138516035, 0.0009252827534649433, 0.0009251898811582694, 0.0009245115095269128, 0.0009224965842647285, 0.0009220120330994737, 0.0009208894895666336, 0.0009208894895666336, 0.0009208894895666336, 0.0009208894895666336, 0.0009208894895666336, 0.9948376432682287, 0.00047407627869825884, 0.00047027324244375485, 0.000470248614038437, 0.0004699346018706339, 0.00046887968517618435, 0.00046863340112300545, 0.00046806284306647437, 0.00046806284306647437, 0.00046806284306647437, 0.00046806284306647437, 0.00046806284306647437, 0.9992203830923433, 7.159514378500046e-05, 7.102080809326659e-05, 7.10170887040055e-05, 7.096501725435019e-05, 7.081035265090972e-05, 7.077315875829878e-05, 7.068699290708345e-05, 7.068699290708345e-05, 7.068699290708345e-05, 7.068699290708345e-05, 7.068699290708345e-05, 0.9961736152143332, 0.0003513911536936799, 0.00034857229656655583, 0.0003485540416903953, 0.0003482984734241476, 0.0003475424173031651, 0.00034735682606219955, 0.00034693392143114694, 0.00034693392143114694, 0.00034693392143114694, 0.00034693392143114694, 0.00034693392143114694, 0.9991986056665217, 7.359506626151905e-05, 7.300468720708988e-05, 7.30008639212544e-05, 7.294733791955763e-05, 7.278835295023213e-05, 7.275043869903026e-05, 7.266154730335528e-05, 7.266154730335528e-05, 7.266154730335528e-05, 7.266154730335528e-05, 7.266154730335528e-05, 0.9986182488128641, 0.0001268914241286301, 0.00012587350210209062, 0.00012586691005442822, 0.00012577462138715426, 0.00012550050207185841, 0.00012543513093253938, 0.000125281865824388, 0.000125281865824388, 0.000125281865824388, 0.000125281865824388, 0.000125281865824388, 0.9862461640525388, 0.0012630625198035068, 0.001252930242002754, 0.0012529138378832708, 0.0012519459948337655, 0.0012492174429597365, 0.0012485667462202388, 0.0012470411631083068, 0.0012470411631083068, 0.0012470411631083068, 0.0012470411631083068, 0.0012470411631083068, 0.9998044596157523, 1.7957210498135013e-05, 1.7813157893896542e-05, 1.781222501140822e-05, 1.7799164656571706e-05, 1.776037229309896e-05, 1.7751043468215735e-05, 1.7729431690569595e-05, 1.7729431690569595e-05, 1.7729431690569595e-05, 1.7729431690569595e-05, 1.7729431690569595e-05, 0.9953036001062543, 0.00043128809218628345, 0.00042782830243425445, 0.0004278058968880999, 0.0004274922192419365, 0.00042656052194767717, 0.00042633833361497805, 0.00042581740466688517, 0.00042581740466688517, 0.00042581740466688517, 0.00042581740466688517, 0.0004258192717957314, 0.9788234957831683, 0.0019446815331582322, 0.0019290813128848773, 0.0019293928121563906, 0.0019275659110234613, 0.001923364880307647, 0.0019223546124000363, 0.0019200141584140716, 0.0019200141584140716, 0.0019200141584140716, 0.0019200141584140716, 0.0019200141584140716, 0.9983861840398084, 0.00014820279056884425, 0.00014701390892494595, 0.0001470062097453848, 0.0001468990628298257, 0.00014657826368144516, 0.0001465019134841306, 0.00014632290755933424, 0.00014632290755933424, 0.00014632290755933424, 0.00014632290755933424, 0.00014632290755933424, 0.966652222748912, 0.0030624536627106664, 0.0030378866830275512, 0.0030377275876383456, 0.003035500252189472, 0.0030288845355883522, 0.0030272935816962995, 0.003023607871846377, 0.003023607871846377, 0.003023607871846377, 0.003023607871846377, 0.003023607871846377, 0.9932063159318901, 0.0006238898708507387, 0.0006188850311144453, 0.0006188526198479394, 0.0006183988621168561, 0.0006170510936179838, 0.0006167269809529243, 0.0006159761199455365, 0.0006159761199455365, 0.0006159761199455365, 0.0006159761199455365, 0.0006159761199455365, 0.9913460190015826, 0.0007947277460618761, 0.000788352446207109, 0.0007883111598615843, 0.000787733151024239, 0.0007860163271561717, 0.0007856034637009249, 0.0007846504372250639, 0.0007846469966962702, 0.0007846469966962702, 0.0007846469966962702, 0.0007846469966962702, 0.9925721354373395, 0.0006821265663705497, 0.0006766811298218363, 0.0006766191156312056, 0.0006761230021061601, 0.0006746494268145073, 0.0006742950600109034, 0.000673474110249221, 0.000673474110249221, 0.000673474110249221, 0.000673474110249221, 0.000673474110249221, 0.9765445383162906, 0.00215394521894938, 0.0021366662870011864, 0.0021371978029866407, 0.0021349878154681727, 0.0021303347193849837, 0.0021292157383629748, 0.002126623432328653, 0.002126623432328653, 0.002126623432328653, 0.002126623432328653, 0.002126623432328653, 0.9995962585966716, 3.7077089285548286e-05, 3.677965716101423e-05, 3.6777730995070136e-05, 3.67507646718528e-05, 3.667066827134417e-05, 3.665156712573189e-05, 3.660678376753167e-05, 3.660678376753167e-05, 3.660678376753167e-05, 3.660678376753167e-05, 3.660678376753167e-05, 0.9912377720104493, 0.0008046663439371183, 0.0007982391851658987, 0.0007981695140681078, 0.0007975842768466634, 0.000795845982956778, 0.0007954314399249216, 0.0007944595281107372, 0.0007944595281107372, 0.0007944595281107372, 0.0007944595281107372, 0.0007944595281107372, 0.9873438863918892, 0.001162255345845698, 0.0011529719954275618, 0.001152871362902704, 0.0011520260496938979, 0.0011495152681986946, 0.0011489114730495475, 0.0011475126809540235, 0.0011475126809540235, 0.0011475126809540235, 0.0011475126809540235, 0.0011475126809540235, 0.9912376269495489, 0.0008046815761914192, 0.0007982264267880567, 0.0007981846233380619, 0.0007975993750381348, 0.0007958680154841838, 0.0007954464973634031, 0.0007944745671510242, 0.0007944745671510242, 0.0007944745671510242, 0.0007944745671510242, 0.0007944745671510242, 0.9933751369400636, 0.0006083852146523032, 0.0006035047531485554, 0.0006034731473536039, 0.0006030306662242841, 0.0006017163919175544, 0.0006014161368655159, 0.0006006681330516658, 0.0006006681330516658, 0.0006006681330516658, 0.0006006681330516658, 0.0006006681330516658, 0.998343492365018, 0.00015212333926776085, 0.00015090300701241143, 0.0001508951041591658, 0.00015078446421372665, 0.0001504558372329283, 0.00015037680870047177, 0.00015019372593361418, 0.00015019372593361418, 0.00015019372593361418, 0.00015019372593361418, 0.00015019372593361418, 0.9851410519784214, 0.001364553248461518, 0.0013536068128175544, 0.0013535359238657316, 0.001352543478540213, 0.0013495956796269167, 0.001348892697521341, 0.001347244529391462, 0.001347244529391462, 0.001347244529391462, 0.001347244529391462, 0.001347244529391462, 0.9958725216097362, 0.0003790415069343386, 0.0003760008388865905, 0.00037598114756625967, 0.00037570546908162846, 0.00037488663834453923, 0.00037469136608459213, 0.0003742401066603446, 0.000374233542886901, 0.000374233542886901, 0.000374233542886901, 0.000374233542886901, 0.9827868763464154, 0.00158074673293125, 0.0015680659948208487, 0.0015679838745524598, 0.0015668341907950137, 0.0015634193563011712, 0.0015626049969729803, 0.001560695700732936, 0.001560695700732936, 0.001560695700732936, 0.001560695700732936, 0.001560695700732936, 0.9827868710718533, 0.0015807467024333147, 0.0015680659645675675, 0.001567983844300763, 0.0015668341605654982, 0.0015634193261375392, 0.00156260496682506, 0.0015606956706218527, 0.0015606956706218527, 0.0015606956706218527, 0.0015606956706218527, 0.0015606956706218527, 0.9994390484806096, 5.151430334458702e-05, 5.110105600012397e-05, 5.1098379816565654e-05, 5.1060913246749256e-05, 5.094962861378268e-05, 5.092286677819954e-05, 5.0860868525765255e-05, 5.0860868525765255e-05, 5.0860868525765255e-05, 5.0860868525765255e-05, 5.0860868525765255e-05, 0.9999117966496109, 8.100075347754093e-06, 8.035096887037493e-06, 8.034641020880278e-06, 8.028749827463986e-06, 8.011251580352501e-06, 8.007078651682628e-06, 7.997295062616286e-06, 7.997295062616286e-06, 7.997295062616286e-06, 7.997295062616286e-06, 7.997295062616286e-06, 0.9867464354449844, 0.0012172067278613853, 0.0012073534481724546, 0.0012072902185701728, 0.001206405004138226, 0.0012037757065100033, 0.0012031434104871842, 0.0012016785913676535, 0.0012016785913676535, 0.0012016785913676535, 0.0012016785913676535, 0.0012016785913676535, 0.9999347736883223, 5.990021554389474e-06, 5.941944131959961e-06, 5.941607019504953e-06, 5.937276421044474e-06, 5.924310557390344e-06, 5.921224681840661e-06, 5.9139897299216565e-06, 5.9139897299216565e-06, 5.9139897299216565e-06, 5.9139897299216565e-06, 5.9139897299216565e-06, 0.967090405812199, 0.0030222139826950024, 0.0029979698054148868, 0.0029978128004891657, 0.002995614731529069, 0.002989085943367829, 0.0029875158941106168, 0.0029838786133314092, 0.0029838786133314092, 0.0029838786133314092, 0.0029838786133314092, 0.0029838786133314092, 0.997145657853369, 0.000262124986564526, 0.0002600222219422304, 0.0002600086044703105, 0.00025981795986343214, 0.00025925169998943025, 0.0002591177948488847, 0.0002588000538374207, 0.0002588000538374207, 0.0002588000538374207, 0.0002588000538374207, 0.0002588000538374207, 0.9913916026568064, 0.0007905417158734851, 0.0007841999963206319, 0.000784158927440635, 0.0007835839631206785, 0.0007818761821941411, 0.0007814689158008386, 0.0007805140643409109, 0.0007805140643409109, 0.0007805140643409109, 0.0007805140643409109, 0.0007805140643409109, 0.9994680926265395, 4.884705369199143e-05, 4.8455414471949135e-05, 4.845266538455143e-05, 4.8417138716642625e-05, 4.831161605422303e-05, 4.8286239862859594e-05, 4.822745168620098e-05, 4.822745168620098e-05, 4.822745168620098e-05, 4.822745168620098e-05, 4.822766315446234e-05, 0.993990902177298, 0.0005518348152666013, 0.000547446224610535, 0.0005473793326462617, 0.0005469779808606226, 0.0005457858704973254, 0.0005454991906504403, 0.0005448350490051564, 0.0005448350490051564, 0.0005448350490051564, 0.0005448350490051564, 0.0005448350490051564, 0.9855163856623101, 0.001330074161492243, 0.0013195309960318668, 0.0013193352190653716, 0.001318367850525042, 0.0013154945356344207, 0.001314803558105614, 0.0013132027934972118, 0.0013132027934972118, 0.0013132027934972118, 0.0013132027934972118, 0.0013132027934972118, 0.9938858167497114, 0.0005614855962304567, 0.0005570153940075562, 0.0005569521937586191, 0.0005565438229193328, 0.0005553308642955007, 0.0005550391708388677, 0.0005543634143310012, 0.0005543634143310012, 0.0005543634143310012, 0.0005543634143310012, 0.0005543634143310012, 0.9880596085473065, 0.001096742994726369, 0.0010877141936323131, 0.0010876572295875557, 0.0010868597329609514, 0.0010844909780997874, 0.0010839260846559427, 0.001082601670615332, 0.001082601670615332, 0.001082601670615332, 0.001082601670615332, 0.001082601670615332, 0.9999326106023819, 6.188668826694357e-06, 6.138997011199918e-06, 6.138648719074013e-06, 6.1341745048412345e-06, 6.120778653844892e-06, 6.117590441307763e-06, 6.110115556451803e-06, 6.110115556451803e-06, 6.110115556451803e-06, 6.110115556451803e-06, 6.110115556451803e-06, 0.9999533449956705, 4.284532209582613e-06, 4.250143474403186e-06, 4.2499023451921106e-06, 4.246804762249843e-06, 4.237530561823892e-06, 4.235323302122516e-06, 4.230148298284835e-06, 4.230148298284835e-06, 4.230148298284835e-06, 4.230148298284835e-06, 4.230148298284835e-06, 0.9993500992410952, 5.968281813032818e-05, 5.9204043023200173e-05, 5.9201200861204274e-05, 5.915753491781267e-05, 5.9028604114543984e-05, 5.899785708931558e-05, 5.892576952596495e-05, 5.892576952596495e-05, 5.892576952596495e-05, 5.892576952596495e-05, 5.892576952596495e-05, 0.9999119441677675, 8.086525824161055e-06, 8.02165605714775e-06, 8.021200953547549e-06, 8.015319614714178e-06, 7.997850638060299e-06, 7.993684689719995e-06, 7.98391746630029e-06, 7.98391746630029e-06, 7.98391746630029e-06, 7.98391746630029e-06, 7.98391746630029e-06, 0.9998104502134403, 1.740714215997412e-05, 1.7267427445701307e-05, 1.7266523143343556e-05, 1.7253862910335013e-05, 1.7216259003958457e-05, 1.7207366697440557e-05, 1.7186266309092987e-05, 1.7186266309092987e-05, 1.7186266309092987e-05, 1.7186266309092987e-05, 1.7186266309092987e-05, 0.9999221330576703, 7.1508383948174016e-06, 7.093474672656812e-06, 7.093103186058902e-06, 7.087902373688164e-06, 7.072423765441917e-06, 7.068739856679311e-06, 7.0601027932779046e-06, 7.0601027932779046e-06, 7.0601027932779046e-06, 7.0601027932779046e-06, 7.0601027932779046e-06, 0.9646074823340705, 0.0032502295884167193, 0.003224156271704584, 0.0032239874212995406, 0.0032216235156289313, 0.0032146021529525387, 0.0032129136489021035, 0.003209001947851929, 0.003209001947851929, 0.003209001947851929, 0.003209001947851929, 0.003209001947851929, 0.9999297336575774, 6.452844100799145e-06, 6.401079659246093e-06, 6.400716498026348e-06, 6.396051273126531e-06, 6.382111469383966e-06, 6.378759211970924e-06, 6.370965213485603e-06, 6.370965213485603e-06, 6.370965213485603e-06, 6.370965213485603e-06, 6.370965213485603e-06, 0.9895787389209996, 0.0009570236321758303, 0.0009493463959733029, 0.0009492966783076632, 0.0009486006309887076, 0.0009465373478646609, 0.0009460360280694607, 0.0009448842354821415, 0.0009448842354821415, 0.0009448842354821415, 0.0009448842354821415, 0.0009448842354821415, 0.999432215001603, 5.214184082368701e-05, 5.17235593784024e-05, 5.172085059408323e-05, 5.1682927613614906e-05, 5.1570287332342905e-05, 5.154342522117784e-05, 5.148044598575722e-05, 5.148044598575722e-05, 5.148044598575722e-05, 5.148044598575722e-05, 5.148044598575722e-05, 0.9999476531285016, 4.807242497608683e-06, 4.768658357939056e-06, 4.7683878111128924e-06, 4.7649123249614215e-06, 4.754506677801328e-06, 4.752030133777226e-06, 4.746223782661893e-06, 4.746223782661893e-06, 4.746223782661893e-06, 4.746223782661893e-06, 4.746223782661893e-06, 0.9817835232755772, 0.0016728860259510655, 0.001659466147142081, 0.0016593792402096969, 0.0016581915121337803, 0.0016545486632180116, 0.0016536795938941703, 0.0016516662499606043, 0.0016516662499606043, 0.0016516662499606043, 0.0016516662499606043, 0.0016516662499606043, 0.9890814537538085, 0.0010026912368492505, 0.0009946476554739457, 0.0009945955653625027, 0.0009938663038023025, 0.0009917045641774228, 0.0009911836630629941, 0.000989972567971947, 0.000989972567971947, 0.000989972567971947, 0.000989972567971947, 0.000989972567971947, 0.9987209307400543, 0.00011746172077294656, 0.00011651944375406145, 0.00011651334158232555, 0.00011642791117802295, 0.00011617416253667181, 0.00011611314081931283, 0.00011597177384076449, 0.00011597228235507582, 0.00011597177384076449, 0.00011597177384076449, 0.00011597177384076449, 0.9997252846286838, 2.5228131486092488e-05, 2.502575160971806e-05, 2.5024441000696745e-05, 2.5006092474398362e-05, 2.495170220001387e-05, 2.4938596109800736e-05, 2.4908124450055207e-05, 2.4908124450055207e-05, 2.4908124450055207e-05, 2.4908124450055207e-05, 2.4908124450055207e-05, 0.9990012867945005, 9.171558339901577e-05, 9.097984169574561e-05, 9.097507704359275e-05, 9.090837191345277e-05, 9.071024179476317e-05, 9.066338938192676e-05, 9.055221416502679e-05, 9.055221416502679e-05, 9.055221416502679e-05, 9.055221416502679e-05, 9.055221416502679e-05, 0.9907380980423238, 0.0008505557919530702, 0.0008437326399443727, 0.0008436884533150665, 0.0008430698405047798, 0.000841232413169464, 0.0008407905468764021, 0.0008397668899641421, 0.0008397668899641421, 0.0008397668899641421, 0.0008397668899641421, 0.0008397668899641421, 0.9997188799256095, 2.5816305861618088e-05, 2.560920765493564e-05, 2.5607866490078548e-05, 2.5589201945817367e-05, 2.5533320076771915e-05, 2.5519908428201008e-05, 2.5488949872749826e-05, 2.5488838109011734e-05, 2.5488838109011734e-05, 2.5488838109011734e-05, 2.5488838109011734e-05, 0.9897865185859015, 0.0009379395517176269, 0.000930415407861474, 0.0009303666816195561, 0.0009297210589141442, 0.0009276583146729539, 0.0009271710522537751, 0.0009260422276493441, 0.0009260422276493441, 0.0009260422276493441, 0.0009260422276493441, 0.0009260422276493441, 0.9839024447051347, 0.0014782992093952047, 0.0014664403045291528, 0.0014663635064404359, 0.0014652883331983976, 0.0014620948126759152, 0.001461326831788745, 0.0014595476760668011, 0.0014595476760668011, 0.0014595476760668011, 0.0014595476760668011, 0.0014595476760668011, 0.9867578235296711, 0.0012160776938242156, 0.0012063223279354053, 0.001206259152333319, 0.001205395752438141, 0.001202747641784028, 0.001202115885763166, 0.0012006523176481692, 0.0012006523176481692, 0.0012006523176481692, 0.0012006523176481692, 0.0012006523176481692, 0.9949071569137874, 0.00046769493760623007, 0.000463943092420792, 0.00046391879552806385, 0.0004635786390298698, 0.000462568293240591, 0.0004623293737954309, 0.00046176244629844075, 0.00046176244629844075, 0.00046176244629844075, 0.00046176244629844075, 0.00046176244629844075, 0.9813827828149898, 0.0017096876246400893, 0.0016959725236900132, 0.0016958837049035043, 0.00169466984815455, 0.0016909468606867203, 0.0016900586728216319, 0.0016880010376008432, 0.0016880010376008432, 0.0016880010376008432, 0.0016880010376008432, 0.0016880010376008432, 0.9825526033368582, 0.001602256887050396, 0.0015894035946494073, 0.0015893203569220399, 0.0015881966476025795, 0.0015846937265758664, 0.0015838682857794726, 0.0015819330086181795, 0.0015819330086181795, 0.0015819330086181795, 0.0015819330086181795, 0.0015819330086181795, 0.9993932504591614, 5.572010539238681e-05, 5.5273119136306056e-05, 5.527022446006592e-05, 5.522969899270404e-05, 5.510932870571845e-05, 5.5080381943317104e-05, 5.5013321943753994e-05, 5.5013321943753994e-05, 5.5013321943753994e-05, 5.5013321943753994e-05, 5.5013321943753994e-05, 0.9769343666269474, 0.0021181975630096615, 0.0021012053984819467, 0.0021010953574812277, 0.0020996373142216987, 0.0020949789118579216, 0.0020938876719341234, 0.002091329218667403, 0.002091329218667403, 0.002091329218667403, 0.002091329218667403, 0.002091329218667403, 0.9870119451957509, 0.001192739905596029, 0.0011831717552645454, 0.0011831356100663153, 0.001182242307310057, 0.0011796656710362252, 0.0011790460390665662, 0.0011776105583368563, 0.0011776105583368563, 0.0011776105583368563, 0.0011776105583368563, 0.0011776105583368563, 0.9991763476943538, 7.563910282069349e-05, 7.503232652073788e-05, 7.502839704658814e-05, 7.497338440849179e-05, 7.480998377509845e-05, 7.477134394595935e-05, 7.467965621579876e-05, 7.467965621579876e-05, 7.467965621579876e-05, 7.467965621579876e-05, 7.467965621579876e-05, 0.9995684377782831, 3.9632138401204704e-05, 3.931403949433892e-05, 3.931198060173785e-05, 3.9283156105322824e-05, 3.919754048799487e-05, 3.9177123136367565e-05, 3.912925388339262e-05, 3.912942545777604e-05, 3.912925388339262e-05, 3.912925388339262e-05, 3.912925388339262e-05, 0.9957674097843682, 0.0003886948083531166, 0.00038557670159577507, 0.0003855565087835311, 0.00038527380941211534, 0.00038443412496963643, 0.0003842321968471966, 0.0003837643966968777, 0.00038376607943123135, 0.0003837643966968777, 0.0003837643966968777, 0.0003837643966968777, 0.9769827070362672, 0.0021137517799213034, 0.0020967952794312644, 0.0020968410336149935, 0.0020951481288170133, 0.00209058186128084, 0.002089483760871339, 0.002086939828255996, 0.002086939828255996, 0.002086939828255996, 0.002086939828255996, 0.002086939828255996, 0.7724419339471069, 0.006156925197318318, 0.16662139166659506, 0.006107214536713968, 0.00610273657908312, 0.006089435978739115, 0.006086237437574224, 0.00607882748387556, 0.00607882748387556, 0.00607882748387556, 0.00607882748387556, 0.00607882748387556, 0.9870783194734458, 0.0011867402487631797, 0.0011771183082154397, 0.0011770566620400136, 0.0011761936155840497, 0.0011736301621225857, 0.0011730137003683257, 0.001171585563970957, 0.001171585563970957, 0.001171585563970957, 0.001171585563970957, 0.001171585563970957, 0.9807486752589956, 0.0017679201302146016, 0.0017537378885535441, 0.0017536460445708498, 0.0017523602288131285, 0.0017485410498660871, 0.0017476532247000414, 0.0017454948911067233, 0.0017454948911067233, 0.0017454948911067233, 0.0017454948911067233, 0.0017454948911067233, 0.9996413344973897, 3.293759491343756e-05, 3.267336978085779e-05, 3.267165866289182e-05, 3.264770301136813e-05, 3.257654902261621e-05, 3.255958043612026e-05, 3.251979694341127e-05, 3.251979694341127e-05, 3.251979694341127e-05, 3.251979694341127e-05, 3.251979694341127e-05, 0.9774831726149172, 0.0020681554350764587, 0.0020511828696641366, 0.002051075448364059, 0.002049571550162967, 0.002045104614434724, 0.0020440393532089505, 0.0020415418079821374, 0.0020415418079821374, 0.0020415418079821374, 0.0020415418079821374, 0.0020415418079821374, 0.9830388243479941, 0.0015576069332408503, 0.0015451118224252508, 0.001545030904276418, 0.0015438980501927587, 0.0015405601765534054, 0.0015397240223487998, 0.0015378494185675064, 0.0015378494185675064, 0.0015378494185675064, 0.0015378494185675064, 0.0015378494185675064, 0.9979834628071798, 0.0001851862614048406, 0.0001837006986428891, 0.0001836910781608905, 0.00018355639141291003, 0.00018315633970313465, 0.00018306013488314857, 0.0001828372603835142, 0.0001828372603835142, 0.0001828372603835142, 0.0001828372603835142, 0.0001828372603835142, 0.9999024859760914, 8.955109424877227e-06, 8.883233148859017e-06, 8.882806698461929e-06, 8.876254869633947e-06, 8.85690952889334e-06, 8.85229611096121e-06, 8.841479778162354e-06, 8.841479778162354e-06, 8.841479778162354e-06, 8.841479778162354e-06, 8.841479778162354e-06, 0.997987232701468, 0.00018483997364366974, 0.000183357989007157, 0.00018334758630722469, 0.00018321315141579155, 0.0001828154481953019, 0.00018271782285747548, 0.00018249536512046115, 0.00018249536512046115, 0.00018249536512046115, 0.00018249536512046115, 0.00018249536512046115, 0.9969411649375601, 0.0002809044540995896, 0.0002786510407334415, 0.0002786364476625328, 0.00027843214466981135, 0.00027782531613785894, 0.0002776806015180146, 0.00027734131261938786, 0.00027734131261938786, 0.00027734131261938786, 0.00027734131261938786, 0.00027734131261938786, 0.999958211259104, 3.837658174537824e-06, 3.8068396825758696e-06, 3.8066237039260016e-06, 3.803849208962311e-06, 3.7955589515558336e-06, 3.793565302480128e-06, 3.7889300683791117e-06, 3.7889300683791117e-06, 3.7889300683791117e-06, 3.7889300683791117e-06, 3.7889300683791117e-06, 0.9774851118895284, 0.0020679447460462347, 0.002051009419920426, 0.002050902007703983, 0.0020493982366737843, 0.002044931678673373, 0.0020438575565089453, 0.002041369173494688, 0.002041369173494688, 0.002041369173494688, 0.002041369173494688, 0.002041369173494688, 0.9751028179008883, 0.002286326004544496, 0.0022679950128980334, 0.0022678663396305367, 0.0022670349123636345, 0.002261264411213587, 0.0022600766579751554, 0.002257325029639455, 0.002257325029639455, 0.002257325029639455, 0.002257325029639455, 0.002257325029639455, 0.9999174508855034, 7.580821075993748e-06, 7.520008051010886e-06, 7.519581408094114e-06, 7.5141006875478984e-06, 7.497691344595156e-06, 7.493785920972404e-06, 7.484629507604774e-06, 7.484629507604774e-06, 7.484629507604774e-06, 7.484629507604774e-06, 7.484629507604774e-06, 0.999951352444917, 4.4675190456048835e-06, 4.431661611968431e-06, 4.431410184440236e-06, 4.428180307731882e-06, 4.418510018185913e-06, 4.416208489273973e-06, 4.410812467707322e-06, 4.410812467707322e-06, 4.410812467707322e-06, 4.410812467707322e-06, 4.410812467707322e-06, 0.9712316469757188, 0.0026418853464996437, 0.0026206921626082897, 0.002620554915869652, 0.002618885080549556, 0.002612926284647022, 0.002611553817260642, 0.0026083742678155277, 0.0026083742678155277, 0.0026083742678155277, 0.0026083742678155277, 0.0026083742678155277, 0.9975707702754095, 0.00022308538759251617, 0.00022129579833233637, 0.00022128420897932926, 0.00022112195803722986, 0.00022064003410801793, 0.0002205241405779469, 0.00022025565389994906, 0.00022025565389994906, 0.00022025565389994906, 0.00022025565389994906, 0.00022025565389994906, 0.9969263213132069, 0.00028226983635051085, 0.0002800030455247238, 0.00027998838164876186, 0.00027978308738529434, 0.0002791733145432093, 0.00027902789777325314, 0.0002786869626571375, 0.0002786869626571375, 0.0002786869626571375, 0.0002786869626571375, 0.0002786869626571375, 0.9882995869827828, 0.0010744907518069368, 0.0010659037570113369, 0.0010658153751580777, 0.0010650338935082073, 0.0010627127069410328, 0.0010621545057625538, 0.0010608613396990779, 0.0010608613396990779, 0.0010608613396990779, 0.0010608613396990779, 0.0010608613396990779, 0.9951280589128412, 0.00044740831744441103, 0.00044381921136958316, 0.0004437959683728762, 0.000443476377168156, 0.0004425040451392496, 0.00044227355208857253, 0.00044173315241513654, 0.00044173315241513654, 0.00044173315241513654, 0.00044173315241513654, 0.00044173315241513654, 0.9626447042011985, 0.003430478702845944, 0.0034029594291268496, 0.0034027812147260786, 0.003400286213115281, 0.00339287546428321, 0.0033911081714755615, 0.00338696468665763, 0.00338696468665763, 0.00338696468665763, 0.00338696468665763, 0.00338696468665763, 0.9999199897834016, 7.347664959233616e-06, 7.288722302725528e-06, 7.288308781659902e-06, 7.282996626432244e-06, 7.267091970062009e-06, 7.263306661845894e-06, 7.254431863591303e-06, 7.254431863591303e-06, 7.254431863591303e-06, 7.254431863591303e-06, 7.254431863591303e-06, 0.9989487216465182, 9.65428394932707e-05, 9.576837357881107e-05, 9.57633581492517e-05, 9.569314213542049e-05, 9.548458385624328e-05, 9.543484751311285e-05, 9.531823877585747e-05, 9.531865672832074e-05, 9.531823877585747e-05, 9.531823877585747e-05, 9.531823877585747e-05, 0.983549172966861, 0.0015108608736517674, 0.0014986110038783822, 0.0014985325209967587, 0.0014974337606540311, 0.0014941701808265247, 0.001493391892250426, 0.001491567165252682, 0.001491567165252682, 0.001491567165252682, 0.001491567165252682, 0.001491567165252682, 0.9916584557005375, 0.0007660200951378879, 0.0007598784040854814, 0.0007598352928631912, 0.0007594506081104488, 0.0007576233555349217, 0.0007572254057907053, 0.0007563034888832707, 0.0007563034888832707, 0.0007563034888832707, 0.0007563034888832707, 0.0007563034888832707, 0.9987759734613806, 0.00011240700714602997, 0.00011150527900090856, 0.00011149943942306644, 0.0001114176853332767, 0.00011117485622134167, 0.00011111646044292043, 0.00011098117688957788, 0.00011098117688957788, 0.00011098117688957788, 0.00011098117688957788, 0.00011098117688957788, 0.9784184306262179, 0.0019818846433520276, 0.0019663463382777364, 0.0019658830205118547, 0.001964441587462445, 0.0019601601881073533, 0.0019591305930720605, 0.0019567453645736328, 0.0019567453645736328, 0.0019567453645736328, 0.0019567453645736328, 0.0019567453645736328, 0.9999356555515402, 5.909037565279678e-06, 5.8616101407540294e-06, 5.8612775859973775e-06, 5.856979955296024e-06, 5.8442149688676e-06, 5.841170813787475e-06, 5.834033677087013e-06, 5.834033677087013e-06, 5.834033677087013e-06, 5.834033677087013e-06, 5.834033677087013e-06, 0.9948720379920301, 0.00047091998051663103, 0.00046714226406181775, 0.0004671177996271401, 0.0004667752975416524, 0.0004657620622054181, 0.00046551334045286157, 0.00046494658104949513, 0.00046494658104949513, 0.00046494658104949513, 0.00046494658104949513, 0.00046494658104949513, 0.9986980380205298, 0.00011956409158969791, 0.00011860494936832162, 0.00011859873797778923, 0.0001185117785103358, 0.00011825348818736398, 0.0001181913742820401, 0.00011804747706803977, 0.00011804747706803977, 0.00011804747706803977, 0.00011804747706803977, 0.00011804747706803977, 0.982521192798695, 0.001605138880917418, 0.0015922624691838366, 0.001592255520229852, 0.0015910116574665973, 0.0015875441294282502, 0.0015867102549500906, 0.001584778445742354, 0.001584778445742354, 0.001584778445742354, 0.001584778445742354, 0.001584778445742354, 0.9711452165984503, 0.0026500947186933856, 0.002628562570048769, 0.00262842491113362, 0.002626497686321528, 0.002620773369766566, 0.002619396780615072, 0.0026162076824141115, 0.0026162076824141115, 0.0026162076824141115, 0.0026162076824141115, 0.0026162076824141115, 0.9734398247885152, 0.0024398983201253306, 0.0024194770498182716, 0.002419350340798786, 0.002417576414525991, 0.002412307431132391, 0.0024110403409375375, 0.00240810491531946, 0.00240810491531946, 0.00240810491531946, 0.00240810491531946, 0.00240810491531946, 0.9992477527388834, 6.908170394945397e-05, 6.852753105271239e-05, 6.852394223740699e-05, 6.847369882313145e-05, 6.832446392001539e-05, 6.828857576696143e-05, 6.820543487905309e-05, 6.820543487905309e-05, 6.820543487905309e-05, 6.820543487905309e-05, 6.820543487905309e-05, 0.9962909896311938, 0.0003406120546039732, 0.00033787966732668346, 0.0003378619724279638, 0.000337614243845889, 0.000336878430974131, 0.00033670295656182793, 0.00033629155016659653, 0.00033629155016659653, 0.00033629155016659653, 0.00033629155016659653, 0.00033629597389127645, 0.9997054940882186, 2.7045697822313578e-05, 2.682862129655037e-05, 2.682721627049365e-05, 2.680754590569957e-05, 2.6749120238840973e-05, 2.6735187063778503e-05, 2.6702520207959767e-05, 2.6702520207959767e-05, 2.6702520207959767e-05, 2.6702520207959767e-05, 2.6702520207959767e-05, 0.993199454851239, 0.0006245195226877266, 0.0006195096318892489, 0.0006194771879121405, 0.0006190229722326239, 0.0006176765471826284, 0.000617352107411545, 0.0006165977849437764, 0.0006165977849437764, 0.0006165977849437764, 0.0006165977849437764, 0.0006165977849437764, 0.9747907086539095, 0.0023150570802194553, 0.002296485710161675, 0.002296365442249806, 0.002294771892417541, 0.002289680550815084, 0.0022884778716963936, 0.002285691665071427, 0.002285691665071427, 0.002285691665071427, 0.002285691665071427, 0.002285691665071427, 0.9709487463916713, 0.0026682650933234154, 0.0026464478400216747, 0.0026463092444474973, 0.0026443689064090154, 0.002638605640449477, 0.002637219684707704, 0.0026340088872392636, 0.0026340088872392636, 0.0026340088872392636, 0.0026340088872392636, 0.0026340088872392636, 0.9810234453243154, 0.0017428333937469865, 0.0017286952367766178, 0.0017286047042880134, 0.0017273372494475536, 0.0017235726067964254, 0.001722674826284433, 0.0017205699459243834, 0.0017205699459243834, 0.0017205699459243834, 0.0017205699459243834, 0.0017205699459243834, 0.9752661125730571, 0.002271389131801799, 0.0022531680656897217, 0.002253050066340912, 0.0022515947410389216, 0.0022464912692028893, 0.0022453112757147894, 0.0022425776241340243, 0.0022425776241340243, 0.0022425776241340243, 0.0022425776241340243, 0.0022425776241340243, 0.9714001889267203, 0.0026269154360219, 0.002605312232515788, 0.0026051757912304865, 0.0026032656132362617, 0.00259759192978913, 0.0025962275169361124, 0.002593066627159955, 0.002593066627159955, 0.002593066627159955, 0.002593066627159955, 0.002593066627159955, 0.9928134264388013, 0.0006599685725453068, 0.0006546943096554906, 0.0006546400241761263, 0.0006541600262533262, 0.00065273431813739, 0.0006523943196087398, 0.0006515971802012324, 0.0006515971802012324, 0.0006515971802012324, 0.0006515971802012324, 0.0006515971802012324, 0.9980249513054366, 0.000181376156227893, 0.00017992115810031047, 0.0001799117355544222, 0.0001797798199119862, 0.00017938799904546507, 0.00017929534401089694, 0.000179075484606837, 0.000179075484606837, 0.000179075484606837, 0.000179075484606837, 0.000179075484606837, 0.9901948526590035, 0.000900441502982751, 0.0008932493536559266, 0.000893171389977587, 0.0008925164950795348, 0.0008905713013049627, 0.0008901035192349254, 0.0008890198241060054, 0.0008890198241060054, 0.0008890198241060054, 0.0008890198241060054, 0.0008890198241060054, 0.9897895044635906, 0.0009376591968909829, 0.0009302428440067894, 0.0009300885903616886, 0.0009294066268780846, 0.0009273810329595227, 0.00092689391618552, 0.0009257654289924133, 0.0009257654289924133, 0.0009257654289924133, 0.0009257654289924133, 0.0009257654289924133, 0.9967976083401578, 0.00029408774600358107, 0.00029172857637136914, 0.0002917132984244795, 0.0002914994071680242, 0.00029086409920986244, 0.00029071131974096583, 0.000290357380638022, 0.000290357380638022, 0.000290357380638022, 0.000290357380638022, 0.000290357380638022, 0.984016046661643, 0.0014678325647140094, 0.0014564388949078176, 0.0014559813688475578, 0.001454913808040285, 0.00145174289826154, 0.0014509803548277737, 0.0014492137958728817, 0.0014492137958728817, 0.0014492137958728817, 0.0014492137958728817, 0.0014492137958728817, 0.8132806561753059, 0.0064775025132837605, 0.12260984897119233, 0.006425203529833073, 0.006420492414969955, 0.006406499282132478, 0.00640316224243777, 0.006395338426682949, 0.006395338426682949, 0.006395338426682949, 0.006395338426682949, 0.006395338426682949, 0.9862461651148491, 0.0012630625071584, 0.0012529302294590863, 0.0012529138253397673, 0.0012519459822999516, 0.0012492174304532394, 0.001248561265680483, 0.0012470411506235973, 0.0012470411506235973, 0.0012470411506235973, 0.0012470411506235973, 0.0012470411506235973, 0.9991312207045651, 7.978328411993291e-05, 7.91432632295297e-05, 7.913911846391457e-05, 7.908109174530273e-05, 7.890873857514019e-05, 7.886763631612347e-05, 7.877127051557166e-05, 7.877127051557166e-05, 7.877127051557166e-05, 7.877127051557166e-05, 7.877127051557166e-05, 0.9989109189553349, 0.00010001439428583449, 9.921207958558058e-05, 9.920688380770521e-05, 9.913414291745014e-05, 9.891808515413298e-05, 9.886612737537935e-05, 9.874575852126678e-05, 9.874575852126678e-05, 9.874575852126678e-05, 9.87461915027564e-05, 9.874575852126678e-05, 0.994881995309693, 0.00047000571572729146, 0.000466235333497573, 0.0004662109165592262, 0.00046586907942237096, 0.0004648537417361165, 0.00046461160709751075, 0.00046404391328094764, 0.00046404391328094764, 0.00046404391328094764, 0.00046404391328094764, 0.00046404391328094764, 0.9984149748921626, 0.00014555875293956625, 0.00014439108174515517, 0.00014438351992414442, 0.0001442776544299938, 0.0001439632087062965, 0.00014388759049618893, 0.00014371366861294153, 0.00014371240830943972, 0.00014371240830943972, 0.00014371240830943972, 0.00014371240830943972, 0.9989845530244321, 9.325231983623715e-05, 9.250425044510962e-05, 9.249940595903648e-05, 9.24315831540125e-05, 9.223013327480439e-05, 9.218209212124574e-05, 9.206945782004521e-05, 9.206945782004521e-05, 9.206945782004521e-05, 9.206945782004521e-05, 9.206945782004521e-05, 0.9984182962056602, 0.0001452537807078277, 0.00014408855599830952, 0.00014408101002069795, 0.00014397536633413614, 0.00014366157943178882, 0.00014358611965567325, 0.00014341130450767212, 0.00014341130450767212, 0.00014341193333913975, 0.00014341130450767212, 0.00014341130450767212, 0.8652564259265977, 0.006867302072787205, 0.00681221262847847, 0.006811855870069563, 0.006806861252344864, 0.006792026048507811, 0.06675238210365338, 0.006780193561279059, 0.006780193561279059, 0.006780193561279059, 0.006780193561279059, 0.006780193561279059, 0.9758336486069707, 0.0022192712718315374, 0.0022014682947905234, 0.0022013530029802203, 0.0021999310706531452, 0.002194944699857524, 0.0021937917817544898, 0.002191120854815795, 0.002191120854815795, 0.002191120854815795, 0.002191120854815795, 0.002191120854815795, 0.9996580964078385, 3.139829021786015e-05, 3.114641337568648e-05, 3.114478222506258e-05, 3.1121946116328005e-05, 3.1054117436217554e-05, 3.103794185919723e-05, 3.100001760719159e-05, 3.100001760719159e-05, 3.100001760719159e-05, 3.100001760719159e-05, 3.100001760719159e-05, 0.9929829288498202, 0.0006444040158432908, 0.0006392346117939483, 0.0006392011348114378, 0.0006387324570562896, 0.0006373431622821004, 0.000637005602708452, 0.0006362300526136235, 0.0006362300526136235, 0.0006362300526136235, 0.0006362300526136235, 0.0006362300526136235, 0.9997499701707065, 2.2961367416207135e-05, 2.2776974291955802e-05, 2.2775781452338004e-05, 2.2759081697688826e-05, 2.270947945024871e-05, 2.2697551054070725e-05, 2.2669916936258397e-05, 2.2669916936258397e-05, 2.2669916936258397e-05, 2.2669916936258397e-05, 2.2669916936258397e-05, 0.9990927113203277, 8.331977538136264e-05, 8.265138478531232e-05, 8.264705629791209e-05, 8.258645747430904e-05, 8.240646453991665e-05, 8.236354037319782e-05, 8.226290304114275e-05, 8.226290304114275e-05, 8.226290304114275e-05, 8.226290304114275e-05, 8.226290304114275e-05, 0.9989361343245422, 9.769883083206105e-05, 9.691509156398967e-05, 9.691001608033244e-05, 9.683895930913115e-05, 9.662790378038446e-05, 9.65771489438121e-05, 9.645956690575283e-05, 9.645956690575283e-05, 9.645956690575283e-05, 9.645956690575283e-05, 9.645956690575283e-05, 0.9911945715419043, 0.0008086350884478647, 0.0008021482239996467, 0.0008021062151635006, 0.0008015285936664926, 0.0007997712240210498, 0.0007993546363959349, 0.0007983779309555394, 0.0007983779309555394, 0.0007983779309555394, 0.0007983779309555394, 0.0007983779309555394, 0.9984244468854904, 0.00014468902059587248, 0.0001435283263876204, 0.00014352080974946657, 0.00014341557681531313, 0.00014310300994541686, 0.00014302784356387866, 0.0001428537081133152, 0.0001428537081133152, 0.0001428537081133152, 0.0001428537081133152, 0.0001428537081133152, 0.978564901090099, 0.0019684473989798096, 0.001952656529113973, 0.001952554267679332, 0.001951122607594356, 0.0019470832809260308, 0.001945847621924117, 0.0019434785653549304, 0.0019434785653549304, 0.0019434785653549304, 0.0019434785653549304, 0.0019434785653549304, 0.999593597316132, 3.7321493251192295e-05, 3.702210051992921e-05, 3.702016165712557e-05, 3.6993017577874516e-05, 3.691239319962288e-05, 3.6893004571586417e-05, 3.6848087583301936e-05, 3.6848087583301936e-05, 3.6848087583301936e-05, 3.6848087583301936e-05, 3.6848087583301936e-05, 0.9782033596115433, 0.002001661283418618, 0.001985603972027758, 0.001985499985121827, 0.001984044168438792, 0.0019797980364466053, 0.0019786888427833402, 0.0019762711472204424, 0.0019762711472204424, 0.0019762711472204424, 0.0019762711472204424, 0.0019762711472204424, 0.999937134490897, 5.773196876031624e-06, 5.7268845356751315e-06, 5.726559624490764e-06, 5.722360772262004e-06, 5.709889181415868e-06, 5.706914994420497e-06, 5.699941900540594e-06, 5.699941900540594e-06, 5.699941900540594e-06, 5.699941900540594e-06, 5.699941900540594e-06, 0.999872219727191, 1.173453711865226e-05, 1.1640402752312322e-05, 1.1639793139578333e-05, 1.1631258561302505e-05, 1.1605908831780849e-05, 1.1599863505502137e-05, 1.1585690009436922e-05, 1.1585690009436922e-05, 1.1585690009436922e-05, 1.1585690009436922e-05, 1.1585690009436922e-05, 0.998697203771545, 0.000119640690155259, 0.00011868093346078005, 0.00011867471809092914, 0.00011858770291301631, 0.0001183292471167157, 0.00011826709341820654, 0.0001181236219641479, 0.00011812310401666032, 0.00011812310401666032, 0.00011812310401666032, 0.00011812310401666032, 0.994586693202172, 0.0004971229272058146, 0.0004931350109145797, 0.0004931091852289376, 0.0004927669948941797, 0.0004916737075353305, 0.0004914154506789095, 0.0004908171556282008, 0.0004908171556282008, 0.0004908171556282008, 0.0004908171556282008, 0.0004908171556282008, 0.9888686135133058, 0.0010222312791948076, 0.0010140309477503816, 0.0010140486494912221, 0.0010132343694125529, 0.0010110260772426831, 0.001010495025017464, 0.0010092647540290395, 0.0010092647540290395, 0.0010092647540290395, 0.0010092647540290395, 0.0010092647540290395, 0.9776610033160373, 0.00205146929883674, 0.0020350124279300144, 0.0020349058534826965, 0.002033475979647843, 0.0020289820904525907, 0.0020279252271833514, 0.002025447371283202, 0.002025447371283202, 0.002025447371283202, 0.002025447371283202, 0.002025447371283202, 0.9881090330621024, 0.0010919925972500558, 0.0010832326410497686, 0.001083175911705784, 0.0010823817008899998, 0.0010800227056693072, 0.0010794601396747934, 0.0010781411824271516, 0.0010781411824271516, 0.0010781411824271516, 0.0010781411824271516, 0.0010781411824271516, 0.9906346405208594, 0.0008600561751640188, 0.0008531568111544126, 0.0008531121309773401, 0.0008524866084983257, 0.0008506323811498185, 0.0008501818560310044, 0.000849146765262159, 0.000849146765262159, 0.000849146765262159, 0.000849146765262159, 0.000849146765262159, 0.9836525121803299, 0.0015013582696138453, 0.0014891983386917669, 0.0014891203487553345, 0.0014880284896452815, 0.0014847854081219693, 0.001484012007919015, 0.0014821987418969628, 0.0014821987418969628, 0.0014821987418969628, 0.0014821987418969628, 0.0014821987418969628, 0.9996683149697692, 3.0459882206982127e-05, 3.021553326664039e-05, 3.0213950866595003e-05, 3.0191797265959597e-05, 3.0125995797405614e-05, 3.01103036636222e-05, 3.0073512862566968e-05, 3.0073512862566968e-05, 3.0073512862566968e-05, 3.0073512862566968e-05, 3.0073512862566968e-05, 0.9929788008390179, 0.0006447820036606568, 0.0006396095673959562, 0.0006395760707768648, 0.0006391071181095849, 0.0006377142170323665, 0.0006373792508414523, 0.0006366172027571224, 0.0006366032458325011, 0.0006366032458325011, 0.0006366032458325011, 0.0006366032458325011, 0.9995918814495784, 3.7479059824693564e-05, 3.717840309559206e-05, 3.7176456047157514e-05, 3.7149197369073836e-05, 3.7068232605003867e-05, 3.7048924374694595e-05, 3.7003655498591345e-05, 3.7003655498591345e-05, 3.700381775262756e-05, 3.7003655498591345e-05, 3.7003655498591345e-05, 0.996004421471999, 0.0003669284743343827, 0.0003639865654445291, 0.0003639659148961662, 0.0003637054002860496, 0.0003629063829147773, 0.00036271576246835045, 0.0003622741584341284, 0.0003622741584341284, 0.0003622741584341284, 0.0003622741584341284, 0.0003622741584341284, 0.9663666993272975, 0.0030886108068275504, 0.003063833994735895, 0.0030636735404751827, 0.0030621224826216306, 0.003054754957817258, 0.0030531504152101355, 0.0030494332248369675, 0.0030494332248369675, 0.0030494332248369675, 0.0030494332248369675, 0.0030494332248369675, 0.7933677683049607, 0.006318759804774372, 0.006268098117435344, 0.006267742500839551, 0.1440888964138667, 0.0062494966339631305, 0.0062462140192327395, 0.006238609295107335, 0.006238609295107335, 0.006238609295107335, 0.006238609295107335, 0.006238609295107335, 0.9743653698837936, 0.0023543573606115966, 0.0023352179838471935, 0.002335095687510041, 0.0023333835387899025, 0.002328298049436635, 0.0023270750860651074, 0.0023242418875877354, 0.0023242418875877354, 0.0023242418875877354, 0.0023242418875877354, 0.0023242418875877354, 0.9999364543880205, 5.835675491520624e-06, 5.788836889485578e-06, 5.7885084634734665e-06, 5.784289452394797e-06, 5.771657682698183e-06, 5.768651321510389e-06, 5.761602794019678e-06, 5.761602794019678e-06, 5.761602794019678e-06, 5.761602794019678e-06, 5.761602794019678e-06, 0.9659437400459426, 0.003127515401516908, 0.0031024264970664515, 0.00310226402170034, 0.0030999893665747723, 0.003093233099267283, 0.0030916083456061635, 0.0030878443329579027, 0.0030878443329579027, 0.0030878443329579027, 0.0030878443329579027, 0.0030878443329579027, 0.9822706802511039, 0.0016281358343250853, 0.0016152441055014108, 0.0016149903590620164, 0.0016138062090115095, 0.0016102890014210154, 0.001609450228468573, 0.0016074836935632668, 0.0016074836935632668, 0.0016074836935632668, 0.0016074836935632668, 0.0016074836935632668, 0.9814030431250095, 0.0017078126072956983, 0.0016941125477203099, 0.0016942086625473364, 0.001692781727038405, 0.0016890923963702351, 0.0016882051825822986, 0.0016861498039735785, 0.0016861498039735785, 0.0016861498039735785, 0.0016861498039735785, 0.0016861498039735785, 0.9823448028212478, 0.001621326510529224, 0.0016085167746890758, 0.001608236013355593, 0.0016070568157549657, 0.0016035543181197691, 0.001602712034119321, 0.0016007607428516163, 0.0016007607428516163, 0.0016007607428516163, 0.0016007607428516163, 0.0016007607428516163, 0.9744923736535682, 0.0023424569538243165, 0.002323675923136916, 0.0023235440908480737, 0.0023218404120384176, 0.0023167800803359268, 0.0023156240125722315, 0.0023127439841082887, 0.0023127439841082887, 0.0023127439841082887, 0.0023127439841082887, 0.0023127439841082887, 0.9966906973627278, 0.0003039057683907767, 0.000301467838658632, 0.0003014520506625253, 0.00030123101871703135, 0.00030057450121226056, 0.00030041793691753567, 0.00030005218167439686, 0.00030005086600805466, 0.00030005086600805466, 0.00030005086600805466, 0.00030005086600805466, 0.9798797183033328, 0.0018477207050894115, 0.0018328983038316485, 0.0018328023141850791, 0.0018314584591331072, 0.0018274668896632615, 0.0018265229914719956, 0.0018242832330520422, 0.0018242832330520422, 0.0018242832330520422, 0.0018242832330520422, 0.0018242832330520422, 0.9676101424038359, 0.0029755367429826762, 0.0029505174081565755, 0.0029503628883326364, 0.0029481996107974923, 0.0029417741614520348, 0.0029402289632126464, 0.0029366492539580624, 0.0029366492539580624, 0.0029366492539580624, 0.0029366492539580624, 0.0029366492539580624, 0.9997603728106923, 2.2005866503890602e-05, 2.1829335612372746e-05, 2.182819240098677e-05, 2.1812187441583102e-05, 2.1764648901449582e-05, 2.175321678758982e-05, 2.1726732390481366e-05, 2.1726732390481366e-05, 2.1726732390481366e-05, 2.1726732390481366e-05, 2.1726732390481366e-05, 0.9993118529146968, 6.319513568837274e-05, 6.268818479685988e-05, 6.268490179054679e-05, 6.263893970216354e-05, 6.250242135631092e-05, 6.246986487703945e-05, 6.239353498026012e-05, 6.239380856411955e-05, 6.239353498026012e-05, 6.239353498026012e-05, 6.239353498026012e-05, 0.9999161869465356, 7.696892883226669e-06, 7.63514873513164e-06, 7.63471555978073e-06, 7.6291509225805845e-06, 7.612490332160987e-06, 7.608525111641123e-06, 7.599228502186987e-06, 7.599228502186987e-06, 7.599228502186987e-06, 7.599228502186987e-06, 7.599228502186987e-06, 0.9999359854866776, 5.878712518268526e-06, 5.8315537359075185e-06, 5.83122288638205e-06, 5.826972742477955e-06, 5.814247760729167e-06, 5.811219215072955e-06, 5.804118675257132e-06, 5.804118675257132e-06, 5.804118675257132e-06, 5.804118675257132e-06, 5.804118675257132e-06, 0.9884872595195182, 0.001057257172252693, 0.0010487804404330817, 0.0010487209385358599, 0.0010479702992170607, 0.001045668033501475, 0.0010451187852194269, 0.0010438463600326818, 0.0010438463600326818, 0.0010438463600326818, 0.0010438463600326818, 0.0010438463600326818, 0.982092948543513, 0.001644867097343792, 0.0016312412068507148, 0.0016311557780701938, 0.0016299597751429017, 0.0016264073616862427, 0.001625553073881034, 0.0016235739737989674, 0.0016235739737989674, 0.0016235739737989674, 0.0016235739737989674, 0.0016235739737989674, 0.9995120047735817, 4.481443053203149e-05, 4.4454929515641796e-05, 4.4452601392491945e-05, 4.4420007668394015e-05, 4.4323390557675145e-05, 4.430010932617662e-05, 4.424598046294255e-05, 4.424598046294255e-05, 4.424598046294255e-05, 4.424598046294255e-05, 4.424598046294255e-05, 0.8032544426062946, 0.006401541462345885, 0.006350188346064977, 0.13338751631637485, 0.006345199915989119, 0.006331370879278826, 0.006328045259228254, 0.006320340906111097, 0.006320340906111097, 0.006320340906111097, 0.006320340906111097, 0.006320340906111097, 0.9806292560572993, 0.001778878722708234, 0.001764608571302639, 0.001764631674623857, 0.0017632223720295645, 0.001759379519600319, 0.0017584630878586755, 0.0017563144789854099, 0.0017563144789854099, 0.0017563144789854099, 0.0017563144789854099, 0.0017563144789854099, 0.9880764516956806, 0.0010949815391506378, 0.001086235528761734, 0.0010861407210610411, 0.0010853443363752222, 0.0010829788842429387, 0.0010824100380387824, 0.0010810922109991533, 0.0010810922109991533, 0.0010810922109991533, 0.0010810922109991533, 0.0010810922109991533, 0.9640948005142506, 0.003297310969896507, 0.003270859966704948, 0.003270688670407971, 0.0032682905222502904, 0.0032611674512343226, 0.003259454488264551, 0.0032554861240512464, 0.0032554861240512464, 0.0032554861240512464, 0.0032554861240512464, 0.0032554861240512464, 0.9980839450580745, 0.00017595854694970605, 0.00017454700884200525, 0.000174537867742549, 0.0001744098923501617, 0.0001740312984810158, 0.0001739383639698774, 0.00017372659516580788, 0.00017372659516580788, 0.00017372659516580788, 0.00017372659516580788, 0.00017372659516580788, 0.9670024706443408, 0.0030302889800394813, 0.0030059800251928943, 0.0030058226007686315, 0.0030036186588289515, 0.002997072426520022, 0.0029954981822773934, 0.0029918511831153044, 0.0029918511831153044, 0.0029918511831153044, 0.0029918511831153044, 0.0029918511831153044, 0.9999128432806386, 8.003958841181264e-06, 7.939716772479237e-06, 7.939300966209321e-06, 7.93351432895299e-06, 7.916189067706488e-06, 7.91206565552982e-06, 7.902398159754273e-06, 7.902398159754273e-06, 7.902398159754273e-06, 7.902398159754273e-06, 7.902398159754273e-06, 0.9996453605364297, 3.2568003560327614e-05, 3.2306603425253747e-05, 3.2304911514994365e-05, 3.228122477136308e-05, 3.2210869503077284e-05, 3.2194091393005126e-05, 3.215489547199621e-05, 3.2154754479474594e-05, 3.2154754479474594e-05, 3.2154754479474594e-05, 3.2154754479474594e-05, 0.9846441046551019, 0.0014101865060641542, 0.0013988740007793504, 0.0013988434759404813, 0.001397775106580071, 0.0013947287276609576, 0.0013939961315281046, 0.0013922989504869952, 0.0013922989504869952, 0.0013922989504869952, 0.0013922989504869952, 0.0013922989504869952, 0.9884049435760963, 0.001064817479486252, 0.0010562755218712556, 0.0010562202042828151, 0.0010554457580446504, 0.001053150078124376, 0.001052592292440936, 0.0010513107683087347, 0.0010513107683087347, 0.0010513107683087347, 0.0010513107683087347, 0.0010513107683087347, 0.9692752318102402, 0.0028227484058616684, 0.002798819977299153, 0.0027986734019327672, 0.002796621346803363, 0.0027905262544844784, 0.002789072715434484, 0.0027856648381660095, 0.0027856648381660095, 0.0027856648381660095, 0.0027856648381660095, 0.0027856648381660095, 0.9866497720725367, 0.0012260020603750788, 0.0012161670812942742, 0.0012161033901183598, 0.0012152117136555562, 0.0012125632222571097, 0.0012119263104979643, 0.0012104507982559438, 0.0012104561058539367, 0.0012104507982559438, 0.0012104507982559438, 0.0012104507982559438, 0.9881308220588458, 0.0010899890142986052, 0.0010812781622253761, 0.0010811885055680677, 0.0010803957519666036, 0.001078041085019398, 0.0010774795512183612, 0.0010761630139873586, 0.0010761630139873586, 0.0010761630139873586, 0.0010761630139873586, 0.0010761630139873586, 0.9847304350396279, 0.001402257874049172, 0.0013910089721892943, 0.0013909846896164723, 0.001389916256412296, 0.0013868870054527284, 0.0013861645989112683, 0.001384470889456921, 0.001384470889456921, 0.001384470889456921, 0.001384470889456921, 0.001384470889456921, 0.9695250438619566, 0.00279862765360843, 0.0027761770841372995, 0.002776031694588647, 0.0027739962409075083, 0.0027679504588426977, 0.002766532910743333, 0.0027631283721457145, 0.0027631283721457145, 0.0027631283721457145, 0.0027631283721457145, 0.0027631283721457145, 0.9987918123917184, 0.00011095242068197933, 0.00011006236121826356, 0.00011005659720662589, 0.00010997590104369861, 0.00010973621422643246, 0.00010967857411005583, 0.00010954552150808645, 0.0001095450411737833, 0.0001095450411737833, 0.0001095450411737833, 0.0001095450411737833, 0.9962058621401924, 0.00034842987805046673, 0.00034563477625373305, 0.00034561667521673314, 0.00034536326069873463, 0.000344610559243489, 0.00034442954887349005, 0.0003440102081829925, 0.0003440102081829925, 0.0003440117166027425, 0.0003440102081829925, 0.0003440102081829925, 0.9654603192066861, 0.0031719101802125584, 0.0031464651411895104, 0.0031463003595012876, 0.0031439934158661704, 0.0031371412439975786, 0.003135507158922704, 0.003131675984671527, 0.003131675984671527, 0.003131675984671527, 0.003131675984671527, 0.003131675984671527, 0.9989746955635576, 9.415758505815711e-05, 9.340225363639528e-05, 9.339736212152149e-05, 9.332888091328836e-05, 9.312547541978638e-05, 9.307656027104843e-05, 9.296324017647219e-05, 9.296324017647219e-05, 9.296324017647219e-05, 9.296324017647219e-05, 9.296324017647219e-05, 0.9887452055047208, 0.001033570124756266, 0.0010252788331801227, 0.001025225138901162, 0.0010244734189957159, 0.0010222406318956103, 0.001021712638152499, 0.001020459771643422, 0.001020459771643422, 0.001020459771643422, 0.001020459771643422, 0.001020459771643422, 0.9963224385762934, 0.0003377242588777384, 0.0003350150374755113, 0.00033499749259864847, 0.0003347518643225696, 0.00033402228985969246, 0.0003338497652372085, 0.000333440384777077, 0.000333440384777077, 0.000333440384777077, 0.000333440384777077, 0.000333440384777077, 0.9667386391421192, 0.0030545178646512964, 0.0030300145458790604, 0.003029855862756952, 0.0030276342990474344, 0.0030210357258864274, 0.0030194488946653436, 0.0030157727356698327, 0.0030157727356698327, 0.0030157727356698327, 0.0030157727356698327, 0.0030157727356698327, 0.9999286363028997, 6.55361693837128e-06, 6.501044101391476e-06, 6.5006752687521135e-06, 6.495937187923388e-06, 6.481751317178703e-06, 6.478375079941468e-06, 6.470459364065934e-06, 6.470459364065934e-06, 6.470459364065934e-06, 6.470459364065934e-06, 6.470459364065934e-06, 0.7931520091084316, 0.14445958128624134, 0.006258110252956908, 0.006257782513119887, 0.006253194155401593, 0.006239565640512136, 0.006236288242141926, 0.006228695602584273, 0.006228695602584273, 0.006228695602584273, 0.006228695602584273, 0.006228695602584273, 0.9821585668051941, 0.0016384448694370375, 0.0016253012773202063, 0.0016252161596162656, 0.0016240528843290772, 0.0016204850339055661, 0.00161963385686616, 0.0016176619633915354, 0.0016176619633915354, 0.0016176619633915354, 0.0016176619633915354, 0.0016176619633915354, 0.9979619166605366, 0.0001871649128265904, 0.00018566347733818108, 0.00018565375406464577, 0.00018551762823515157, 0.00018511330211064196, 0.00018501687964808357, 0.00018479081353838783, 0.00018479081353838783, 0.00018479081353838783, 0.00018479081353838783, 0.00018479081353838783, 0.9783074903872101, 0.0019920702786235915, 0.0019760899061992895, 0.0019763744999877417, 0.0019745375764440957, 0.0019702341734005304, 0.0019691992868970678, 0.0019668017998307127, 0.0019668017998307127, 0.0019668017998307127, 0.0019668017998307127, 0.0019668017998307127, 0.9976139424339987, 0.00021912049758626289, 0.00021736271464315997, 0.00021735133126738165, 0.00021719196400648509, 0.00021672145114098103, 0.0002166047715392532, 0.00021634105666705535, 0.00021634105666705535, 0.00021634105666705535, 0.00021634105666705535, 0.00021634105666705535, 0.9999317486942019, 6.267796726235244e-06, 6.217489592492197e-06, 6.217163979976061e-06, 6.2126325391264985e-06, 6.199065350954155e-06, 6.195836360169138e-06, 6.188265869168971e-06, 6.188265869168971e-06, 6.188265869168971e-06, 6.188265869168971e-06, 6.188265869168971e-06, 0.980639064634414, 0.0017779498759445992, 0.001764110515466014, 0.0017635948107095818, 0.0017623017002755426, 0.0017584608544030098, 0.0017575449011788986, 0.0017553974142080838, 0.0017553974142080838, 0.0017553974142080838, 0.0017553974142080838, 0.0017553974142080838, 0.9999184140808096, 7.4923680225637435e-06, 7.432264564222031e-06, 7.431842899376676e-06, 7.4263936921444e-06, 7.410208249234246e-06, 7.406348394111384e-06, 7.397298817814925e-06, 7.397298817814925e-06, 7.397298817814925e-06, 7.397298817814925e-06, 7.397298817814925e-06, 0.9999214210513343, 7.2162260795718894e-06, 7.158306579887806e-06, 7.157931696394705e-06, 7.152714567782384e-06, 7.137094422236515e-06, 7.1333768275965976e-06, 7.124660786382003e-06, 7.124660786382003e-06, 7.124660786382003e-06, 7.124660786382003e-06, 7.124660786382003e-06, 0.9873027036490818, 0.0011660407719812323, 0.001156686801893864, 0.0011566262257249225, 0.001155778159359743, 0.0011532592003345961, 0.0011526584866592606, 0.0011512500907313729, 0.0011512500907313729, 0.0011512500907313729, 0.0011512500907313729, 0.0011512500907313729, 0.9999138723777498, 7.909453528945984e-06, 7.845969986978263e-06, 7.845559090266498e-06, 7.839840777694432e-06, 7.822720081370883e-06, 7.818645355645878e-06, 7.809092007097337e-06, 7.809092007097337e-06, 7.809092007097337e-06, 7.809092007097337e-06, 7.809092007097337e-06, 0.9992349046950396, 7.026159636718241e-05, 6.969795838255801e-05, 6.969430827148652e-05, 6.964320671648549e-05, 6.949142293109554e-05, 6.945522599630315e-05, 6.937036091389073e-05, 6.937036091389073e-05, 6.937036091389073e-05, 6.937036091389073e-05, 6.937036091389073e-05], \"Topic\": [1, 2, 3, 4, 5, 6, 7, 8, 9, 10, 11, 12, 1, 2, 3, 4, 5, 6, 7, 8, 9, 10, 11, 12, 1, 2, 3, 4, 5, 6, 7, 8, 9, 10, 11, 12, 1, 2, 3, 4, 5, 6, 7, 8, 9, 10, 11, 12, 1, 2, 3, 4, 5, 6, 7, 8, 9, 10, 11, 12, 1, 2, 3, 4, 5, 6, 7, 8, 9, 10, 11, 12, 1, 2, 3, 4, 5, 6, 7, 8, 9, 10, 11, 12, 1, 2, 3, 4, 5, 6, 7, 8, 9, 10, 11, 12, 1, 2, 3, 4, 5, 6, 7, 8, 9, 10, 11, 12, 1, 2, 3, 4, 5, 6, 7, 8, 9, 10, 11, 12, 1, 2, 3, 4, 5, 6, 7, 8, 9, 10, 11, 12, 1, 2, 3, 4, 5, 6, 7, 8, 9, 10, 11, 12, 1, 2, 3, 4, 5, 6, 7, 8, 9, 10, 11, 12, 1, 2, 3, 4, 5, 6, 7, 8, 9, 10, 11, 12, 1, 2, 3, 4, 5, 6, 7, 8, 9, 10, 11, 12, 1, 2, 3, 4, 5, 6, 7, 8, 9, 10, 11, 12, 1, 2, 3, 4, 5, 6, 7, 8, 9, 10, 11, 12, 1, 2, 3, 4, 5, 6, 7, 8, 9, 10, 11, 12, 1, 2, 3, 4, 5, 6, 7, 8, 9, 10, 11, 12, 1, 2, 3, 4, 5, 6, 7, 8, 9, 10, 11, 12, 1, 2, 3, 4, 5, 6, 7, 8, 9, 10, 11, 12, 1, 2, 3, 4, 5, 6, 7, 8, 9, 10, 11, 12, 1, 2, 3, 4, 5, 6, 7, 8, 9, 10, 11, 12, 1, 2, 3, 4, 5, 6, 7, 8, 9, 10, 11, 12, 1, 2, 3, 4, 5, 6, 7, 8, 9, 10, 11, 12, 1, 2, 3, 4, 5, 6, 7, 8, 9, 10, 11, 12, 1, 2, 3, 4, 5, 6, 7, 8, 9, 10, 11, 12, 1, 2, 3, 4, 5, 6, 7, 8, 9, 10, 11, 12, 1, 2, 3, 4, 5, 6, 7, 8, 9, 10, 11, 12, 1, 2, 3, 4, 5, 6, 7, 8, 9, 10, 11, 12, 1, 2, 3, 4, 5, 6, 7, 8, 9, 10, 11, 12, 1, 2, 3, 4, 5, 6, 7, 8, 9, 10, 11, 12, 1, 2, 3, 4, 5, 6, 7, 8, 9, 10, 11, 12, 1, 2, 3, 4, 5, 6, 7, 8, 9, 10, 11, 12, 1, 2, 3, 4, 5, 6, 7, 8, 9, 10, 11, 12, 1, 2, 3, 4, 5, 6, 7, 8, 9, 10, 11, 12, 1, 2, 3, 4, 5, 6, 7, 8, 9, 10, 11, 12, 1, 2, 3, 4, 5, 6, 7, 8, 9, 10, 11, 12, 1, 2, 3, 4, 5, 6, 7, 8, 9, 10, 11, 12, 1, 2, 3, 4, 5, 6, 7, 8, 9, 10, 11, 12, 1, 2, 3, 4, 5, 6, 7, 8, 9, 10, 11, 12, 1, 2, 3, 4, 5, 6, 7, 8, 9, 10, 11, 12, 1, 2, 3, 4, 5, 6, 7, 8, 9, 10, 11, 12, 1, 2, 3, 4, 5, 6, 7, 8, 9, 10, 11, 12, 1, 2, 3, 4, 5, 6, 7, 8, 9, 10, 11, 12, 1, 2, 3, 4, 5, 6, 7, 8, 9, 10, 11, 12, 1, 2, 3, 4, 5, 6, 7, 8, 9, 10, 11, 12, 1, 2, 3, 4, 5, 6, 7, 8, 9, 10, 11, 12, 1, 2, 3, 4, 5, 6, 7, 8, 9, 10, 11, 12, 1, 2, 3, 4, 5, 6, 7, 8, 9, 10, 11, 12, 1, 2, 3, 4, 5, 6, 7, 8, 9, 10, 11, 12, 1, 2, 3, 4, 5, 6, 7, 8, 9, 10, 11, 12, 1, 2, 3, 4, 5, 6, 7, 8, 9, 10, 11, 12, 1, 2, 3, 4, 5, 6, 7, 8, 9, 10, 11, 12, 1, 2, 3, 4, 5, 6, 7, 8, 9, 10, 11, 12, 1, 2, 3, 4, 5, 6, 7, 8, 9, 10, 11, 12, 1, 2, 3, 4, 5, 6, 7, 8, 9, 10, 11, 12, 1, 2, 3, 4, 5, 6, 7, 8, 9, 10, 11, 12, 1, 2, 3, 4, 5, 6, 7, 8, 9, 10, 11, 12, 1, 2, 3, 4, 5, 6, 7, 8, 9, 10, 11, 12, 1, 2, 3, 4, 5, 6, 7, 8, 9, 10, 11, 12, 1, 2, 3, 4, 5, 6, 7, 8, 9, 10, 11, 12, 1, 2, 3, 4, 5, 6, 7, 8, 9, 10, 11, 12, 1, 2, 3, 4, 5, 6, 7, 8, 9, 10, 11, 12, 1, 2, 3, 4, 5, 6, 7, 8, 9, 10, 11, 12, 1, 2, 3, 4, 5, 6, 7, 8, 9, 10, 11, 12, 1, 2, 3, 4, 5, 6, 7, 8, 9, 10, 11, 12, 1, 2, 3, 4, 5, 6, 7, 8, 9, 10, 11, 12, 1, 2, 3, 4, 5, 6, 7, 8, 9, 10, 11, 12, 1, 2, 3, 4, 5, 6, 7, 8, 9, 10, 11, 12, 1, 2, 3, 4, 5, 6, 7, 8, 9, 10, 11, 12, 1, 2, 3, 4, 5, 6, 7, 8, 9, 10, 11, 12, 1, 2, 3, 4, 5, 6, 7, 8, 9, 10, 11, 12, 1, 2, 3, 4, 5, 6, 7, 8, 9, 10, 11, 12, 1, 2, 3, 4, 5, 6, 7, 8, 9, 10, 11, 12, 1, 2, 3, 4, 5, 6, 7, 8, 9, 10, 11, 12, 1, 2, 3, 4, 5, 6, 7, 8, 9, 10, 11, 12, 1, 2, 3, 4, 5, 6, 7, 8, 9, 10, 11, 12, 1, 2, 3, 4, 5, 6, 7, 8, 9, 10, 11, 12, 1, 2, 3, 4, 5, 6, 7, 8, 9, 10, 11, 12, 1, 2, 3, 4, 5, 6, 7, 8, 9, 10, 11, 12, 1, 2, 3, 4, 5, 6, 7, 8, 9, 10, 11, 12, 1, 2, 3, 4, 5, 6, 7, 8, 9, 10, 11, 12, 1, 2, 3, 4, 5, 6, 7, 8, 9, 10, 11, 12, 1, 2, 3, 4, 5, 6, 7, 8, 9, 10, 11, 12, 1, 2, 3, 4, 5, 6, 7, 8, 9, 10, 11, 12, 1, 2, 3, 4, 5, 6, 7, 8, 9, 10, 11, 12, 1, 2, 3, 4, 5, 6, 7, 8, 9, 10, 11, 12, 1, 2, 3, 4, 5, 6, 7, 8, 9, 10, 11, 12, 1, 2, 3, 4, 5, 6, 7, 8, 9, 10, 11, 12, 1, 2, 3, 4, 5, 6, 7, 8, 9, 10, 11, 12, 1, 2, 3, 4, 5, 6, 7, 8, 9, 10, 11, 12, 1, 2, 3, 4, 5, 6, 7, 8, 9, 10, 11, 12, 1, 2, 3, 4, 5, 6, 7, 8, 9, 10, 11, 12, 1, 2, 3, 4, 5, 6, 7, 8, 9, 10, 11, 12, 1, 2, 3, 4, 5, 6, 7, 8, 9, 10, 11, 12, 1, 2, 3, 4, 5, 6, 7, 8, 9, 10, 11, 12, 1, 2, 3, 4, 5, 6, 7, 8, 9, 10, 11, 12, 1, 2, 3, 4, 5, 6, 7, 8, 9, 10, 11, 12, 1, 2, 3, 4, 5, 6, 7, 8, 9, 10, 11, 12, 1, 2, 3, 4, 5, 6, 7, 8, 9, 10, 11, 12, 1, 2, 3, 4, 5, 6, 7, 8, 9, 10, 11, 12, 1, 2, 3, 4, 5, 6, 7, 8, 9, 10, 11, 12, 1, 2, 3, 4, 5, 6, 7, 8, 9, 10, 11, 12, 1, 2, 3, 4, 5, 6, 7, 8, 9, 10, 11, 12, 1, 2, 3, 4, 5, 6, 7, 8, 9, 10, 11, 12, 1, 2, 3, 4, 5, 6, 7, 8, 9, 10, 11, 12, 1, 2, 3, 4, 5, 6, 7, 8, 9, 10, 11, 12, 1, 2, 3, 4, 5, 6, 7, 8, 9, 10, 11, 12, 1, 2, 3, 4, 5, 6, 7, 8, 9, 10, 11, 12, 1, 2, 3, 4, 5, 6, 7, 8, 9, 10, 11, 12, 1, 2, 3, 4, 5, 6, 7, 8, 9, 10, 11, 12, 1, 2, 3, 4, 5, 6, 7, 8, 9, 10, 11, 12, 1, 2, 3, 4, 5, 6, 7, 8, 9, 10, 11, 12, 1, 2, 3, 4, 5, 6, 7, 8, 9, 10, 11, 12, 1, 2, 3, 4, 5, 6, 7, 8, 9, 10, 11, 12, 1, 2, 3, 4, 5, 6, 7, 8, 9, 10, 11, 12, 1, 2, 3, 4, 5, 6, 7, 8, 9, 10, 11, 12, 1, 2, 3, 4, 5, 6, 7, 8, 9, 10, 11, 12, 1, 2, 3, 4, 5, 6, 7, 8, 9, 10, 11, 12, 1, 2, 3, 4, 5, 6, 7, 8, 9, 10, 11, 12, 1, 2, 3, 4, 5, 6, 7, 8, 9, 10, 11, 12, 1, 2, 3, 4, 5, 6, 7, 8, 9, 10, 11, 12, 1, 2, 3, 4, 5, 6, 7, 8, 9, 10, 11, 12, 1, 2, 3, 4, 5, 6, 7, 8, 9, 10, 11, 12, 1, 2, 3, 4, 5, 6, 7, 8, 9, 10, 11, 12, 1, 2, 3, 4, 5, 6, 7, 8, 9, 10, 11, 12, 1, 2, 3, 4, 5, 6, 7, 8, 9, 10, 11, 12, 1, 2, 3, 4, 5, 6, 7, 8, 9, 10, 11, 12, 1, 2, 3, 4, 5, 6, 7, 8, 9, 10, 11, 12, 1, 2, 3, 4, 5, 6, 7, 8, 9, 10, 11, 12, 1, 2, 3, 4, 5, 6, 7, 8, 9, 10, 11, 12, 1, 2, 3, 4, 5, 6, 7, 8, 9, 10, 11, 12, 1, 2, 3, 4, 5, 6, 7, 8, 9, 10, 11, 12, 1, 2, 3, 4, 5, 6, 7, 8, 9, 10, 11, 12, 1, 2, 3, 4, 5, 6, 7, 8, 9, 10, 11, 12, 1, 2, 3, 4, 5, 6, 7, 8, 9, 10, 11, 12, 1, 2, 3, 4, 5, 6, 7, 8, 9, 10, 11, 12, 1, 2, 3, 4, 5, 6, 7, 8, 9, 10, 11, 12, 1, 2, 3, 4, 5, 6, 7, 8, 9, 10, 11, 12, 1, 2, 3, 4, 5, 6, 7, 8, 9, 10, 11, 12, 1, 2, 3, 4, 5, 6, 7, 8, 9, 10, 11, 12, 1, 2, 3, 4, 5, 6, 7, 8, 9, 10, 11, 12, 1, 2, 3, 4, 5, 6, 7, 8, 9, 10, 11, 12, 1, 2, 3, 4, 5, 6, 7, 8, 9, 10, 11, 12, 1, 2, 3, 4, 5, 6, 7, 8, 9, 10, 11, 12, 1, 2, 3, 4, 5, 6, 7, 8, 9, 10, 11, 12, 1, 2, 3, 4, 5, 6, 7, 8, 9, 10, 11, 12, 1, 2, 3, 4, 5, 6, 7, 8, 9, 10, 11, 12, 1, 2, 3, 4, 5, 6, 7, 8, 9, 10, 11, 12, 1, 2, 3, 4, 5, 6, 7, 8, 9, 10, 11, 12, 1, 2, 3, 4, 5, 6, 7, 8, 9, 10, 11, 12, 1, 2, 3, 4, 5, 6, 7, 8, 9, 10, 11, 12, 1, 2, 3, 4, 5, 6, 7, 8, 9, 10, 11, 12, 1, 2, 3, 4, 5, 6, 7, 8, 9, 10, 11, 12, 1, 2, 3, 4, 5, 6, 7, 8, 9, 10, 11, 12, 1, 2, 3, 4, 5, 6, 7, 8, 9, 10, 11, 12, 1, 2, 3, 4, 5, 6, 7, 8, 9, 10, 11, 12, 1, 2, 3, 4, 5, 6, 7, 8, 9, 10, 11, 12, 1, 2, 3, 4, 5, 6, 7, 8, 9, 10, 11, 12, 1, 2, 3, 4, 5, 6, 7, 8, 9, 10, 11, 12, 1, 2, 3, 4, 5, 6, 7, 8, 9, 10, 11, 12, 1, 2, 3, 4, 5, 6, 7, 8, 9, 10, 11, 12, 1, 2, 3, 4, 5, 6, 7, 8, 9, 10, 11, 12, 1, 2, 3, 4, 5, 6, 7, 8, 9, 10, 11, 12, 1, 2, 3, 4, 5, 6, 7, 8, 9, 10, 11, 12, 1, 2, 3, 4, 5, 6, 7, 8, 9, 10, 11, 12, 1, 2, 3, 4, 5, 6, 7, 8, 9, 10, 11, 12, 1, 2, 3, 4, 5, 6, 7, 8, 9, 10, 11, 12, 1, 2, 3, 4, 5, 6, 7, 8, 9, 10, 11, 12, 1, 2, 3, 4, 5, 6, 7, 8, 9, 10, 11, 12, 1, 2, 3, 4, 5, 6, 7, 8, 9, 10, 11, 12, 1, 2, 3, 4, 5, 6, 7, 8, 9, 10, 11, 12, 1, 2, 3, 4, 5, 6, 7, 8, 9, 10, 11, 12, 1, 2, 3, 4, 5, 6, 7, 8, 9, 10, 11, 12, 1, 2, 3, 4, 5, 6, 7, 8, 9, 10, 11, 12, 1, 2, 3, 4, 5, 6, 7, 8, 9, 10, 11, 12, 1, 2, 3, 4, 5, 6, 7, 8, 9, 10, 11, 12, 1, 2, 3, 4, 5, 6, 7, 8, 9, 10, 11, 12, 1, 2, 3, 4, 5, 6, 7, 8, 9, 10, 11, 12, 1, 2, 3, 4, 5, 6, 7, 8, 9, 10, 11, 12, 1, 2, 3, 4, 5, 6, 7, 8, 9, 10, 11, 12, 1, 2, 3, 4, 5, 6, 7, 8, 9, 10, 11, 12, 1, 2, 3, 4, 5, 6, 7, 8, 9, 10, 11, 12, 1, 2, 3, 4, 5, 6, 7, 8, 9, 10, 11, 12, 1, 2, 3, 4, 5, 6, 7, 8, 9, 10, 11, 12, 1, 2, 3, 4, 5, 6, 7, 8, 9, 10, 11, 12, 1, 2, 3, 4, 5, 6, 7, 8, 9, 10, 11, 12, 1, 2, 3, 4, 5, 6, 7, 8, 9, 10, 11, 12, 1, 2, 3, 4, 5, 6, 7, 8, 9, 10, 11, 12, 1, 2, 3, 4, 5, 6, 7, 8, 9, 10, 11, 12, 1, 2, 3, 4, 5, 6, 7, 8, 9, 10, 11, 12, 1, 2, 3, 4, 5, 6, 7, 8, 9, 10, 11, 12, 1, 2, 3, 4, 5, 6, 7, 8, 9, 10, 11, 12, 1, 2, 3, 4, 5, 6, 7, 8, 9, 10, 11, 12, 1, 2, 3, 4, 5, 6, 7, 8, 9, 10, 11, 12, 1, 2, 3, 4, 5, 6, 7, 8, 9, 10, 11, 12, 1, 2, 3, 4, 5, 6, 7, 8, 9, 10, 11, 12, 1, 2, 3, 4, 5, 6, 7, 8, 9, 10, 11, 12, 1, 2, 3, 4, 5, 6, 7, 8, 9, 10, 11, 12, 1, 2, 3, 4, 5, 6, 7, 8, 9, 10, 11, 12, 1, 2, 3, 4, 5, 6, 7, 8, 9, 10, 11, 12, 1, 2, 3, 4, 5, 6, 7, 8, 9, 10, 11, 12, 1, 2, 3, 4, 5, 6, 7, 8, 9, 10, 11, 12, 1, 2, 3, 4, 5, 6, 7, 8, 9, 10, 11, 12, 1, 2, 3, 4, 5, 6, 7, 8, 9, 10, 11, 12, 1, 2, 3, 4, 5, 6, 7, 8, 9, 10, 11, 12, 1, 2, 3, 4, 5, 6, 7, 8, 9, 10, 11, 12, 1, 2, 3, 4, 5, 6, 7, 8, 9, 10, 11, 12, 1, 2, 3, 4, 5, 6, 7, 8, 9, 10, 11, 12, 1, 2, 3, 4, 5, 6, 7, 8, 9, 10, 11, 12, 1, 2, 3, 4, 5, 6, 7, 8, 9, 10, 11, 12, 1, 2, 3, 4, 5, 6, 7, 8, 9, 10, 11, 12, 1, 2, 3, 4, 5, 6, 7, 8, 9, 10, 11, 12, 1, 2, 3, 4, 5, 6, 7, 8, 9, 10, 11, 12, 1, 2, 3, 4, 5, 6, 7, 8, 9, 10, 11, 12, 1, 2, 3, 4, 5, 6, 7, 8, 9, 10, 11, 12, 1, 2, 3, 4, 5, 6, 7, 8, 9, 10, 11, 12, 1, 2, 3, 4, 5, 6, 7, 8, 9, 10, 11, 12, 1, 2, 3, 4, 5, 6, 7, 8, 9, 10, 11, 12, 1, 2, 3, 4, 5, 6, 7, 8, 9, 10, 11, 12, 1, 2, 3, 4, 5, 6, 7, 8, 9, 10, 11, 12, 1, 2, 3, 4, 5, 6, 7, 8, 9, 10, 11, 12, 1, 2, 3, 4, 5, 6, 7, 8, 9, 10, 11, 12, 1, 2, 3, 4, 5, 6, 7, 8, 9, 10, 11, 12, 1, 2, 3, 4, 5, 6, 7, 8, 9, 10, 11, 12, 1, 2, 3, 4, 5, 6, 7, 8, 9, 10, 11, 12, 1, 2, 3, 4, 5, 6, 7, 8, 9, 10, 11, 12, 1, 2, 3, 4, 5, 6, 7, 8, 9, 10, 11, 12, 1, 2, 3, 4, 5, 6, 7, 8, 9, 10, 11, 12, 1, 2, 3, 4, 5, 6, 7, 8, 9, 10, 11, 12, 1, 2, 3, 4, 5, 6, 7, 8, 9, 10, 11, 12, 1, 2, 3, 4, 5, 6, 7, 8, 9, 10, 11, 12, 1, 2, 3, 4, 5, 6, 7, 8, 9, 10, 11, 12, 1, 2, 3, 4, 5, 6, 7, 8, 9, 10, 11, 12, 1, 2, 3, 4, 5, 6, 7, 8, 9, 10, 11, 12, 1, 2, 3, 4, 5, 6, 7, 8, 9, 10, 11, 12, 1, 2, 3, 4, 5, 6, 7, 8, 9, 10, 11, 12, 1, 2, 3, 4, 5, 6, 7, 8, 9, 10, 11, 12, 1, 2, 3, 4, 5, 6, 7, 8, 9, 10, 11, 12, 1, 2, 3, 4, 5, 6, 7, 8, 9, 10, 11, 12, 1, 2, 3, 4, 5, 6, 7, 8, 9, 10, 11, 12, 1, 2, 3, 4, 5, 6, 7, 8, 9, 10, 11, 12, 1, 2, 3, 4, 5, 6, 7, 8, 9, 10, 11, 12, 1, 2, 3, 4, 5, 6, 7, 8, 9, 10, 11, 12, 1, 2, 3, 4, 5, 6, 7, 8, 9, 10, 11, 12, 1, 2, 3, 4, 5, 6, 7, 8, 9, 10, 11, 12, 1, 2, 3, 4, 5, 6, 7, 8, 9, 10, 11, 12, 1, 2, 3, 4, 5, 6, 7, 8, 9, 10, 11, 12, 1, 2, 3, 4, 5, 6, 7, 8, 9, 10, 11, 12, 1, 2, 3, 4, 5, 6, 7, 8, 9, 10, 11, 12, 1, 2, 3, 4, 5, 6, 7, 8, 9, 10, 11, 12, 1, 2, 3, 4, 5, 6, 7, 8, 9, 10, 11, 12, 1, 2, 3, 4, 5, 6, 7, 8, 9, 10, 11, 12, 1, 2, 3, 4, 5, 6, 7, 8, 9, 10, 11, 12, 1, 2, 3, 4, 5, 6, 7, 8, 9, 10, 11, 12, 1, 2, 3, 4, 5, 6, 7, 8, 9, 10, 11, 12, 1, 2, 3, 4, 5, 6, 7, 8, 9, 10, 11, 12, 1, 2, 3, 4, 5, 6, 7, 8, 9, 10, 11, 12, 1, 2, 3, 4, 5, 6, 7, 8, 9, 10, 11, 12, 1, 2, 3, 4, 5, 6, 7, 8, 9, 10, 11, 12, 1, 2, 3, 4, 5, 6, 7, 8, 9, 10, 11, 12, 1, 2, 3, 4, 5, 6, 7, 8, 9, 10, 11, 12, 1, 2, 3, 4, 5, 6, 7, 8, 9, 10, 11, 12, 1, 2, 3, 4, 5, 6, 7, 8, 9, 10, 11, 12, 1, 2, 3, 4, 5, 6, 7, 8, 9, 10, 11, 12, 1, 2, 3, 4, 5, 6, 7, 8, 9, 10, 11, 12, 1, 2, 3, 4, 5, 6, 7, 8, 9, 10, 11, 12, 1, 2, 3, 4, 5, 6, 7, 8, 9, 10, 11, 12, 1, 2, 3, 4, 5, 6, 7, 8, 9, 10, 11, 12, 1, 2, 3, 4, 5, 6, 7, 8, 9, 10, 11, 12, 1, 2, 3, 4, 5, 6, 7, 8, 9, 10, 11, 12, 1, 2, 3, 4, 5, 6, 7, 8, 9, 10, 11, 12, 1, 2, 3, 4, 5, 6, 7, 8, 9, 10, 11, 12, 1, 2, 3, 4, 5, 6, 7, 8, 9, 10, 11, 12, 1, 2, 3, 4, 5, 6, 7, 8, 9, 10, 11, 12, 1, 2, 3, 4, 5, 6, 7, 8, 9, 10, 11, 12, 1, 2, 3, 4, 5, 6, 7, 8, 9, 10, 11, 12, 1, 2, 3, 4, 5, 6, 7, 8, 9, 10, 11, 12, 1, 2, 3, 4, 5, 6, 7, 8, 9, 10, 11, 12, 1, 2, 3, 4, 5, 6, 7, 8, 9, 10, 11, 12, 1, 2, 3, 4, 5, 6, 7, 8, 9, 10, 11, 12, 1, 2, 3, 4, 5, 6, 7, 8, 9, 10, 11, 12, 1, 2, 3, 4, 5, 6, 7, 8, 9, 10, 11, 12, 1, 2, 3, 4, 5, 6, 7, 8, 9, 10, 11, 12, 1, 2, 3, 4, 5, 6, 7, 8, 9, 10, 11, 12, 1, 2, 3, 4, 5, 6, 7, 8, 9, 10, 11, 12, 1, 2, 3, 4, 5, 6, 7, 8, 9, 10, 11, 12, 1, 2, 3, 4, 5, 6, 7, 8, 9, 10, 11, 12, 1, 2, 3, 4, 5, 6, 7, 8, 9, 10, 11, 12, 1, 2, 3, 4, 5, 6, 7, 8, 9, 10, 11, 12, 1, 2, 3, 4, 5, 6, 7, 8, 9, 10, 11, 12, 1, 2, 3, 4, 5, 6, 7, 8, 9, 10, 11, 12, 1, 2, 3, 4, 5, 6, 7, 8, 9, 10, 11, 12, 1, 2, 3, 4, 5, 6, 7, 8, 9, 10, 11, 12, 1, 2, 3, 4, 5, 6, 7, 8, 9, 10, 11, 12, 1, 2, 3, 4, 5, 6, 7, 8, 9, 10, 11, 12, 1, 2, 3, 4, 5, 6, 7, 8, 9, 10, 11, 12, 1, 2, 3, 4, 5, 6, 7, 8, 9, 10, 11, 12, 1, 2, 3, 4, 5, 6, 7, 8, 9, 10, 11, 12, 1, 2, 3, 4, 5, 6, 7, 8, 9, 10, 11, 12, 1, 2, 3, 4, 5, 6, 7, 8, 9, 10, 11, 12, 1, 2, 3, 4, 5, 6, 7, 8, 9, 10, 11, 12, 1, 2, 3, 4, 5, 6, 7, 8, 9, 10, 11, 12, 1, 2, 3, 4, 5, 6, 7, 8, 9, 10, 11, 12, 1, 2, 3, 4, 5, 6, 7, 8, 9, 10, 11, 12, 1, 2, 3, 4, 5, 6, 7, 8, 9, 10, 11, 12, 1, 2, 3, 4, 5, 6, 7, 8, 9, 10, 11, 12, 1, 2, 3, 4, 5, 6, 7, 8, 9, 10, 11, 12, 1, 2, 3, 4, 5, 6, 7, 8, 9, 10, 11, 12, 1, 2, 3, 4, 5, 6, 7, 8, 9, 10, 11, 12, 1, 2, 3, 4, 5, 6, 7, 8, 9, 10, 11, 12, 1, 2, 3, 4, 5, 6, 7, 8, 9, 10, 11, 12, 1, 2, 3, 4, 5, 6, 7, 8, 9, 10, 11, 12, 1, 2, 3, 4, 5, 6, 7, 8, 9, 10, 11, 12, 1, 2, 3, 4, 5, 6, 7, 8, 9, 10, 11, 12, 1, 2, 3, 4, 5, 6, 7, 8, 9, 10, 11, 12, 1, 2, 3, 4, 5, 6, 7, 8, 9, 10, 11, 12, 1, 2, 3, 4, 5, 6, 7, 8, 9, 10, 11, 12, 1, 2, 3, 4, 5, 6, 7, 8, 9, 10, 11, 12, 1, 2, 3, 4, 5, 6, 7, 8, 9, 10, 11, 12, 1, 2, 3, 4, 5, 6, 7, 8, 9, 10, 11, 12, 1, 2, 3, 4, 5, 6, 7, 8, 9, 10, 11, 12, 1, 2, 3, 4, 5, 6, 7, 8, 9, 10, 11, 12, 1, 2, 3, 4, 5, 6, 7, 8, 9, 10, 11, 12, 1, 2, 3, 4, 5, 6, 7, 8, 9, 10, 11, 12, 1, 2, 3, 4, 5, 6, 7, 8, 9, 10, 11, 12, 1, 2, 3, 4, 5, 6, 7, 8, 9, 10, 11, 12, 1, 2, 3, 4, 5, 6, 7, 8, 9, 10, 11, 12, 1, 2, 3, 4, 5, 6, 7, 8, 9, 10, 11, 12, 1, 2, 3, 4, 5, 6, 7, 8, 9, 10, 11, 12, 1, 2, 3, 4, 5, 6, 7, 8, 9, 10, 11, 12, 1, 2, 3, 4, 5, 6, 7, 8, 9, 10, 11, 12, 1, 2, 3, 4, 5, 6, 7, 8, 9, 10, 11, 12, 1, 2, 3, 4, 5, 6, 7, 8, 9, 10, 11, 12, 1, 2, 3, 4, 5, 6, 7, 8, 9, 10, 11, 12, 1, 2, 3, 4, 5, 6, 7, 8, 9, 10, 11, 12, 1, 2, 3, 4, 5, 6, 7, 8, 9, 10, 11, 12, 1, 2, 3, 4, 5, 6, 7, 8, 9, 10, 11, 12, 1, 2, 3, 4, 5, 6, 7, 8, 9, 10, 11, 12, 1, 2, 3, 4, 5, 6, 7, 8, 9, 10, 11, 12, 1, 2, 3, 4, 5, 6, 7, 8, 9, 10, 11, 12, 1, 2, 3, 4, 5, 6, 7, 8, 9, 10, 11, 12, 1, 2, 3, 4, 5, 6, 7, 8, 9, 10, 11, 12, 1, 2, 3, 4, 5, 6, 7, 8, 9, 10, 11, 12, 1, 2, 3, 4, 5, 6, 7, 8, 9, 10, 11, 12, 1, 2, 3, 4, 5, 6, 7, 8, 9, 10, 11, 12, 1, 2, 3, 4, 5, 6, 7, 8, 9, 10, 11, 12, 1, 2, 3, 4, 5, 6, 7, 8, 9, 10, 11, 12, 1, 2, 3, 4, 5, 6, 7, 8, 9, 10, 11, 12, 1, 2, 3, 4, 5, 6, 7, 8, 9, 10, 11, 12, 1, 2, 3, 4, 5, 6, 7, 8, 9, 10, 11, 12, 1, 2, 3, 4, 5, 6, 7, 8, 9, 10, 11, 12, 1, 2, 3, 4, 5, 6, 7, 8, 9, 10, 11, 12, 1, 2, 3, 4, 5, 6, 7, 8, 9, 10, 11, 12, 1, 2, 3, 4, 5, 6, 7, 8, 9, 10, 11, 12, 1, 2, 3, 4, 5, 6, 7, 8, 9, 10, 11, 12]}, \"R\": 30, \"mdsDat\": {\"y\": [4.270751201977446e-07, 0.0004472368038203617, -0.0005386692509244458, -0.0003234492013225236, -9.24823817776923e-05, -9.735526513971847e-06, 2.8328750856576368e-05, 9.76702908981007e-05, 9.767045792422964e-05, 9.76698487336456e-05, 9.766725711142195e-05, 9.766587606849251e-05], \"topics\": [1, 2, 3, 4, 5, 6, 7, 8, 9, 10, 11, 12], \"Freq\": [92.01308956170642, 0.7334681084097784, 0.7275857833809957, 0.727546683519773, 0.7270138916565703, 0.7254285358947383, 0.7250490257627303, 0.7241636819338009, 0.7241636819338007, 0.7241636819338007, 0.7241636819338003, 0.7241636819338003], \"cluster\": [1, 1, 1, 1, 1, 1, 1, 1, 1, 1, 1, 1], \"x\": [0.3516201095334095, -0.034202898379170815, -0.032659713294377495, -0.03247056102709802, -0.03201311709977107, -0.03176133091599704, -0.03162939707978595, -0.031376612207991116, -0.03137661152260802, -0.0313766139526478, -0.03137662427826625, -0.03137662977569611]}};\n",
       "\n",
       "function LDAvis_load_lib(url, callback){\n",
       "  var s = document.createElement('script');\n",
       "  s.src = url;\n",
       "  s.async = true;\n",
       "  s.onreadystatechange = s.onload = callback;\n",
       "  s.onerror = function(){console.warn(\"failed to load library \" + url);};\n",
       "  document.getElementsByTagName(\"head\")[0].appendChild(s);\n",
       "}\n",
       "\n",
       "if(typeof(LDAvis) !== \"undefined\"){\n",
       "   // already loaded: just create the visualization\n",
       "   !function(LDAvis){\n",
       "       new LDAvis(\"#\" + \"ldavis_el3331070190322729862543026\", ldavis_el3331070190322729862543026_data);\n",
       "   }(LDAvis);\n",
       "}else if(typeof define === \"function\" && define.amd){\n",
       "   // require.js is available: use it to load d3/LDAvis\n",
       "   require.config({paths: {d3: \"https://cdnjs.cloudflare.com/ajax/libs/d3/3.5.5/d3.min\"}});\n",
       "   require([\"d3\"], function(d3){\n",
       "      window.d3 = d3;\n",
       "      LDAvis_load_lib(\"https://cdn.rawgit.com/bmabey/pyLDAvis/files/ldavis.v1.0.0.js\", function(){\n",
       "        new LDAvis(\"#\" + \"ldavis_el3331070190322729862543026\", ldavis_el3331070190322729862543026_data);\n",
       "      });\n",
       "    });\n",
       "}else{\n",
       "    // require.js not available: dynamically load d3 & LDAvis\n",
       "    LDAvis_load_lib(\"https://cdnjs.cloudflare.com/ajax/libs/d3/3.5.5/d3.min.js\", function(){\n",
       "         LDAvis_load_lib(\"https://cdn.rawgit.com/bmabey/pyLDAvis/files/ldavis.v1.0.0.js\", function(){\n",
       "                 new LDAvis(\"#\" + \"ldavis_el3331070190322729862543026\", ldavis_el3331070190322729862543026_data);\n",
       "            })\n",
       "         });\n",
       "}\n",
       "</script>"
      ],
      "text/plain": [
       "<IPython.core.display.HTML object>"
      ]
     },
     "execution_count": 34,
     "metadata": {},
     "output_type": "execute_result"
    }
   ],
   "source": [
    "pyLDAvis.display(vis_data)"
   ]
  },
  {
   "cell_type": "code",
   "execution_count": 97,
   "metadata": {
    "collapsed": false
   },
   "outputs": [],
   "source": [
    "#model.topic_weights(doc_topic_matrix)"
   ]
  },
  {
   "cell_type": "code",
   "execution_count": 96,
   "metadata": {
    "collapsed": false
   },
   "outputs": [],
   "source": [
    "#model.termite_plot(doc_term_matrix, id2term,\n",
    "#                   topics=-1,  n_terms=109, sort_terms_by='seriation')"
   ]
  },
  {
   "cell_type": "code",
   "execution_count": 95,
   "metadata": {
    "collapsed": true
   },
   "outputs": [],
   "source": [
    "#%matplotlib inline"
   ]
  },
  {
   "cell_type": "code",
   "execution_count": 94,
   "metadata": {
    "collapsed": false
   },
   "outputs": [],
   "source": [
    "#for topic_idx, top_terms in model.top_topic_terms(id2term, top_n=20):\n",
    "#    print('topic', topic_idx, ':', ', '.join(top_terms))"
   ]
  },
  {
   "cell_type": "code",
   "execution_count": 58,
   "metadata": {
    "collapsed": false
   },
   "outputs": [],
   "source": [
    "\n",
    "model = textacy.tm.TopicModel('lda', n_topics=3)\n",
    "model.fit(doc_term_matrix)\n",
    "doc_topic_matrix = model.transform(doc_term_matrix)\n",
    "doc_topic_matrix.shape\n",
    "\n",
    "top_term_matrix = np.real(model.model.components_)\n",
    "doc_lengths = [len(d) for d in all_articles]\n",
    "vocab = list(id2term.values())\n",
    "term_frequency = textacy.vsm.get_term_freqs(doc_term_matrix)\n",
    "term_frequency = np.real(term_frequency)\n",
    "\n",
    "\n",
    "\n"
   ]
  },
  {
   "cell_type": "code",
   "execution_count": 59,
   "metadata": {
    "collapsed": true
   },
   "outputs": [],
   "source": [
    "vis_data = pyLDAvis.prepare(\n",
    "    np.real(top_term_matrix),\n",
    "    np.real(doc_topic_matrix),\n",
    "    np.real(doc_lengths),\n",
    "    vocab,\n",
    "    np.real(term_frequency),\n",
    ")"
   ]
  },
  {
   "cell_type": "code",
   "execution_count": 60,
   "metadata": {
    "collapsed": false
   },
   "outputs": [
    {
     "data": {
      "text/html": [
       "\n",
       "<link rel=\"stylesheet\" type=\"text/css\" href=\"https://cdn.rawgit.com/bmabey/pyLDAvis/files/ldavis.v1.0.0.css\">\n",
       "\n",
       "\n",
       "<div id=\"ldavis_el3331093220199604036438023\"></div>\n",
       "<script type=\"text/javascript\">\n",
       "\n",
       "var ldavis_el3331093220199604036438023_data = {\"topic.order\": [1, 2, 3], \"lambda.step\": 0.01, \"plot.opts\": {\"xlab\": \"PC1\", \"ylab\": \"PC2\"}, \"tinfo\": {\"Category\": [\"Default\", \"Default\", \"Default\", \"Default\", \"Default\", \"Default\", \"Default\", \"Default\", \"Default\", \"Default\", \"Default\", \"Default\", \"Default\", \"Default\", \"Default\", \"Default\", \"Default\", \"Default\", \"Default\", \"Default\", \"Default\", \"Default\", \"Default\", \"Default\", \"Default\", \"Default\", \"Default\", \"Default\", \"Default\", \"Default\", \"Topic1\", \"Topic1\", \"Topic1\", \"Topic1\", \"Topic1\", \"Topic1\", \"Topic1\", \"Topic1\", \"Topic1\", \"Topic1\", \"Topic1\", \"Topic1\", \"Topic1\", \"Topic1\", \"Topic1\", \"Topic1\", \"Topic1\", \"Topic1\", \"Topic1\", \"Topic1\", \"Topic1\", \"Topic1\", \"Topic1\", \"Topic1\", \"Topic1\", \"Topic1\", \"Topic1\", \"Topic1\", \"Topic1\", \"Topic1\", \"Topic2\", \"Topic2\", \"Topic2\", \"Topic2\", \"Topic2\", \"Topic2\", \"Topic2\", \"Topic2\", \"Topic2\", \"Topic2\", \"Topic2\", \"Topic2\", \"Topic2\", \"Topic2\", \"Topic2\", \"Topic2\", \"Topic2\", \"Topic2\", \"Topic2\", \"Topic2\", \"Topic2\", \"Topic2\", \"Topic2\", \"Topic2\", \"Topic2\", \"Topic2\", \"Topic2\", \"Topic2\", \"Topic2\", \"Topic2\", \"Topic2\", \"Topic2\", \"Topic2\", \"Topic2\", \"Topic2\", \"Topic2\", \"Topic2\", \"Topic2\", \"Topic2\", \"Topic2\", \"Topic2\", \"Topic2\", \"Topic2\", \"Topic2\", \"Topic2\", \"Topic2\", \"Topic2\", \"Topic2\", \"Topic2\", \"Topic2\", \"Topic2\", \"Topic2\", \"Topic2\", \"Topic2\", \"Topic2\", \"Topic2\", \"Topic2\", \"Topic2\", \"Topic2\", \"Topic2\", \"Topic2\", \"Topic2\", \"Topic2\", \"Topic2\", \"Topic2\", \"Topic2\", \"Topic2\", \"Topic2\", \"Topic2\", \"Topic2\", \"Topic2\", \"Topic2\", \"Topic2\", \"Topic2\", \"Topic2\", \"Topic2\", \"Topic2\", \"Topic2\", \"Topic2\", \"Topic2\", \"Topic2\", \"Topic2\", \"Topic2\", \"Topic2\", \"Topic2\", \"Topic2\", \"Topic2\", \"Topic2\", \"Topic2\", \"Topic2\", \"Topic2\", \"Topic2\", \"Topic2\", \"Topic2\", \"Topic2\", \"Topic3\", \"Topic3\", \"Topic3\", \"Topic3\", \"Topic3\", \"Topic3\", \"Topic3\", \"Topic3\", \"Topic3\", \"Topic3\", \"Topic3\", \"Topic3\", \"Topic3\", \"Topic3\", \"Topic3\", \"Topic3\", \"Topic3\", \"Topic3\", \"Topic3\", \"Topic3\", \"Topic3\", \"Topic3\", \"Topic3\", \"Topic3\", \"Topic3\", \"Topic3\", \"Topic3\", \"Topic3\", \"Topic3\", \"Topic3\", \"Topic3\", \"Topic3\", \"Topic3\", \"Topic3\", \"Topic3\", \"Topic3\", \"Topic3\", \"Topic3\", \"Topic3\", \"Topic3\", \"Topic3\", \"Topic3\", \"Topic3\", \"Topic3\", \"Topic3\", \"Topic3\", \"Topic3\", \"Topic3\", \"Topic3\", \"Topic3\", \"Topic3\", \"Topic3\", \"Topic3\", \"Topic3\", \"Topic3\", \"Topic3\", \"Topic3\", \"Topic3\", \"Topic3\", \"Topic3\", \"Topic3\", \"Topic3\", \"Topic3\", \"Topic3\", \"Topic3\", \"Topic3\", \"Topic3\", \"Topic3\", \"Topic3\", \"Topic3\", \"Topic3\", \"Topic3\", \"Topic3\", \"Topic3\", \"Topic3\", \"Topic3\", \"Topic3\", \"Topic3\", \"Topic3\", \"Topic3\", \"Topic3\", \"Topic3\", \"Topic3\", \"Topic3\", \"Topic3\", \"Topic3\", \"Topic3\", \"Topic3\", \"Topic3\", \"Topic3\", \"Topic3\", \"Topic3\", \"Topic3\", \"Topic3\", \"Topic3\"], \"Freq\": [103919539737.0, 74988720319.0, 61621230998.0, 55203609551.0, 52946292071.0, 49211165949.0, 44935439208.0, 43999229587.0, 40992587557.0, 40554881731.0, 40258488511.0, 40052515725.0, 39512285072.0, 38246963930.0, 37765113662.0, 36684745700.0, 36122113954.0, 33113017445.0, 32813792840.0, 32228477315.0, 31607812645.0, 31240082152.0, 31108401060.0, 30770368977.0, 30670199662.0, 30357117804.0, 29945928518.0, 29593447462.0, 29292210844.0, 29243363400.0, 103912012317.819, 74981194160.07487, 61613703657.66745, 55196083062.26626, 52938765551.18768, 49203639492.609505, 44927913183.78367, 43991702339.96979, 40985060669.605, 40547355110.33276, 40250961847.25452, 40044988574.64018, 39504758617.93945, 38239437348.02738, 37757586895.7418, 36677217769.92454, 36114587188.234985, 33105491088.87191, 32806265858.350807, 32220950986.252872, 31600285979.801556, 31232555162.510834, 31100874521.522614, 30762842089.798122, 30662673300.715843, 30349591476.804203, 29938401767.719536, 29585920966.7004, 29284683723.640408, 29235836176.497746, 3774925.745426898, 3769656.838189395, 3764019.1896229675, 3769447.1502556326, 3766779.1009623106, 3774573.4689040524, 3762226.1382913473, 3771485.8229755894, 3771491.0497539267, 3761066.0983116208, 3765004.8742132825, 3765995.640734993, 3769036.672576562, 3764753.8791162064, 3762178.7442382183, 3778647.0299485754, 3765695.971200726, 3766705.2783214753, 3771318.661665385, 3764595.0694230953, 3765775.2089553587, 3769860.1742457803, 3775198.391311657, 3769407.2148583843, 3772435.2951331753, 3762170.1524858233, 3767534.9510802412, 3763323.3006803235, 3765634.961797519, 3767242.6460979385, 3768441.438644051, 3780397.945298892, 3770318.70553087, 3775909.678254371, 3782856.3652950195, 3774710.5104560107, 3771814.1082321745, 3774652.074159989, 3774879.4807963306, 3779343.7071593935, 3781590.6523734387, 3775845.9102070793, 3771849.941183181, 3783931.62853685, 3783014.421339446, 3791385.30653092, 3779066.5273926854, 3783016.746506995, 3778000.6551433983, 3778796.0156339966, 3776355.6985344384, 3800392.6758683966, 3800392.586537014, 3800392.4436467956, 3789927.546006598, 3789927.4200154888, 3784562.330044661, 3784243.9757166537, 3781859.6698492053, 3781031.4758539866, 3796255.1195703414, 3781089.389220909, 3792308.1340348218, 3795933.246419908, 3784875.65347496, 3790436.7892536325, 3785658.4427404734, 3788840.182211518, 3781691.10585291, 3782207.5257772864, 3813817.964434098, 3811453.272533904, 3808204.355709481, 3805193.0732705407, 3803760.6970179807, 3803174.6288404097, 3800435.5669026827, 3798832.869933718, 3798829.7594227013, 3798726.9257204137, 3798375.018199388, 3797802.800097821, 3797534.458864145, 3797101.490092912, 3797072.9447497344, 3796367.5514487782, 3795910.701202641, 3795385.498216967, 3795182.335564742, 3795115.0562594635, 3794786.7477852134, 3794635.0582979675, 3794548.703307788, 3794152.420627692, 3793262.385013373, 3774925.8828142146, 3769656.330527429, 3764019.253977933, 3769447.181593935, 3766781.037959735, 3774574.949168891, 3762225.4625907256, 3771483.9623975367, 3771492.64338606, 3761068.098571896, 3765005.8300566794, 3765995.5604690216, 3769034.5191906067, 3764753.106564306, 3762178.775036185, 3778647.8789444026, 3765696.0248568747, 3766705.5362553718, 3771319.112518887, 3764594.9631184232, 3765776.0301995375, 3769859.4932673527, 3775199.417445462, 3769407.663704392, 3772435.2614421477, 3762168.9513208107, 3767535.8138337485, 3763323.7447038502, 3765635.8615558664, 3767241.0853768187, 3768440.856948498, 3780398.1946717342, 3770318.502720147, 3775909.9278273303, 3782856.087146165, 3774708.0396714187, 3771814.3999836333, 3774653.8416833417, 3774880.305895546, 3779344.2601632928, 3781590.935231714, 3775846.6934710722, 3771849.2004932165, 3783935.1122574825, 3783016.079918871, 3791386.167606713, 3779068.587101826, 3783013.0198419387, 3777998.9775080616, 3778796.7655465608, 3776356.2911372087, 3800387.7982371273, 3800387.601142189, 3800387.530774775, 3789930.720507047, 3789930.4997329335, 3784563.189941916, 3784246.8772566607, 3781858.812673196, 3781029.3626742153, 3796256.0846773945, 3781088.7274423973, 3792311.34088053, 3795933.91533581, 3784874.6063009617, 3790437.7442949894, 3785658.6298572905, 3788836.007894121, 3781690.435643583, 3782204.606151698, 3813802.3086146917, 3811451.0015573646, 3808201.4443263626, 3805177.166162057, 3803763.573989637, 3803174.6707602097, 3800437.0902968124, 3798835.0819872534, 3798829.7068738895, 3798730.5158512075, 3798377.6356472336, 3797797.8959344723, 3797534.909273315, 3797101.224745524, 3797074.619813502, 3796367.042287567, 3795907.3867304656, 3795385.801614085, 3795183.107034066, 3795114.603813198, 3794793.3622597866, 3794634.6022359184, 3794549.365573952, 3794152.948372901, 3793263.157886291], \"logprob\": [30.0, 29.0, 28.0, 27.0, 26.0, 25.0, 24.0, 23.0, 22.0, 21.0, 20.0, 19.0, 18.0, 17.0, 16.0, 15.0, 14.0, 13.0, 12.0, 11.0, 10.0, 9.0, 8.0, 7.0, 6.0, 5.0, 4.0, 3.0, 2.0, 1.0, 5.6779, 5.3516, 5.1552, 5.0452, 5.0035, 4.9303, 4.8394, 4.8184, 4.7476, 4.7368, 4.7295, 4.7244, 4.7108, 4.6782, 4.6655, 4.6365, 4.621, 4.534, 4.525, 4.507, 4.4875, 4.4758, 4.4716, 4.4607, 4.4574, 4.4471, 4.4335, 4.4216, 4.4114, 4.4097, -1.09, -1.0914, -1.0929, -1.0915, -1.0922, -1.0901, -1.0934, -1.0909, -1.0909, -1.0937, -1.0927, -1.0924, -1.0916, -1.0927, -1.0934, -1.0891, -1.0925, -1.0922, -1.091, -1.0928, -1.0925, -1.0914, -1.09, -1.0915, -1.0907, -1.0934, -1.092, -1.0931, -1.0925, -1.0921, -1.0918, -1.0886, -1.0913, -1.0898, -1.0879, -1.0901, -1.0909, -1.0901, -1.09, -1.0889, -1.0883, -1.0898, -1.0909, -1.0877, -1.0879, -1.0857, -1.0889, -1.0879, -1.0892, -1.089, -1.0897, -1.0833, -1.0833, -1.0833, -1.0861, -1.0861, -1.0875, -1.0876, -1.0882, -1.0884, -1.0844, -1.0884, -1.0854, -1.0845, -1.0874, -1.0859, -1.0872, -1.0864, -1.0882, -1.0881, -1.0798, -1.0804, -1.0813, -1.0821, -1.0824, -1.0826, -1.0833, -1.0837, -1.0837, -1.0838, -1.0838, -1.084, -1.0841, -1.0842, -1.0842, -1.0844, -1.0845, -1.0846, -1.0847, -1.0847, -1.0848, -1.0848, -1.0849, -1.085, -1.0852, -1.09, -1.0914, -1.0929, -1.0915, -1.0922, -1.0901, -1.0934, -1.0909, -1.0909, -1.0937, -1.0927, -1.0924, -1.0916, -1.0927, -1.0934, -1.0891, -1.0925, -1.0922, -1.091, -1.0928, -1.0925, -1.0914, -1.09, -1.0915, -1.0907, -1.0934, -1.092, -1.0931, -1.0925, -1.0921, -1.0918, -1.0886, -1.0913, -1.0898, -1.0879, -1.0901, -1.0909, -1.0901, -1.09, -1.0889, -1.0883, -1.0898, -1.0909, -1.0877, -1.0879, -1.0857, -1.0889, -1.0879, -1.0892, -1.089, -1.0897, -1.0833, -1.0833, -1.0833, -1.0861, -1.0861, -1.0875, -1.0876, -1.0882, -1.0884, -1.0844, -1.0884, -1.0854, -1.0845, -1.0874, -1.0859, -1.0872, -1.0864, -1.0882, -1.0881, -1.0798, -1.0804, -1.0813, -1.0821, -1.0824, -1.0826, -1.0833, -1.0837, -1.0837, -1.0838, -1.0838, -1.084, -1.0841, -1.0842, -1.0842, -1.0844, -1.0845, -1.0846, -1.0847, -1.0847, -1.0848, -1.0848, -1.0849, -1.085, -1.0852], \"loglift\": [30.0, 29.0, 28.0, 27.0, 26.0, 25.0, 24.0, 23.0, 22.0, 21.0, 20.0, 19.0, 18.0, 17.0, 16.0, 15.0, 14.0, 13.0, 12.0, 11.0, 10.0, 9.0, 8.0, 7.0, 6.0, 5.0, 4.0, 3.0, 2.0, 1.0, 11.42, 11.42, 11.42, 11.4199, 11.4199, 11.4199, 11.4199, 11.4199, 11.4199, 11.4199, 11.4199, 11.4199, 11.4199, 11.4199, 11.4199, 11.4199, 11.4199, 11.4199, 11.4199, 11.4198, 11.4198, 11.4198, 11.4198, 11.4198, 11.4198, 11.4198, 11.4198, 11.4198, 11.4198, 11.4198, 11.1243, 11.1038, 11.0939, 11.0891, 11.0877, 11.0834, 11.0819, 11.0798, 11.0726, 11.0692, 11.0679, 11.0673, 11.0656, 11.0647, 11.0639, 11.0629, 11.0623, 11.0614, 11.0593, 11.0591, 11.059, 11.0582, 11.0579, 11.0569, 11.0567, 11.0532, 11.0524, 11.0519, 11.0519, 11.0515, 11.0513, 11.0465, 11.0459, 11.0327, 11.0102, 11.0313, 11.0375, 11.0282, 11.025, 11.0037, 10.9903, 11.0145, 11.0345, 10.9736, 10.9685, 10.915, 10.9918, 10.9609, 10.9966, 10.9859, 11.0019, 10.7876, 10.7876, 10.7876, 10.8687, 10.8687, 10.9231, 10.9241, 10.9494, 10.9567, 10.7534, 10.9495, 10.7909, 10.6112, 10.8891, 10.7316, 10.831, 10.7429, 10.9241, 10.9102, 9.9824, 9.9975, 9.7834, 9.7857, 9.8351, 9.3387, 10.0865, 9.816, 10.2541, 10.4607, 9.9139, 9.6898, 9.9082, 9.9652, 9.8348, 9.8731, 10.0114, 10.133, 10.4304, 10.22, 10.4196, 9.8913, 10.4128, 10.2369, 9.8357, 11.1243, 11.1038, 11.0939, 11.0891, 11.0877, 11.0834, 11.0819, 11.0798, 11.0726, 11.0692, 11.0679, 11.0673, 11.0656, 11.0647, 11.0639, 11.0629, 11.0623, 11.0614, 11.0593, 11.0591, 11.059, 11.0582, 11.0579, 11.0569, 11.0567, 11.0532, 11.0524, 11.0519, 11.0519, 11.0515, 11.0513, 11.0465, 11.0459, 11.0327, 11.0102, 11.0313, 11.0375, 11.0282, 11.025, 11.0037, 10.9903, 11.0145, 11.0345, 10.9736, 10.9685, 10.915, 10.9918, 10.9609, 10.9966, 10.9859, 11.0019, 10.7876, 10.7876, 10.7876, 10.8687, 10.8687, 10.9231, 10.9241, 10.9494, 10.9567, 10.7534, 10.9495, 10.7909, 10.6112, 10.8891, 10.7316, 10.831, 10.7429, 10.9241, 10.9102, 9.9824, 9.9975, 9.7834, 9.7857, 9.8351, 9.3387, 10.0865, 9.816, 10.2541, 10.4607, 9.9139, 9.6898, 9.9082, 9.9652, 9.8348, 9.8731, 10.0114, 10.133, 10.4304, 10.22, 10.4196, 9.8913, 10.4128, 10.2369, 9.8357], \"Term\": [\"be\", \"film\", \"not\", \"like\", \"one\", \"man\", \"character\", \"good\", \"scene\", \"story\", \"time\", \"play\", \"know\", \"life\", \"woman\", \"love\", \"way\", \"look\", \"year\", \"people\", \"work\", \"old\", \"day\", \"think\", \"find\", \"american\", \"young\", \"two\", \"little\", \"kid\", \"be\", \"film\", \"not\", \"like\", \"one\", \"man\", \"character\", \"good\", \"scene\", \"story\", \"time\", \"play\", \"know\", \"life\", \"woman\", \"love\", \"way\", \"look\", \"year\", \"people\", \"work\", \"old\", \"day\", \"think\", \"find\", \"american\", \"young\", \"two\", \"little\", \"kid\", \"penitent\", \"trifecta\", \"lotte eisner\", \"gait\", \"homoerotic\", \"stranger on a train\", \"von sternberg 's\", \"hunter thompson\", \"cecil b. demille 's\", \"spider - man 's\", \"jeffrey hunter\", \"waxwork\", \"twice a week\", \"faceoff\", \"boris kaufman\", \"talented mr. ripley\", \"l'age\", \"enlisted\", \"brooch\", \"buck turgidson\", \"gregg toland\", \"stafford\", \"freckled\", \"blather\", \"akiva\", \"centrist\", \"detract\", \"tom hollander\", \"gaye\", \"familiar quotations\", \"girly\", \"les blank 's\", \"tepid\", \"timothy treadwell\", \"procure\", \"rothko\", \"enterpris\", \"rko radio pictures\", \"personable\", \"gregoire colin\", \"next night\", \"psychosexual\", \"joan of arc\", \"mcnally\", \"purple noon\", \"raisin\", \"obviousness\", \"charles manson\", \"mex\", \"convalescence\", \"rene clement\", \"coeur\", \"hiver\", \"un coeur en hiver\", \"tearsheet\", \"doll tearsheet\", \"jane campion\", \"stalking\", \"tyrone power\", \"federico fellini\", \"tom ripley\", \"doghouse\", \"repugnant\", \"nettleton\", \"next day 's\", \"jill ireland\", \"went\", \"girder\", \"dian\", \"mclean\", \"herbie\", \"quill\", \"gamera\", \"magoo\", \"treadwell\", \"metzger\", \"musante\", \"tingle\", \"gnome\", \"saxon\", \"magali\", \"duddy\", \"murrow\", \"boni\", \"blakely\", \"marcella\", \"arnaud\", \"guevera\", \"doris day 's\", \"barbara harris\", \"death wish ii\", \"pollock\", \"roan\", \"dullea\", \"tsotsi\", \"penitent\", \"trifecta\", \"lotte eisner\", \"gait\", \"homoerotic\", \"stranger on a train\", \"von sternberg 's\", \"hunter thompson\", \"cecil b. demille 's\", \"spider - man 's\", \"jeffrey hunter\", \"waxwork\", \"twice a week\", \"faceoff\", \"boris kaufman\", \"talented mr. ripley\", \"l'age\", \"enlisted\", \"brooch\", \"buck turgidson\", \"gregg toland\", \"stafford\", \"freckled\", \"blather\", \"akiva\", \"centrist\", \"detract\", \"tom hollander\", \"gaye\", \"familiar quotations\", \"girly\", \"les blank 's\", \"tepid\", \"timothy treadwell\", \"procure\", \"rothko\", \"enterpris\", \"rko radio pictures\", \"personable\", \"gregoire colin\", \"next night\", \"psychosexual\", \"joan of arc\", \"mcnally\", \"purple noon\", \"raisin\", \"obviousness\", \"charles manson\", \"mex\", \"convalescence\", \"rene clement\", \"coeur\", \"un coeur en hiver\", \"hiver\", \"tearsheet\", \"doll tearsheet\", \"jane campion\", \"stalking\", \"tyrone power\", \"federico fellini\", \"tom ripley\", \"doghouse\", \"repugnant\", \"nettleton\", \"next day 's\", \"jill ireland\", \"went\", \"girder\", \"dian\", \"mclean\", \"herbie\", \"quill\", \"gamera\", \"magoo\", \"treadwell\", \"metzger\", \"musante\", \"tingle\", \"gnome\", \"saxon\", \"magali\", \"duddy\", \"murrow\", \"boni\", \"blakely\", \"marcella\", \"arnaud\", \"guevera\", \"doris day 's\", \"barbara harris\", \"death wish ii\", \"pollock\", \"roan\", \"dullea\", \"tsotsi\"], \"Total\": [103919539737.0, 74988720319.0, 61621230998.0, 55203609551.0, 52946292071.0, 49211165949.0, 44935439208.0, 43999229587.0, 40992587557.0, 40554881731.0, 40258488511.0, 40052515725.0, 39512285072.0, 38246963930.0, 37765113662.0, 36684745700.0, 36122113954.0, 33113017445.0, 32813792840.0, 32228477315.0, 31607812645.0, 31240082152.0, 31108401060.0, 30770368977.0, 30670199662.0, 30357117804.0, 29945928518.0, 29593447462.0, 29292210844.0, 29243363400.0, 103919539737.91283, 74988720319.04582, 61621230998.8945, 55203609551.55603, 52946292071.79219, 49211165949.95012, 44935439208.30278, 43999229587.194756, 40992587557.496216, 40554881731.23039, 40258488511.19435, 40052515725.84872, 39512285072.78499, 38246963930.27624, 37765113662.60853, 36684745700.41778, 36122113954.51564, 33113017445.631348, 32813792840.103115, 32228477315.2808, 31607812645.59755, 31240082152.227753, 31108401060.700794, 30770368977.119873, 30670199662.567486, 30357117804.47543, 29945928518.114605, 29593447462.350697, 29292210844.86143, 29243363400.40723, 160633360.5703776, 163736313.21727535, 165119276.3615257, 166154886.6741697, 166260361.90965998, 167322597.69337136, 167023036.76607212, 167796288.8356586, 169009295.94191557, 169108426.04156193, 169513269.0426438, 169652872.78197995, 170084559.77513397, 170037190.42010725, 170058322.7026677, 170971379.5447198, 170497520.102569, 170697754.2683016, 171261803.11484325, 170989941.9398514, 171068868.40189087, 171377951.55625615, 171684315.83929226, 171582997.58023483, 171765356.20481715, 171896983.59825882, 172274879.22813466, 172168446.96496564, 172277292.4081485, 172418618.0224205, 172508869.168412, 173886702.31356782, 173526122.95274088, 176094055.592191, 180428303.36384812, 176287926.33538973, 175051292.59895676, 176828062.95795768, 177410384.75131, 181446874.29104254, 183993567.66874996, 179324482.44612125, 175583520.8758304, 187204666.14411348, 188126465.6396626, 198902016.70884165, 183592115.91322196, 189563535.86158174, 182658569.860688, 184664157.27470416, 181625012.74439722, 226467433.48310214, 226467450.6986787, 226467450.616983, 208254463.63327542, 208254471.88693914, 196943851.3216348, 196736414.25999388, 191687377.06357378, 190261838.82293928, 234091785.89121923, 191641028.01583797, 225245600.33804587, 269836658.0546617, 203765376.24450272, 238878739.0079291, 216008512.44346368, 236099306.2250758, 196585575.89551863, 199368017.56745163, 508407298.50519663, 500463544.02396536, 619466569.4640112, 617511692.0735792, 587575082.3883971, 965071687.7769095, 456544352.8681627, 598108817.0432166, 385915181.519445, 313877232.3921582, 542241289.9775679, 678368411.0264974, 545226874.2261863, 514966898.4989859, 586694543.2391384, 564554634.4091059, 491559225.5750949, 435241097.3369434, 323246960.13343704, 398934174.0616918, 326733343.22865444, 554126646.9844108, 328912353.3956252, 392136456.73077184, 585568209.1664978, 160633360.5703776, 163736313.21727535, 165119276.3615257, 166154886.6741697, 166260361.90965998, 167322597.69337136, 167023036.76607212, 167796288.8356586, 169009295.94191557, 169108426.04156193, 169513269.0426438, 169652872.78197995, 170084559.77513397, 170037190.42010725, 170058322.7026677, 170971379.5447198, 170497520.102569, 170697754.2683016, 171261803.11484325, 170989941.9398514, 171068868.40189087, 171377951.55625615, 171684315.83929226, 171582997.58023483, 171765356.20481715, 171896983.59825882, 172274879.22813466, 172168446.96496564, 172277292.4081485, 172418618.0224205, 172508869.168412, 173886702.31356782, 173526122.95274088, 176094055.592191, 180428303.36384812, 176287926.33538973, 175051292.59895676, 176828062.95795768, 177410384.75131, 181446874.29104254, 183993567.66874996, 179324482.44612125, 175583520.8758304, 187204666.14411348, 188126465.6396626, 198902016.70884165, 183592115.91322196, 189563535.86158174, 182658569.860688, 184664157.27470416, 181625012.74439722, 226467433.48310214, 226467450.616983, 226467450.6986787, 208254463.63327542, 208254471.88693914, 196943851.3216348, 196736414.25999388, 191687377.06357378, 190261838.82293928, 234091785.89121923, 191641028.01583797, 225245600.33804587, 269836658.0546617, 203765376.24450272, 238878739.0079291, 216008512.44346368, 236099306.2250758, 196585575.89551863, 199368017.56745163, 508407298.50519663, 500463544.02396536, 619466569.4640112, 617511692.0735792, 587575082.3883971, 965071687.7769095, 456544352.8681627, 598108817.0432166, 385915181.519445, 313877232.3921582, 542241289.9775679, 678368411.0264974, 545226874.2261863, 514966898.4989859, 586694543.2391384, 564554634.4091059, 491559225.5750949, 435241097.3369434, 323246960.13343704, 398934174.0616918, 326733343.22865444, 554126646.9844108, 328912353.3956252, 392136456.73077184, 585568209.1664978]}, \"token.table\": {\"Term\": [\"akiva\", \"akiva\", \"akiva\", \"american\", \"american\", \"american\", \"arnaud\", \"arnaud\", \"arnaud\", \"barbara harris\", \"barbara harris\", \"barbara harris\", \"be\", \"be\", \"be\", \"blakely\", \"blakely\", \"blakely\", \"blather\", \"blather\", \"blather\", \"boni\", \"boni\", \"boni\", \"boris kaufman\", \"boris kaufman\", \"boris kaufman\", \"brooch\", \"brooch\", \"brooch\", \"buck turgidson\", \"buck turgidson\", \"buck turgidson\", \"cecil b. demille 's\", \"cecil b. demille 's\", \"cecil b. demille 's\", \"centrist\", \"centrist\", \"centrist\", \"character\", \"character\", \"character\", \"charles manson\", \"charles manson\", \"charles manson\", \"coeur\", \"coeur\", \"coeur\", \"convalescence\", \"convalescence\", \"convalescence\", \"day\", \"day\", \"day\", \"death wish ii\", \"death wish ii\", \"death wish ii\", \"detract\", \"detract\", \"detract\", \"dian\", \"dian\", \"dian\", \"doghouse\", \"doghouse\", \"doghouse\", \"doll tearsheet\", \"doll tearsheet\", \"doll tearsheet\", \"doris day 's\", \"doris day 's\", \"doris day 's\", \"duddy\", \"duddy\", \"duddy\", \"dullea\", \"dullea\", \"dullea\", \"enlisted\", \"enlisted\", \"enlisted\", \"enterpris\", \"enterpris\", \"enterpris\", \"faceoff\", \"faceoff\", \"faceoff\", \"familiar quotations\", \"familiar quotations\", \"familiar quotations\", \"federico fellini\", \"federico fellini\", \"federico fellini\", \"film\", \"film\", \"film\", \"find\", \"find\", \"find\", \"freckled\", \"freckled\", \"freckled\", \"gait\", \"gait\", \"gait\", \"gamera\", \"gamera\", \"gamera\", \"gaye\", \"gaye\", \"gaye\", \"girder\", \"girder\", \"girder\", \"girly\", \"girly\", \"girly\", \"gnome\", \"gnome\", \"gnome\", \"good\", \"good\", \"good\", \"gregg toland\", \"gregg toland\", \"gregg toland\", \"gregoire colin\", \"gregoire colin\", \"gregoire colin\", \"guevera\", \"guevera\", \"guevera\", \"herbie\", \"herbie\", \"herbie\", \"hiver\", \"hiver\", \"hiver\", \"homoerotic\", \"homoerotic\", \"homoerotic\", \"hunter thompson\", \"hunter thompson\", \"hunter thompson\", \"jane campion\", \"jane campion\", \"jane campion\", \"jeffrey hunter\", \"jeffrey hunter\", \"jeffrey hunter\", \"jill ireland\", \"jill ireland\", \"jill ireland\", \"joan of arc\", \"joan of arc\", \"joan of arc\", \"kid\", \"kid\", \"kid\", \"know\", \"know\", \"know\", \"l'age\", \"l'age\", \"l'age\", \"les blank 's\", \"les blank 's\", \"les blank 's\", \"life\", \"life\", \"life\", \"like\", \"like\", \"like\", \"little\", \"little\", \"little\", \"look\", \"look\", \"look\", \"lotte eisner\", \"lotte eisner\", \"lotte eisner\", \"love\", \"love\", \"love\", \"magali\", \"magali\", \"magali\", \"magoo\", \"magoo\", \"magoo\", \"man\", \"man\", \"man\", \"marcella\", \"marcella\", \"marcella\", \"mclean\", \"mclean\", \"mclean\", \"mcnally\", \"mcnally\", \"mcnally\", \"metzger\", \"metzger\", \"metzger\", \"mex\", \"mex\", \"mex\", \"murrow\", \"murrow\", \"murrow\", \"musante\", \"musante\", \"musante\", \"nettleton\", \"nettleton\", \"nettleton\", \"next day 's\", \"next day 's\", \"next day 's\", \"next night\", \"next night\", \"next night\", \"not\", \"not\", \"not\", \"obviousness\", \"obviousness\", \"obviousness\", \"old\", \"old\", \"old\", \"one\", \"one\", \"one\", \"penitent\", \"penitent\", \"penitent\", \"people\", \"people\", \"people\", \"personable\", \"personable\", \"personable\", \"play\", \"play\", \"play\", \"pollock\", \"pollock\", \"pollock\", \"procure\", \"procure\", \"procure\", \"psychosexual\", \"psychosexual\", \"psychosexual\", \"purple noon\", \"purple noon\", \"purple noon\", \"quill\", \"quill\", \"quill\", \"raisin\", \"raisin\", \"raisin\", \"rene clement\", \"rene clement\", \"rene clement\", \"repugnant\", \"repugnant\", \"repugnant\", \"rko radio pictures\", \"rko radio pictures\", \"rko radio pictures\", \"roan\", \"roan\", \"roan\", \"rothko\", \"rothko\", \"rothko\", \"saxon\", \"saxon\", \"saxon\", \"scene\", \"scene\", \"scene\", \"spider - man 's\", \"spider - man 's\", \"spider - man 's\", \"stafford\", \"stafford\", \"stafford\", \"stalking\", \"stalking\", \"stalking\", \"story\", \"story\", \"story\", \"stranger on a train\", \"stranger on a train\", \"stranger on a train\", \"talented mr. ripley\", \"talented mr. ripley\", \"talented mr. ripley\", \"tearsheet\", \"tearsheet\", \"tearsheet\", \"tepid\", \"tepid\", \"tepid\", \"think\", \"think\", \"think\", \"time\", \"time\", \"time\", \"timothy treadwell\", \"timothy treadwell\", \"timothy treadwell\", \"tingle\", \"tingle\", \"tingle\", \"tom hollander\", \"tom hollander\", \"tom hollander\", \"tom ripley\", \"tom ripley\", \"tom ripley\", \"treadwell\", \"treadwell\", \"treadwell\", \"trifecta\", \"trifecta\", \"trifecta\", \"tsotsi\", \"tsotsi\", \"tsotsi\", \"twice a week\", \"twice a week\", \"twice a week\", \"two\", \"two\", \"two\", \"tyrone power\", \"tyrone power\", \"tyrone power\", \"un coeur en hiver\", \"un coeur en hiver\", \"un coeur en hiver\", \"von sternberg 's\", \"von sternberg 's\", \"von sternberg 's\", \"waxwork\", \"waxwork\", \"waxwork\", \"way\", \"way\", \"way\", \"went\", \"went\", \"went\", \"woman\", \"woman\", \"woman\", \"work\", \"work\", \"work\", \"year\", \"year\", \"year\", \"young\", \"young\", \"young\"], \"Freq\": [0.9560745521010624, 0.02196272335325674, 0.02196272335325674, 0.9997520737138517, 0.0001239632505377441, 0.00012396305289052217, 0.9845556380999403, 0.0077221844337455195, 0.007722176296374086, 0.9809737281105477, 0.009513135867405325, 0.009513135867405325, 0.9999275649225179, 3.6217539160509684e-05, 3.6217539160509684e-05, 0.987056045898755, 0.006471975994588895, 0.0064719794035178226, 0.95606316076446, 0.021968417926941555, 0.02196842375502484, 0.9852530278720413, 0.007373485579495897, 0.007373485579495897, 0.955754251934947, 0.022122874906733293, 0.022122874906733293, 0.9559584333595661, 0.022020782984931334, 0.022020782984931334, 0.9559670594981551, 0.02201647042680592, 0.02201647042680592, 0.9553694138545615, 0.02231528732772291, 0.022315299161391522, 0.9562276228427371, 0.0218861897471836, 0.02188618392974586, 0.9998325147270088, 8.374274439727079e-05, 8.374254410992168e-05, 0.9600871031066522, 0.01995645936232345, 0.01995643826121884, 0.9664376446264215, 0.016781189867123063, 0.016781167788893433, 0.9590738485137559, 0.020463072291710127, 0.020463077706946168, 0.9997580544661839, 0.00012097291637255312, 0.00012097265920729463, 0.9767713323848215, 0.011614324275880019, 0.011614342639478728, 0.9562613466229376, 0.02186932312406877, 0.0218693289287456, 0.9615262622343237, 0.0192368691485783, 0.0192368640617351, 0.9605398797213037, 0.01973006009802617, 0.01973006009802617, 0.9636029045702594, 0.01819853838268377, 0.018198552788136736, 0.9765183711849796, 0.01174081265430413, 0.011740815747914041, 0.9888031327770646, 0.0055984372772506005, 0.005598429906624376, 0.980648813441027, 0.009675591072637608, 0.009675593622770306, 0.9558669573563303, 0.0220665176067842, 0.022066523465092084, 0.9569061816856202, 0.02154690744638625, 0.02154690744638625, 0.9557184672276444, 0.022140768091371676, 0.02214076221030532, 0.956301215559907, 0.021849397954866602, 0.02184938635519121, 0.9602544531803003, 0.019872776503115204, 0.01987276599128576, 0.9998996361184215, 5.018205383409165e-05, 5.018182713333016e-05, 0.9997546034375292, 0.0001226983534963063, 0.0001226982230765489, 0.9560216214138051, 0.021989183936486266, 0.021989189761130148, 0.9546273069358864, 0.02268634450331815, 0.02268634450331815, 0.9877048966974905, 0.006147553698168119, 0.006147548855291767, 0.956284021516278, 0.021857988057292513, 0.021857993861888036, 0.9679047077849016, 0.016047654101906006, 0.016047637159882482, 0.9563101757912857, 0.02184491161623148, 0.02184491161623148, 0.9803126182040025, 0.009843691520616142, 0.009843691520616142, 0.9998289232046702, 8.55384522708857e-05, 8.553836136020298e-05, 0.9559735709235122, 0.02201321044079798, 0.022013216286396946, 0.9583421410780638, 0.020828928658963262, 0.020828928658963262, 0.982559617225055, 0.008720189851607212, 0.008720192149184361, 0.9849970279191052, 0.007501501279020324, 0.007501469808189659, 0.9664376506414966, 0.016781188591452507, 0.016781166513224557, 0.9546881780892944, 0.022655905212372478, 0.02265591724169791, 0.9550468613579036, 0.022476575770360642, 0.022476563851145895, 0.961567089955637, 0.019216451666822135, 0.019216456744411477, 0.9555786335478582, 0.022210680150666275, 0.022210686049909476, 0.9682647562549405, 0.015867619762821104, 0.01586762394904548, 0.9570364072994915, 0.02148179955149314, 0.021481793856197848, 0.9997426005926826, 0.00012869976508747246, 0.00012869962830430065, 0.9998095160841464, 9.52420239190877e-05, 9.524187206758155e-05, 0.9558269698114188, 0.022086514793497335, 0.022086514793497335, 0.9565188354660179, 0.021740581365347036, 0.021740581365347036, 0.9998032109871529, 9.839460739577767e-05, 9.839439822884838e-05, 0.9998636594668868, 6.817034303681551e-05, 6.817019811875554e-05, 0.9997430333646956, 0.00012848337122563832, 0.0001284832688093333, 0.9997727070133761, 0.00011364657437754837, 0.00011364639317992693, 0.9544084825987051, 0.022795757605906335, 0.022795757605906335, 0.9997947939866, 0.00010260311004301537, 0.00010260289196872188, 0.9859900875901904, 0.007004953459293252, 0.007004958991885579, 0.9876757474048404, 0.006162139193222911, 0.0061621132827823395, 0.9998470579429519, 7.647110015290777e-05, 7.647097822935882e-05, 0.9865509306870665, 0.0067245360654482784, 0.006724534294140527, 0.9620580439142282, 0.01897098665145916, 0.018970971603910227, 0.9595743669215616, 0.020212808141689492, 0.02021282416693107, 0.9921183577621772, 0.003940821234493784, 0.003940821234493784, 0.9586332036517592, 0.020683404030161008, 0.020683393080770558, 0.9860698920298718, 0.006965052860590655, 0.006965054694689536, 0.9833512936466928, 0.00832435222585583, 0.008324354416223522, 0.9718649530075198, 0.014067521541980576, 0.014067525247926267, 0.9628506550817564, 0.01857467676676552, 0.01857467185916042, 0.9588943148144927, 0.02055284349292107, 0.02055284349292107, 0.9998778450093826, 6.107756919149378e-05, 6.10774393661094e-05, 0.958831920011236, 0.02058403750728731, 0.020584048401001292, 0.9997590598772732, 0.00012047013774359176, 0.00012047000970295536, 0.9998578461210846, 7.107702641191993e-05, 7.107683754128124e-05, 0.9529994794134323, 0.023500261630560286, 0.023500261630560286, 0.9997664695974565, 0.00011676527448647825, 0.00011676511934418122, 0.9574446571327091, 0.02127766649788592, 0.02127767213453454, 0.9998120679634648, 9.396608257421137e-05, 9.396595773810784e-05, 0.986304087656293, 0.0068479561859199935, 0.0068479561859199935, 0.9580680401977109, 0.020965978892854564, 0.020965978892854564, 0.9578881124143761, 0.021055942548918093, 0.021055948125401496, 0.9597822102598017, 0.020108887854439282, 0.020108898485585693, 0.9847683130669748, 0.007615845440717023, 0.007615841444421941, 0.9618768485392407, 0.01906157143469257, 0.01906157646229368, 0.9584159052199146, 0.020792048093697894, 0.020792048093697894, 0.9663273363534606, 0.01683632441347822, 0.01683633773227333, 0.9573070821923068, 0.021346453367514714, 0.02134646467793664, 0.9769266848226379, 0.011536656987266782, 0.011536656987266782, 0.9571756359478251, 0.021412192419908386, 0.021412175402293725, 0.9757948120854273, 0.012102588553647849, 0.012102601297483933, 0.9998163841820022, 9.180798832767969e-05, 9.180784195975422e-05, 0.9555188690614789, 0.02224055943300921, 0.022240571259741007, 0.9560053117230709, 0.02199734543309974, 0.021997339598043418, 0.961529789548813, 0.019235096940411818, 0.019235112189241125, 0.9998144089956845, 9.279563493590356e-05, 9.279536369852028e-05, 0.9548826709754673, 0.02255865646382762, 0.02255866841678572, 0.95579789690623, 0.02210104995387047, 0.022101055802802628, 0.9636028995439775, 0.01819854390575682, 0.01819855831121036, 0.9565446583809486, 0.021727673827109193, 0.021727673827109193, 0.9997553852173345, 0.000122307470631841, 0.00012230730813785192, 0.9998130415603592, 9.347929192506967e-05, 9.347914288817778e-05, 0.9571148522487326, 0.02144257503356317, 0.02144257503356317, 0.987297181003323, 0.006351407790274247, 0.006351411134147373, 0.9562832383189399, 0.02185837803814188, 0.021858383846407085, 0.9675660943748474, 0.01621695090900837, 0.016216955180837028, 0.987052676983044, 0.00647365947605935, 0.006473664581789817, 0.9539545439302105, 0.023022730425093476, 0.02302272431771277, 0.987044164885084, 0.006477916561418793, 0.006477918269161775, 0.9556804522109478, 0.02215978337471069, 0.022159771615853783, 0.9997456702075596, 0.00012716500856440176, 0.00012716480581681692, 0.9605413868172172, 0.019729311642392253, 0.01972930642556465, 0.9664376509901286, 0.01678118418186055, 0.016781166519278183, 0.9549496170602462, 0.02252519217016315, 0.0225251861829651, 0.9556035175917164, 0.0221982447938837, 0.0221982447938837, 0.9997916299548493, 0.00010418509848949573, 0.00010418493238626026, 0.9649489857699689, 0.017525503773796077, 0.017525508403243264, 0.9998006952481125, 9.96524208459129e-05, 9.965234140751833e-05, 0.9997618732532383, 0.00011906344302265949, 0.00011906328483392128, 0.9997706152976649, 0.00011469238007136067, 0.00011469228864639146, 0.9997486553101851, 0.00012567240978096552, 0.00012567227620688057], \"Topic\": [1, 2, 3, 1, 2, 3, 1, 2, 3, 1, 2, 3, 1, 2, 3, 1, 2, 3, 1, 2, 3, 1, 2, 3, 1, 2, 3, 1, 2, 3, 1, 2, 3, 1, 2, 3, 1, 2, 3, 1, 2, 3, 1, 2, 3, 1, 2, 3, 1, 2, 3, 1, 2, 3, 1, 2, 3, 1, 2, 3, 1, 2, 3, 1, 2, 3, 1, 2, 3, 1, 2, 3, 1, 2, 3, 1, 2, 3, 1, 2, 3, 1, 2, 3, 1, 2, 3, 1, 2, 3, 1, 2, 3, 1, 2, 3, 1, 2, 3, 1, 2, 3, 1, 2, 3, 1, 2, 3, 1, 2, 3, 1, 2, 3, 1, 2, 3, 1, 2, 3, 1, 2, 3, 1, 2, 3, 1, 2, 3, 1, 2, 3, 1, 2, 3, 1, 2, 3, 1, 2, 3, 1, 2, 3, 1, 2, 3, 1, 2, 3, 1, 2, 3, 1, 2, 3, 1, 2, 3, 1, 2, 3, 1, 2, 3, 1, 2, 3, 1, 2, 3, 1, 2, 3, 1, 2, 3, 1, 2, 3, 1, 2, 3, 1, 2, 3, 1, 2, 3, 1, 2, 3, 1, 2, 3, 1, 2, 3, 1, 2, 3, 1, 2, 3, 1, 2, 3, 1, 2, 3, 1, 2, 3, 1, 2, 3, 1, 2, 3, 1, 2, 3, 1, 2, 3, 1, 2, 3, 1, 2, 3, 1, 2, 3, 1, 2, 3, 1, 2, 3, 1, 2, 3, 1, 2, 3, 1, 2, 3, 1, 2, 3, 1, 2, 3, 1, 2, 3, 1, 2, 3, 1, 2, 3, 1, 2, 3, 1, 2, 3, 1, 2, 3, 1, 2, 3, 1, 2, 3, 1, 2, 3, 1, 2, 3, 1, 2, 3, 1, 2, 3, 1, 2, 3, 1, 2, 3, 1, 2, 3, 1, 2, 3, 1, 2, 3, 1, 2, 3, 1, 2, 3, 1, 2, 3, 1, 2, 3, 1, 2, 3, 1, 2, 3, 1, 2, 3, 1, 2, 3, 1, 2, 3, 1, 2, 3, 1, 2, 3, 1, 2, 3, 1, 2, 3, 1, 2, 3, 1, 2, 3, 1, 2, 3, 1, 2, 3, 1, 2, 3, 1, 2, 3, 1, 2, 3, 1, 2, 3, 1, 2, 3, 1, 2, 3]}, \"R\": 30, \"mdsDat\": {\"y\": [-0.0, -0.0, -0.0], \"topics\": [1, 2, 3], \"Freq\": [94.05785877555758, 2.9710706146738355, 2.971070609768587], \"cluster\": [1, 1, 1], \"x\": [0.17370116297563978, -0.08685057065251507, -0.08685059232312473]}};\n",
       "\n",
       "function LDAvis_load_lib(url, callback){\n",
       "  var s = document.createElement('script');\n",
       "  s.src = url;\n",
       "  s.async = true;\n",
       "  s.onreadystatechange = s.onload = callback;\n",
       "  s.onerror = function(){console.warn(\"failed to load library \" + url);};\n",
       "  document.getElementsByTagName(\"head\")[0].appendChild(s);\n",
       "}\n",
       "\n",
       "if(typeof(LDAvis) !== \"undefined\"){\n",
       "   // already loaded: just create the visualization\n",
       "   !function(LDAvis){\n",
       "       new LDAvis(\"#\" + \"ldavis_el3331093220199604036438023\", ldavis_el3331093220199604036438023_data);\n",
       "   }(LDAvis);\n",
       "}else if(typeof define === \"function\" && define.amd){\n",
       "   // require.js is available: use it to load d3/LDAvis\n",
       "   require.config({paths: {d3: \"https://cdnjs.cloudflare.com/ajax/libs/d3/3.5.5/d3.min\"}});\n",
       "   require([\"d3\"], function(d3){\n",
       "      window.d3 = d3;\n",
       "      LDAvis_load_lib(\"https://cdn.rawgit.com/bmabey/pyLDAvis/files/ldavis.v1.0.0.js\", function(){\n",
       "        new LDAvis(\"#\" + \"ldavis_el3331093220199604036438023\", ldavis_el3331093220199604036438023_data);\n",
       "      });\n",
       "    });\n",
       "}else{\n",
       "    // require.js not available: dynamically load d3 & LDAvis\n",
       "    LDAvis_load_lib(\"https://cdnjs.cloudflare.com/ajax/libs/d3/3.5.5/d3.min.js\", function(){\n",
       "         LDAvis_load_lib(\"https://cdn.rawgit.com/bmabey/pyLDAvis/files/ldavis.v1.0.0.js\", function(){\n",
       "                 new LDAvis(\"#\" + \"ldavis_el3331093220199604036438023\", ldavis_el3331093220199604036438023_data);\n",
       "            })\n",
       "         });\n",
       "}\n",
       "</script>"
      ],
      "text/plain": [
       "<IPython.core.display.HTML object>"
      ]
     },
     "execution_count": 60,
     "metadata": {},
     "output_type": "execute_result"
    }
   ],
   "source": [
    "pyLDAvis.display(vis_data)"
   ]
  },
  {
   "cell_type": "code",
   "execution_count": null,
   "metadata": {
    "collapsed": true
   },
   "outputs": [],
   "source": []
  },
  {
   "cell_type": "code",
   "execution_count": null,
   "metadata": {
    "collapsed": true
   },
   "outputs": [],
   "source": []
  },
  {
   "cell_type": "code",
   "execution_count": null,
   "metadata": {
    "collapsed": true
   },
   "outputs": [],
   "source": []
  },
  {
   "cell_type": "code",
   "execution_count": null,
   "metadata": {
    "collapsed": true
   },
   "outputs": [],
   "source": []
  },
  {
   "cell_type": "code",
   "execution_count": null,
   "metadata": {
    "collapsed": true
   },
   "outputs": [],
   "source": [
    "def like_person_wrapper(corpus, name):\n",
    "    \"\"\"This function evaluates a few handlers and selects the response with teh best fit score\n",
    "    \n",
    "    Args:\n",
    "        corpus - the name of the corpus , either 'ebert', or 'jones'\n",
    "        name - the name of the person\n",
    "        \n",
    "    Return:\n",
    "        STring - a few paragraphs about the person\n",
    "        \n",
    "    \"\"\"\n",
    "    results = []\n",
    "    for f in [like_person, like_person_2, like_person_3, like_person_4]:\n",
    "        results.append(f(corpus, name))\n",
    "        \n",
    "    max_score = 0\n",
    "    result = None\n",
    "    for r in results:\n",
    "        s = score_summary_2(r)\n",
    "        if s >= max_score:\n",
    "            max_score = s\n",
    "            result = r\n",
    "            \n",
    "    return result\n",
    "        \n"
   ]
  },
  {
   "cell_type": "code",
   "execution_count": null,
   "metadata": {
    "collapsed": true
   },
   "outputs": [],
   "source": [
    "    "
   ]
  }
 ],
 "metadata": {
  "anaconda-cloud": {},
  "kernelspec": {
   "display_name": "Python 3",
   "language": "python",
   "name": "python3"
  },
  "language_info": {
   "codemirror_mode": {
    "name": "ipython",
    "version": 3
   },
   "file_extension": ".py",
   "mimetype": "text/x-python",
   "name": "python",
   "nbconvert_exporter": "python",
   "pygments_lexer": "ipython3",
   "version": "3.5.2"
  }
 },
 "nbformat": 4,
 "nbformat_minor": 1
}
